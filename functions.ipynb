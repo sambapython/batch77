{
 "cells": [
  {
   "cell_type": "code",
   "execution_count": 1,
   "metadata": {},
   "outputs": [
    {
     "name": "stdout",
     "output_type": "stream",
     "text": [
      "Even\n",
      "ODD\n",
      "ODD\n",
      "ODD\n",
      "ODD\n"
     ]
    }
   ],
   "source": [
    "l=[10,13,9,3,5]\n",
    "print(\"Even\" if l[0]%2==0 else \"ODD\")\n",
    "print(\"Even\" if l[1]%2==0 else \"ODD\")\n",
    "print(\"Even\" if l[2]%2==0 else \"ODD\")\n",
    "print(\"Even\" if l[3]%2==0 else \"ODD\")\n",
    "print(\"Even\" if l[4]%2==0 else \"ODD\")"
   ]
  },
  {
   "cell_type": "code",
   "execution_count": 2,
   "metadata": {},
   "outputs": [
    {
     "name": "stdout",
     "output_type": "stream",
     "text": [
      "Even\n",
      "ODD\n",
      "ODD\n",
      "ODD\n",
      "ODD\n",
      "Even\n"
     ]
    }
   ],
   "source": [
    "l=[10,13,9,3,5,6]\n",
    "print(\"Even\" if l[0]%2==0 else \"ODD\")\n",
    "print(\"Even\" if l[1]%2==0 else \"ODD\")\n",
    "print(\"Even\" if l[2]%2==0 else \"ODD\")\n",
    "print(\"Even\" if l[3]%2==0 else \"ODD\")\n",
    "print(\"Even\" if l[4]%2==0 else \"ODD\")\n",
    "print(\"Even\" if l[5]%2==0 else \"ODD\")\n"
   ]
  },
  {
   "cell_type": "code",
   "execution_count": 4,
   "metadata": {},
   "outputs": [
    {
     "name": "stdout",
     "output_type": "stream",
     "text": [
      "Even\n",
      "ODD\n",
      "ODD\n",
      "ODD\n",
      "ODD\n",
      "Even\n"
     ]
    }
   ],
   "source": [
    "l=[10,13,9,3,5,6]\n",
    "for number in l: # which iteration it is, take the value, assign to number.\n",
    "    print(\"Even\" if number%2==0 else \"ODD\")"
   ]
  },
  {
   "cell_type": "code",
   "execution_count": 5,
   "metadata": {},
   "outputs": [
    {
     "name": "stdout",
     "output_type": "stream",
     "text": [
      "Even\n",
      "ODD\n",
      "ODD\n",
      "ODD\n",
      "ODD\n",
      "Even\n",
      "ODD\n"
     ]
    }
   ],
   "source": [
    "l=[10,13,9,3,5,6,7]\n",
    "for number in l:\n",
    "    print(\"Even\" if number%2==0 else \"ODD\")"
   ]
  },
  {
   "cell_type": "code",
   "execution_count": 6,
   "metadata": {},
   "outputs": [],
   "source": [
    "#functions also help us to reduce the number of lines of code."
   ]
  },
  {
   "cell_type": "code",
   "execution_count": 7,
   "metadata": {},
   "outputs": [
    {
     "name": "stdout",
     "output_type": "stream",
     "text": [
      "Even\n",
      "ODD\n",
      "ODD\n",
      "op1\n",
      "op2\n",
      "op3\n",
      "ODD\n",
      "Even\n",
      "ODD\n",
      "op4\n",
      "op5\n",
      "Even\n",
      "ODD\n",
      "Even\n",
      "op6\n",
      "op7\n",
      "ODD\n",
      "Even\n",
      "ODD\n"
     ]
    }
   ],
   "source": [
    "l=[10,13,9]\n",
    "for i in l:\n",
    "    print(\"Even\" if i%2==0 else \"ODD\")\n",
    "print(\"op1\")\n",
    "print(\"op2\")\n",
    "print(\"op3\")\n",
    "l=[1,2,3]\n",
    "for i in l:\n",
    "    print(\"Even\" if i%2==0 else \"ODD\")\n",
    "print(\"op4\")\n",
    "print(\"op5\")\n",
    "l=[4,5,6]\n",
    "for i in l:\n",
    "    print(\"Even\" if i%2==0 else \"ODD\")\n",
    "print(\"op6\")\n",
    "print(\"op7\")\n",
    "l=[7,8,9]\n",
    "for i in l:\n",
    "    print(\"Even\" if i%2==0 else \"ODD\")"
   ]
  },
  {
   "cell_type": "code",
   "execution_count": 8,
   "metadata": {},
   "outputs": [
    {
     "name": "stdout",
     "output_type": "stream",
     "text": [
      "Even\n",
      "ODD\n",
      "ODD\n",
      "op1\n",
      "op2\n",
      "op3\n",
      "ODD\n",
      "Even\n",
      "ODD\n",
      "op4\n",
      "op5\n",
      "Even\n",
      "ODD\n",
      "Even\n",
      "op6\n",
      "op7\n",
      "ODD\n",
      "Even\n",
      "ODD\n"
     ]
    }
   ],
   "source": [
    "def check_even(l):\n",
    "    for i in l:\n",
    "        print(\"Even\" if i%2==0 else \"ODD\")\n",
    "    \n",
    "l=[10,13,9]\n",
    "check_even(l)\n",
    "print(\"op1\")\n",
    "print(\"op2\")\n",
    "print(\"op3\")\n",
    "l=[1,2,3]\n",
    "check_even(l)\n",
    "print(\"op4\")\n",
    "print(\"op5\")\n",
    "l=[4,5,6]\n",
    "check_even(l)\n",
    "print(\"op6\")\n",
    "print(\"op7\")\n",
    "l=[7,8,9]\n",
    "check_even(l)"
   ]
  },
  {
   "cell_type": "code",
   "execution_count": 9,
   "metadata": {},
   "outputs": [
    {
     "name": "stdout",
     "output_type": "stream",
     "text": [
      "start\n",
      "end\n"
     ]
    }
   ],
   "source": [
    "print(\"start\")\n",
    "def fun():\n",
    "    print(\"hi\")\n",
    "    print(\"hello\")\n",
    "print(\"end\")"
   ]
  },
  {
   "cell_type": "code",
   "execution_count": 10,
   "metadata": {},
   "outputs": [
    {
     "name": "stdout",
     "output_type": "stream",
     "text": [
      "start\n",
      "end\n",
      "hi\n",
      "hello\n"
     ]
    }
   ],
   "source": [
    "print(\"start\")\n",
    "# function definition\n",
    "def fun(): # function signature\n",
    "    # function body\n",
    "    print(\"hi\")\n",
    "    print(\"hello\")\n",
    "print(\"end\")\n",
    "fun() # function call."
   ]
  },
  {
   "cell_type": "code",
   "execution_count": 11,
   "metadata": {},
   "outputs": [
    {
     "name": "stdout",
     "output_type": "stream",
     "text": [
      "start\n",
      "end\n",
      "hi\n",
      "hello\n",
      "hi\n",
      "hello\n"
     ]
    }
   ],
   "source": [
    "print(\"start\")\n",
    "# function definition\n",
    "def fun(): # function signature\n",
    "    # function body\n",
    "    print(\"hi\")\n",
    "    print(\"hello\")\n",
    "print(\"end\")\n",
    "fun() # function call.\n",
    "fun()"
   ]
  },
  {
   "cell_type": "code",
   "execution_count": 1,
   "metadata": {},
   "outputs": [
    {
     "name": "stdout",
     "output_type": "stream",
     "text": [
      "this is fun\n"
     ]
    }
   ],
   "source": [
    "def add():\n",
    "    print(\"this is fun\")\n",
    "add()"
   ]
  },
  {
   "cell_type": "code",
   "execution_count": 3,
   "metadata": {},
   "outputs": [
    {
     "name": "stdout",
     "output_type": "stream",
     "text": [
      "star\n",
      "x=10, y=20\n",
      "Result=30\n",
      "end\n"
     ]
    }
   ],
   "source": [
    "print(\"star\")\n",
    "def add(x,y): # x,y parameters\n",
    "    print(f\"x={x}, y={y}\")\n",
    "    res=x+y\n",
    "    print(f\"Result={res}\")\n",
    "add(10,20)# 10,20 are arguments.\n",
    "print(\"end\")"
   ]
  },
  {
   "cell_type": "code",
   "execution_count": 5,
   "metadata": {},
   "outputs": [
    {
     "name": "stdout",
     "output_type": "stream",
     "text": [
      "star\n",
      "x=10, y=20\n",
      "Result=30\n",
      "********************\n",
      "x=1, y=2\n",
      "Result=3\n",
      "********************\n",
      "x=100, y=200\n",
      "Result=300\n",
      "********************\n",
      "x=1000, y=2000\n",
      "Result=3000\n",
      "********************\n",
      "end\n"
     ]
    }
   ],
   "source": [
    "print(\"star\")\n",
    "def add(x,y): # x,y parameters\n",
    "    print(f\"x={x}, y={y}\")\n",
    "    res=x+y\n",
    "    print(f\"Result={res}\")\n",
    "add(10,20)# 10,20 are arguments.\n",
    "print(\"*\"*20)\n",
    "add(1,2)\n",
    "print(\"*\"*20)\n",
    "add(100,200)\n",
    "print(\"*\"*20)\n",
    "add(1000,2000)\n",
    "print(\"*\"*20)\n",
    "print(\"end\")"
   ]
  },
  {
   "cell_type": "code",
   "execution_count": 7,
   "metadata": {},
   "outputs": [
    {
     "ename": "TypeError",
     "evalue": "add() missing 2 required positional arguments: 'x' and 'y'",
     "output_type": "error",
     "traceback": [
      "\u001b[1;31m---------------------------------------------------------------------------\u001b[0m",
      "\u001b[1;31mTypeError\u001b[0m                                 Traceback (most recent call last)",
      "\u001b[1;32m<ipython-input-7-592fcfef7dad>\u001b[0m in \u001b[0;36m<module>\u001b[1;34m\u001b[0m\n\u001b[0;32m      3\u001b[0m     \u001b[0mres\u001b[0m\u001b[1;33m=\u001b[0m\u001b[0mx\u001b[0m\u001b[1;33m+\u001b[0m\u001b[0my\u001b[0m\u001b[1;33m\u001b[0m\u001b[1;33m\u001b[0m\u001b[0m\n\u001b[0;32m      4\u001b[0m     \u001b[0mprint\u001b[0m\u001b[1;33m(\u001b[0m\u001b[1;34mf\"Result={res}\"\u001b[0m\u001b[1;33m)\u001b[0m\u001b[1;33m\u001b[0m\u001b[1;33m\u001b[0m\u001b[0m\n\u001b[1;32m----> 5\u001b[1;33m \u001b[0madd\u001b[0m\u001b[1;33m(\u001b[0m\u001b[1;33m)\u001b[0m\u001b[1;33m\u001b[0m\u001b[1;33m\u001b[0m\u001b[0m\n\u001b[0m",
      "\u001b[1;31mTypeError\u001b[0m: add() missing 2 required positional arguments: 'x' and 'y'"
     ]
    }
   ],
   "source": [
    "def add(x,y):\n",
    "    print(f\"x={x}, y={y}\")\n",
    "    res=x+y\n",
    "    print(f\"Result={res}\")\n",
    "add()"
   ]
  },
  {
   "cell_type": "code",
   "execution_count": 8,
   "metadata": {},
   "outputs": [
    {
     "ename": "TypeError",
     "evalue": "add() missing 1 required positional argument: 'y'",
     "output_type": "error",
     "traceback": [
      "\u001b[1;31m---------------------------------------------------------------------------\u001b[0m",
      "\u001b[1;31mTypeError\u001b[0m                                 Traceback (most recent call last)",
      "\u001b[1;32m<ipython-input-8-c40286132fa2>\u001b[0m in \u001b[0;36m<module>\u001b[1;34m\u001b[0m\n\u001b[0;32m      3\u001b[0m     \u001b[0mres\u001b[0m\u001b[1;33m=\u001b[0m\u001b[0mx\u001b[0m\u001b[1;33m+\u001b[0m\u001b[0my\u001b[0m\u001b[1;33m\u001b[0m\u001b[1;33m\u001b[0m\u001b[0m\n\u001b[0;32m      4\u001b[0m     \u001b[0mprint\u001b[0m\u001b[1;33m(\u001b[0m\u001b[1;34mf\"Result={res}\"\u001b[0m\u001b[1;33m)\u001b[0m\u001b[1;33m\u001b[0m\u001b[1;33m\u001b[0m\u001b[0m\n\u001b[1;32m----> 5\u001b[1;33m \u001b[0madd\u001b[0m\u001b[1;33m(\u001b[0m\u001b[1;36m10\u001b[0m\u001b[1;33m)\u001b[0m\u001b[1;33m\u001b[0m\u001b[1;33m\u001b[0m\u001b[0m\n\u001b[0m",
      "\u001b[1;31mTypeError\u001b[0m: add() missing 1 required positional argument: 'y'"
     ]
    }
   ],
   "source": [
    "def add(x,y):\n",
    "    print(f\"x={x}, y={y}\")\n",
    "    res=x+y\n",
    "    print(f\"Result={res}\")\n",
    "add(10)"
   ]
  },
  {
   "cell_type": "code",
   "execution_count": 9,
   "metadata": {},
   "outputs": [
    {
     "name": "stdout",
     "output_type": "stream",
     "text": [
      "x=0, y=0\n",
      "Result=0\n"
     ]
    }
   ],
   "source": [
    "def add(x=0,y=0):\n",
    "    print(f\"x={x}, y={y}\")\n",
    "    res=x+y\n",
    "    print(f\"Result={res}\")\n",
    "add()"
   ]
  },
  {
   "cell_type": "code",
   "execution_count": 10,
   "metadata": {},
   "outputs": [
    {
     "name": "stdout",
     "output_type": "stream",
     "text": [
      "x=10, y=0\n",
      "Result=10\n"
     ]
    }
   ],
   "source": [
    "def add(x=0,y=0):\n",
    "    print(f\"x={x}, y={y}\")\n",
    "    res=x+y\n",
    "    print(f\"Result={res}\")\n",
    "add(10)"
   ]
  },
  {
   "cell_type": "code",
   "execution_count": 11,
   "metadata": {},
   "outputs": [
    {
     "ename": "TypeError",
     "evalue": "add() takes from 0 to 2 positional arguments but 3 were given",
     "output_type": "error",
     "traceback": [
      "\u001b[1;31m---------------------------------------------------------------------------\u001b[0m",
      "\u001b[1;31mTypeError\u001b[0m                                 Traceback (most recent call last)",
      "\u001b[1;32m<ipython-input-11-f62ca27c36db>\u001b[0m in \u001b[0;36m<module>\u001b[1;34m\u001b[0m\n\u001b[0;32m      3\u001b[0m     \u001b[0mres\u001b[0m\u001b[1;33m=\u001b[0m\u001b[0mx\u001b[0m\u001b[1;33m+\u001b[0m\u001b[0my\u001b[0m\u001b[1;33m\u001b[0m\u001b[1;33m\u001b[0m\u001b[0m\n\u001b[0;32m      4\u001b[0m     \u001b[0mprint\u001b[0m\u001b[1;33m(\u001b[0m\u001b[1;34mf\"Result={res}\"\u001b[0m\u001b[1;33m)\u001b[0m\u001b[1;33m\u001b[0m\u001b[1;33m\u001b[0m\u001b[0m\n\u001b[1;32m----> 5\u001b[1;33m \u001b[0madd\u001b[0m\u001b[1;33m(\u001b[0m\u001b[1;36m10\u001b[0m\u001b[1;33m,\u001b[0m\u001b[1;36m20\u001b[0m\u001b[1;33m,\u001b[0m\u001b[1;36m30\u001b[0m\u001b[1;33m)\u001b[0m\u001b[1;33m\u001b[0m\u001b[1;33m\u001b[0m\u001b[0m\n\u001b[0m",
      "\u001b[1;31mTypeError\u001b[0m: add() takes from 0 to 2 positional arguments but 3 were given"
     ]
    }
   ],
   "source": [
    "def add(x=0,y=0):\n",
    "    print(f\"x={x}, y={y}\")\n",
    "    res=x+y\n",
    "    print(f\"Result={res}\")\n",
    "add(10,20,30)"
   ]
  },
  {
   "cell_type": "code",
   "execution_count": 12,
   "metadata": {},
   "outputs": [
    {
     "ename": "TypeError",
     "evalue": "add() missing 2 required positional arguments: 'a' and 'b'",
     "output_type": "error",
     "traceback": [
      "\u001b[1;31m---------------------------------------------------------------------------\u001b[0m",
      "\u001b[1;31mTypeError\u001b[0m                                 Traceback (most recent call last)",
      "\u001b[1;32m<ipython-input-12-cedb1a856a17>\u001b[0m in \u001b[0;36m<module>\u001b[1;34m\u001b[0m\n\u001b[0;32m      3\u001b[0m     \u001b[0mres\u001b[0m\u001b[1;33m=\u001b[0m\u001b[0ma\u001b[0m\u001b[1;33m+\u001b[0m\u001b[0mb\u001b[0m\u001b[1;33m+\u001b[0m\u001b[0mc\u001b[0m\u001b[1;33m+\u001b[0m\u001b[0md\u001b[0m\u001b[1;33m+\u001b[0m\u001b[0me\u001b[0m\u001b[1;33m\u001b[0m\u001b[1;33m\u001b[0m\u001b[0m\n\u001b[0;32m      4\u001b[0m     \u001b[0mprint\u001b[0m\u001b[1;33m(\u001b[0m\u001b[1;34mf\"Result={res}\"\u001b[0m\u001b[1;33m)\u001b[0m\u001b[1;33m\u001b[0m\u001b[1;33m\u001b[0m\u001b[0m\n\u001b[1;32m----> 5\u001b[1;33m \u001b[0madd\u001b[0m\u001b[1;33m(\u001b[0m\u001b[1;33m)\u001b[0m\u001b[1;33m\u001b[0m\u001b[1;33m\u001b[0m\u001b[0m\n\u001b[0m",
      "\u001b[1;31mTypeError\u001b[0m: add() missing 2 required positional arguments: 'a' and 'b'"
     ]
    }
   ],
   "source": [
    "def add(a,b,c=0,d=0,e=0):# a,b are mandatory parameters, c,d,e are optional parameters\n",
    "    print(f\"a={a}, b={b},c={c},d={d},e={e}\")\n",
    "    res=a+b+c+d+e\n",
    "    print(f\"Result={res}\")\n",
    "add()"
   ]
  },
  {
   "cell_type": "code",
   "execution_count": 13,
   "metadata": {},
   "outputs": [
    {
     "name": "stdout",
     "output_type": "stream",
     "text": [
      "a=1, b=2,c=0,d=0,e=0\n",
      "Result=3\n"
     ]
    }
   ],
   "source": [
    "def add(a,b,c=0,d=0,e=0):# a,b are mandatory parameters, c,d,e are optional parameters\n",
    "    print(f\"a={a}, b={b},c={c},d={d},e={e}\")\n",
    "    res=a+b+c+d+e\n",
    "    print(f\"Result={res}\")\n",
    "add(1,2)"
   ]
  },
  {
   "cell_type": "code",
   "execution_count": 14,
   "metadata": {},
   "outputs": [
    {
     "name": "stdout",
     "output_type": "stream",
     "text": [
      "a=1, b=2,c=30,d=0,e=0\n",
      "Result=33\n"
     ]
    }
   ],
   "source": [
    "def add(a,b,c=0,d=0,e=0):# a,b are mandatory parameters, c,d,e are optional parameters\n",
    "    print(f\"a={a}, b={b},c={c},d={d},e={e}\")\n",
    "    res=a+b+c+d+e\n",
    "    print(f\"Result={res}\")\n",
    "add(1,2,30)"
   ]
  },
  {
   "cell_type": "code",
   "execution_count": 15,
   "metadata": {},
   "outputs": [
    {
     "name": "stdout",
     "output_type": "stream",
     "text": [
      "a=1, b=2,c=30,d=40,e=0\n",
      "Result=73\n"
     ]
    }
   ],
   "source": [
    "def add(a,b,c=0,d=0,e=0):# a,b are mandatory parameters, c,d,e are optional parameters\n",
    "    print(f\"a={a}, b={b},c={c},d={d},e={e}\")\n",
    "    res=a+b+c+d+e\n",
    "    print(f\"Result={res}\")\n",
    "add(1,2,30,40)"
   ]
  },
  {
   "cell_type": "code",
   "execution_count": 16,
   "metadata": {},
   "outputs": [
    {
     "name": "stdout",
     "output_type": "stream",
     "text": [
      "a=1, b=2,c=30,d=40,e=50\n",
      "Result=123\n"
     ]
    }
   ],
   "source": [
    "def add(a,b,c=0,d=0,e=0):# a,b are mandatory parameters, c,d,e are optional parameters\n",
    "    print(f\"a={a}, b={b},c={c},d={d},e={e}\")\n",
    "    res=a+b+c+d+e\n",
    "    print(f\"Result={res}\")\n",
    "add(1,2,30,40,50)"
   ]
  },
  {
   "cell_type": "code",
   "execution_count": 18,
   "metadata": {},
   "outputs": [
    {
     "name": "stdout",
     "output_type": "stream",
     "text": [
      "name=jay, dob=2017-02-28,adhar=None,pan=None,phone=None,email=None\n",
      "name=sai, dob=1989-04-23,adhar=adhar_sai,pan=9676622023,phone=sai@gmail.com,email=None\n"
     ]
    }
   ],
   "source": [
    "def register_person(name, dob, adhar=None, pan=None,phone=None,email=None):\n",
    "    print(f\"name={name}, dob={dob},adhar={adhar},pan={pan},phone={phone},email={email}\")\n",
    "register_person(\"jay\",\"2017-02-28\")\n",
    "register_person(\"sai\",\"1989-04-23\",\"adhar_sai\",\"9676622023\",\"sai@gmail.com\")\n",
    "    "
   ]
  },
  {
   "cell_type": "code",
   "execution_count": 19,
   "metadata": {},
   "outputs": [
    {
     "name": "stdout",
     "output_type": "stream",
     "text": [
      "name=jay, dob=2017-02-28,adhar=None,pan=None,phone=None,email=None\n",
      "name=sai, dob=1989-04-23,adhar=adhar_sai,pan=None,phone=9676622023,email=sai@gmail.com\n"
     ]
    }
   ],
   "source": [
    "def register_person(name, dob, adhar=None, pan=None,phone=None,email=None):\n",
    "    print(f\"name={name}, dob={dob},adhar={adhar},pan={pan},phone={phone},email={email}\")\n",
    "register_person(\"jay\",\"2017-02-28\")\n",
    "register_person(\"sai\",\"1989-04-23\",\"adhar_sai\",None,\"9676622023\",\"sai@gmail.com\")"
   ]
  },
  {
   "cell_type": "code",
   "execution_count": 20,
   "metadata": {},
   "outputs": [
    {
     "name": "stdout",
     "output_type": "stream",
     "text": [
      "name=jay, dob=2017-02-28,adhar=None,pan=None,phone=None,email=None\n",
      "name=sai, dob=1989-04-23,adhar=adhar_sai,pan=None,phone=9676622023,email=sai@gmail.com\n",
      "name=vedha, dob=2018-06-14,adhar=None,pan=None,phone=None,email=vedha@gmail.com\n"
     ]
    }
   ],
   "source": [
    "def register_person(name, dob, adhar=None, pan=None,phone=None,email=None):\n",
    "    print(f\"name={name}, dob={dob},adhar={adhar},pan={pan},phone={phone},email={email}\")\n",
    "register_person(\"jay\",\"2017-02-28\")\n",
    "register_person(\"sai\",\"1989-04-23\",\"adhar_sai\",None,\"9676622023\",\"sai@gmail.com\")\n",
    "register_person(\"vedha\",\"2018-06-14\",None,None,None,\"vedha@gmail.com\")"
   ]
  },
  {
   "cell_type": "code",
   "execution_count": 22,
   "metadata": {},
   "outputs": [],
   "source": [
    "import pandas as pd"
   ]
  },
  {
   "cell_type": "code",
   "execution_count": 23,
   "metadata": {},
   "outputs": [],
   "source": [
    "pd.read_csv?"
   ]
  },
  {
   "cell_type": "code",
   "execution_count": 24,
   "metadata": {},
   "outputs": [
    {
     "name": "stdout",
     "output_type": "stream",
     "text": [
      "name=jay, dob=2017-02-28,adhar=None,pan=None,phone=None,email=None\n",
      "name=sai, dob=1989-04-23,adhar=adhar_sai,pan=None,phone=9676622023,email=sai@gmail.com\n",
      "name=vedha, dob=2018-06-14,adhar=None,pan=None,phone=None,email=vedha@gmail.com\n",
      "name=vedha, dob=2018-06-14,adhar=None,pan=None,phone=None,email=vedha@gmail.com\n"
     ]
    }
   ],
   "source": [
    "def register_person(name, dob, adhar=None, pan=None,phone=None,email=None):\n",
    "    print(f\"name={name}, dob={dob},adhar={adhar},pan={pan},phone={phone},email={email}\")\n",
    "register_person(\"jay\",\"2017-02-28\")\n",
    "register_person(\"sai\",\"1989-04-23\",\"adhar_sai\",None,\"9676622023\",\"sai@gmail.com\")\n",
    "register_person(\"vedha\",\"2018-06-14\",None,None,None,\"vedha@gmail.com\")#positional argumaents\n",
    "register_person(dob=\"2018-06-14\",name=\"vedha\",email=\"vedha@gmail.com\")# keyword arguments"
   ]
  },
  {
   "cell_type": "code",
   "execution_count": 25,
   "metadata": {},
   "outputs": [
    {
     "name": "stdout",
     "output_type": "stream",
     "text": [
      "name=jay, dob=2017-02-28,adhar=None,pan=None,phone=None,email=None\n",
      "name=sai, dob=1989-04-23,adhar=adhar_sai,pan=None,phone=9676622023,email=sai@gmail.com\n",
      "name=vedha, dob=2018-06-14,adhar=None,pan=None,phone=None,email=vedha@gmail.com\n",
      "name=vedha, dob=2018-06-14,adhar=None,pan=None,phone=None,email=vedha@gmail.com\n",
      "name=vedha, dob=2018-06-14,adhar=None,pan=None,phone=None,email=vedha@gmail.com\n"
     ]
    }
   ],
   "source": [
    "def register_person(name, dob, adhar=None, pan=None,phone=None,email=None):\n",
    "    print(f\"name={name}, dob={dob},adhar={adhar},pan={pan},phone={phone},email={email}\")\n",
    "register_person(\"jay\",\"2017-02-28\")\n",
    "register_person(\"sai\",\"1989-04-23\",\"adhar_sai\",None,\"9676622023\",\"sai@gmail.com\")\n",
    "register_person(\"vedha\",\"2018-06-14\",None,None,None,\"vedha@gmail.com\")#positional argumaents\n",
    "register_person(dob=\"2018-06-14\",name=\"vedha\",email=\"vedha@gmail.com\")# keyword arguments\n",
    "register_person(\"vedha\",\"2018-06-14\",email=\"vedha@gmail.com\")"
   ]
  },
  {
   "cell_type": "code",
   "execution_count": 26,
   "metadata": {},
   "outputs": [
    {
     "name": "stdout",
     "output_type": "stream",
     "text": [
      "name=jay, dob=2017-02-28,adhar=None,pan=None,phone=None,email=None\n",
      "name=sai, dob=1989-04-23,adhar=adhar_sai,pan=None,phone=9676622023,email=sai@gmail.com\n",
      "name=vedha, dob=2018-06-14,adhar=None,pan=None,phone=None,email=vedha@gmail.com\n",
      "name=vedha, dob=2018-06-14,adhar=None,pan=None,phone=None,email=vedha@gmail.com\n"
     ]
    },
    {
     "ename": "TypeError",
     "evalue": "register_person() missing 1 required positional argument: 'name'",
     "output_type": "error",
     "traceback": [
      "\u001b[1;31m---------------------------------------------------------------------------\u001b[0m",
      "\u001b[1;31mTypeError\u001b[0m                                 Traceback (most recent call last)",
      "\u001b[1;32m<ipython-input-26-3a37468bf1b5>\u001b[0m in \u001b[0;36m<module>\u001b[1;34m\u001b[0m\n\u001b[0;32m      5\u001b[0m \u001b[0mregister_person\u001b[0m\u001b[1;33m(\u001b[0m\u001b[1;34m\"vedha\"\u001b[0m\u001b[1;33m,\u001b[0m\u001b[1;34m\"2018-06-14\"\u001b[0m\u001b[1;33m,\u001b[0m\u001b[1;32mNone\u001b[0m\u001b[1;33m,\u001b[0m\u001b[1;32mNone\u001b[0m\u001b[1;33m,\u001b[0m\u001b[1;32mNone\u001b[0m\u001b[1;33m,\u001b[0m\u001b[1;34m\"vedha@gmail.com\"\u001b[0m\u001b[1;33m)\u001b[0m\u001b[1;31m#positional argumaents\u001b[0m\u001b[1;33m\u001b[0m\u001b[1;33m\u001b[0m\u001b[0m\n\u001b[0;32m      6\u001b[0m \u001b[0mregister_person\u001b[0m\u001b[1;33m(\u001b[0m\u001b[0mdob\u001b[0m\u001b[1;33m=\u001b[0m\u001b[1;34m\"2018-06-14\"\u001b[0m\u001b[1;33m,\u001b[0m\u001b[0mname\u001b[0m\u001b[1;33m=\u001b[0m\u001b[1;34m\"vedha\"\u001b[0m\u001b[1;33m,\u001b[0m\u001b[0memail\u001b[0m\u001b[1;33m=\u001b[0m\u001b[1;34m\"vedha@gmail.com\"\u001b[0m\u001b[1;33m)\u001b[0m\u001b[1;31m# keyword arguments\u001b[0m\u001b[1;33m\u001b[0m\u001b[1;33m\u001b[0m\u001b[0m\n\u001b[1;32m----> 7\u001b[1;33m \u001b[0mregister_person\u001b[0m\u001b[1;33m(\u001b[0m\u001b[0mdob\u001b[0m\u001b[1;33m=\u001b[0m\u001b[1;34m\"2018-06-14\"\u001b[0m\u001b[1;33m,\u001b[0m\u001b[0memail\u001b[0m\u001b[1;33m=\u001b[0m\u001b[1;34m\"vedha@gmail.com\"\u001b[0m\u001b[1;33m)\u001b[0m\u001b[1;33m\u001b[0m\u001b[1;33m\u001b[0m\u001b[0m\n\u001b[0m",
      "\u001b[1;31mTypeError\u001b[0m: register_person() missing 1 required positional argument: 'name'"
     ]
    }
   ],
   "source": [
    "def register_person(name, dob, adhar=None, pan=None,phone=None,email=None):\n",
    "    print(f\"name={name}, dob={dob},adhar={adhar},pan={pan},phone={phone},email={email}\")\n",
    "register_person(\"jay\",\"2017-02-28\")\n",
    "register_person(\"sai\",\"1989-04-23\",\"adhar_sai\",None,\"9676622023\",\"sai@gmail.com\")\n",
    "register_person(\"vedha\",\"2018-06-14\",None,None,None,\"vedha@gmail.com\")#positional argumaents\n",
    "register_person(dob=\"2018-06-14\",name=\"vedha\",email=\"vedha@gmail.com\")# keyword arguments\n",
    "register_person(dob=\"2018-06-14\",email=\"vedha@gmail.com\")"
   ]
  },
  {
   "cell_type": "code",
   "execution_count": 27,
   "metadata": {},
   "outputs": [
    {
     "ename": "TypeError",
     "evalue": "register_person() got multiple values for argument 'name'",
     "output_type": "error",
     "traceback": [
      "\u001b[1;31m---------------------------------------------------------------------------\u001b[0m",
      "\u001b[1;31mTypeError\u001b[0m                                 Traceback (most recent call last)",
      "\u001b[1;32m<ipython-input-27-7b8f916b93de>\u001b[0m in \u001b[0;36m<module>\u001b[1;34m\u001b[0m\n\u001b[0;32m      1\u001b[0m \u001b[1;32mdef\u001b[0m \u001b[0mregister_person\u001b[0m\u001b[1;33m(\u001b[0m\u001b[0mname\u001b[0m\u001b[1;33m,\u001b[0m \u001b[0mdob\u001b[0m\u001b[1;33m,\u001b[0m \u001b[0madhar\u001b[0m\u001b[1;33m=\u001b[0m\u001b[1;32mNone\u001b[0m\u001b[1;33m,\u001b[0m \u001b[0mpan\u001b[0m\u001b[1;33m=\u001b[0m\u001b[1;32mNone\u001b[0m\u001b[1;33m,\u001b[0m\u001b[0mphone\u001b[0m\u001b[1;33m=\u001b[0m\u001b[1;32mNone\u001b[0m\u001b[1;33m,\u001b[0m\u001b[0memail\u001b[0m\u001b[1;33m=\u001b[0m\u001b[1;32mNone\u001b[0m\u001b[1;33m)\u001b[0m\u001b[1;33m:\u001b[0m\u001b[1;33m\u001b[0m\u001b[1;33m\u001b[0m\u001b[0m\n\u001b[0;32m      2\u001b[0m     \u001b[0mprint\u001b[0m\u001b[1;33m(\u001b[0m\u001b[1;34mf\"name={name}, dob={dob},adhar={adhar},pan={pan},phone={phone},email={email}\"\u001b[0m\u001b[1;33m)\u001b[0m\u001b[1;33m\u001b[0m\u001b[1;33m\u001b[0m\u001b[0m\n\u001b[1;32m----> 3\u001b[1;33m \u001b[0mregister_person\u001b[0m\u001b[1;33m(\u001b[0m\u001b[1;34m\"jay\"\u001b[0m\u001b[1;33m,\u001b[0m\u001b[1;34m\"2017-02-28\"\u001b[0m\u001b[1;33m,\u001b[0m\u001b[0mname\u001b[0m\u001b[1;33m=\u001b[0m\u001b[1;34m\"vedha\"\u001b[0m\u001b[1;33m)\u001b[0m\u001b[1;33m\u001b[0m\u001b[1;33m\u001b[0m\u001b[0m\n\u001b[0m",
      "\u001b[1;31mTypeError\u001b[0m: register_person() got multiple values for argument 'name'"
     ]
    }
   ],
   "source": [
    "def register_person(name, dob, adhar=None, pan=None,phone=None,email=None):\n",
    "    print(f\"name={name}, dob={dob},adhar={adhar},pan={pan},phone={phone},email={email}\")\n",
    "register_person(\"jay\",\"2017-02-28\",name=\"vedha\")"
   ]
  },
  {
   "cell_type": "code",
   "execution_count": 28,
   "metadata": {},
   "outputs": [],
   "source": [
    "name=\"jay\"\n",
    "name=\"vedha\""
   ]
  },
  {
   "cell_type": "code",
   "execution_count": null,
   "metadata": {},
   "outputs": [],
   "source": [
    "def register_person(name, dob, adhar=None, pan=None,phone=None,email=None):\n",
    "    print(f\"name={name}, dob={dob},adhar={adhar},pan={pan},phone={phone},email={email}\")\n",
    "    \n",
    "register_person(\"jay\",\"2017-02-28\",name=\"vedha\")"
   ]
  },
  {
   "cell_type": "code",
   "execution_count": 29,
   "metadata": {},
   "outputs": [
    {
     "name": "stdout",
     "output_type": "stream",
     "text": [
      "() <class 'tuple'>\n"
     ]
    }
   ],
   "source": [
    "def add(*k):\n",
    "    print(k,type(k))\n",
    "    \n",
    "add()"
   ]
  },
  {
   "cell_type": "code",
   "execution_count": 30,
   "metadata": {},
   "outputs": [
    {
     "name": "stdout",
     "output_type": "stream",
     "text": [
      "(1,) <class 'tuple'>\n"
     ]
    }
   ],
   "source": [
    "def add(*k):\n",
    "    print(k,type(k))\n",
    "    \n",
    "add(1)"
   ]
  },
  {
   "cell_type": "code",
   "execution_count": 31,
   "metadata": {},
   "outputs": [
    {
     "name": "stdout",
     "output_type": "stream",
     "text": [
      "(1, 2, 3, 4, 5, 6, 7, 8, 9, 1, 2, 3, 4, 5, 6, 7, 8, 9, 10, 0, 20, 30, 40, 50, 60, 70) <class 'tuple'>\n"
     ]
    }
   ],
   "source": [
    "def add(*k):\n",
    "    print(k,type(k))\n",
    "    \n",
    "add(1,2,3,4,5,6,7,8,9,1,2,3,4,5,6,7,8,9,10,0,20,30,40,50,60,70)"
   ]
  },
  {
   "cell_type": "code",
   "execution_count": 32,
   "metadata": {},
   "outputs": [
    {
     "name": "stdout",
     "output_type": "stream",
     "text": [
      "(1, 2, 3, 4, 5, 6, 7, 8, 9, 1, 2, 3, 4, 5, 6, 7, 8, 9, 10, 0, 20, 30, 40, 50, 60, 70) <class 'tuple'>\n"
     ]
    }
   ],
   "source": [
    "def add(*k):# *args\n",
    "    print(k,type(k))\n",
    "    \n",
    "add(1,2,3,4,5,6,7,8,9,1,2,3,4,5,6,7,8,9,10,0,20,30,40,50,60,70)"
   ]
  },
  {
   "cell_type": "code",
   "execution_count": 33,
   "metadata": {},
   "outputs": [
    {
     "name": "stdout",
     "output_type": "stream",
     "text": [
      "(1, 2, 3, 4, 5, 6, 7, 8, 9, 1, 2, 3, 4, 5, 6, 7, 8, 9, 10, 0, 20, 30, 40, 50, 60, 70) <class 'tuple'>\n",
      "result=370\n"
     ]
    }
   ],
   "source": [
    "def add(*k):# *args\n",
    "    print(k,type(k))\n",
    "    print(f\"result={sum(k)}\")\n",
    "    \n",
    "add(1,2,3,4,5,6,7,8,9,1,2,3,4,5,6,7,8,9,10,0,20,30,40,50,60,70)# positiional arguments"
   ]
  },
  {
   "cell_type": "code",
   "execution_count": 34,
   "metadata": {},
   "outputs": [
    {
     "ename": "TypeError",
     "evalue": "add() got an unexpected keyword argument 'a'",
     "output_type": "error",
     "traceback": [
      "\u001b[1;31m---------------------------------------------------------------------------\u001b[0m",
      "\u001b[1;31mTypeError\u001b[0m                                 Traceback (most recent call last)",
      "\u001b[1;32m<ipython-input-34-af2613380737>\u001b[0m in \u001b[0;36m<module>\u001b[1;34m\u001b[0m\n\u001b[0;32m      2\u001b[0m     \u001b[0mprint\u001b[0m\u001b[1;33m(\u001b[0m\u001b[0mk\u001b[0m\u001b[1;33m,\u001b[0m\u001b[0mtype\u001b[0m\u001b[1;33m(\u001b[0m\u001b[0mk\u001b[0m\u001b[1;33m)\u001b[0m\u001b[1;33m)\u001b[0m\u001b[1;33m\u001b[0m\u001b[1;33m\u001b[0m\u001b[0m\n\u001b[0;32m      3\u001b[0m     \u001b[0mprint\u001b[0m\u001b[1;33m(\u001b[0m\u001b[1;34mf\"result={sum(k)}\"\u001b[0m\u001b[1;33m)\u001b[0m\u001b[1;33m\u001b[0m\u001b[1;33m\u001b[0m\u001b[0m\n\u001b[1;32m----> 4\u001b[1;33m \u001b[0madd\u001b[0m\u001b[1;33m(\u001b[0m\u001b[0ma\u001b[0m\u001b[1;33m=\u001b[0m\u001b[1;36m10\u001b[0m\u001b[1;33m,\u001b[0m\u001b[0mb\u001b[0m\u001b[1;33m=\u001b[0m\u001b[1;36m20\u001b[0m\u001b[1;33m,\u001b[0m\u001b[0mc\u001b[0m\u001b[1;33m=\u001b[0m\u001b[1;36m330\u001b[0m\u001b[1;33m,\u001b[0m\u001b[0md\u001b[0m\u001b[1;33m=\u001b[0m\u001b[1;36m40\u001b[0m\u001b[1;33m,\u001b[0m\u001b[0me\u001b[0m\u001b[1;33m=\u001b[0m\u001b[1;36m50\u001b[0m\u001b[1;33m,\u001b[0m\u001b[0mf\u001b[0m\u001b[1;33m=\u001b[0m\u001b[1;36m60\u001b[0m\u001b[1;33m,\u001b[0m\u001b[0mg\u001b[0m\u001b[1;33m=\u001b[0m\u001b[1;36m70\u001b[0m\u001b[1;33m)\u001b[0m\u001b[1;31m# keyword arguments\u001b[0m\u001b[1;33m\u001b[0m\u001b[1;33m\u001b[0m\u001b[0m\n\u001b[0m",
      "\u001b[1;31mTypeError\u001b[0m: add() got an unexpected keyword argument 'a'"
     ]
    }
   ],
   "source": [
    "def add(*k):# *args\n",
    "    print(k,type(k))\n",
    "    print(f\"result={sum(k)}\")\n",
    "add(a=10,b=20,c=330,d=40,e=50,f=60,g=70)# keyword arguments"
   ]
  },
  {
   "cell_type": "code",
   "execution_count": 35,
   "metadata": {},
   "outputs": [
    {
     "name": "stdout",
     "output_type": "stream",
     "text": [
      "{'a': 10, 'b': 20, 'c': 330, 'd': 40, 'e': 50, 'f': 60, 'g': 70} <class 'dict'>\n"
     ]
    }
   ],
   "source": [
    "def add(**k):# *kwargs\n",
    "    print(k,type(k))\n",
    "add(a=10,b=20,c=330,d=40,e=50,f=60,g=70)# keyword arguments"
   ]
  },
  {
   "cell_type": "code",
   "execution_count": 37,
   "metadata": {},
   "outputs": [
    {
     "name": "stdout",
     "output_type": "stream",
     "text": [
      "a=10,b=20,c=0,d=0,data=(),context={}\n"
     ]
    }
   ],
   "source": [
    "def add(a,b,c=0,d=0,*data,**context):\n",
    "    print(f\"a={a},b={b},c={c},d={d},data={data},context={context}\")\n",
    "add(10,20)"
   ]
  },
  {
   "cell_type": "code",
   "execution_count": 38,
   "metadata": {},
   "outputs": [
    {
     "name": "stdout",
     "output_type": "stream",
     "text": [
      "a=10,b=20,c=30,d=40,data=(50, 60),context={}\n"
     ]
    }
   ],
   "source": [
    "def add(a,b,c=0,d=0,*data,**context):\n",
    "    print(f\"a={a},b={b},c={c},d={d},data={data},context={context}\")\n",
    "add(10,20,30,40,50,60)"
   ]
  },
  {
   "cell_type": "code",
   "execution_count": 39,
   "metadata": {},
   "outputs": [
    {
     "name": "stdout",
     "output_type": "stream",
     "text": [
      "a=10,b=20,c=30,d=40,data=(50,),context={'x': 60}\n"
     ]
    }
   ],
   "source": [
    "def add(a,b,c=0,d=0,*data,**context):\n",
    "    print(f\"a={a},b={b},c={c},d={d},data={data},context={context}\")\n",
    "add(10,20,30,40,50,x=60)"
   ]
  },
  {
   "cell_type": "code",
   "execution_count": 40,
   "metadata": {},
   "outputs": [
    {
     "name": "stdout",
     "output_type": "stream",
     "text": [
      "a=10,b=20,c=30,d=40,data=(),context={'y': 50, 'x': 60}\n"
     ]
    }
   ],
   "source": [
    "def add(a,b,c=0,d=0,*data,**context):\n",
    "    print(f\"a={a},b={b},c={c},d={d},data={data},context={context}\")\n",
    "add(10,20,30,40,y=50,x=60)"
   ]
  },
  {
   "cell_type": "code",
   "execution_count": 41,
   "metadata": {},
   "outputs": [
    {
     "name": "stdout",
     "output_type": "stream",
     "text": [
      "result= None\n"
     ]
    }
   ],
   "source": [
    "def add(x,y):\n",
    "    z=x+y\n",
    "res=add(10,20)\n",
    "print(\"result=\",res)"
   ]
  },
  {
   "cell_type": "code",
   "execution_count": 42,
   "metadata": {},
   "outputs": [
    {
     "name": "stdout",
     "output_type": "stream",
     "text": [
      "result= None\n"
     ]
    }
   ],
   "source": [
    "def add(x,y):\n",
    "    a=x+y\n",
    "    b=x-y\n",
    "    c=x*y\n",
    "    d=x/y\n",
    "res=add(10,20)\n",
    "print(\"result=\",res)"
   ]
  },
  {
   "cell_type": "code",
   "execution_count": 43,
   "metadata": {},
   "outputs": [
    {
     "name": "stdout",
     "output_type": "stream",
     "text": [
      "30 -10 200 0.5\n",
      "result= None\n"
     ]
    }
   ],
   "source": [
    "def add(x,y):\n",
    "    a=x+y\n",
    "    b=x-y\n",
    "    c=x*y\n",
    "    d=x/y\n",
    "    print(a,b,c,d)\n",
    "res=add(10,20)\n",
    "print(\"result=\",res)"
   ]
  },
  {
   "cell_type": "code",
   "execution_count": 44,
   "metadata": {},
   "outputs": [
    {
     "name": "stdout",
     "output_type": "stream",
     "text": [
      "30 -10 200 0.5\n",
      "result= HELLO\n"
     ]
    }
   ],
   "source": [
    "def add(x,y):\n",
    "    a=x+y\n",
    "    b=x-y\n",
    "    c=x*y\n",
    "    d=x/y\n",
    "    print(a,b,c,d)\n",
    "    return \"HELLO\"\n",
    "res=add(10,20)\n",
    "print(\"result=\",res)"
   ]
  },
  {
   "cell_type": "code",
   "execution_count": 45,
   "metadata": {},
   "outputs": [
    {
     "name": "stdout",
     "output_type": "stream",
     "text": [
      "30 -10 200 0.5\n",
      "result= 30\n"
     ]
    }
   ],
   "source": [
    "def add(x,y):\n",
    "    a=x+y\n",
    "    b=x-y\n",
    "    c=x*y\n",
    "    d=x/y\n",
    "    print(a,b,c,d)\n",
    "    return a\n",
    "res=add(10,20)\n",
    "print(\"result=\",res)"
   ]
  },
  {
   "cell_type": "code",
   "execution_count": 46,
   "metadata": {},
   "outputs": [
    {
     "name": "stdout",
     "output_type": "stream",
     "text": [
      "30 -10 200 0.5\n",
      "result= (30, -10)\n"
     ]
    }
   ],
   "source": [
    "def add(x,y):\n",
    "    a=x+y\n",
    "    b=x-y\n",
    "    c=x*y\n",
    "    d=x/y\n",
    "    print(a,b,c,d)\n",
    "    return a,b\n",
    "res=add(10,20)\n",
    "print(\"result=\",res)"
   ]
  },
  {
   "cell_type": "code",
   "execution_count": 47,
   "metadata": {},
   "outputs": [
    {
     "name": "stdout",
     "output_type": "stream",
     "text": [
      "30 -10 200 0.5\n",
      "result= (30, -10, 200, 0.5)\n"
     ]
    }
   ],
   "source": [
    "def add(x,y):\n",
    "    a=x+y\n",
    "    b=x-y\n",
    "    c=x*y\n",
    "    d=x/y\n",
    "    print(a,b,c,d)\n",
    "    return a,b,c,d\n",
    "res=add(10,20)\n",
    "print(\"result=\",res)"
   ]
  },
  {
   "cell_type": "code",
   "execution_count": 48,
   "metadata": {},
   "outputs": [
    {
     "name": "stdout",
     "output_type": "stream",
     "text": [
      "result= (30, -10, 200, 0.5)\n"
     ]
    }
   ],
   "source": [
    "def add(x,y):\n",
    "    a=x+y\n",
    "    b=x-y\n",
    "    c=x*y\n",
    "    d=x/y\n",
    "    return a,b,c,d\n",
    "res=add(10,20)\n",
    "print(\"result=\",res)"
   ]
  },
  {
   "cell_type": "code",
   "execution_count": null,
   "metadata": {},
   "outputs": [],
   "source": []
  }
 ],
 "metadata": {
  "kernelspec": {
   "display_name": "Python 3",
   "language": "python",
   "name": "python3"
  },
  "language_info": {
   "codemirror_mode": {
    "name": "ipython",
    "version": 3
   },
   "file_extension": ".py",
   "mimetype": "text/x-python",
   "name": "python",
   "nbconvert_exporter": "python",
   "pygments_lexer": "ipython3",
   "version": "3.8.3"
  }
 },
 "nbformat": 4,
 "nbformat_minor": 4
}
