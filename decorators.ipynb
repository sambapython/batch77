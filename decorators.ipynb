{
 "cells": [
  {
   "cell_type": "code",
   "execution_count": 1,
   "metadata": {},
   "outputs": [
    {
     "name": "stdout",
     "output_type": "stream",
     "text": [
      "<function fun at 0x000002007269E8B0>\n"
     ]
    }
   ],
   "source": [
    "def fun():\n",
    "    print(\"hello\")\n",
    "print(fun)"
   ]
  },
  {
   "cell_type": "code",
   "execution_count": 2,
   "metadata": {},
   "outputs": [
    {
     "name": "stdout",
     "output_type": "stream",
     "text": [
      "1000\n",
      "<function fun at 0x000002007269E5E0>\n"
     ]
    }
   ],
   "source": [
    "def fun():\n",
    "    print(\"hello\")\n",
    "a=1000\n",
    "print(a)# what is a: reference of the integer object\n",
    "print(fun)# what is fun: reference of the function object"
   ]
  },
  {
   "cell_type": "code",
   "execution_count": 3,
   "metadata": {},
   "outputs": [
    {
     "name": "stdout",
     "output_type": "stream",
     "text": [
      "1000\n",
      "<function fun at 0x000002007269E280>\n",
      "1000 <function fun at 0x000002007269E280>\n"
     ]
    }
   ],
   "source": [
    "def fun():\n",
    "    print(\"hello\")\n",
    "a=1000\n",
    "print(a)# what is a: reference of the integer object\n",
    "print(fun)# what is fun: reference of the function object\n",
    "b=a\n",
    "c=fun\n",
    "print(b,c)"
   ]
  },
  {
   "cell_type": "code",
   "execution_count": 4,
   "metadata": {},
   "outputs": [
    {
     "name": "stdout",
     "output_type": "stream",
     "text": [
      "1000\n",
      "<function fun at 0x000002007269EC10>\n",
      "1000 <function fun at 0x000002007269EC10>\n",
      "hello\n",
      "hello\n"
     ]
    }
   ],
   "source": [
    "def fun():\n",
    "    print(\"hello\")\n",
    "a=1000\n",
    "print(a)# what is a: reference of the integer object\n",
    "print(fun)# what is fun: reference of the function object\n",
    "b=a\n",
    "c=fun\n",
    "print(b,c)\n",
    "fun()\n",
    "c()"
   ]
  },
  {
   "cell_type": "code",
   "execution_count": 5,
   "metadata": {},
   "outputs": [
    {
     "name": "stdout",
     "output_type": "stream",
     "text": [
      "x= 1000\n"
     ]
    }
   ],
   "source": [
    "def fun():\n",
    "    print(\"hello\")\n",
    "def fun1(x):\n",
    "    print(\"x=\",x)\n",
    "a=1000\n",
    "fun1(a)"
   ]
  },
  {
   "cell_type": "code",
   "execution_count": 6,
   "metadata": {},
   "outputs": [
    {
     "name": "stdout",
     "output_type": "stream",
     "text": [
      "x= <function fun at 0x000002007269EDC0>\n"
     ]
    }
   ],
   "source": [
    "def fun():\n",
    "    print(\"hello\")\n",
    "    return 200\n",
    "def fun1(x):\n",
    "    print(\"x=\",x)\n",
    "a=1000\n",
    "fun1(fun)"
   ]
  },
  {
   "cell_type": "code",
   "execution_count": 7,
   "metadata": {},
   "outputs": [
    {
     "name": "stdout",
     "output_type": "stream",
     "text": [
      "hello\n",
      "x= 200\n"
     ]
    }
   ],
   "source": [
    "def fun():\n",
    "    print(\"hello\")\n",
    "    return 200\n",
    "def fun1(x):\n",
    "    print(\"x=\",x)\n",
    "a=1000\n",
    "res=fun()\n",
    "fun1(res)"
   ]
  },
  {
   "cell_type": "code",
   "execution_count": 9,
   "metadata": {},
   "outputs": [
    {
     "name": "stdout",
     "output_type": "stream",
     "text": [
      "hello\n",
      "x= 200\n"
     ]
    }
   ],
   "source": [
    "def fun():\n",
    "    print(\"hello\")\n",
    "    return 200\n",
    "def fun1(x):\n",
    "    print(\"x=\",x)\n",
    "a=1000\n",
    "fun1(fun())"
   ]
  },
  {
   "cell_type": "code",
   "execution_count": 10,
   "metadata": {},
   "outputs": [
    {
     "name": "stdout",
     "output_type": "stream",
     "text": [
      "5000\n"
     ]
    }
   ],
   "source": [
    "def fun():\n",
    "    z=5000\n",
    "    return z\n",
    "res=fun() # res=z\n",
    "print(res)"
   ]
  },
  {
   "cell_type": "code",
   "execution_count": 11,
   "metadata": {},
   "outputs": [
    {
     "name": "stdout",
     "output_type": "stream",
     "text": [
      "main\n"
     ]
    },
    {
     "ename": "NameError",
     "evalue": "name 'inner' is not defined",
     "output_type": "error",
     "traceback": [
      "\u001b[1;31m---------------------------------------------------------------------------\u001b[0m",
      "\u001b[1;31mNameError\u001b[0m                                 Traceback (most recent call last)",
      "\u001b[1;32m<ipython-input-11-a4e482bfc8c4>\u001b[0m in \u001b[0;36m<module>\u001b[1;34m\u001b[0m\n\u001b[0;32m      4\u001b[0m         \u001b[0mprint\u001b[0m\u001b[1;33m(\u001b[0m\u001b[1;34m\"this is inner\"\u001b[0m\u001b[1;33m)\u001b[0m\u001b[1;33m\u001b[0m\u001b[1;33m\u001b[0m\u001b[0m\n\u001b[0;32m      5\u001b[0m \u001b[0mprint\u001b[0m\u001b[1;33m(\u001b[0m\u001b[1;34m\"main\"\u001b[0m\u001b[1;33m)\u001b[0m\u001b[1;33m\u001b[0m\u001b[1;33m\u001b[0m\u001b[0m\n\u001b[1;32m----> 6\u001b[1;33m \u001b[0minner\u001b[0m\u001b[1;33m(\u001b[0m\u001b[1;33m)\u001b[0m\u001b[1;33m\u001b[0m\u001b[1;33m\u001b[0m\u001b[0m\n\u001b[0m",
      "\u001b[1;31mNameError\u001b[0m: name 'inner' is not defined"
     ]
    }
   ],
   "source": [
    "def outer():\n",
    "    print(\"this is outer\")\n",
    "    def inner():\n",
    "        print(\"this is inner\")\n",
    "print(\"main\")  \n",
    "inner()"
   ]
  },
  {
   "cell_type": "code",
   "execution_count": 12,
   "metadata": {},
   "outputs": [
    {
     "name": "stdout",
     "output_type": "stream",
     "text": [
      "this is outer\n",
      "outer main\n",
      "result= <function outer.<locals>.inner at 0x000002007274E4C0>\n"
     ]
    }
   ],
   "source": [
    "def outer():\n",
    "    print(\"this is outer\")\n",
    "    def inner():\n",
    "        print(\"this is inner\")\n",
    "        print(\"inner1\")\n",
    "        return 200\n",
    "    print(\"outer main\")\n",
    "    return inner \n",
    "res=outer()# res: is a reference of inner function object\n",
    "print(\"result=\",res)\n"
   ]
  },
  {
   "cell_type": "code",
   "execution_count": 13,
   "metadata": {},
   "outputs": [
    {
     "ename": "NameError",
     "evalue": "name 'inner' is not defined",
     "output_type": "error",
     "traceback": [
      "\u001b[1;31m---------------------------------------------------------------------------\u001b[0m",
      "\u001b[1;31mNameError\u001b[0m                                 Traceback (most recent call last)",
      "\u001b[1;32m<ipython-input-13-206069ab5498>\u001b[0m in \u001b[0;36m<module>\u001b[1;34m\u001b[0m\n\u001b[0;32m      7\u001b[0m     \u001b[0mprint\u001b[0m\u001b[1;33m(\u001b[0m\u001b[1;34m\"outer main\"\u001b[0m\u001b[1;33m)\u001b[0m\u001b[1;33m\u001b[0m\u001b[1;33m\u001b[0m\u001b[0m\n\u001b[0;32m      8\u001b[0m     \u001b[1;32mreturn\u001b[0m \u001b[0minner\u001b[0m\u001b[1;33m\u001b[0m\u001b[1;33m\u001b[0m\u001b[0m\n\u001b[1;32m----> 9\u001b[1;33m \u001b[0mres\u001b[0m\u001b[1;33m=\u001b[0m\u001b[0minner\u001b[0m\u001b[1;33m(\u001b[0m\u001b[1;33m)\u001b[0m\u001b[1;31m# res: is a reference of inner function object\u001b[0m\u001b[1;33m\u001b[0m\u001b[1;33m\u001b[0m\u001b[0m\n\u001b[0m\u001b[0;32m     10\u001b[0m \u001b[0mprint\u001b[0m\u001b[1;33m(\u001b[0m\u001b[1;34m\"result=\"\u001b[0m\u001b[1;33m,\u001b[0m\u001b[0mres\u001b[0m\u001b[1;33m)\u001b[0m\u001b[1;33m\u001b[0m\u001b[1;33m\u001b[0m\u001b[0m\n\u001b[0;32m     11\u001b[0m \u001b[1;31m# call the inner function\u001b[0m\u001b[1;33m\u001b[0m\u001b[1;33m\u001b[0m\u001b[1;33m\u001b[0m\u001b[0m\n",
      "\u001b[1;31mNameError\u001b[0m: name 'inner' is not defined"
     ]
    }
   ],
   "source": [
    "def outer():\n",
    "    print(\"this is outer\")\n",
    "    def inner():\n",
    "        print(\"this is inner\")\n",
    "        print(\"inner1\")\n",
    "        return 200\n",
    "    print(\"outer main\")\n",
    "    return inner \n",
    "res=inner()# res: is a reference of inner function object\n",
    "print(\"result=\",res)\n",
    "# call the inner function\n"
   ]
  },
  {
   "cell_type": "code",
   "execution_count": 14,
   "metadata": {},
   "outputs": [
    {
     "name": "stdout",
     "output_type": "stream",
     "text": [
      "this is outer\n",
      "outer main\n",
      "result= <function outer.<locals>.inner at 0x000002007274E670>\n"
     ]
    }
   ],
   "source": [
    "def outer():\n",
    "    print(\"this is outer\")\n",
    "    def inner():\n",
    "        print(\"this is inner\")\n",
    "        print(\"inner1\")\n",
    "        return 200\n",
    "    print(\"outer main\")\n",
    "    return inner \n",
    "res=outer()# res: is a reference of inner function object: res=inner\n",
    "print(\"result=\",res)\n",
    "# call the inner function\n"
   ]
  },
  {
   "cell_type": "code",
   "execution_count": 15,
   "metadata": {},
   "outputs": [
    {
     "name": "stdout",
     "output_type": "stream",
     "text": [
      "this is outer\n",
      "outer main\n",
      "result= <function outer.<locals>.inner at 0x000002007274E4C0>\n",
      "this is inner\n",
      "inner1\n",
      "r1= 200\n"
     ]
    }
   ],
   "source": [
    "def outer():\n",
    "    print(\"this is outer\")\n",
    "    def inner():\n",
    "        print(\"this is inner\")\n",
    "        print(\"inner1\")\n",
    "        return 200\n",
    "    print(\"outer main\")\n",
    "    return inner \n",
    "res=outer()# res: is a reference of inner function object: res=inner\n",
    "print(\"result=\",res)\n",
    "# call the inner function\n",
    "r1=res()\n",
    "print(\"r1=\",r1)"
   ]
  },
  {
   "cell_type": "code",
   "execution_count": null,
   "metadata": {},
   "outputs": [],
   "source": [
    "def outer():\n",
    "    #CLOSURE\n",
    "    print(\"this is outer\")\n",
    "    def inner():\n",
    "        print(\"this is inner\")\n",
    "        print(\"inner1\")\n",
    "        return 200\n",
    "    print(\"outer main\")\n",
    "    return inner \n",
    "res=outer()# res: is a reference of inner function object: res=inner\n",
    "print(\"result=\",res)\n",
    "# call the inner function\n",
    "r1=res()\n",
    "print(\"r1=\",r1)"
   ]
  },
  {
   "cell_type": "code",
   "execution_count": 17,
   "metadata": {},
   "outputs": [
    {
     "name": "stdout",
     "output_type": "stream",
     "text": [
      "30\n",
      "20000\n",
      "0.5\n"
     ]
    }
   ],
   "source": [
    "def add(x,y):\n",
    "    return x+y\n",
    "def mul(x,y):\n",
    "    return x*y\n",
    "def div(x,y):\n",
    "    return x/y\n",
    "print(add(10,20))\n",
    "print(mul(100,200))\n",
    "print(div(1000,2000))"
   ]
  },
  {
   "cell_type": "code",
   "execution_count": null,
   "metadata": {},
   "outputs": [],
   "source": [
    "# validate x,y those are integers or not.\n",
    "# format the result: 10+20=30\n",
    "def add(x,y):\n",
    "    return x+y\n",
    "def mul(x,y):\n",
    "    return x*y\n",
    "def div(x,y):\n",
    "    return x/y\n",
    "print(add(10,20))\n",
    "print(mul(100,200))\n",
    "print(div(1000,2000))"
   ]
  },
  {
   "cell_type": "code",
   "execution_count": 18,
   "metadata": {},
   "outputs": [
    {
     "name": "stdout",
     "output_type": "stream",
     "text": [
      "10+20=30\n",
      "100*200=20000\n",
      "1000/2000=0.5\n"
     ]
    }
   ],
   "source": [
    "# validate x,y those are integers or not.\n",
    "# format the result: 10+20=30\n",
    "def add(x,y):\n",
    "    return f\"{x}+{y}={x+y}\"\n",
    "def mul(x,y):\n",
    "    return f\"{x}*{y}={x*y}\"\n",
    "def div(x,y):\n",
    "    return f\"{x}/{y}={x/y}\"\n",
    "print(add(10,20))\n",
    "print(mul(100,200))\n",
    "print(div(1000,2000))"
   ]
  },
  {
   "cell_type": "code",
   "execution_count": 20,
   "metadata": {},
   "outputs": [
    {
     "name": "stdout",
     "output_type": "stream",
     "text": [
      "10+20=30\n",
      "100*200=20000\n",
      "1000/2000=0.5\n"
     ]
    }
   ],
   "source": [
    "# validate x,y those are integers or not.\n",
    "# format the result: 10+20=30\n",
    "class OperationError(Exception):\n",
    "    pass\n",
    "def add(x,y):\n",
    "    if isinstance(x,int) and isinstance(y,int):\n",
    "        return f\"{x}+{y}={x+y}\"\n",
    "    else:\n",
    "        raise OperationError(\"expecting x,y only integers.\")\n",
    "def mul(x,y):\n",
    "    if isinstance(x,int) and isinstance(y,int):\n",
    "        return f\"{x}*{y}={x*y}\"\n",
    "    else:\n",
    "        raise OperationError(\"expecting x,y only integers.\")\n",
    "def div(x,y):\n",
    "    if isinstance(x,int) and isinstance(y,int):\n",
    "        return f\"{x}/{y}={x/y}\"\n",
    "    else:\n",
    "        raise OperationError(\"expecting x,y only integers.\")\n",
    "print(add(10,20))\n",
    "print(mul(100,200))\n",
    "print(div(1000,2000))"
   ]
  },
  {
   "cell_type": "code",
   "execution_count": 21,
   "metadata": {},
   "outputs": [
    {
     "name": "stdout",
     "output_type": "stream",
     "text": [
      "10+20=30\n",
      "100*200=20000\n",
      "1000/2000=0.5\n"
     ]
    }
   ],
   "source": [
    "# validate x,y those are integers or not.\n",
    "# format the result: 10+20=30\n",
    "class OperationError(Exception):\n",
    "    pass\n",
    "def validate(x,y):\n",
    "    if not (isinstance(x,int) and isinstance(y,int)):\n",
    "        raise OperationError(\"expecting x,y only integers.\")\n",
    "\n",
    "def add(x,y):\n",
    "    validate(x,y)\n",
    "    return f\"{x}+{y}={x+y}\"\n",
    "\n",
    "def mul(x,y):\n",
    "    validate(x,y)\n",
    "    return f\"{x}*{y}={x*y}\"\n",
    "\n",
    "def div(x,y):\n",
    "    validate(x,y)\n",
    "    return f\"{x}/{y}={x/y}\"\n",
    "print(add(10,20))\n",
    "print(mul(100,200))\n",
    "print(div(1000,2000))"
   ]
  },
  {
   "cell_type": "code",
   "execution_count": 22,
   "metadata": {},
   "outputs": [
    {
     "name": "stdout",
     "output_type": "stream",
     "text": [
      "10+20=30\n",
      "100*200=20000\n",
      "1000/2000=0.5\n"
     ]
    }
   ],
   "source": [
    "# validate x,y those are integers or not.\n",
    "# format the result: 10+20=30\n",
    "class OperationError(Exception):\n",
    "    pass\n",
    "def validate(fun):\n",
    "    def vlaidate_fun(x,y):\n",
    "         if not (isinstance(x,int) and isinstance(y,int)):\n",
    "            raise OperationError(\"expecting x,y only integers.\")\n",
    "         return fun(x,y)  \n",
    "    return vlaidate_fun\n",
    "\n",
    "def add(x,y):\n",
    "    return f\"{x}+{y}={x+y}\"\n",
    "\n",
    "def mul(x,y):\n",
    "    return f\"{x}*{y}={x*y}\"\n",
    "\n",
    "def div(x,y):\n",
    "    return f\"{x}/{y}={x/y}\"\n",
    "print(add(10,20))\n",
    "\n",
    "print(mul(100,200))\n",
    "print(div(1000,2000))"
   ]
  },
  {
   "cell_type": "code",
   "execution_count": 23,
   "metadata": {},
   "outputs": [
    {
     "name": "stdout",
     "output_type": "stream",
     "text": [
      "10+20=30\n"
     ]
    }
   ],
   "source": [
    "# validate x,y those are integers or not.\n",
    "# format the result: 10+20=30\n",
    "class OperationError(Exception):\n",
    "    pass\n",
    "def validate(fun):\n",
    "    def vlaidate_fun(x,y):\n",
    "         if not (isinstance(x,int) and isinstance(y,int)):\n",
    "            raise OperationError(\"expecting x,y only integers.\")\n",
    "         return fun(x,y)  \n",
    "    return vlaidate_fun\n",
    "\n",
    "def add(x,y):\n",
    "    return f\"{x}+{y}={x+y}\"\n",
    "\n",
    "def mul(x,y):\n",
    "    return f\"{x}*{y}={x*y}\"\n",
    "\n",
    "def div(x,y):\n",
    "    return f\"{x}/{y}={x/y}\"\n",
    "#print(add(10,20))\n",
    "validate_fun_ref=validate(add) \n",
    "print(validate_fun_ref(10,20))"
   ]
  },
  {
   "cell_type": "code",
   "execution_count": 24,
   "metadata": {},
   "outputs": [
    {
     "ename": "OperationError",
     "evalue": "expecting x,y only integers.",
     "output_type": "error",
     "traceback": [
      "\u001b[1;31m---------------------------------------------------------------------------\u001b[0m",
      "\u001b[1;31mOperationError\u001b[0m                            Traceback (most recent call last)",
      "\u001b[1;32m<ipython-input-24-e5dbd4ce7640>\u001b[0m in \u001b[0;36m<module>\u001b[1;34m\u001b[0m\n\u001b[0;32m     20\u001b[0m \u001b[1;31m#print(add(10,20))\u001b[0m\u001b[1;33m\u001b[0m\u001b[1;33m\u001b[0m\u001b[1;33m\u001b[0m\u001b[0m\n\u001b[0;32m     21\u001b[0m \u001b[0mvalidate_fun_ref\u001b[0m\u001b[1;33m=\u001b[0m\u001b[0mvalidate\u001b[0m\u001b[1;33m(\u001b[0m\u001b[0madd\u001b[0m\u001b[1;33m)\u001b[0m\u001b[1;33m\u001b[0m\u001b[1;33m\u001b[0m\u001b[0m\n\u001b[1;32m---> 22\u001b[1;33m \u001b[0mprint\u001b[0m\u001b[1;33m(\u001b[0m\u001b[0mvalidate_fun_ref\u001b[0m\u001b[1;33m(\u001b[0m\u001b[1;36m10\u001b[0m\u001b[1;33m,\u001b[0m\u001b[1;36m20.20\u001b[0m\u001b[1;33m)\u001b[0m\u001b[1;33m)\u001b[0m\u001b[1;33m\u001b[0m\u001b[1;33m\u001b[0m\u001b[0m\n\u001b[0m",
      "\u001b[1;32m<ipython-input-24-e5dbd4ce7640>\u001b[0m in \u001b[0;36mvlaidate_fun\u001b[1;34m(x, y)\u001b[0m\n\u001b[0;32m      6\u001b[0m     \u001b[1;32mdef\u001b[0m \u001b[0mvlaidate_fun\u001b[0m\u001b[1;33m(\u001b[0m\u001b[0mx\u001b[0m\u001b[1;33m,\u001b[0m\u001b[0my\u001b[0m\u001b[1;33m)\u001b[0m\u001b[1;33m:\u001b[0m\u001b[1;33m\u001b[0m\u001b[1;33m\u001b[0m\u001b[0m\n\u001b[0;32m      7\u001b[0m          \u001b[1;32mif\u001b[0m \u001b[1;32mnot\u001b[0m \u001b[1;33m(\u001b[0m\u001b[0misinstance\u001b[0m\u001b[1;33m(\u001b[0m\u001b[0mx\u001b[0m\u001b[1;33m,\u001b[0m\u001b[0mint\u001b[0m\u001b[1;33m)\u001b[0m \u001b[1;32mand\u001b[0m \u001b[0misinstance\u001b[0m\u001b[1;33m(\u001b[0m\u001b[0my\u001b[0m\u001b[1;33m,\u001b[0m\u001b[0mint\u001b[0m\u001b[1;33m)\u001b[0m\u001b[1;33m)\u001b[0m\u001b[1;33m:\u001b[0m\u001b[1;33m\u001b[0m\u001b[1;33m\u001b[0m\u001b[0m\n\u001b[1;32m----> 8\u001b[1;33m             \u001b[1;32mraise\u001b[0m \u001b[0mOperationError\u001b[0m\u001b[1;33m(\u001b[0m\u001b[1;34m\"expecting x,y only integers.\"\u001b[0m\u001b[1;33m)\u001b[0m\u001b[1;33m\u001b[0m\u001b[1;33m\u001b[0m\u001b[0m\n\u001b[0m\u001b[0;32m      9\u001b[0m          \u001b[1;32mreturn\u001b[0m \u001b[0mfun\u001b[0m\u001b[1;33m(\u001b[0m\u001b[0mx\u001b[0m\u001b[1;33m,\u001b[0m\u001b[0my\u001b[0m\u001b[1;33m)\u001b[0m\u001b[1;33m\u001b[0m\u001b[1;33m\u001b[0m\u001b[0m\n\u001b[0;32m     10\u001b[0m     \u001b[1;32mreturn\u001b[0m \u001b[0mvlaidate_fun\u001b[0m\u001b[1;33m\u001b[0m\u001b[1;33m\u001b[0m\u001b[0m\n",
      "\u001b[1;31mOperationError\u001b[0m: expecting x,y only integers."
     ]
    }
   ],
   "source": [
    "# validate x,y those are integers or not.\n",
    "# format the result: 10+20=30\n",
    "class OperationError(Exception):\n",
    "    pass\n",
    "def validate(fun):\n",
    "    def vlaidate_fun(x,y):\n",
    "         if not (isinstance(x,int) and isinstance(y,int)):\n",
    "            raise OperationError(\"expecting x,y only integers.\")\n",
    "         return fun(x,y)  \n",
    "    return vlaidate_fun\n",
    "\n",
    "def add(x,y):\n",
    "    return f\"{x}+{y}={x+y}\"\n",
    "\n",
    "def mul(x,y):\n",
    "    return f\"{x}*{y}={x*y}\"\n",
    "\n",
    "def div(x,y):\n",
    "    return f\"{x}/{y}={x/y}\"\n",
    "#print(add(10,20))\n",
    "validate_fun_ref=validate(add) \n",
    "print(validate_fun_ref(10,20.20))"
   ]
  },
  {
   "cell_type": "code",
   "execution_count": 25,
   "metadata": {},
   "outputs": [
    {
     "name": "stdout",
     "output_type": "stream",
     "text": [
      "10+20=30\n",
      "100*200=20000\n",
      "1000/2000=0.5\n"
     ]
    }
   ],
   "source": [
    "# validate x,y those are integers or not.\n",
    "# format the result: 10+20=30\n",
    "class OperationError(Exception):\n",
    "    pass\n",
    "def validate(fun):\n",
    "    def vlaidate_fun(x,y):\n",
    "         if not (isinstance(x,int) and isinstance(y,int)):\n",
    "            raise OperationError(\"expecting x,y only integers.\")\n",
    "         return fun(x,y)  \n",
    "    return vlaidate_fun\n",
    "\n",
    "def add(x,y):\n",
    "    return f\"{x}+{y}={x+y}\"\n",
    "\n",
    "def mul(x,y):\n",
    "    return f\"{x}*{y}={x*y}\"\n",
    "\n",
    "def div(x,y):\n",
    "    return f\"{x}/{y}={x/y}\"\n",
    "#print(add(10,20))\n",
    "# validate_fun_ref=validate(add) \n",
    "# print(validate_fun_ref(10,20.20))\n",
    "print(add(10,20))\n",
    "print(mul(100,200))\n",
    "print(div(1000,2000))"
   ]
  },
  {
   "cell_type": "code",
   "execution_count": 26,
   "metadata": {},
   "outputs": [
    {
     "name": "stdout",
     "output_type": "stream",
     "text": [
      "10+20.02=30.02\n",
      "100*200=20000\n",
      "1000/2000=0.5\n"
     ]
    }
   ],
   "source": [
    "# validate x,y those are integers or not.\n",
    "# format the result: 10+20=30\n",
    "class OperationError(Exception):\n",
    "    pass\n",
    "def validate(fun):\n",
    "    def vlaidate_fun(x,y):\n",
    "         if not (isinstance(x,int) and isinstance(y,int)):\n",
    "            raise OperationError(\"expecting x,y only integers.\")\n",
    "         return fun(x,y)  \n",
    "    return vlaidate_fun\n",
    "\n",
    "def add(x,y):\n",
    "    return f\"{x}+{y}={x+y}\"\n",
    "\n",
    "def mul(x,y):\n",
    "    return f\"{x}*{y}={x*y}\"\n",
    "\n",
    "def div(x,y):\n",
    "    return f\"{x}/{y}={x/y}\"\n",
    "#print(add(10,20))\n",
    "# validate_fun_ref=validate(add) \n",
    "# print(validate_fun_ref(10,20.20))\n",
    "print(add(10,20.02))\n",
    "print(mul(100,200))\n",
    "print(div(1000,2000))"
   ]
  },
  {
   "cell_type": "code",
   "execution_count": 28,
   "metadata": {},
   "outputs": [
    {
     "ename": "OperationError",
     "evalue": "expecting x,y only integers.",
     "output_type": "error",
     "traceback": [
      "\u001b[1;31m---------------------------------------------------------------------------\u001b[0m",
      "\u001b[1;31mOperationError\u001b[0m                            Traceback (most recent call last)",
      "\u001b[1;32m<ipython-input-28-412010f2fb16>\u001b[0m in \u001b[0;36m<module>\u001b[1;34m\u001b[0m\n\u001b[0;32m     24\u001b[0m \u001b[1;31m# validate_fun_ref=validate(add)\u001b[0m\u001b[1;33m\u001b[0m\u001b[1;33m\u001b[0m\u001b[1;33m\u001b[0m\u001b[0m\n\u001b[0;32m     25\u001b[0m \u001b[1;31m# print(validate_fun_ref(10,20.20))\u001b[0m\u001b[1;33m\u001b[0m\u001b[1;33m\u001b[0m\u001b[1;33m\u001b[0m\u001b[0m\n\u001b[1;32m---> 26\u001b[1;33m \u001b[0mprint\u001b[0m\u001b[1;33m(\u001b[0m\u001b[0madd\u001b[0m\u001b[1;33m(\u001b[0m\u001b[1;36m10\u001b[0m\u001b[1;33m,\u001b[0m\u001b[1;36m20.02\u001b[0m\u001b[1;33m)\u001b[0m\u001b[1;33m)\u001b[0m\u001b[1;33m\u001b[0m\u001b[1;33m\u001b[0m\u001b[0m\n\u001b[0m\u001b[0;32m     27\u001b[0m \u001b[0mprint\u001b[0m\u001b[1;33m(\u001b[0m\u001b[0mmul\u001b[0m\u001b[1;33m(\u001b[0m\u001b[1;36m100\u001b[0m\u001b[1;33m,\u001b[0m\u001b[1;36m200\u001b[0m\u001b[1;33m)\u001b[0m\u001b[1;33m)\u001b[0m\u001b[1;33m\u001b[0m\u001b[1;33m\u001b[0m\u001b[0m\n\u001b[0;32m     28\u001b[0m \u001b[0mprint\u001b[0m\u001b[1;33m(\u001b[0m\u001b[0mdiv\u001b[0m\u001b[1;33m(\u001b[0m\u001b[1;36m1000\u001b[0m\u001b[1;33m,\u001b[0m\u001b[1;36m2000\u001b[0m\u001b[1;33m)\u001b[0m\u001b[1;33m)\u001b[0m\u001b[1;33m\u001b[0m\u001b[1;33m\u001b[0m\u001b[0m\n",
      "\u001b[1;32m<ipython-input-28-412010f2fb16>\u001b[0m in \u001b[0;36mvlaidate_fun\u001b[1;34m(x, y)\u001b[0m\n\u001b[0;32m      6\u001b[0m     \u001b[1;32mdef\u001b[0m \u001b[0mvlaidate_fun\u001b[0m\u001b[1;33m(\u001b[0m\u001b[0mx\u001b[0m\u001b[1;33m,\u001b[0m\u001b[0my\u001b[0m\u001b[1;33m)\u001b[0m\u001b[1;33m:\u001b[0m\u001b[1;33m\u001b[0m\u001b[1;33m\u001b[0m\u001b[0m\n\u001b[0;32m      7\u001b[0m          \u001b[1;32mif\u001b[0m \u001b[1;32mnot\u001b[0m \u001b[1;33m(\u001b[0m\u001b[0misinstance\u001b[0m\u001b[1;33m(\u001b[0m\u001b[0mx\u001b[0m\u001b[1;33m,\u001b[0m\u001b[0mint\u001b[0m\u001b[1;33m)\u001b[0m \u001b[1;32mand\u001b[0m \u001b[0misinstance\u001b[0m\u001b[1;33m(\u001b[0m\u001b[0my\u001b[0m\u001b[1;33m,\u001b[0m\u001b[0mint\u001b[0m\u001b[1;33m)\u001b[0m\u001b[1;33m)\u001b[0m\u001b[1;33m:\u001b[0m\u001b[1;33m\u001b[0m\u001b[1;33m\u001b[0m\u001b[0m\n\u001b[1;32m----> 8\u001b[1;33m             \u001b[1;32mraise\u001b[0m \u001b[0mOperationError\u001b[0m\u001b[1;33m(\u001b[0m\u001b[1;34m\"expecting x,y only integers.\"\u001b[0m\u001b[1;33m)\u001b[0m\u001b[1;33m\u001b[0m\u001b[1;33m\u001b[0m\u001b[0m\n\u001b[0m\u001b[0;32m      9\u001b[0m          \u001b[1;32mreturn\u001b[0m \u001b[0mfun\u001b[0m\u001b[1;33m(\u001b[0m\u001b[0mx\u001b[0m\u001b[1;33m,\u001b[0m\u001b[0my\u001b[0m\u001b[1;33m)\u001b[0m\u001b[1;33m\u001b[0m\u001b[1;33m\u001b[0m\u001b[0m\n\u001b[0;32m     10\u001b[0m     \u001b[1;32mreturn\u001b[0m \u001b[0mvlaidate_fun\u001b[0m\u001b[1;33m\u001b[0m\u001b[1;33m\u001b[0m\u001b[0m\n",
      "\u001b[1;31mOperationError\u001b[0m: expecting x,y only integers."
     ]
    }
   ],
   "source": [
    "# validate x,y those are integers or not.\n",
    "# format the result: 10+20=30\n",
    "class OperationError(Exception):\n",
    "    pass\n",
    "def validate(fun):\n",
    "    def vlaidate_fun(x,y):\n",
    "         if not (isinstance(x,int) and isinstance(y,int)):\n",
    "            raise OperationError(\"expecting x,y only integers.\")\n",
    "         return fun(x,y)  \n",
    "    return vlaidate_fun\n",
    "\n",
    "@validate\n",
    "def add(x,y):\n",
    "    return f\"{x}+{y}={x+y}\"\n",
    "\n",
    "@validate\n",
    "def mul(x,y):\n",
    "    return f\"{x}*{y}={x*y}\"\n",
    "\n",
    "@validate\n",
    "def div(x,y):\n",
    "    return f\"{x}/{y}={x/y}\"\n",
    "#print(add(10,20))\n",
    "# validate_fun_ref=validate(add) \n",
    "# print(validate_fun_ref(10,20.20))\n",
    "print(add(10,20.02))\n",
    "print(mul(100,200))\n",
    "print(div(1000,2000))"
   ]
  },
  {
   "cell_type": "code",
   "execution_count": 29,
   "metadata": {},
   "outputs": [
    {
     "name": "stdout",
     "output_type": "stream",
     "text": [
      "10+20=30\n",
      "100*200=20000\n",
      "1000/2000=0.5\n"
     ]
    }
   ],
   "source": [
    "# validate x,y those are integers or not.\n",
    "# format the result: 10+20=30\n",
    "class OperationError(Exception):\n",
    "    pass\n",
    "def validate(fun):\n",
    "    def vlaidate_fun(x,y):\n",
    "         if not (isinstance(x,int) and isinstance(y,int)):\n",
    "            raise OperationError(\"expecting x,y only integers.\")\n",
    "         return fun(x,y)  \n",
    "    return vlaidate_fun\n",
    "\n",
    "@validate\n",
    "def add(x,y):\n",
    "    return f\"{x}+{y}={x+y}\"\n",
    "\n",
    "@validate\n",
    "def mul(x,y):\n",
    "    return f\"{x}*{y}={x*y}\"\n",
    "\n",
    "@validate\n",
    "def div(x,y):\n",
    "    return f\"{x}/{y}={x/y}\"\n",
    "#print(add(10,20))\n",
    "# validate_fun_ref=validate(add) \n",
    "# print(validate_fun_ref(10,20.20))\n",
    "print(add(10,20))\n",
    "print(mul(100,200))\n",
    "print(div(1000,2000))"
   ]
  },
  {
   "cell_type": "code",
   "execution_count": null,
   "metadata": {},
   "outputs": [],
   "source": []
  }
 ],
 "metadata": {
  "kernelspec": {
   "display_name": "Python 3",
   "language": "python",
   "name": "python3"
  },
  "language_info": {
   "codemirror_mode": {
    "name": "ipython",
    "version": 3
   },
   "file_extension": ".py",
   "mimetype": "text/x-python",
   "name": "python",
   "nbconvert_exporter": "python",
   "pygments_lexer": "ipython3",
   "version": "3.8.3"
  }
 },
 "nbformat": 4,
 "nbformat_minor": 4
}
