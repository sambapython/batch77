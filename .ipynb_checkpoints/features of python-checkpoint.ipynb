{
 "cells": [
  {
   "cell_type": "code",
   "execution_count": 1,
   "metadata": {},
   "outputs": [],
   "source": [
    "# search for the areas where python could not solve the problems"
   ]
  },
  {
   "cell_type": "code",
   "execution_count": 2,
   "metadata": {},
   "outputs": [],
   "source": [
    "#opensource"
   ]
  },
  {
   "cell_type": "code",
   "execution_count": 3,
   "metadata": {},
   "outputs": [],
   "source": [
    "#linus tarwall: linux kernel code. git"
   ]
  },
  {
   "cell_type": "code",
   "execution_count": null,
   "metadata": {},
   "outputs": [],
   "source": [
    "# android, rasibian---> minimized version of linux/unix"
   ]
  },
  {
   "cell_type": "code",
   "execution_count": 4,
   "metadata": {},
   "outputs": [
    {
     "name": "stdout",
     "output_type": "stream",
     "text": [
      "30\n"
     ]
    }
   ],
   "source": [
    "a=10\n",
    "b=20\n",
    "print(a+b)"
   ]
  },
  {
   "cell_type": "code",
   "execution_count": 5,
   "metadata": {},
   "outputs": [],
   "source": [
    "# scalability\n",
    "# 3 kinds of scales\n",
    "# small scale\n",
    "# middle scale\n",
    "# large scale"
   ]
  },
  {
   "cell_type": "code",
   "execution_count": 6,
   "metadata": {},
   "outputs": [],
   "source": [
    "# 30(slow), 50(ok), 80(fast)\n",
    "# 80(slow), 100(0k), 130(extremely fast)"
   ]
  },
  {
   "cell_type": "code",
   "execution_count": 7,
   "metadata": {},
   "outputs": [],
   "source": [
    "#project1\n",
    "# sales(2clients) large , manager(2months)(large),  devs(2000lc)(large).\n",
    "# project2\n",
    "# sales(4 clients), manager(2months), devs(4000lc)"
   ]
  },
  {
   "cell_type": "code",
   "execution_count": 8,
   "metadata": {},
   "outputs": [],
   "source": [
    "# object oriented"
   ]
  },
  {
   "cell_type": "code",
   "execution_count": null,
   "metadata": {},
   "outputs": [],
   "source": [
    "# multi threading.\n",
    "# 100 bricks outside the home\n",
    "# you are working on it. taking 1 minute time to brnig two bricks inside the home. what time you will take to complete: 50 mins.\n",
    "# 3 people doing same job what time it will take: 50/3\n",
    "# proces-1 thread to calculate profit/loss-- 1000 records: 60mins\n",
    "# proces-4 threads to calculate profit/loss-- 1000 records: 15mins"
   ]
  },
  {
   "cell_type": "code",
   "execution_count": 9,
   "metadata": {},
   "outputs": [],
   "source": [
    "# portable: "
   ]
  },
  {
   "cell_type": "code",
   "execution_count": null,
   "metadata": {},
   "outputs": [],
   "source": [
    "# satheesh: windows: write a code, compile a code: python -m py_compile a.py\n",
    "# the above command will create a a-cpython-38.pyc in __pycache__ folder\n",
    "# vineeth: windows\n",
    "# sai: window\n",
    "# hari: windows\n",
    "# thriswanth: \n",
    "# nithin: windows\n",
    "# run the above compiled file with : python a-cpython-38.pyc"
   ]
  }
 ],
 "metadata": {
  "kernelspec": {
   "display_name": "Python 3",
   "language": "python",
   "name": "python3"
  },
  "language_info": {
   "codemirror_mode": {
    "name": "ipython",
    "version": 3
   },
   "file_extension": ".py",
   "mimetype": "text/x-python",
   "name": "python",
   "nbconvert_exporter": "python",
   "pygments_lexer": "ipython3",
   "version": "3.8.3"
  }
 },
 "nbformat": 4,
 "nbformat_minor": 4
}
