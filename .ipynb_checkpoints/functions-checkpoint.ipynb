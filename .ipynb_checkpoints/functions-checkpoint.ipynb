{
 "cells": [
  {
   "cell_type": "code",
   "execution_count": 1,
   "metadata": {},
   "outputs": [
    {
     "name": "stdout",
     "output_type": "stream",
     "text": [
      "Even\n",
      "ODD\n",
      "ODD\n",
      "ODD\n",
      "ODD\n"
     ]
    }
   ],
   "source": [
    "l=[10,13,9,3,5]\n",
    "print(\"Even\" if l[0]%2==0 else \"ODD\")\n",
    "print(\"Even\" if l[1]%2==0 else \"ODD\")\n",
    "print(\"Even\" if l[2]%2==0 else \"ODD\")\n",
    "print(\"Even\" if l[3]%2==0 else \"ODD\")\n",
    "print(\"Even\" if l[4]%2==0 else \"ODD\")"
   ]
  },
  {
   "cell_type": "code",
   "execution_count": 2,
   "metadata": {},
   "outputs": [
    {
     "name": "stdout",
     "output_type": "stream",
     "text": [
      "Even\n",
      "ODD\n",
      "ODD\n",
      "ODD\n",
      "ODD\n",
      "Even\n"
     ]
    }
   ],
   "source": [
    "l=[10,13,9,3,5,6]\n",
    "print(\"Even\" if l[0]%2==0 else \"ODD\")\n",
    "print(\"Even\" if l[1]%2==0 else \"ODD\")\n",
    "print(\"Even\" if l[2]%2==0 else \"ODD\")\n",
    "print(\"Even\" if l[3]%2==0 else \"ODD\")\n",
    "print(\"Even\" if l[4]%2==0 else \"ODD\")\n",
    "print(\"Even\" if l[5]%2==0 else \"ODD\")\n"
   ]
  },
  {
   "cell_type": "code",
   "execution_count": 4,
   "metadata": {},
   "outputs": [
    {
     "name": "stdout",
     "output_type": "stream",
     "text": [
      "Even\n",
      "ODD\n",
      "ODD\n",
      "ODD\n",
      "ODD\n",
      "Even\n"
     ]
    }
   ],
   "source": [
    "l=[10,13,9,3,5,6]\n",
    "for number in l: # which iteration it is, take the value, assign to number.\n",
    "    print(\"Even\" if number%2==0 else \"ODD\")"
   ]
  },
  {
   "cell_type": "code",
   "execution_count": 5,
   "metadata": {},
   "outputs": [
    {
     "name": "stdout",
     "output_type": "stream",
     "text": [
      "Even\n",
      "ODD\n",
      "ODD\n",
      "ODD\n",
      "ODD\n",
      "Even\n",
      "ODD\n"
     ]
    }
   ],
   "source": [
    "l=[10,13,9,3,5,6,7]\n",
    "for number in l:\n",
    "    print(\"Even\" if number%2==0 else \"ODD\")"
   ]
  },
  {
   "cell_type": "code",
   "execution_count": 6,
   "metadata": {},
   "outputs": [],
   "source": [
    "#functions also help us to reduce the number of lines of code."
   ]
  },
  {
   "cell_type": "code",
   "execution_count": 7,
   "metadata": {},
   "outputs": [
    {
     "name": "stdout",
     "output_type": "stream",
     "text": [
      "Even\n",
      "ODD\n",
      "ODD\n",
      "op1\n",
      "op2\n",
      "op3\n",
      "ODD\n",
      "Even\n",
      "ODD\n",
      "op4\n",
      "op5\n",
      "Even\n",
      "ODD\n",
      "Even\n",
      "op6\n",
      "op7\n",
      "ODD\n",
      "Even\n",
      "ODD\n"
     ]
    }
   ],
   "source": [
    "l=[10,13,9]\n",
    "for i in l:\n",
    "    print(\"Even\" if i%2==0 else \"ODD\")\n",
    "print(\"op1\")\n",
    "print(\"op2\")\n",
    "print(\"op3\")\n",
    "l=[1,2,3]\n",
    "for i in l:\n",
    "    print(\"Even\" if i%2==0 else \"ODD\")\n",
    "print(\"op4\")\n",
    "print(\"op5\")\n",
    "l=[4,5,6]\n",
    "for i in l:\n",
    "    print(\"Even\" if i%2==0 else \"ODD\")\n",
    "print(\"op6\")\n",
    "print(\"op7\")\n",
    "l=[7,8,9]\n",
    "for i in l:\n",
    "    print(\"Even\" if i%2==0 else \"ODD\")"
   ]
  },
  {
   "cell_type": "code",
   "execution_count": 8,
   "metadata": {},
   "outputs": [
    {
     "name": "stdout",
     "output_type": "stream",
     "text": [
      "Even\n",
      "ODD\n",
      "ODD\n",
      "op1\n",
      "op2\n",
      "op3\n",
      "ODD\n",
      "Even\n",
      "ODD\n",
      "op4\n",
      "op5\n",
      "Even\n",
      "ODD\n",
      "Even\n",
      "op6\n",
      "op7\n",
      "ODD\n",
      "Even\n",
      "ODD\n"
     ]
    }
   ],
   "source": [
    "def check_even(l):\n",
    "    for i in l:\n",
    "        print(\"Even\" if i%2==0 else \"ODD\")\n",
    "    \n",
    "l=[10,13,9]\n",
    "check_even(l)\n",
    "print(\"op1\")\n",
    "print(\"op2\")\n",
    "print(\"op3\")\n",
    "l=[1,2,3]\n",
    "check_even(l)\n",
    "print(\"op4\")\n",
    "print(\"op5\")\n",
    "l=[4,5,6]\n",
    "check_even(l)\n",
    "print(\"op6\")\n",
    "print(\"op7\")\n",
    "l=[7,8,9]\n",
    "check_even(l)"
   ]
  },
  {
   "cell_type": "code",
   "execution_count": 9,
   "metadata": {},
   "outputs": [
    {
     "name": "stdout",
     "output_type": "stream",
     "text": [
      "start\n",
      "end\n"
     ]
    }
   ],
   "source": [
    "print(\"start\")\n",
    "def fun():\n",
    "    print(\"hi\")\n",
    "    print(\"hello\")\n",
    "print(\"end\")"
   ]
  },
  {
   "cell_type": "code",
   "execution_count": 10,
   "metadata": {},
   "outputs": [
    {
     "name": "stdout",
     "output_type": "stream",
     "text": [
      "start\n",
      "end\n",
      "hi\n",
      "hello\n"
     ]
    }
   ],
   "source": [
    "print(\"start\")\n",
    "# function definition\n",
    "def fun(): # function signature\n",
    "    # function body\n",
    "    print(\"hi\")\n",
    "    print(\"hello\")\n",
    "print(\"end\")\n",
    "fun() # function call."
   ]
  },
  {
   "cell_type": "code",
   "execution_count": 11,
   "metadata": {},
   "outputs": [
    {
     "name": "stdout",
     "output_type": "stream",
     "text": [
      "start\n",
      "end\n",
      "hi\n",
      "hello\n",
      "hi\n",
      "hello\n"
     ]
    }
   ],
   "source": [
    "print(\"start\")\n",
    "# function definition\n",
    "def fun(): # function signature\n",
    "    # function body\n",
    "    print(\"hi\")\n",
    "    print(\"hello\")\n",
    "print(\"end\")\n",
    "fun() # function call.\n",
    "fun()"
   ]
  },
  {
   "cell_type": "code",
   "execution_count": null,
   "metadata": {},
   "outputs": [],
   "source": []
  }
 ],
 "metadata": {
  "kernelspec": {
   "display_name": "Python 3",
   "language": "python",
   "name": "python3"
  },
  "language_info": {
   "codemirror_mode": {
    "name": "ipython",
    "version": 3
   },
   "file_extension": ".py",
   "mimetype": "text/x-python",
   "name": "python",
   "nbconvert_exporter": "python",
   "pygments_lexer": "ipython3",
   "version": "3.8.3"
  }
 },
 "nbformat": 4,
 "nbformat_minor": 4
}
