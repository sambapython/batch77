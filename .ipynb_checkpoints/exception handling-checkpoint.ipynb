{
 "cells": [
  {
   "cell_type": "code",
   "execution_count": 1,
   "metadata": {},
   "outputs": [
    {
     "ename": "SyntaxError",
     "evalue": "EOL while scanning string literal (<ipython-input-1-41682c26dce6>, line 4)",
     "output_type": "error",
     "traceback": [
      "\u001b[1;36m  File \u001b[1;32m\"<ipython-input-1-41682c26dce6>\"\u001b[1;36m, line \u001b[1;32m4\u001b[0m\n\u001b[1;33m    print(\"hi)\u001b[0m\n\u001b[1;37m              ^\u001b[0m\n\u001b[1;31mSyntaxError\u001b[0m\u001b[1;31m:\u001b[0m EOL while scanning string literal\n"
     ]
    }
   ],
   "source": [
    "a=100\n",
    "b=200\n",
    "print(\"hello\")\n",
    "print(\"hi)\n",
    "print(a,b)\n",
    "# this failed in compile phase it self. this is not an excetion."
   ]
  },
  {
   "cell_type": "code",
   "execution_count": 2,
   "metadata": {},
   "outputs": [],
   "source": [
    "# ERROR at run time.\n",
    "# compile phase and execution phase. This exection phase we call it as runtime.\n"
   ]
  },
  {
   "cell_type": "code",
   "execution_count": 3,
   "metadata": {},
   "outputs": [
    {
     "name": "stdout",
     "output_type": "stream",
     "text": [
      "hello\n"
     ]
    },
    {
     "ename": "ZeroDivisionError",
     "evalue": "division by zero",
     "output_type": "error",
     "traceback": [
      "\u001b[1;31m---------------------------------------------------------------------------\u001b[0m",
      "\u001b[1;31mZeroDivisionError\u001b[0m                         Traceback (most recent call last)",
      "\u001b[1;32m<ipython-input-3-846e172607d8>\u001b[0m in \u001b[0;36m<module>\u001b[1;34m\u001b[0m\n\u001b[0;32m      3\u001b[0m \u001b[0mb\u001b[0m\u001b[1;33m=\u001b[0m\u001b[1;36m2000\u001b[0m\u001b[1;33m\u001b[0m\u001b[1;33m\u001b[0m\u001b[0m\n\u001b[0;32m      4\u001b[0m \u001b[0mc\u001b[0m\u001b[1;33m=\u001b[0m\u001b[0ma\u001b[0m\u001b[1;33m+\u001b[0m\u001b[0mb\u001b[0m\u001b[1;33m\u001b[0m\u001b[1;33m\u001b[0m\u001b[0m\n\u001b[1;32m----> 5\u001b[1;33m \u001b[0mprint\u001b[0m\u001b[1;33m(\u001b[0m\u001b[0ma\u001b[0m\u001b[1;33m/\u001b[0m\u001b[1;36m0\u001b[0m\u001b[1;33m)\u001b[0m\u001b[1;33m\u001b[0m\u001b[1;33m\u001b[0m\u001b[0m\n\u001b[0m\u001b[0;32m      6\u001b[0m \u001b[0mprint\u001b[0m\u001b[1;33m(\u001b[0m\u001b[1;34m\"main1\"\u001b[0m\u001b[1;33m)\u001b[0m\u001b[1;33m\u001b[0m\u001b[1;33m\u001b[0m\u001b[0m\n\u001b[0;32m      7\u001b[0m \u001b[0mprint\u001b[0m\u001b[1;33m(\u001b[0m\u001b[1;34m\"end\"\u001b[0m\u001b[1;33m)\u001b[0m\u001b[1;33m\u001b[0m\u001b[1;33m\u001b[0m\u001b[0m\n",
      "\u001b[1;31mZeroDivisionError\u001b[0m: division by zero"
     ]
    }
   ],
   "source": [
    "print(\"hello\")\n",
    "a=1000\n",
    "b=2000\n",
    "c=a+b\n",
    "print(a/0)\n",
    "print(\"main1\")\n",
    "print(\"end\")\n",
    "# here no issue in the compilation. It's compiled. but faced an issue at runtime. it's executed will up to c=a+b\n",
    "# there is an issue in printing a/0"
   ]
  },
  {
   "cell_type": "code",
   "execution_count": 4,
   "metadata": {},
   "outputs": [
    {
     "name": "stdout",
     "output_type": "stream",
     "text": [
      "enter number1:10\n",
      "enter number2:20\n",
      "before conversion number1=10,number2=20\n",
      "after conversion number1=10,number2=20\n",
      "result1= 30\n",
      "result2= 0.5\n",
      "end\n"
     ]
    }
   ],
   "source": [
    "number1 = input(\"enter number1:\")\n",
    "number2 = input(\"enter number2:\")\n",
    "print(f\"before conversion number1={number1},number2={number2}\")\n",
    "number1=int(number1)\n",
    "number2=int(number2)\n",
    "print(f\"after conversion number1={number1},number2={number2}\")\n",
    "r1=number1+number2\n",
    "print(\"result1=\",r1)\n",
    "r2=number1/number2\n",
    "print(\"result2=\",r2)\n",
    "print(\"end\")"
   ]
  },
  {
   "cell_type": "code",
   "execution_count": 5,
   "metadata": {},
   "outputs": [
    {
     "name": "stdout",
     "output_type": "stream",
     "text": [
      "enter number1:12.34\n",
      "enter number2:45.67\n",
      "before conversion number1=12.34,number2=45.67\n"
     ]
    },
    {
     "ename": "ValueError",
     "evalue": "invalid literal for int() with base 10: '12.34'",
     "output_type": "error",
     "traceback": [
      "\u001b[1;31m---------------------------------------------------------------------------\u001b[0m",
      "\u001b[1;31mValueError\u001b[0m                                Traceback (most recent call last)",
      "\u001b[1;32m<ipython-input-5-adf64ab77fa6>\u001b[0m in \u001b[0;36m<module>\u001b[1;34m\u001b[0m\n\u001b[0;32m      2\u001b[0m \u001b[0mnumber2\u001b[0m \u001b[1;33m=\u001b[0m \u001b[0minput\u001b[0m\u001b[1;33m(\u001b[0m\u001b[1;34m\"enter number2:\"\u001b[0m\u001b[1;33m)\u001b[0m\u001b[1;33m\u001b[0m\u001b[1;33m\u001b[0m\u001b[0m\n\u001b[0;32m      3\u001b[0m \u001b[0mprint\u001b[0m\u001b[1;33m(\u001b[0m\u001b[1;34mf\"before conversion number1={number1},number2={number2}\"\u001b[0m\u001b[1;33m)\u001b[0m\u001b[1;33m\u001b[0m\u001b[1;33m\u001b[0m\u001b[0m\n\u001b[1;32m----> 4\u001b[1;33m \u001b[0mnumber1\u001b[0m\u001b[1;33m=\u001b[0m\u001b[0mint\u001b[0m\u001b[1;33m(\u001b[0m\u001b[0mnumber1\u001b[0m\u001b[1;33m)\u001b[0m\u001b[1;33m\u001b[0m\u001b[1;33m\u001b[0m\u001b[0m\n\u001b[0m\u001b[0;32m      5\u001b[0m \u001b[0mnumber2\u001b[0m\u001b[1;33m=\u001b[0m\u001b[0mint\u001b[0m\u001b[1;33m(\u001b[0m\u001b[0mnumber2\u001b[0m\u001b[1;33m)\u001b[0m\u001b[1;33m\u001b[0m\u001b[1;33m\u001b[0m\u001b[0m\n\u001b[0;32m      6\u001b[0m \u001b[0mprint\u001b[0m\u001b[1;33m(\u001b[0m\u001b[1;34mf\"after conversion number1={number1},number2={number2}\"\u001b[0m\u001b[1;33m)\u001b[0m\u001b[1;33m\u001b[0m\u001b[1;33m\u001b[0m\u001b[0m\n",
      "\u001b[1;31mValueError\u001b[0m: invalid literal for int() with base 10: '12.34'"
     ]
    }
   ],
   "source": [
    "number1 = input(\"enter number1:\")\n",
    "number2 = input(\"enter number2:\")\n",
    "print(f\"before conversion number1={number1},number2={number2}\")\n",
    "number1=int(number1)\n",
    "number2=int(number2)\n",
    "print(f\"after conversion number1={number1},number2={number2}\")\n",
    "r1=number1+number2\n",
    "print(\"result1=\",r1)\n",
    "r2=number1/number2\n",
    "print(\"result2=\",r2)\n",
    "print(\"end\")"
   ]
  },
  {
   "cell_type": "code",
   "execution_count": null,
   "metadata": {},
   "outputs": [],
   "source": [
    "# if you got an exception, try to solve it. If you are unable to solve then handle it."
   ]
  },
  {
   "cell_type": "code",
   "execution_count": 6,
   "metadata": {},
   "outputs": [
    {
     "name": "stdout",
     "output_type": "stream",
     "text": [
      "enter number1:sdfsd\n",
      "enter number2:23\n",
      "before conversion number1=sdfsd,number2=23\n"
     ]
    },
    {
     "ename": "ValueError",
     "evalue": "invalid literal for int() with base 10: 'sdfsd'",
     "output_type": "error",
     "traceback": [
      "\u001b[1;31m---------------------------------------------------------------------------\u001b[0m",
      "\u001b[1;31mValueError\u001b[0m                                Traceback (most recent call last)",
      "\u001b[1;32m<ipython-input-6-adf64ab77fa6>\u001b[0m in \u001b[0;36m<module>\u001b[1;34m\u001b[0m\n\u001b[0;32m      2\u001b[0m \u001b[0mnumber2\u001b[0m \u001b[1;33m=\u001b[0m \u001b[0minput\u001b[0m\u001b[1;33m(\u001b[0m\u001b[1;34m\"enter number2:\"\u001b[0m\u001b[1;33m)\u001b[0m\u001b[1;33m\u001b[0m\u001b[1;33m\u001b[0m\u001b[0m\n\u001b[0;32m      3\u001b[0m \u001b[0mprint\u001b[0m\u001b[1;33m(\u001b[0m\u001b[1;34mf\"before conversion number1={number1},number2={number2}\"\u001b[0m\u001b[1;33m)\u001b[0m\u001b[1;33m\u001b[0m\u001b[1;33m\u001b[0m\u001b[0m\n\u001b[1;32m----> 4\u001b[1;33m \u001b[0mnumber1\u001b[0m\u001b[1;33m=\u001b[0m\u001b[0mint\u001b[0m\u001b[1;33m(\u001b[0m\u001b[0mnumber1\u001b[0m\u001b[1;33m)\u001b[0m\u001b[1;33m\u001b[0m\u001b[1;33m\u001b[0m\u001b[0m\n\u001b[0m\u001b[0;32m      5\u001b[0m \u001b[0mnumber2\u001b[0m\u001b[1;33m=\u001b[0m\u001b[0mint\u001b[0m\u001b[1;33m(\u001b[0m\u001b[0mnumber2\u001b[0m\u001b[1;33m)\u001b[0m\u001b[1;33m\u001b[0m\u001b[1;33m\u001b[0m\u001b[0m\n\u001b[0;32m      6\u001b[0m \u001b[0mprint\u001b[0m\u001b[1;33m(\u001b[0m\u001b[1;34mf\"after conversion number1={number1},number2={number2}\"\u001b[0m\u001b[1;33m)\u001b[0m\u001b[1;33m\u001b[0m\u001b[1;33m\u001b[0m\u001b[0m\n",
      "\u001b[1;31mValueError\u001b[0m: invalid literal for int() with base 10: 'sdfsd'"
     ]
    }
   ],
   "source": [
    "number1 = input(\"enter number1:\")\n",
    "number2 = input(\"enter number2:\")\n",
    "print(f\"before conversion number1={number1},number2={number2}\")\n",
    "number1=int(number1)\n",
    "number2=int(number2)\n",
    "print(f\"after conversion number1={number1},number2={number2}\")\n",
    "r1=number1+number2\n",
    "print(\"result1=\",r1)\n",
    "r2=number1/number2\n",
    "print(\"result2=\",r2)\n",
    "print(\"end\")"
   ]
  },
  {
   "cell_type": "code",
   "execution_count": 7,
   "metadata": {},
   "outputs": [
    {
     "name": "stdout",
     "output_type": "stream",
     "text": [
      "enter number1:12\n",
      "enter number2:0\n",
      "before conversion number1=12,number2=0\n",
      "after conversion number1=12,number2=0\n",
      "result1= 12\n"
     ]
    },
    {
     "ename": "ZeroDivisionError",
     "evalue": "division by zero",
     "output_type": "error",
     "traceback": [
      "\u001b[1;31m---------------------------------------------------------------------------\u001b[0m",
      "\u001b[1;31mZeroDivisionError\u001b[0m                         Traceback (most recent call last)",
      "\u001b[1;32m<ipython-input-7-adf64ab77fa6>\u001b[0m in \u001b[0;36m<module>\u001b[1;34m\u001b[0m\n\u001b[0;32m      7\u001b[0m \u001b[0mr1\u001b[0m\u001b[1;33m=\u001b[0m\u001b[0mnumber1\u001b[0m\u001b[1;33m+\u001b[0m\u001b[0mnumber2\u001b[0m\u001b[1;33m\u001b[0m\u001b[1;33m\u001b[0m\u001b[0m\n\u001b[0;32m      8\u001b[0m \u001b[0mprint\u001b[0m\u001b[1;33m(\u001b[0m\u001b[1;34m\"result1=\"\u001b[0m\u001b[1;33m,\u001b[0m\u001b[0mr1\u001b[0m\u001b[1;33m)\u001b[0m\u001b[1;33m\u001b[0m\u001b[1;33m\u001b[0m\u001b[0m\n\u001b[1;32m----> 9\u001b[1;33m \u001b[0mr2\u001b[0m\u001b[1;33m=\u001b[0m\u001b[0mnumber1\u001b[0m\u001b[1;33m/\u001b[0m\u001b[0mnumber2\u001b[0m\u001b[1;33m\u001b[0m\u001b[1;33m\u001b[0m\u001b[0m\n\u001b[0m\u001b[0;32m     10\u001b[0m \u001b[0mprint\u001b[0m\u001b[1;33m(\u001b[0m\u001b[1;34m\"result2=\"\u001b[0m\u001b[1;33m,\u001b[0m\u001b[0mr2\u001b[0m\u001b[1;33m)\u001b[0m\u001b[1;33m\u001b[0m\u001b[1;33m\u001b[0m\u001b[0m\n\u001b[0;32m     11\u001b[0m \u001b[0mprint\u001b[0m\u001b[1;33m(\u001b[0m\u001b[1;34m\"end\"\u001b[0m\u001b[1;33m)\u001b[0m\u001b[1;33m\u001b[0m\u001b[1;33m\u001b[0m\u001b[0m\n",
      "\u001b[1;31mZeroDivisionError\u001b[0m: division by zero"
     ]
    }
   ],
   "source": [
    "number1 = input(\"enter number1:\")\n",
    "number2 = input(\"enter number2:\")\n",
    "print(f\"before conversion number1={number1},number2={number2}\")\n",
    "number1=int(number1)\n",
    "number2=int(number2)\n",
    "print(f\"after conversion number1={number1},number2={number2}\")\n",
    "r1=number1+number2\n",
    "print(\"result1=\",r1)\n",
    "r2=number1/number2\n",
    "print(\"result2=\",r2)\n",
    "print(\"end\")"
   ]
  },
  {
   "cell_type": "code",
   "execution_count": 8,
   "metadata": {},
   "outputs": [
    {
     "name": "stdout",
     "output_type": "stream",
     "text": [
      "enter number1:\n",
      "enter number2:\n",
      "before conversion number1=,number2=\n"
     ]
    },
    {
     "ename": "ValueError",
     "evalue": "invalid literal for int() with base 10: ''",
     "output_type": "error",
     "traceback": [
      "\u001b[1;31m---------------------------------------------------------------------------\u001b[0m",
      "\u001b[1;31mValueError\u001b[0m                                Traceback (most recent call last)",
      "\u001b[1;32m<ipython-input-8-adf64ab77fa6>\u001b[0m in \u001b[0;36m<module>\u001b[1;34m\u001b[0m\n\u001b[0;32m      2\u001b[0m \u001b[0mnumber2\u001b[0m \u001b[1;33m=\u001b[0m \u001b[0minput\u001b[0m\u001b[1;33m(\u001b[0m\u001b[1;34m\"enter number2:\"\u001b[0m\u001b[1;33m)\u001b[0m\u001b[1;33m\u001b[0m\u001b[1;33m\u001b[0m\u001b[0m\n\u001b[0;32m      3\u001b[0m \u001b[0mprint\u001b[0m\u001b[1;33m(\u001b[0m\u001b[1;34mf\"before conversion number1={number1},number2={number2}\"\u001b[0m\u001b[1;33m)\u001b[0m\u001b[1;33m\u001b[0m\u001b[1;33m\u001b[0m\u001b[0m\n\u001b[1;32m----> 4\u001b[1;33m \u001b[0mnumber1\u001b[0m\u001b[1;33m=\u001b[0m\u001b[0mint\u001b[0m\u001b[1;33m(\u001b[0m\u001b[0mnumber1\u001b[0m\u001b[1;33m)\u001b[0m\u001b[1;33m\u001b[0m\u001b[1;33m\u001b[0m\u001b[0m\n\u001b[0m\u001b[0;32m      5\u001b[0m \u001b[0mnumber2\u001b[0m\u001b[1;33m=\u001b[0m\u001b[0mint\u001b[0m\u001b[1;33m(\u001b[0m\u001b[0mnumber2\u001b[0m\u001b[1;33m)\u001b[0m\u001b[1;33m\u001b[0m\u001b[1;33m\u001b[0m\u001b[0m\n\u001b[0;32m      6\u001b[0m \u001b[0mprint\u001b[0m\u001b[1;33m(\u001b[0m\u001b[1;34mf\"after conversion number1={number1},number2={number2}\"\u001b[0m\u001b[1;33m)\u001b[0m\u001b[1;33m\u001b[0m\u001b[1;33m\u001b[0m\u001b[0m\n",
      "\u001b[1;31mValueError\u001b[0m: invalid literal for int() with base 10: ''"
     ]
    }
   ],
   "source": [
    "number1 = input(\"enter number1:\")\n",
    "number2 = input(\"enter number2:\")\n",
    "print(f\"before conversion number1={number1},number2={number2}\")\n",
    "number1=int(number1)\n",
    "number2=int(number2)\n",
    "print(f\"after conversion number1={number1},number2={number2}\")\n",
    "r1=number1+number2\n",
    "print(\"result1=\",r1)\n",
    "r2=number1/number2\n",
    "print(\"result2=\",r2)\n",
    "print(\"end\")"
   ]
  },
  {
   "cell_type": "code",
   "execution_count": 9,
   "metadata": {},
   "outputs": [
    {
     "name": "stdout",
     "output_type": "stream",
     "text": [
      "enter number1:12.34\n",
      "enter number2:45.67\n",
      "before conversion number1=12.34,number2=45.67\n",
      "after conversion number1=12.34,number2=45.67\n",
      "result1= 58.010000000000005\n",
      "result2= 0.2701992555287935\n",
      "end\n"
     ]
    }
   ],
   "source": [
    "number1 = input(\"enter number1:\")\n",
    "number2 = input(\"enter number2:\")\n",
    "print(f\"before conversion number1={number1},number2={number2}\")\n",
    "number1=float(number1)\n",
    "number2=float(number2)\n",
    "print(f\"after conversion number1={number1},number2={number2}\")\n",
    "r1=number1+number2\n",
    "print(\"result1=\",r1)\n",
    "r2=number1/number2\n",
    "print(\"result2=\",r2)\n",
    "print(\"end\")"
   ]
  },
  {
   "cell_type": "code",
   "execution_count": 10,
   "metadata": {},
   "outputs": [
    {
     "name": "stdout",
     "output_type": "stream",
     "text": [
      "enter number1:12\n",
      "enter number2:34\n",
      "before conversion number1=12,number2=34\n",
      "after conversion number1=12.0,number2=34.0\n",
      "result1= 46.0\n",
      "result2= 0.35294117647058826\n",
      "end\n"
     ]
    }
   ],
   "source": [
    "number1 = input(\"enter number1:\")\n",
    "number2 = input(\"enter number2:\")\n",
    "print(f\"before conversion number1={number1},number2={number2}\")\n",
    "number1=float(number1)\n",
    "number2=float(number2)\n",
    "print(f\"after conversion number1={number1},number2={number2}\")\n",
    "r1=number1+number2\n",
    "print(\"result1=\",r1)\n",
    "r2=number1/number2\n",
    "print(\"result2=\",r2)\n",
    "print(\"end\")"
   ]
  },
  {
   "cell_type": "code",
   "execution_count": 11,
   "metadata": {},
   "outputs": [
    {
     "name": "stdout",
     "output_type": "stream",
     "text": [
      "enter number1:34\n",
      "enter number2:0\n",
      "before conversion number1=34,number2=0\n",
      "after conversion number1=34.0,number2=0.0\n",
      "result1= 34.0\n"
     ]
    },
    {
     "ename": "ZeroDivisionError",
     "evalue": "float division by zero",
     "output_type": "error",
     "traceback": [
      "\u001b[1;31m---------------------------------------------------------------------------\u001b[0m",
      "\u001b[1;31mZeroDivisionError\u001b[0m                         Traceback (most recent call last)",
      "\u001b[1;32m<ipython-input-11-01579a3f5275>\u001b[0m in \u001b[0;36m<module>\u001b[1;34m\u001b[0m\n\u001b[0;32m      7\u001b[0m \u001b[0mr1\u001b[0m\u001b[1;33m=\u001b[0m\u001b[0mnumber1\u001b[0m\u001b[1;33m+\u001b[0m\u001b[0mnumber2\u001b[0m\u001b[1;33m\u001b[0m\u001b[1;33m\u001b[0m\u001b[0m\n\u001b[0;32m      8\u001b[0m \u001b[0mprint\u001b[0m\u001b[1;33m(\u001b[0m\u001b[1;34m\"result1=\"\u001b[0m\u001b[1;33m,\u001b[0m\u001b[0mr1\u001b[0m\u001b[1;33m)\u001b[0m\u001b[1;33m\u001b[0m\u001b[1;33m\u001b[0m\u001b[0m\n\u001b[1;32m----> 9\u001b[1;33m \u001b[0mr2\u001b[0m\u001b[1;33m=\u001b[0m\u001b[0mnumber1\u001b[0m\u001b[1;33m/\u001b[0m\u001b[0mnumber2\u001b[0m\u001b[1;33m\u001b[0m\u001b[1;33m\u001b[0m\u001b[0m\n\u001b[0m\u001b[0;32m     10\u001b[0m \u001b[0mprint\u001b[0m\u001b[1;33m(\u001b[0m\u001b[1;34m\"result2=\"\u001b[0m\u001b[1;33m,\u001b[0m\u001b[0mr2\u001b[0m\u001b[1;33m)\u001b[0m\u001b[1;33m\u001b[0m\u001b[1;33m\u001b[0m\u001b[0m\n\u001b[0;32m     11\u001b[0m \u001b[0mprint\u001b[0m\u001b[1;33m(\u001b[0m\u001b[1;34m\"end\"\u001b[0m\u001b[1;33m)\u001b[0m\u001b[1;33m\u001b[0m\u001b[1;33m\u001b[0m\u001b[0m\n",
      "\u001b[1;31mZeroDivisionError\u001b[0m: float division by zero"
     ]
    }
   ],
   "source": [
    "number1 = input(\"enter number1:\")\n",
    "number2 = input(\"enter number2:\")\n",
    "print(f\"before conversion number1={number1},number2={number2}\")\n",
    "number1=float(number1)\n",
    "number2=float(number2)\n",
    "print(f\"after conversion number1={number1},number2={number2}\")\n",
    "r1=number1+number2\n",
    "print(\"result1=\",r1)\n",
    "r2=number1/number2\n",
    "print(\"result2=\",r2)\n",
    "print(\"end\")"
   ]
  },
  {
   "cell_type": "code",
   "execution_count": 12,
   "metadata": {
    "scrolled": true
   },
   "outputs": [
    {
     "name": "stdout",
     "output_type": "stream",
     "text": [
      "enter number1:dsfs\n",
      "enter number2:er\n",
      "before conversion number1=dsfs,number2=er\n"
     ]
    },
    {
     "ename": "ValueError",
     "evalue": "could not convert string to float: 'dsfs'",
     "output_type": "error",
     "traceback": [
      "\u001b[1;31m---------------------------------------------------------------------------\u001b[0m",
      "\u001b[1;31mValueError\u001b[0m                                Traceback (most recent call last)",
      "\u001b[1;32m<ipython-input-12-01579a3f5275>\u001b[0m in \u001b[0;36m<module>\u001b[1;34m\u001b[0m\n\u001b[0;32m      2\u001b[0m \u001b[0mnumber2\u001b[0m \u001b[1;33m=\u001b[0m \u001b[0minput\u001b[0m\u001b[1;33m(\u001b[0m\u001b[1;34m\"enter number2:\"\u001b[0m\u001b[1;33m)\u001b[0m\u001b[1;33m\u001b[0m\u001b[1;33m\u001b[0m\u001b[0m\n\u001b[0;32m      3\u001b[0m \u001b[0mprint\u001b[0m\u001b[1;33m(\u001b[0m\u001b[1;34mf\"before conversion number1={number1},number2={number2}\"\u001b[0m\u001b[1;33m)\u001b[0m\u001b[1;33m\u001b[0m\u001b[1;33m\u001b[0m\u001b[0m\n\u001b[1;32m----> 4\u001b[1;33m \u001b[0mnumber1\u001b[0m\u001b[1;33m=\u001b[0m\u001b[0mfloat\u001b[0m\u001b[1;33m(\u001b[0m\u001b[0mnumber1\u001b[0m\u001b[1;33m)\u001b[0m\u001b[1;33m\u001b[0m\u001b[1;33m\u001b[0m\u001b[0m\n\u001b[0m\u001b[0;32m      5\u001b[0m \u001b[0mnumber2\u001b[0m\u001b[1;33m=\u001b[0m\u001b[0mfloat\u001b[0m\u001b[1;33m(\u001b[0m\u001b[0mnumber2\u001b[0m\u001b[1;33m)\u001b[0m\u001b[1;33m\u001b[0m\u001b[1;33m\u001b[0m\u001b[0m\n\u001b[0;32m      6\u001b[0m \u001b[0mprint\u001b[0m\u001b[1;33m(\u001b[0m\u001b[1;34mf\"after conversion number1={number1},number2={number2}\"\u001b[0m\u001b[1;33m)\u001b[0m\u001b[1;33m\u001b[0m\u001b[1;33m\u001b[0m\u001b[0m\n",
      "\u001b[1;31mValueError\u001b[0m: could not convert string to float: 'dsfs'"
     ]
    }
   ],
   "source": [
    "number1 = input(\"enter number1:\")\n",
    "number2 = input(\"enter number2:\")\n",
    "print(f\"before conversion number1={number1},number2={number2}\")\n",
    "number1=float(number1)\n",
    "number2=float(number2)\n",
    "print(f\"after conversion number1={number1},number2={number2}\")\n",
    "r1=number1+number2\n",
    "print(\"result1=\",r1)\n",
    "r2=number1/number2\n",
    "print(\"result2=\",r2)\n",
    "print(\"end\")"
   ]
  },
  {
   "cell_type": "code",
   "execution_count": 13,
   "metadata": {},
   "outputs": [
    {
     "name": "stdout",
     "output_type": "stream",
     "text": [
      "enter number1:12\n",
      "enter number2:34\n",
      "before conversion number1=12,number2=34\n",
      "after conversion number1=12.0,number2=34.0\n",
      "result1= 46.0\n",
      "result2= 0.35294117647058826\n",
      "end\n"
     ]
    }
   ],
   "source": [
    "try:\n",
    "    number1 = input(\"enter number1:\")\n",
    "    number2 = input(\"enter number2:\")\n",
    "    print(f\"before conversion number1={number1},number2={number2}\")\n",
    "    number1=float(number1)\n",
    "    number2=float(number2)\n",
    "    print(f\"after conversion number1={number1},number2={number2}\")\n",
    "    r1=number1+number2\n",
    "    print(\"result1=\",r1)\n",
    "    r2=number1/number2\n",
    "    print(\"result2=\",r2)\n",
    "    print(\"end\")\n",
    "except:\n",
    "    print(\"some issue\")"
   ]
  },
  {
   "cell_type": "code",
   "execution_count": 14,
   "metadata": {},
   "outputs": [
    {
     "name": "stdout",
     "output_type": "stream",
     "text": [
      "enter number1:34\n",
      "enter number2:0\n",
      "before conversion number1=34,number2=0\n",
      "after conversion number1=34.0,number2=0.0\n",
      "result1= 34.0\n",
      "some issue\n"
     ]
    }
   ],
   "source": [
    "try:\n",
    "    number1 = input(\"enter number1:\")\n",
    "    number2 = input(\"enter number2:\")\n",
    "    print(f\"before conversion number1={number1},number2={number2}\")\n",
    "    number1=float(number1)\n",
    "    number2=float(number2)\n",
    "    print(f\"after conversion number1={number1},number2={number2}\")\n",
    "    r1=number1+number2\n",
    "    print(\"result1=\",r1)\n",
    "    r2=number1/number2\n",
    "    print(\"result2=\",r2)\n",
    "    print(\"end\")\n",
    "except:\n",
    "    print(\"some issue\")"
   ]
  },
  {
   "cell_type": "code",
   "execution_count": 15,
   "metadata": {},
   "outputs": [
    {
     "name": "stdout",
     "output_type": "stream",
     "text": [
      "enter number1:34\n",
      "enter number2:0\n",
      "before conversion number1=34,number2=0\n",
      "after conversion number1=34.0,number2=0.0\n",
      "result1= 34.0\n",
      "some issue\n",
      "main block statement1\n",
      "main block statement2\n"
     ]
    }
   ],
   "source": [
    "try:\n",
    "    number1 = input(\"enter number1:\")\n",
    "    number2 = input(\"enter number2:\")\n",
    "    print(f\"before conversion number1={number1},number2={number2}\")\n",
    "    number1=float(number1)\n",
    "    number2=float(number2)\n",
    "    print(f\"after conversion number1={number1},number2={number2}\")\n",
    "    r1=number1+number2\n",
    "    print(\"result1=\",r1)\n",
    "    r2=number1/number2\n",
    "    print(\"result2=\",r2)\n",
    "    print(\"end\")\n",
    "except:\n",
    "    print(\"some issue\")\n",
    "print(\"main block statement1\")\n",
    "print(\"main block statement2\")"
   ]
  },
  {
   "cell_type": "code",
   "execution_count": 16,
   "metadata": {},
   "outputs": [
    {
     "name": "stdout",
     "output_type": "stream",
     "text": [
      "enter number1:12\n",
      "enter number2:34\n",
      "before conversion number1=12,number2=34\n",
      "after conversion number1=12.0,number2=34.0\n",
      "result1= 46.0\n",
      "result2= 0.35294117647058826\n",
      "main block statement1\n",
      "main block statement2\n",
      "end\n"
     ]
    }
   ],
   "source": [
    "number1 = input(\"enter number1:\")\n",
    "number2 = input(\"enter number2:\")\n",
    "print(f\"before conversion number1={number1},number2={number2}\")\n",
    "try:\n",
    "    number1=float(number1)# this will throws an exception, if we give emtpy or alphabets in input\n",
    "    number2=float(number2)#  this will throws an exception, if we give emtpy or alphabets in input\n",
    "    print(f\"after conversion number1={number1},number2={number2}\")\n",
    "    # the above will not throw any exception. Still we are writing under try block, why because it's dependent statement of \n",
    "    # above exceptional statement.\n",
    "    r1=number1+number2\n",
    "    print(\"result1=\",r1)\n",
    "    r2=number1/number2\n",
    "    print(\"result2=\",r2)\n",
    "except:\n",
    "    print(\"some issue\")\n",
    "print(\"main block statement1\")\n",
    "print(\"main block statement2\")\n",
    "print(\"end\")"
   ]
  },
  {
   "cell_type": "code",
   "execution_count": 17,
   "metadata": {},
   "outputs": [
    {
     "name": "stdout",
     "output_type": "stream",
     "text": [
      "enter number1:12\n",
      "enter number2:0\n",
      "before conversion number1=12,number2=0\n",
      "after conversion number1=12.0,number2=0.0\n",
      "result1= 12.0\n",
      "some issue\n",
      "main block statement1\n",
      "main block statement2\n",
      "end\n"
     ]
    }
   ],
   "source": [
    "number1 = input(\"enter number1:\")\n",
    "number2 = input(\"enter number2:\")\n",
    "print(f\"before conversion number1={number1},number2={number2}\")\n",
    "try:\n",
    "    number1=float(number1)# this will throws an exception, if we give emtpy or alphabets in input\n",
    "    number2=float(number2)#  this will throws an exception, if we give emtpy or alphabets in input\n",
    "    print(f\"after conversion number1={number1},number2={number2}\")\n",
    "    # the above will not throw any exception. Still we are writing under try block, why because it's dependent statement of \n",
    "    # above exceptional statement.\n",
    "    r1=number1+number2\n",
    "    print(\"result1=\",r1)\n",
    "    r2=number1/number2\n",
    "    print(\"result2=\",r2)\n",
    "except:\n",
    "    print(\"some issue\")\n",
    "print(\"main block statement1\")\n",
    "print(\"main block statement2\")\n",
    "print(\"end\")"
   ]
  },
  {
   "cell_type": "code",
   "execution_count": 18,
   "metadata": {},
   "outputs": [
    {
     "name": "stdout",
     "output_type": "stream",
     "text": [
      "enter number1:wrwe\n",
      "enter number2:56\n",
      "before conversion number1=wrwe,number2=56\n",
      "some issue\n",
      "main block statement1\n",
      "main block statement2\n",
      "end\n"
     ]
    }
   ],
   "source": [
    "number1 = input(\"enter number1:\")\n",
    "number2 = input(\"enter number2:\")\n",
    "print(f\"before conversion number1={number1},number2={number2}\")\n",
    "try:\n",
    "    number1=float(number1)# this will throws an exception, if we give emtpy or alphabets in input\n",
    "    number2=float(number2)#  this will throws an exception, if we give emtpy or alphabets in input\n",
    "    print(f\"after conversion number1={number1},number2={number2}\")\n",
    "    # the above will not throw any exception. Still we are writing under try block, why because it's dependent statement of \n",
    "    # above exceptional statement.\n",
    "    r1=number1+number2\n",
    "    print(\"result1=\",r1)\n",
    "    r2=number1/number2\n",
    "    print(\"result2=\",r2)\n",
    "except:\n",
    "    print(\"some issue\")\n",
    "print(\"main block statement1\")\n",
    "print(\"main block statement2\")\n",
    "print(\"end\")"
   ]
  },
  {
   "cell_type": "code",
   "execution_count": 1,
   "metadata": {},
   "outputs": [
    {
     "name": "stdout",
     "output_type": "stream",
     "text": [
      "enter number1:12\n",
      "enter number2:ertre\n",
      "before conversion number1=12,number2=ertre\n",
      "some issue\n",
      "main block statement1\n",
      "main block statement2\n",
      "end\n"
     ]
    }
   ],
   "source": [
    "number1 = input(\"enter number1:\")\n",
    "number2 = input(\"enter number2:\")\n",
    "print(f\"before conversion number1={number1},number2={number2}\")\n",
    "try:\n",
    "    number1=float(number1)# this will throws an exception, if we give emtpy or alphabets in input\n",
    "    number2=float(number2)#  this will throws an exception, if we give emtpy or alphabets in input\n",
    "    print(f\"after conversion number1={number1},number2={number2}\")\n",
    "    # the above will not throw any exception. Still we are writing under try block, why because it's dependent statement of \n",
    "    # above exceptional statement.\n",
    "    r1=number1+number2\n",
    "    print(\"result1=\",r1)\n",
    "    r2=number1/number2\n",
    "    print(\"result2=\",r2)\n",
    "except:\n",
    "    print(\"some issue\")\n",
    "print(\"main block statement1\")\n",
    "print(\"main block statement2\")\n",
    "print(\"end\")"
   ]
  },
  {
   "cell_type": "code",
   "execution_count": 2,
   "metadata": {},
   "outputs": [
    {
     "name": "stdout",
     "output_type": "stream",
     "text": [
      "enter number1:12\n",
      "enter number2:0\n",
      "before conversion number1=12,number2=0\n",
      "after conversion number1=12.0,number2=0.0\n",
      "result1= 12.0\n",
      "********************\n",
      "float division by zero\n",
      "some issue\n",
      "********************\n",
      "main block statement1\n",
      "main block statement2\n",
      "end\n"
     ]
    }
   ],
   "source": [
    "number1 = input(\"enter number1:\")\n",
    "number2 = input(\"enter number2:\")\n",
    "print(f\"before conversion number1={number1},number2={number2}\")\n",
    "try:\n",
    "    number1=float(number1)\n",
    "    number2=float(number2)\n",
    "    print(f\"after conversion number1={number1},number2={number2}\")\n",
    "    r1=number1+number2\n",
    "    print(\"result1=\",r1)\n",
    "    r2=number1/number2\n",
    "    print(\"result2=\",r2)\n",
    "except Exception as err:\n",
    "    print(\"*\"*20)\n",
    "    print(err)\n",
    "    print(\"some issue\")\n",
    "    print(\"*\"*20)\n",
    "print(\"main block statement1\")\n",
    "print(\"main block statement2\")\n",
    "print(\"end\")"
   ]
  },
  {
   "cell_type": "code",
   "execution_count": 3,
   "metadata": {},
   "outputs": [
    {
     "name": "stdout",
     "output_type": "stream",
     "text": [
      "enter number1:23\n",
      "enter number2:ert\n",
      "before conversion number1=23,number2=ert\n",
      "********************\n",
      "could not convert string to float: 'ert'\n",
      "some issue\n",
      "********************\n",
      "main block statement1\n",
      "main block statement2\n",
      "end\n"
     ]
    }
   ],
   "source": [
    "number1 = input(\"enter number1:\")\n",
    "number2 = input(\"enter number2:\")\n",
    "print(f\"before conversion number1={number1},number2={number2}\")\n",
    "try:\n",
    "    number1=float(number1)\n",
    "    number2=float(number2)\n",
    "    print(f\"after conversion number1={number1},number2={number2}\")\n",
    "    r1=number1+number2\n",
    "    print(\"result1=\",r1)\n",
    "    r2=number1/number2\n",
    "    print(\"result2=\",r2)\n",
    "except Exception as err:\n",
    "    print(\"*\"*20)\n",
    "    print(err)\n",
    "    print(\"some issue\")\n",
    "    print(\"*\"*20)\n",
    "print(\"main block statement1\")\n",
    "print(\"main block statement2\")\n",
    "print(\"end\")"
   ]
  },
  {
   "cell_type": "code",
   "execution_count": 4,
   "metadata": {},
   "outputs": [
    {
     "name": "stdout",
     "output_type": "stream",
     "text": [
      "enter number1:12\n",
      "enter number2:34\n",
      "before conversion number1=12,number2=34\n",
      "after conversion number1=12.0,number2=34.0\n",
      "result1= 46.0\n",
      "result2= 0.35294117647058826\n",
      "main block statement1\n",
      "main block statement2\n",
      "end\n"
     ]
    }
   ],
   "source": [
    "number1 = input(\"enter number1:\")\n",
    "number2 = input(\"enter number2:\")\n",
    "print(f\"before conversion number1={number1},number2={number2}\")\n",
    "try:\n",
    "    number1=float(number1)\n",
    "    number2=float(number2)\n",
    "    print(f\"after conversion number1={number1},number2={number2}\")\n",
    "    r1=number1+number2\n",
    "    print(\"result1=\",r1)\n",
    "    r2=number1/number2\n",
    "    print(\"result2=\",r2)\n",
    "except ZeroDivisionError as err:\n",
    "    print(\"expecting b!=0\")\n",
    "except ValueError as err:\n",
    "    print(\"expecting only digits.\")\n",
    "except Exception as err:\n",
    "    print(\"*\"*20)\n",
    "    print(err)\n",
    "    print(\"some issue\")\n",
    "    print(\"*\"*20)\n",
    "print(\"main block statement1\")\n",
    "print(\"main block statement2\")\n",
    "print(\"end\")"
   ]
  },
  {
   "cell_type": "code",
   "execution_count": 6,
   "metadata": {},
   "outputs": [
    {
     "name": "stdout",
     "output_type": "stream",
     "text": [
      "enter number1:12\n",
      "enter number2:0\n",
      "before conversion number1=12,number2=0\n",
      "after conversion number1=12.0,number2=0.0\n",
      "result1= 12.0\n",
      "********************\n",
      "expecting number2!=0\n",
      "********************\n",
      "main block statement1\n",
      "main block statement2\n",
      "end\n"
     ]
    }
   ],
   "source": [
    "number1 = input(\"enter number1:\")\n",
    "number2 = input(\"enter number2:\")\n",
    "print(f\"before conversion number1={number1},number2={number2}\")\n",
    "try:\n",
    "    number1=float(number1)\n",
    "    number2=float(number2)\n",
    "    print(f\"after conversion number1={number1},number2={number2}\")\n",
    "    r1=number1+number2\n",
    "    print(\"result1=\",r1)\n",
    "    r2=number1/number2\n",
    "    print(\"result2=\",r2)\n",
    "except ZeroDivisionError as err:\n",
    "    print(\"*\"*20)\n",
    "    print(\"expecting number2!=0\")\n",
    "    print(\"*\"*20)\n",
    "except ValueError as err:\n",
    "    print(\"*\"*20)\n",
    "    print(\"expecting only digits.\")\n",
    "    print(\"*\"*20)\n",
    "except Exception as err:\n",
    "    print(\"*\"*20)\n",
    "    print(err)\n",
    "    print(\"some issue\")\n",
    "    print(\"*\"*20)\n",
    "print(\"main block statement1\")\n",
    "print(\"main block statement2\")\n",
    "print(\"end\")"
   ]
  },
  {
   "cell_type": "code",
   "execution_count": 7,
   "metadata": {},
   "outputs": [
    {
     "name": "stdout",
     "output_type": "stream",
     "text": [
      "enter number1:23\n",
      "enter number2:weer\n",
      "before conversion number1=23,number2=weer\n",
      "********************\n",
      "expecting only digits.\n",
      "********************\n",
      "main block statement1\n",
      "main block statement2\n",
      "end\n"
     ]
    }
   ],
   "source": [
    "number1 = input(\"enter number1:\")\n",
    "number2 = input(\"enter number2:\")\n",
    "print(f\"before conversion number1={number1},number2={number2}\")\n",
    "try:\n",
    "    number1=float(number1)\n",
    "    number2=float(number2)\n",
    "    print(f\"after conversion number1={number1},number2={number2}\")\n",
    "    r1=number1+number2\n",
    "    print(\"result1=\",r1)\n",
    "    r2=number1/number2\n",
    "    print(\"result2=\",r2)\n",
    "except ZeroDivisionError as err:\n",
    "    print(\"*\"*20)\n",
    "    print(\"expecting number2!=0\")\n",
    "    print(\"*\"*20)\n",
    "except ValueError as err:\n",
    "    print(\"*\"*20)\n",
    "    print(\"expecting only digits.\")\n",
    "    print(\"*\"*20)\n",
    "except Exception as err:\n",
    "    print(\"*\"*20)\n",
    "    print(err)\n",
    "    print(\"some issue\")\n",
    "    print(\"*\"*20)\n",
    "print(\"main block statement1\")\n",
    "print(\"main block statement2\")\n",
    "print(\"end\")"
   ]
  },
  {
   "cell_type": "code",
   "execution_count": null,
   "metadata": {},
   "outputs": [],
   "source": [
    "number1 = input(\"enter number1:\")\n",
    "number2 = input(\"enter number2:\")\n",
    "print(f\"before conversion number1={number1},number2={number2}\")\n",
    "try:\n",
    "    number1=float(number1)\n",
    "    number2=float(number2)\n",
    "    print(f\"after conversion number1={number1},number2={number2}\")\n",
    "    r1=number1+number2\n",
    "    print(\"result1=\",r1)\n",
    "    r2=number1/number2\n",
    "    print(\"result2=\",r2)\n",
    "except ZeroDivisionError as err:\n",
    "    print(\"*\"*20)\n",
    "    print(\"expecting number2!=0\")\n",
    "    print(\"*\"*20)\n",
    "except ValueError as err:\n",
    "    print(\"*\"*20)\n",
    "    print(\"expecting only digits.\")\n",
    "    print(\"*\"*20)\n",
    "except Exception as err:\n",
    "    print(\"*\"*20)\n",
    "    print(err)\n",
    "    print(\"*\"*20)\n",
    "except:\n",
    "    print(\"*\"*20)\n",
    "    print(\"some issue\")\n",
    "    print(\"*\"*20)\n",
    "    \n",
    "print(\"main block statement1\")\n",
    "print(\"main block statement2\")\n",
    "print(\"end\")"
   ]
  },
  {
   "cell_type": "code",
   "execution_count": 8,
   "metadata": {},
   "outputs": [
    {
     "name": "stdout",
     "output_type": "stream",
     "text": [
      "started\n",
      "try\n",
      "NO exception\n",
      "else\n",
      "finally\n",
      "main\n"
     ]
    }
   ],
   "source": [
    "print(\"started\")\n",
    "try:\n",
    "    print(\"try\")\n",
    "    print(\"NO exception\")\n",
    "except:\n",
    "    print(\"except\")\n",
    "else:\n",
    "    print(\"else\")\n",
    "finally:\n",
    "    print(\"finally\")\n",
    "print(\"main\")"
   ]
  },
  {
   "cell_type": "code",
   "execution_count": 9,
   "metadata": {},
   "outputs": [
    {
     "name": "stdout",
     "output_type": "stream",
     "text": [
      "started\n",
      "try\n",
      "exception\n",
      "except\n",
      "finally\n",
      "main\n"
     ]
    }
   ],
   "source": [
    "print(\"started\")\n",
    "try:\n",
    "    print(\"try\")\n",
    "    print(\"exception\")\n",
    "    print(1/0)\n",
    "except:\n",
    "    print(\"except\")\n",
    "else:\n",
    "    print(\"else\")\n",
    "finally:\n",
    "    print(\"finally\")\n",
    "print(\"main\")"
   ]
  },
  {
   "cell_type": "code",
   "execution_count": 10,
   "metadata": {},
   "outputs": [
    {
     "name": "stdout",
     "output_type": "stream",
     "text": [
      "started\n",
      "try\n",
      "exception\n",
      "except\n",
      "finally\n",
      "main\n"
     ]
    }
   ],
   "source": [
    "print(\"started\")\n",
    "try:\n",
    "    print(\"try\")\n",
    "    print(\"exception\")\n",
    "    print(1/0)\n",
    "except:\n",
    "    print(\"except\")\n",
    "else:\n",
    "    print(\"else\")\n",
    "print(\"finally\")\n",
    "print(\"main\")"
   ]
  },
  {
   "cell_type": "code",
   "execution_count": 11,
   "metadata": {},
   "outputs": [
    {
     "name": "stdout",
     "output_type": "stream",
     "text": [
      "started\n",
      "try\n",
      "Non exception\n",
      "else\n",
      "finally\n",
      "main\n"
     ]
    }
   ],
   "source": [
    "print(\"started\")\n",
    "try:\n",
    "    print(\"try\")\n",
    "    print(\"Non exception\")\n",
    "except:\n",
    "    print(\"except\")\n",
    "else:\n",
    "    print(\"else\")\n",
    "print(\"finally\")\n",
    "print(\"main\")"
   ]
  },
  {
   "cell_type": "code",
   "execution_count": 12,
   "metadata": {},
   "outputs": [
    {
     "name": "stdout",
     "output_type": "stream",
     "text": [
      "main1\n",
      "try\n",
      "0\n",
      "finally\n",
      "main2\n"
     ]
    }
   ],
   "source": [
    "print(\"main1\")\n",
    "for i in range(10):\n",
    "    try:\n",
    "        print(\"try\")\n",
    "        print(i)\n",
    "        break\n",
    "        print(\"after break\") \n",
    "    except:\n",
    "        print(\"except\")\n",
    "    else:\n",
    "        print(\"esle\")\n",
    "    finally:\n",
    "        print(\"finally\")\n",
    "    print(\"for main\")       \n",
    "print(\"main2\")"
   ]
  },
  {
   "cell_type": "code",
   "execution_count": 13,
   "metadata": {},
   "outputs": [
    {
     "name": "stdout",
     "output_type": "stream",
     "text": [
      "main1\n",
      "try\n",
      "finally\n"
     ]
    },
    {
     "ename": "ZeroDivisionError",
     "evalue": "division by zero",
     "output_type": "error",
     "traceback": [
      "\u001b[1;31m---------------------------------------------------------------------------\u001b[0m",
      "\u001b[1;31mZeroDivisionError\u001b[0m                         Traceback (most recent call last)",
      "\u001b[1;32m<ipython-input-13-75ea22a6b182>\u001b[0m in \u001b[0;36m<module>\u001b[1;34m\u001b[0m\n\u001b[0;32m      2\u001b[0m \u001b[1;32mtry\u001b[0m\u001b[1;33m:\u001b[0m\u001b[1;33m\u001b[0m\u001b[1;33m\u001b[0m\u001b[0m\n\u001b[0;32m      3\u001b[0m     \u001b[0mprint\u001b[0m\u001b[1;33m(\u001b[0m\u001b[1;34m\"try\"\u001b[0m\u001b[1;33m)\u001b[0m\u001b[1;33m\u001b[0m\u001b[1;33m\u001b[0m\u001b[0m\n\u001b[1;32m----> 4\u001b[1;33m     \u001b[0mprint\u001b[0m\u001b[1;33m(\u001b[0m\u001b[1;36m1\u001b[0m\u001b[1;33m/\u001b[0m\u001b[1;36m0\u001b[0m\u001b[1;33m)\u001b[0m\u001b[1;33m\u001b[0m\u001b[1;33m\u001b[0m\u001b[0m\n\u001b[0m\u001b[0;32m      5\u001b[0m \u001b[1;32mfinally\u001b[0m\u001b[1;33m:\u001b[0m\u001b[1;33m\u001b[0m\u001b[1;33m\u001b[0m\u001b[0m\n\u001b[0;32m      6\u001b[0m     \u001b[0mprint\u001b[0m\u001b[1;33m(\u001b[0m\u001b[1;34m\"finally\"\u001b[0m\u001b[1;33m)\u001b[0m\u001b[1;33m\u001b[0m\u001b[1;33m\u001b[0m\u001b[0m\n",
      "\u001b[1;31mZeroDivisionError\u001b[0m: division by zero"
     ]
    }
   ],
   "source": [
    "print(\"main1\")\n",
    "try:\n",
    "    print(\"try\")\n",
    "    print(1/0)\n",
    "finally:\n",
    "    print(\"finally\")\n",
    "print(\"main2\")"
   ]
  },
  {
   "cell_type": "code",
   "execution_count": 15,
   "metadata": {},
   "outputs": [
    {
     "name": "stdout",
     "output_type": "stream",
     "text": [
      "except\n",
      "done\n"
     ]
    }
   ],
   "source": [
    "f=open(\"data_except.txt\",\"w\")\n",
    "try:\n",
    "    f.write(\"somme data\")\n",
    "    print(1/0)\n",
    "    f.lcose()\n",
    "except:\n",
    "    print(\"except\")\n",
    "print(\"done\")\n",
    "    "
   ]
  },
  {
   "cell_type": "code",
   "execution_count": 16,
   "metadata": {},
   "outputs": [
    {
     "name": "stdout",
     "output_type": "stream",
     "text": [
      "except\n",
      "done\n"
     ]
    }
   ],
   "source": [
    "f=open(\"data_except.txt\",\"w\")\n",
    "try:\n",
    "    f.write(\"somme data\")\n",
    "    print(1/0)\n",
    "except:\n",
    "    print(\"except\")\n",
    "finally:\n",
    "    f.close()\n",
    "print(\"done\")\n",
    "    "
   ]
  },
  {
   "cell_type": "code",
   "execution_count": 19,
   "metadata": {},
   "outputs": [
    {
     "name": "stdout",
     "output_type": "stream",
     "text": [
      "Enter namewerwe2334werw\n",
      "werwe2334werw\n"
     ]
    }
   ],
   "source": [
    "# user defind exceptions\n",
    "class NameValidationError(Exception):\n",
    "    pass\n",
    "\n",
    "name=input(\"Enter name\")\n",
    "print(name)\n",
    "if not name.isalnum():\n",
    "    raise NameValidationError(\"Not expecting soecial symbols in name\")\n",
    "    "
   ]
  },
  {
   "cell_type": "code",
   "execution_count": 17,
   "metadata": {},
   "outputs": [
    {
     "ename": "ZeroDivisionError",
     "evalue": "division by zero",
     "output_type": "error",
     "traceback": [
      "\u001b[1;31m---------------------------------------------------------------------------\u001b[0m",
      "\u001b[1;31mZeroDivisionError\u001b[0m                         Traceback (most recent call last)",
      "\u001b[1;32m<ipython-input-17-2fc232d1511a>\u001b[0m in \u001b[0;36m<module>\u001b[1;34m\u001b[0m\n\u001b[1;32m----> 1\u001b[1;33m \u001b[0mprint\u001b[0m\u001b[1;33m(\u001b[0m\u001b[1;36m1\u001b[0m\u001b[1;33m/\u001b[0m\u001b[1;36m0\u001b[0m\u001b[1;33m)\u001b[0m\u001b[1;33m\u001b[0m\u001b[1;33m\u001b[0m\u001b[0m\n\u001b[0m",
      "\u001b[1;31mZeroDivisionError\u001b[0m: division by zero"
     ]
    }
   ],
   "source": [
    "print(1/0)"
   ]
  },
  {
   "cell_type": "code",
   "execution_count": 20,
   "metadata": {},
   "outputs": [
    {
     "name": "stdout",
     "output_type": "stream",
     "text": [
      "Enter namewerwe$\n",
      "werwe$\n"
     ]
    },
    {
     "ename": "NameValidationError",
     "evalue": "Not expecting soecial symbols in name",
     "output_type": "error",
     "traceback": [
      "\u001b[1;31m---------------------------------------------------------------------------\u001b[0m",
      "\u001b[1;31mNameValidationError\u001b[0m                       Traceback (most recent call last)",
      "\u001b[1;32m<ipython-input-20-10d479bfe06e>\u001b[0m in \u001b[0;36m<module>\u001b[1;34m\u001b[0m\n\u001b[0;32m      6\u001b[0m \u001b[0mprint\u001b[0m\u001b[1;33m(\u001b[0m\u001b[0mname\u001b[0m\u001b[1;33m)\u001b[0m\u001b[1;33m\u001b[0m\u001b[1;33m\u001b[0m\u001b[0m\n\u001b[0;32m      7\u001b[0m \u001b[1;32mif\u001b[0m \u001b[1;32mnot\u001b[0m \u001b[0mname\u001b[0m\u001b[1;33m.\u001b[0m\u001b[0misalnum\u001b[0m\u001b[1;33m(\u001b[0m\u001b[1;33m)\u001b[0m\u001b[1;33m:\u001b[0m\u001b[1;33m\u001b[0m\u001b[1;33m\u001b[0m\u001b[0m\n\u001b[1;32m----> 8\u001b[1;33m     \u001b[1;32mraise\u001b[0m \u001b[0mNameValidationError\u001b[0m\u001b[1;33m(\u001b[0m\u001b[1;34m\"Not expecting soecial symbols in name\"\u001b[0m\u001b[1;33m)\u001b[0m\u001b[1;33m\u001b[0m\u001b[1;33m\u001b[0m\u001b[0m\n\u001b[0m\u001b[0;32m      9\u001b[0m \u001b[1;33m\u001b[0m\u001b[0m\n",
      "\u001b[1;31mNameValidationError\u001b[0m: Not expecting soecial symbols in name"
     ]
    }
   ],
   "source": [
    "# user defind exceptions\n",
    "class NameValidationError(Exception):\n",
    "    pass\n",
    "\n",
    "name=input(\"Enter name\")\n",
    "print(name)\n",
    "if not name.isalnum():\n",
    "    raise NameValidationError(\"Not expecting soecial symbols in name\")\n",
    "    "
   ]
  },
  {
   "cell_type": "code",
   "execution_count": null,
   "metadata": {},
   "outputs": [],
   "source": []
  }
 ],
 "metadata": {
  "kernelspec": {
   "display_name": "Python 3",
   "language": "python",
   "name": "python3"
  },
  "language_info": {
   "codemirror_mode": {
    "name": "ipython",
    "version": 3
   },
   "file_extension": ".py",
   "mimetype": "text/x-python",
   "name": "python",
   "nbconvert_exporter": "python",
   "pygments_lexer": "ipython3",
   "version": "3.8.3"
  }
 },
 "nbformat": 4,
 "nbformat_minor": 4
}
