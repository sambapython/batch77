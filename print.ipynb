{
 "cells": [
  {
   "cell_type": "code",
   "execution_count": 1,
   "metadata": {},
   "outputs": [
    {
     "name": "stdout",
     "output_type": "stream",
     "text": [
      "lenovo think pad 7200 12 256\n"
     ]
    }
   ],
   "source": [
    "name=\"lenovo think pad\"\n",
    "cost=7200\n",
    "ram=12\n",
    "harddisk=256\n",
    "print(name,cost,ram,harddisk)"
   ]
  },
  {
   "cell_type": "code",
   "execution_count": 2,
   "metadata": {},
   "outputs": [
    {
     "name": "stdout",
     "output_type": "stream",
     "text": [
      "lenovo think pad==>7200==>12==>256\n"
     ]
    }
   ],
   "source": [
    "name=\"lenovo think pad\"\n",
    "cost=7200\n",
    "ram=12\n",
    "harddisk=256\n",
    "print(name,cost,ram,harddisk,sep=\"==>\")"
   ]
  },
  {
   "cell_type": "code",
   "execution_count": 3,
   "metadata": {},
   "outputs": [
    {
     "name": "stdout",
     "output_type": "stream",
     "text": [
      "The laptop lenovo think pad cost is 7200 configuration: 12 GB RAM, 256 SSD drive.\n"
     ]
    }
   ],
   "source": [
    "name=\"lenovo think pad\"\n",
    "cost=7200\n",
    "ram=12\n",
    "harddisk=256\n",
    "# The laptop lenovo think pad cost is 7200 configuration: 12 GB RAM, 256 SSD drive.\n",
    "print(\"The laptop lenovo think pad cost is 7200 configuration: 12 GB RAM, 256 SSD drive.\")"
   ]
  },
  {
   "cell_type": "code",
   "execution_count": 4,
   "metadata": {},
   "outputs": [
    {
     "ename": "TypeError",
     "evalue": "can only concatenate str (not \"int\") to str",
     "output_type": "error",
     "traceback": [
      "\u001b[1;31m---------------------------------------------------------------------------\u001b[0m",
      "\u001b[1;31mTypeError\u001b[0m                                 Traceback (most recent call last)",
      "\u001b[1;32m<ipython-input-4-3b60d5f5d2d2>\u001b[0m in \u001b[0;36m<module>\u001b[1;34m\u001b[0m\n\u001b[0;32m      4\u001b[0m \u001b[0mharddisk\u001b[0m\u001b[1;33m=\u001b[0m\u001b[1;36m256\u001b[0m\u001b[1;33m\u001b[0m\u001b[1;33m\u001b[0m\u001b[0m\n\u001b[0;32m      5\u001b[0m \u001b[1;31m# The laptop lenovo think pad cost is 7200 configuration: 12 GB RAM, 256 SSD drive.\u001b[0m\u001b[1;33m\u001b[0m\u001b[1;33m\u001b[0m\u001b[1;33m\u001b[0m\u001b[0m\n\u001b[1;32m----> 6\u001b[1;33m \u001b[0mprint\u001b[0m\u001b[1;33m(\u001b[0m\u001b[1;34m\"The laptop \"\u001b[0m\u001b[1;33m+\u001b[0m \u001b[0mname\u001b[0m \u001b[1;33m+\u001b[0m\u001b[1;34m\"cost is\"\u001b[0m\u001b[1;33m+\u001b[0m \u001b[0mcost\u001b[0m \u001b[1;33m+\u001b[0m\u001b[1;34m\"configuration: \"\u001b[0m\u001b[1;33m+\u001b[0m \u001b[0mram\u001b[0m \u001b[1;33m+\u001b[0m\u001b[1;34m\" GB RAM, \"\u001b[0m\u001b[1;33m+\u001b[0m \u001b[0mharddisk\u001b[0m \u001b[1;33m+\u001b[0m\u001b[1;34m\" SSD drive.\"\u001b[0m\u001b[1;33m)\u001b[0m\u001b[1;33m\u001b[0m\u001b[1;33m\u001b[0m\u001b[0m\n\u001b[0m",
      "\u001b[1;31mTypeError\u001b[0m: can only concatenate str (not \"int\") to str"
     ]
    }
   ],
   "source": [
    "name=\"lenovo think pad\"\n",
    "cost=7200\n",
    "ram=12\n",
    "harddisk=256\n",
    "# The laptop lenovo think pad cost is 7200 configuration: 12 GB RAM, 256 SSD drive.\n",
    "print(\"The laptop \"+ name +\"cost is\"+ cost +\"configuration: \"+ ram +\" GB RAM, \"+ harddisk +\" SSD drive.\")"
   ]
  },
  {
   "cell_type": "code",
   "execution_count": 5,
   "metadata": {},
   "outputs": [
    {
     "name": "stdout",
     "output_type": "stream",
     "text": [
      "The laptop lenovo think padcost is7200configuration: 12 GB RAM, 256 SSD drive.\n"
     ]
    }
   ],
   "source": [
    "name=\"lenovo think pad\"\n",
    "cost=7200\n",
    "ram=12\n",
    "harddisk=256\n",
    "# The laptop lenovo think pad cost is 7200 configuration: 12 GB RAM, 256 SSD drive.\n",
    "print(\"The laptop \"+ name +\"cost is\"+ str(cost) +\"configuration: \"+ str(ram) +\" GB RAM, \"+ str(harddisk) +\" SSD drive.\")"
   ]
  },
  {
   "cell_type": "code",
   "execution_count": 6,
   "metadata": {},
   "outputs": [
    {
     "name": "stdout",
     "output_type": "stream",
     "text": [
      "The laptop lenovo think padcost is7200configuration: 12 GB RAM, 256 SSD drive.\n",
      "The laptop lenovo think pad cost is 7200 configuration: 12 GB RAM, 256 SSD drive.\n"
     ]
    }
   ],
   "source": [
    "name=\"lenovo think pad\"\n",
    "cost=7200\n",
    "ram=12\n",
    "harddisk=256\n",
    "# The laptop lenovo think pad cost is 7200 configuration: 12 GB RAM, 256 SSD drive.\n",
    "print(\"The laptop \"+ name +\"cost is\"+ str(cost) +\"configuration: \"+ str(ram) +\" GB RAM, \"+ str(harddisk) +\" SSD drive.\")\n",
    "print(f\"The laptop lenovo think pad cost is 7200 configuration: 12 GB RAM, 256 SSD drive.\") # templet strings/f srings"
   ]
  },
  {
   "cell_type": "code",
   "execution_count": 8,
   "metadata": {},
   "outputs": [
    {
     "name": "stdout",
     "output_type": "stream",
     "text": [
      "The laptop lenovo think padcost is7200configuration: 12 GB RAM, 256 SSD drive.\n",
      "The name cost is cost configuration: ram GB RAM, harddisk SSD drive.\n"
     ]
    }
   ],
   "source": [
    "name=\"lenovo think pad\"\n",
    "cost=7200\n",
    "ram=12\n",
    "harddisk=256\n",
    "# The laptop lenovo think pad cost is 7200 configuration: 12 GB RAM, 256 SSD drive.\n",
    "print(\"The laptop \"+ name +\"cost is\"+ str(cost) +\"configuration: \"+ str(ram) +\" GB RAM, \"+ str(harddisk) +\" SSD drive.\")\n",
    "print(f\"The name cost is cost configuration: ram GB RAM, harddisk SSD drive.\") # templet strings/f srings"
   ]
  },
  {
   "cell_type": "code",
   "execution_count": 9,
   "metadata": {},
   "outputs": [
    {
     "name": "stdout",
     "output_type": "stream",
     "text": [
      "The laptop lenovo think padcost is7200configuration: 12 GB RAM, 256 SSD drive.\n",
      "The name 7200 is cost configuration: 12 GB RAM, 256 SSD drive.\n"
     ]
    }
   ],
   "source": [
    "name=\"lenovo think pad\"\n",
    "cost=7200\n",
    "ram=12\n",
    "harddisk=256\n",
    "# The laptop lenovo think pad cost is 7200 configuration: 12 GB RAM, 256 SSD drive.\n",
    "print(\"The laptop \"+ name +\"cost is\"+ str(cost) +\"configuration: \"+ str(ram) +\" GB RAM, \"+ str(harddisk) +\" SSD drive.\")\n",
    "print(f\"The name {cost} is cost configuration: {ram} GB RAM, {harddisk} SSD drive.\") # templet strings/f srings"
   ]
  },
  {
   "cell_type": "code",
   "execution_count": 11,
   "metadata": {},
   "outputs": [
    {
     "name": "stdout",
     "output_type": "stream",
     "text": [
      "The laptop lenovo think padcost is7200configuration: 12 GB RAM, 256 SSD drive.\n",
      "The laptop lenovo think pad cost is 7200 configuration: 12 GB RAM, 256 SSD drive.\n"
     ]
    }
   ],
   "source": [
    "name=\"lenovo think pad\"\n",
    "cost=7200\n",
    "ram=12\n",
    "harddisk=256\n",
    "# The laptop lenovo think pad cost is 7200 configuration: 12 GB RAM, 256 SSD drive.\n",
    "print(\"The laptop \"+ name +\"cost is\"+ str(cost) +\"configuration: \"+ str(ram) +\" GB RAM, \"+ str(harddisk) +\" SSD drive.\")\n",
    "print(f\"The laptop {name} cost is {cost} configuration: {ram} GB RAM, {harddisk} SSD drive.\") # templet strings/f srings"
   ]
  },
  {
   "cell_type": "code",
   "execution_count": 12,
   "metadata": {},
   "outputs": [
    {
     "name": "stdout",
     "output_type": "stream",
     "text": [
      "The laptop lenovo think padcost is7200configuration: 12 GB RAM, 256 SSD drive.\n",
      "The laptop lenovo think pad cost is 7200 configuration: 12 GB RAM, 256 SSD drive.\n",
      "The laptop {name} cost is {cost} configuration: {ram} GB RAM, {harddisk} SSD drive.\n"
     ]
    }
   ],
   "source": [
    "name=\"lenovo think pad\"\n",
    "cost=7200\n",
    "ram=12\n",
    "harddisk=256\n",
    "# The laptop lenovo think pad cost is 7200 configuration: 12 GB RAM, 256 SSD drive.\n",
    "print(\"The laptop \"+ name +\"cost is\"+ str(cost) +\"configuration: \"+ str(ram) +\" GB RAM, \"+ str(harddisk) +\" SSD drive.\")\n",
    "print(f\"The laptop {name} cost is {cost} configuration: {ram} GB RAM, {harddisk} SSD drive.\") # templet strings/f srings\n",
    "print(\"The laptop {name} cost is {cost} configuration: {ram} GB RAM, {harddisk} SSD drive.\")"
   ]
  },
  {
   "cell_type": "code",
   "execution_count": 13,
   "metadata": {},
   "outputs": [
    {
     "name": "stdout",
     "output_type": "stream",
     "text": [
      "The laptop lenovo think padcost is7200configuration: 12 GB RAM, 256 SSD drive.\n",
      "The laptop lenovo think pad cost is 7200 configuration: 12 GB RAM, 256 SSD drive.\n",
      "The laptop {name} cost is {cost} configuration: {ram} GB RAM, {harddisk} SSD drive.\n",
      "The laptop %s cost is %s configuration: %s GB RAM, %s SSD drive. ('lenovo think pad', 7200, 12, 256)\n"
     ]
    }
   ],
   "source": [
    "name=\"lenovo think pad\"\n",
    "cost=7200\n",
    "ram=12\n",
    "harddisk=256\n",
    "# The laptop lenovo think pad cost is 7200 configuration: 12 GB RAM, 256 SSD drive.\n",
    "print(\"The laptop \"+ name +\"cost is\"+ str(cost) +\"configuration: \"+ str(ram) +\" GB RAM, \"+ str(harddisk) +\" SSD drive.\")\n",
    "print(f\"The laptop {name} cost is {cost} configuration: {ram} GB RAM, {harddisk} SSD drive.\") # templet strings/f srings\n",
    "print(\"The laptop {name} cost is {cost} configuration: {ram} GB RAM, {harddisk} SSD drive.\")\n",
    "# format specifiers\n",
    "print(\"The laptop %s cost is %s configuration: %s GB RAM, %s SSD drive.\",(name,cost,ram,harddisk))"
   ]
  },
  {
   "cell_type": "code",
   "execution_count": 14,
   "metadata": {},
   "outputs": [
    {
     "name": "stdout",
     "output_type": "stream",
     "text": [
      "The laptop lenovo think padcost is7200configuration: 12 GB RAM, 256 SSD drive.\n",
      "The laptop lenovo think pad cost is 7200 configuration: 12 GB RAM, 256 SSD drive.\n",
      "The laptop {name} cost is {cost} configuration: {ram} GB RAM, {harddisk} SSD drive.\n",
      "The laptop %s cost is %s configuration: %s GB RAM, %s SSD drive. ('lenovo think pad', 7200, 12, 256)\n",
      "The laptop lenovo think pad cost is 7200 configuration: 12 GB RAM, 256 SSD drive.\n"
     ]
    }
   ],
   "source": [
    "name=\"lenovo think pad\"\n",
    "cost=7200\n",
    "ram=12\n",
    "harddisk=256\n",
    "# The laptop lenovo think pad cost is 7200 configuration: 12 GB RAM, 256 SSD drive.\n",
    "print(\"The laptop \"+ name +\"cost is\"+ str(cost) +\"configuration: \"+ str(ram) +\" GB RAM, \"+ str(harddisk) +\" SSD drive.\")\n",
    "print(f\"The laptop {name} cost is {cost} configuration: {ram} GB RAM, {harddisk} SSD drive.\") # templet strings/f srings\n",
    "print(\"The laptop {name} cost is {cost} configuration: {ram} GB RAM, {harddisk} SSD drive.\")\n",
    "# format specifiers\n",
    "print(\"The laptop %s cost is %s configuration: %s GB RAM, %s SSD drive.\",(name,cost,ram,harddisk))\n",
    "print(\"The laptop %s cost is %s configuration: %s GB RAM, %s SSD drive.\"%(name,cost,ram,harddisk))"
   ]
  },
  {
   "cell_type": "code",
   "execution_count": 15,
   "metadata": {},
   "outputs": [
    {
     "name": "stdout",
     "output_type": "stream",
     "text": [
      "The Jayaram is 4.5 years old has 17.35 kg weight and 3.24 fetts in height.\n",
      "The Jayaram is 4.5 years old has 17.3467923 kg weight and 3.235347 fetts in height.\n"
     ]
    }
   ],
   "source": [
    "name=\"Jayaram\"\n",
    "age=4.5\n",
    "weight=17.3467923\n",
    "height=3.235347\n",
    "print(\"The Jayaram is 4.5 years old has 17.35 kg weight and 3.24 fetts in height.\")\n",
    "print(f\"The {name} is {age} years old has {weight} kg weight and {height} fetts in height.\")"
   ]
  },
  {
   "cell_type": "code",
   "execution_count": 16,
   "metadata": {},
   "outputs": [
    {
     "name": "stdout",
     "output_type": "stream",
     "text": [
      "The Jayaram is 4.5 years old has 17.35 kg weight and 3.24 fetts in height.\n",
      "The Jayaram is 4.5 years old has 17.35 kg weight and 3.24 fetts in height.\n"
     ]
    }
   ],
   "source": [
    "name=\"Jayaram\"\n",
    "age=4.5\n",
    "weight=17.3467923\n",
    "height=3.235347\n",
    "print(\"The Jayaram is 4.5 years old has 17.35 kg weight and 3.24 fetts in height.\")\n",
    "print(f\"The {name} is {age} years old has {weight:.2f} kg weight and {height:.2f} fetts in height.\")"
   ]
  },
  {
   "cell_type": "code",
   "execution_count": 17,
   "metadata": {},
   "outputs": [
    {
     "name": "stdout",
     "output_type": "stream",
     "text": [
      "The Jayaram is 4.5 years old has 17.35 kg weight and 3.24 fetts in height.\n",
      "The Jayaram is 4.5 years old has 17.35 kg weight and 3.24 fetts in height.\n",
      "The Jayaram is 4.5 years old has 17.346792 kg weight and 3.235347 fetts in height.\n"
     ]
    }
   ],
   "source": [
    "name=\"Jayaram\"\n",
    "age=4.5\n",
    "weight=17.3467923\n",
    "height=3.235347\n",
    "print(\"The Jayaram is 4.5 years old has 17.35 kg weight and 3.24 fetts in height.\")\n",
    "print(f\"The {name} is {age} years old has {weight:.2f} kg weight and {height:.2f} fetts in height.\")\n",
    "print(\"The %s is %s years old has %f kg weight and %f fetts in height.\"%(name,age,weight,height))"
   ]
  },
  {
   "cell_type": "code",
   "execution_count": 18,
   "metadata": {},
   "outputs": [
    {
     "name": "stdout",
     "output_type": "stream",
     "text": [
      "The Jayaram is 4.5 years old has 17.35 kg weight and 3.24 fetts in height.\n",
      "The Jayaram is 4.5 years old has 17.35 kg weight and 3.24 fetts in height.\n",
      "The Jayaram is 4.5 years old has 17.35 kg weight and 3.24 fetts in height.\n"
     ]
    }
   ],
   "source": [
    "name=\"Jayaram\"\n",
    "age=4.5\n",
    "weight=17.3467923\n",
    "height=3.235347\n",
    "print(\"The Jayaram is 4.5 years old has 17.35 kg weight and 3.24 fetts in height.\")\n",
    "print(f\"The {name} is {age} years old has {weight:.2f} kg weight and {height:.2f} fetts in height.\")\n",
    "print(\"The %s is %s years old has %.2f kg weight and %.2f fetts in height.\"%(name,age,weight,height))"
   ]
  },
  {
   "cell_type": "code",
   "execution_count": 19,
   "metadata": {},
   "outputs": [
    {
     "name": "stdout",
     "output_type": "stream",
     "text": [
      "The Jayaram is 4.5 years old has 17.35 kg weight and 3.24 fetts in height.\n",
      "The Jayaram is 4.5 years old has 17.35 kg weight and 3.24 fetts in height.\n",
      "The Jayaram is 4 years old has 17.35 kg weight and 3.24 fetts in height.\n"
     ]
    }
   ],
   "source": [
    "name=\"Jayaram\"\n",
    "age=4.5\n",
    "weight=17.3467923\n",
    "height=3.235347\n",
    "print(\"The Jayaram is 4.5 years old has 17.35 kg weight and 3.24 fetts in height.\")\n",
    "print(f\"The {name} is {age} years old has {weight:.2f} kg weight and {height:.2f} fetts in height.\")\n",
    "print(\"The %s is %d years old has %.2f kg weight and %.2f fetts in height.\"%(name,age,weight,height))"
   ]
  },
  {
   "cell_type": "code",
   "execution_count": 20,
   "metadata": {},
   "outputs": [
    {
     "name": "stdout",
     "output_type": "stream",
     "text": [
      "10\n"
     ]
    }
   ],
   "source": [
    "a=10.23\n",
    "print(\"%d\"%a)"
   ]
  },
  {
   "cell_type": "code",
   "execution_count": 21,
   "metadata": {},
   "outputs": [
    {
     "ename": "TypeError",
     "evalue": "%d format: a number is required, not str",
     "output_type": "error",
     "traceback": [
      "\u001b[1;31m---------------------------------------------------------------------------\u001b[0m",
      "\u001b[1;31mTypeError\u001b[0m                                 Traceback (most recent call last)",
      "\u001b[1;32m<ipython-input-21-9a68c34874ee>\u001b[0m in \u001b[0;36m<module>\u001b[1;34m\u001b[0m\n\u001b[0;32m      1\u001b[0m \u001b[0ma\u001b[0m\u001b[1;33m=\u001b[0m\u001b[1;34m\"10.23\"\u001b[0m\u001b[1;33m\u001b[0m\u001b[1;33m\u001b[0m\u001b[0m\n\u001b[1;32m----> 2\u001b[1;33m \u001b[0mprint\u001b[0m\u001b[1;33m(\u001b[0m\u001b[1;34m\"%d\"\u001b[0m\u001b[1;33m%\u001b[0m\u001b[0ma\u001b[0m\u001b[1;33m)\u001b[0m\u001b[1;33m\u001b[0m\u001b[1;33m\u001b[0m\u001b[0m\n\u001b[0m",
      "\u001b[1;31mTypeError\u001b[0m: %d format: a number is required, not str"
     ]
    }
   ],
   "source": [
    "a=\"10.23\"\n",
    "print(\"%d\"%a)"
   ]
  },
  {
   "cell_type": "code",
   "execution_count": 22,
   "metadata": {},
   "outputs": [
    {
     "ename": "TypeError",
     "evalue": "%d format: a number is required, not str",
     "output_type": "error",
     "traceback": [
      "\u001b[1;31m---------------------------------------------------------------------------\u001b[0m",
      "\u001b[1;31mTypeError\u001b[0m                                 Traceback (most recent call last)",
      "\u001b[1;32m<ipython-input-22-e784218bd9ca>\u001b[0m in \u001b[0;36m<module>\u001b[1;34m\u001b[0m\n\u001b[0;32m      1\u001b[0m \u001b[0ma\u001b[0m\u001b[1;33m=\u001b[0m\u001b[1;34m\"10\"\u001b[0m\u001b[1;33m\u001b[0m\u001b[1;33m\u001b[0m\u001b[0m\n\u001b[1;32m----> 2\u001b[1;33m \u001b[0mprint\u001b[0m\u001b[1;33m(\u001b[0m\u001b[1;34m\"%d\"\u001b[0m\u001b[1;33m%\u001b[0m\u001b[0ma\u001b[0m\u001b[1;33m)\u001b[0m\u001b[1;33m\u001b[0m\u001b[1;33m\u001b[0m\u001b[0m\n\u001b[0m",
      "\u001b[1;31mTypeError\u001b[0m: %d format: a number is required, not str"
     ]
    }
   ],
   "source": [
    "a=\"10\"\n",
    "print(\"%d\"%a)"
   ]
  },
  {
   "cell_type": "code",
   "execution_count": 23,
   "metadata": {},
   "outputs": [
    {
     "name": "stdout",
     "output_type": "stream",
     "text": [
      "10\n"
     ]
    }
   ],
   "source": [
    "a=\"10\"\n",
    "print(int(a))"
   ]
  },
  {
   "cell_type": "code",
   "execution_count": 24,
   "metadata": {},
   "outputs": [
    {
     "ename": "TypeError",
     "evalue": "%d format: a number is required, not str",
     "output_type": "error",
     "traceback": [
      "\u001b[1;31m---------------------------------------------------------------------------\u001b[0m",
      "\u001b[1;31mTypeError\u001b[0m                                 Traceback (most recent call last)",
      "\u001b[1;32m<ipython-input-24-e784218bd9ca>\u001b[0m in \u001b[0;36m<module>\u001b[1;34m\u001b[0m\n\u001b[0;32m      1\u001b[0m \u001b[0ma\u001b[0m\u001b[1;33m=\u001b[0m\u001b[1;34m\"10\"\u001b[0m\u001b[1;33m\u001b[0m\u001b[1;33m\u001b[0m\u001b[0m\n\u001b[1;32m----> 2\u001b[1;33m \u001b[0mprint\u001b[0m\u001b[1;33m(\u001b[0m\u001b[1;34m\"%d\"\u001b[0m\u001b[1;33m%\u001b[0m\u001b[0ma\u001b[0m\u001b[1;33m)\u001b[0m\u001b[1;33m\u001b[0m\u001b[1;33m\u001b[0m\u001b[0m\n\u001b[0m",
      "\u001b[1;31mTypeError\u001b[0m: %d format: a number is required, not str"
     ]
    }
   ],
   "source": [
    "a=\"10\"\n",
    "print(\"%d\"%a)"
   ]
  },
  {
   "cell_type": "code",
   "execution_count": 25,
   "metadata": {},
   "outputs": [
    {
     "name": "stdout",
     "output_type": "stream",
     "text": [
      "10\n"
     ]
    }
   ],
   "source": [
    "a=10\n",
    "print(\"%s\"%a)"
   ]
  },
  {
   "cell_type": "code",
   "execution_count": 26,
   "metadata": {},
   "outputs": [
    {
     "name": "stdout",
     "output_type": "stream",
     "text": [
      "10\n"
     ]
    }
   ],
   "source": [
    "a=10\n",
    "print(str(a))"
   ]
  },
  {
   "cell_type": "code",
   "execution_count": 27,
   "metadata": {},
   "outputs": [
    {
     "ename": "TypeError",
     "evalue": "%d format: a number is required, not complex",
     "output_type": "error",
     "traceback": [
      "\u001b[1;31m---------------------------------------------------------------------------\u001b[0m",
      "\u001b[1;31mTypeError\u001b[0m                                 Traceback (most recent call last)",
      "\u001b[1;32m<ipython-input-27-5902c4cebfd5>\u001b[0m in \u001b[0;36m<module>\u001b[1;34m\u001b[0m\n\u001b[0;32m      1\u001b[0m \u001b[0mc\u001b[0m\u001b[1;33m=\u001b[0m\u001b[1;36m1\u001b[0m\u001b[1;33m+\u001b[0m\u001b[1;36m2j\u001b[0m\u001b[1;33m\u001b[0m\u001b[1;33m\u001b[0m\u001b[0m\n\u001b[1;32m----> 2\u001b[1;33m \u001b[0mprint\u001b[0m\u001b[1;33m(\u001b[0m\u001b[1;34m\"%d\"\u001b[0m\u001b[1;33m%\u001b[0m\u001b[0mc\u001b[0m\u001b[1;33m)\u001b[0m\u001b[1;33m\u001b[0m\u001b[1;33m\u001b[0m\u001b[0m\n\u001b[0m",
      "\u001b[1;31mTypeError\u001b[0m: %d format: a number is required, not complex"
     ]
    }
   ],
   "source": [
    "c=1+2j\n",
    "print(\"%d\"%c)"
   ]
  },
  {
   "cell_type": "code",
   "execution_count": 28,
   "metadata": {},
   "outputs": [],
   "source": [
    "a=1000"
   ]
  },
  {
   "cell_type": "code",
   "execution_count": null,
   "metadata": {},
   "outputs": [],
   "source": [
    "float a;\n",
    "a=1000\n",
    "print(\"%d\"%a)"
   ]
  },
  {
   "cell_type": "code",
   "execution_count": 29,
   "metadata": {},
   "outputs": [
    {
     "name": "stdout",
     "output_type": "stream",
     "text": [
      "1000\n"
     ]
    }
   ],
   "source": [
    "a=1000\n",
    "print(\"%d\"%a)"
   ]
  },
  {
   "cell_type": "code",
   "execution_count": 30,
   "metadata": {},
   "outputs": [
    {
     "ename": "TypeError",
     "evalue": "%d format: a number is required, not str",
     "output_type": "error",
     "traceback": [
      "\u001b[1;31m---------------------------------------------------------------------------\u001b[0m",
      "\u001b[1;31mTypeError\u001b[0m                                 Traceback (most recent call last)",
      "\u001b[1;32m<ipython-input-30-459319516038>\u001b[0m in \u001b[0;36m<module>\u001b[1;34m\u001b[0m\n\u001b[0;32m      1\u001b[0m \u001b[0ma\u001b[0m\u001b[1;33m=\u001b[0m\u001b[1;34m\"1000\"\u001b[0m\u001b[1;33m\u001b[0m\u001b[1;33m\u001b[0m\u001b[0m\n\u001b[1;32m----> 2\u001b[1;33m \u001b[0mprint\u001b[0m\u001b[1;33m(\u001b[0m\u001b[1;34m\"%d\"\u001b[0m\u001b[1;33m%\u001b[0m\u001b[0ma\u001b[0m\u001b[1;33m)\u001b[0m\u001b[1;33m\u001b[0m\u001b[1;33m\u001b[0m\u001b[0m\n\u001b[0m",
      "\u001b[1;31mTypeError\u001b[0m: %d format: a number is required, not str"
     ]
    }
   ],
   "source": [
    "a=\"1000\"\n",
    "print(\"%d\"%a)"
   ]
  },
  {
   "cell_type": "code",
   "execution_count": 31,
   "metadata": {},
   "outputs": [
    {
     "name": "stdout",
     "output_type": "stream",
     "text": [
      "Today the hyderbad weather is cool\n",
      "It may rain in an hour\n"
     ]
    }
   ],
   "source": [
    "\"\"\"\n",
    "Today the hyderbad weather is cool\n",
    "It may rain in an hour\n",
    "\"\"\"\n",
    "print(\"Today the hyderbad weather is cool\")\n",
    "print(\"It may rain in an hour\")"
   ]
  },
  {
   "cell_type": "code",
   "execution_count": 32,
   "metadata": {},
   "outputs": [
    {
     "name": "stdout",
     "output_type": "stream",
     "text": [
      "Today the hyderbad weather is cool. It may rain in an hour\n",
      "It may rain in an hour\n"
     ]
    }
   ],
   "source": [
    "\"\"\"\n",
    "Today the hyderbad weather is cool. It may rain in an hour\n",
    "\"\"\"\n",
    "print(\"Today the hyderbad weather is cool. It may rain in an hour\")\n",
    "print(\"It may rain in an hour\")"
   ]
  },
  {
   "cell_type": "code",
   "execution_count": 33,
   "metadata": {},
   "outputs": [
    {
     "name": "stdout",
     "output_type": "stream",
     "text": [
      "Today the hyderbad weather is cool It may rain in an hour\n"
     ]
    }
   ],
   "source": [
    "\"\"\"\n",
    "Today the hyderbad weather is cool. It may rain in an hour\n",
    "\"\"\"\n",
    "print(\"Today the hyderbad weather is cool\",end=\" \")\n",
    "print(\"It may rain in an hour\")"
   ]
  },
  {
   "cell_type": "code",
   "execution_count": 35,
   "metadata": {},
   "outputs": [
    {
     "name": "stdout",
     "output_type": "stream",
     "text": [
      "Today the hyderbad weather is cool. It may rain in an hour\n"
     ]
    }
   ],
   "source": [
    "\"\"\"\n",
    "Today the hyderbad weather is cool\n",
    "It may rain in an hour\n",
    "\"\"\"\n",
    "print(\"Today the hyderbad weather is cool\", end=\". \")\n",
    "print(\"It may rain in an hour\")"
   ]
  },
  {
   "cell_type": "code",
   "execution_count": 36,
   "metadata": {},
   "outputs": [
    {
     "name": "stdout",
     "output_type": "stream",
     "text": [
      "Today the hyderbad weather is cool. It may rain in an hour\n"
     ]
    }
   ],
   "source": [
    "\"\"\"\n",
    "Today the hyderbad weather is cool\n",
    "It may rain in an hour\n",
    "\"\"\"\n",
    "print(\"Today the hyderbad weather is cool. It may rain in an hour\")"
   ]
  },
  {
   "cell_type": "code",
   "execution_count": 37,
   "metadata": {},
   "outputs": [
    {
     "name": "stdout",
     "output_type": "stream",
     "text": [
      "Today the hyderbad weather is cool.\n",
      "It may rain in an hour\n"
     ]
    }
   ],
   "source": [
    "\"\"\"\n",
    "Today the hyderbad weather is cool\n",
    "It may rain in an hour\n",
    "\"\"\"\n",
    "print(\"Today the hyderbad weather is cool.\\nIt may rain in an hour\")"
   ]
  },
  {
   "cell_type": "code",
   "execution_count": 38,
   "metadata": {},
   "outputs": [
    {
     "name": "stdout",
     "output_type": "stream",
     "text": [
      "Today the hyderbad weather is cool.\n",
      "It may\train in an hour\n"
     ]
    }
   ],
   "source": [
    "\"\"\"\n",
    "Today the hyderbad weather is cool\n",
    "It may rain in an hour\n",
    "\"\"\"\n",
    "print(\"Today the hyderbad weather is cool.\\nIt may\\train in an hour\")"
   ]
  },
  {
   "cell_type": "code",
   "execution_count": 39,
   "metadata": {},
   "outputs": [
    {
     "name": "stdout",
     "output_type": "stream",
     "text": [
      "\n",
      "\t\n"
     ]
    }
   ],
   "source": [
    "print(\"\\n\\t\")# space characters"
   ]
  },
  {
   "cell_type": "code",
   "execution_count": 40,
   "metadata": {},
   "outputs": [
    {
     "name": "stdout",
     "output_type": "stream",
     "text": [
      "\\n\\t\n"
     ]
    }
   ],
   "source": [
    "print(\"\\\\n\\\\t\")# space characters"
   ]
  },
  {
   "cell_type": "code",
   "execution_count": 41,
   "metadata": {},
   "outputs": [
    {
     "name": "stdout",
     "output_type": "stream",
     "text": [
      "\\\n",
      "\\\t\n"
     ]
    }
   ],
   "source": [
    "print(\"\\\\\\n\\\\\\t\")# space characters"
   ]
  },
  {
   "cell_type": "code",
   "execution_count": 42,
   "metadata": {},
   "outputs": [
    {
     "name": "stdout",
     "output_type": "stream",
     "text": [
      "\\\\n\\\\t\n"
     ]
    }
   ],
   "source": [
    "print(\"\\\\\\\\n\\\\\\\\t\")# space characters"
   ]
  },
  {
   "cell_type": "code",
   "execution_count": 43,
   "metadata": {},
   "outputs": [
    {
     "name": "stdout",
     "output_type": "stream",
     "text": [
      "sdsdf\n",
      "sdfsdf\tsddfdsfsd\n",
      "sdfsdfsd\n",
      "sddfdsfsd\tsdfdsfs\n",
      "sdfsdf\tsdfdsf\n",
      "sdfds\n",
      "sdfsd\n",
      "dsfsd\n",
      "sdfds\tsdfds\n",
      "\n"
     ]
    }
   ],
   "source": [
    "s=\"sdsdf\\nsdfsdf\\tsddfdsfsd\\nsdfsdfsd\\nsddfdsfsd\\tsdfdsfs\\nsdfsdf\\tsdfdsf\\nsdfds\\nsdfsd\\ndsfsd\\nsdfds\\tsdfds\\n\"\n",
    "print(s)"
   ]
  },
  {
   "cell_type": "code",
   "execution_count": 44,
   "metadata": {},
   "outputs": [
    {
     "name": "stdout",
     "output_type": "stream",
     "text": [
      "sdsdf\\nsdfsdf\\tsddfdsfsd\\nsdfsdfsd\\nsddfdsfsd\\tsdfdsfs\\nsdfsdf\\tsdfdsf\\nsdfds\\nsdfsd\\ndsfsd\\nsdfds\\tsdfds\\n\n"
     ]
    }
   ],
   "source": [
    "s=\"sdsdf\\\\nsdfsdf\\\\tsddfdsfsd\\\\nsdfsdfsd\\\\nsddfdsfsd\\\\tsdfdsfs\\\\nsdfsdf\\\\tsdfdsf\\\\nsdfds\\\\nsdfsd\\\\ndsfsd\\\\nsdfds\\\\tsdfds\\\\n\"\n",
    "print(s)"
   ]
  },
  {
   "cell_type": "code",
   "execution_count": 45,
   "metadata": {},
   "outputs": [
    {
     "name": "stdout",
     "output_type": "stream",
     "text": [
      "sdsdf\\nsdfsdf\\tsddfdsfsd\\nsdfsdfsd\\nsddfdsfsd\\tsdfdsfs\\nsdfsdf\\tsdfdsf\\nsdfds\\nsdfsd\\ndsfsd\\nsdfds\\tsdfds\\n\n"
     ]
    }
   ],
   "source": [
    "s=r\"sdsdf\\nsdfsdf\\tsddfdsfsd\\nsdfsdfsd\\nsddfdsfsd\\tsdfdsfs\\nsdfsdf\\tsdfdsf\\nsdfds\\nsdfsd\\ndsfsd\\nsdfds\\tsdfds\\n\"\n",
    "print(s)"
   ]
  },
  {
   "cell_type": "code",
   "execution_count": null,
   "metadata": {},
   "outputs": [],
   "source": []
  }
 ],
 "metadata": {
  "kernelspec": {
   "display_name": "Python 3",
   "language": "python",
   "name": "python3"
  },
  "language_info": {
   "codemirror_mode": {
    "name": "ipython",
    "version": 3
   },
   "file_extension": ".py",
   "mimetype": "text/x-python",
   "name": "python",
   "nbconvert_exporter": "python",
   "pygments_lexer": "ipython3",
   "version": "3.8.3"
  }
 },
 "nbformat": 4,
 "nbformat_minor": 4
}
