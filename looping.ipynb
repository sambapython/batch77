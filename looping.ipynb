{
 "cells": [
  {
   "cell_type": "code",
   "execution_count": null,
   "metadata": {},
   "outputs": [],
   "source": [
    "l=[10,11,15]\n"
   ]
  },
  {
   "cell_type": "code",
   "execution_count": 1,
   "metadata": {},
   "outputs": [
    {
     "name": "stdout",
     "output_type": "stream",
     "text": [
      "Even\n"
     ]
    }
   ],
   "source": [
    "n=10\n",
    "print(\"Even\" if n%2==0 else \"odd\")"
   ]
  },
  {
   "cell_type": "code",
   "execution_count": 2,
   "metadata": {},
   "outputs": [
    {
     "name": "stdout",
     "output_type": "stream",
     "text": [
      "10\n",
      "11\n",
      "15\n"
     ]
    }
   ],
   "source": [
    "l=[10,11,15]\n",
    "print(l[0])\n",
    "print(l[1])\n",
    "print(l[2])"
   ]
  },
  {
   "cell_type": "code",
   "execution_count": 3,
   "metadata": {},
   "outputs": [
    {
     "name": "stdout",
     "output_type": "stream",
     "text": [
      "Even\n",
      "odd\n",
      "odd\n"
     ]
    }
   ],
   "source": [
    "l=[10,11,15]\n",
    "print(\"Even\" if l[0]%2==0 else \"odd\")\n",
    "print(\"Even\" if l[1]%2==0 else \"odd\")\n",
    "print(\"Even\" if l[2]%2==0 else \"odd\")"
   ]
  },
  {
   "cell_type": "code",
   "execution_count": 4,
   "metadata": {},
   "outputs": [
    {
     "name": "stdout",
     "output_type": "stream",
     "text": [
      "10\n",
      "11\n",
      "15\n"
     ]
    }
   ],
   "source": [
    "l=[10,11,15]\n",
    "for i in l:#15\n",
    "    print(i)"
   ]
  },
  {
   "cell_type": "code",
   "execution_count": 5,
   "metadata": {},
   "outputs": [
    {
     "name": "stdout",
     "output_type": "stream",
     "text": [
      "p\n",
      "y\n",
      "t\n",
      "h\n",
      "o\n",
      "n\n"
     ]
    }
   ],
   "source": [
    "l=\"python\"\n",
    "for i in l:\n",
    "    print(i)"
   ]
  },
  {
   "cell_type": "code",
   "execution_count": 6,
   "metadata": {},
   "outputs": [
    {
     "name": "stdout",
     "output_type": "stream",
     "text": [
      "p\n",
      "y\n",
      "t\n",
      "h\n",
      "o\n",
      "n\n"
     ]
    }
   ],
   "source": [
    "s=\"python\"\n",
    "print(s[0])\n",
    "print(s[1])\n",
    "print(s[2])\n",
    "print(s[3])\n",
    "print(s[4])\n",
    "print(s[5])"
   ]
  },
  {
   "cell_type": "code",
   "execution_count": null,
   "metadata": {},
   "outputs": [],
   "source": [
    "# check how for loop acting for these datatypes (tuple, dictionary, set, int,bool,float,complex)\n",
    "l=10\n",
    "for i in l:\n",
    "    print(i)"
   ]
  },
  {
   "cell_type": "code",
   "execution_count": 7,
   "metadata": {},
   "outputs": [
    {
     "name": "stdout",
     "output_type": "stream",
     "text": [
      "10\n",
      "20\n",
      "30\n",
      "40\n"
     ]
    }
   ],
   "source": [
    "l=(10,20,30,40)\n",
    "for i in l:\n",
    "    print(i)"
   ]
  },
  {
   "cell_type": "code",
   "execution_count": 8,
   "metadata": {},
   "outputs": [
    {
     "name": "stdout",
     "output_type": "stream",
     "text": [
      "40\n",
      "10\n",
      "20\n",
      "30\n"
     ]
    }
   ],
   "source": [
    "l={10,20,30,40} # unordered\n",
    "for i in l:\n",
    "    print(i)"
   ]
  },
  {
   "cell_type": "code",
   "execution_count": 9,
   "metadata": {},
   "outputs": [
    {
     "name": "stdout",
     "output_type": "stream",
     "text": [
      "name\n",
      "age\n",
      "weight\n"
     ]
    }
   ],
   "source": [
    "d={\"name\":\"jay\",\"age\":4,\"weight\":17} # by default for dict it will give keys \n",
    "for i in d:\n",
    "    print(i)"
   ]
  },
  {
   "cell_type": "code",
   "execution_count": 10,
   "metadata": {},
   "outputs": [
    {
     "ename": "TypeError",
     "evalue": "'int' object is not iterable",
     "output_type": "error",
     "traceback": [
      "\u001b[1;31m---------------------------------------------------------------------------\u001b[0m",
      "\u001b[1;31mTypeError\u001b[0m                                 Traceback (most recent call last)",
      "\u001b[1;32m<ipython-input-10-1b684e6afa90>\u001b[0m in \u001b[0;36m<module>\u001b[1;34m\u001b[0m\n\u001b[0;32m      1\u001b[0m \u001b[0md\u001b[0m\u001b[1;33m=\u001b[0m\u001b[1;36m10\u001b[0m\u001b[1;33m\u001b[0m\u001b[1;33m\u001b[0m\u001b[0m\n\u001b[1;32m----> 2\u001b[1;33m \u001b[1;32mfor\u001b[0m \u001b[0mi\u001b[0m \u001b[1;32min\u001b[0m \u001b[0md\u001b[0m\u001b[1;33m:\u001b[0m\u001b[1;33m\u001b[0m\u001b[1;33m\u001b[0m\u001b[0m\n\u001b[0m\u001b[0;32m      3\u001b[0m     \u001b[0mprint\u001b[0m\u001b[1;33m(\u001b[0m\u001b[0mi\u001b[0m\u001b[1;33m)\u001b[0m\u001b[1;33m\u001b[0m\u001b[1;33m\u001b[0m\u001b[0m\n",
      "\u001b[1;31mTypeError\u001b[0m: 'int' object is not iterable"
     ]
    }
   ],
   "source": [
    "d=10\n",
    "for i in d:\n",
    "    print(i)"
   ]
  },
  {
   "cell_type": "code",
   "execution_count": 11,
   "metadata": {},
   "outputs": [
    {
     "ename": "TypeError",
     "evalue": "'float' object is not iterable",
     "output_type": "error",
     "traceback": [
      "\u001b[1;31m---------------------------------------------------------------------------\u001b[0m",
      "\u001b[1;31mTypeError\u001b[0m                                 Traceback (most recent call last)",
      "\u001b[1;32m<ipython-input-11-699c603570c3>\u001b[0m in \u001b[0;36m<module>\u001b[1;34m\u001b[0m\n\u001b[0;32m      1\u001b[0m \u001b[0md\u001b[0m\u001b[1;33m=\u001b[0m\u001b[1;36m11.23\u001b[0m\u001b[1;33m\u001b[0m\u001b[1;33m\u001b[0m\u001b[0m\n\u001b[1;32m----> 2\u001b[1;33m \u001b[1;32mfor\u001b[0m \u001b[0mi\u001b[0m \u001b[1;32min\u001b[0m \u001b[0md\u001b[0m\u001b[1;33m:\u001b[0m\u001b[1;33m\u001b[0m\u001b[1;33m\u001b[0m\u001b[0m\n\u001b[0m\u001b[0;32m      3\u001b[0m     \u001b[0mprint\u001b[0m\u001b[1;33m(\u001b[0m\u001b[0mi\u001b[0m\u001b[1;33m)\u001b[0m\u001b[1;33m\u001b[0m\u001b[1;33m\u001b[0m\u001b[0m\n",
      "\u001b[1;31mTypeError\u001b[0m: 'float' object is not iterable"
     ]
    }
   ],
   "source": [
    "d=11.23\n",
    "for i in d:\n",
    "    print(i)"
   ]
  },
  {
   "cell_type": "code",
   "execution_count": null,
   "metadata": {},
   "outputs": [],
   "source": [
    "#triswanth: start 0-9 end: syntax error\n",
    "#hari: \n",
    "# vineeth:\n",
    "# satheesh: \n",
    "\"\"\"\n",
    "s\n",
    "t\n",
    "a\n",
    "r\n",
    "t\n",
    "\"\"\"\n",
    "#start 0-9 end\n",
    "print(\"start\")\n",
    "i=0\n",
    "if i<10:\n",
    "    print(i)\n",
    "    i=i+1\n",
    "print(\"end\")"
   ]
  },
  {
   "cell_type": "code",
   "execution_count": 12,
   "metadata": {},
   "outputs": [
    {
     "name": "stdout",
     "output_type": "stream",
     "text": [
      "start\n",
      "1\n",
      "end\n"
     ]
    }
   ],
   "source": [
    "print(\"start\")\n",
    "i=0\n",
    "if i<10:\n",
    "    i=i+1\n",
    "    print(i)\n",
    "print(\"end\")"
   ]
  },
  {
   "cell_type": "code",
   "execution_count": 13,
   "metadata": {},
   "outputs": [
    {
     "name": "stdout",
     "output_type": "stream",
     "text": [
      "start\n",
      "0\n",
      "end\n"
     ]
    }
   ],
   "source": [
    "print(\"start\")\n",
    "i=0\n",
    "if i<10: # 0<10: True\n",
    "    print(i)\n",
    "    i=i+1\n",
    "print(\"end\")"
   ]
  },
  {
   "cell_type": "code",
   "execution_count": 14,
   "metadata": {},
   "outputs": [
    {
     "name": "stdout",
     "output_type": "stream",
     "text": [
      "start\n",
      "0\n",
      "1\n",
      "2\n",
      "3\n",
      "4\n",
      "5\n",
      "6\n",
      "7\n",
      "8\n",
      "9\n",
      "end\n"
     ]
    }
   ],
   "source": [
    "print(\"start\")\n",
    "i=0\n",
    "while i<10: \n",
    "    print(i)\n",
    "    i=i+1\n",
    "print(\"end\")"
   ]
  },
  {
   "cell_type": "code",
   "execution_count": 15,
   "metadata": {},
   "outputs": [
    {
     "name": "stdout",
     "output_type": "stream",
     "text": [
      "start\n",
      "0\n",
      "1\n",
      "2\n",
      "end\n"
     ]
    }
   ],
   "source": [
    "print(\"start\")\n",
    "i=0\n",
    "while i<3: # 3<3: False\n",
    "    print(i) #012\n",
    "    i=i+1 #i=3\n",
    "print(\"end\")"
   ]
  },
  {
   "cell_type": "code",
   "execution_count": null,
   "metadata": {},
   "outputs": [],
   "source": [
    "l=[1,4,5,2,3]\n",
    "for i in l:\n",
    "    print(i)\n",
    "    print(\"hello\")\n",
    "    if i%2==0:\n",
    "        print(\"Even\")\n",
    "    else:\n",
    "        print(\"odd\")\n",
    "print(\"end\")"
   ]
  },
  {
   "cell_type": "code",
   "execution_count": null,
   "metadata": {},
   "outputs": [],
   "source": [
    "print(\"start\")\n",
    "i=0\n",
    "while i>3:\n",
    "    print(i)\n",
    "    i=i+1\n",
    "    print(\"hello\")\n",
    "    if i%2==0:\n",
    "        print(\"Even\")\n",
    "    else:\n",
    "        print(\"odd\")\n",
    "print(\"end\")"
   ]
  },
  {
   "cell_type": "code",
   "execution_count": null,
   "metadata": {},
   "outputs": [],
   "source": [
    "print(\"start\")\n",
    "i=0\n",
    "while i<3:\n",
    "    print(i)\n",
    "    i=i+10\n",
    "    print(\"hello\")\n",
    "    if i%2==0:\n",
    "        print(\"Even\")\n",
    "    else:\n",
    "        print(\"odd\")\n",
    "print(\"end\")"
   ]
  },
  {
   "cell_type": "code",
   "execution_count": null,
   "metadata": {},
   "outputs": [],
   "source": [
    "print(\"start\")\n",
    "i=0\n",
    "while i<3:\n",
    "    print(i)\n",
    "    i=i-1\n",
    "    print(\"hello\")\n",
    "    if i%2==0:\n",
    "        print(\"Even\")\n",
    "    else:\n",
    "        print(\"odd\")\n",
    "print(\"end\")"
   ]
  },
  {
   "cell_type": "code",
   "execution_count": null,
   "metadata": {},
   "outputs": [],
   "source": [
    "print(\"start\")\n",
    "i=0\n",
    "while i<3:\n",
    "    print(i)\n",
    "    i=i+10\n",
    "    print(\"hello\")\n",
    "    if i%2==0:\n",
    "        print(\"Even\")\n",
    "    else:\n",
    "        print(\"odd\")\n",
    "print(\"end\")"
   ]
  },
  {
   "cell_type": "code",
   "execution_count": null,
   "metadata": {},
   "outputs": [],
   "source": [
    "print(\"start\")\n",
    "i=0\n",
    "while True:\n",
    "    print(i)\n",
    "    i=i+1\n",
    "print(\"end\")"
   ]
  },
  {
   "cell_type": "code",
   "execution_count": null,
   "metadata": {},
   "outputs": [],
   "source": [
    "print(\"start\")\n",
    "i=0\n",
    "while i<10:\n",
    "    print(i)\n",
    "print(\"end\")"
   ]
  },
  {
   "cell_type": "code",
   "execution_count": null,
   "metadata": {},
   "outputs": [],
   "source": [
    "print(\"start\")\n",
    "i=0\n",
    "while False:\n",
    "    print(i)\n",
    "print(\"end\")"
   ]
  },
  {
   "cell_type": "code",
   "execution_count": null,
   "metadata": {},
   "outputs": [],
   "source": [
    "print(\"start\")\n",
    "i=0\n",
    "while 1:\n",
    "    print(i)\n",
    "print(\"end\")"
   ]
  },
  {
   "cell_type": "code",
   "execution_count": null,
   "metadata": {},
   "outputs": [],
   "source": [
    "print(\"start\")\n",
    "i=0\n",
    "while 0:\n",
    "    print(i)\n",
    "print(\"end\")"
   ]
  },
  {
   "cell_type": "code",
   "execution_count": 1,
   "metadata": {},
   "outputs": [
    {
     "name": "stdout",
     "output_type": "stream",
     "text": [
      "1\n",
      "-2\n",
      "3\n",
      "4\n",
      "-5\n",
      "6\n",
      "-1\n"
     ]
    }
   ],
   "source": [
    "l=[1,-2,3,4,-5,6,7-8]\n",
    "# write a code to print below\n",
    "\"\"\"\n",
    "1: positive\n",
    "-2: Negative\n",
    "3: positive\n",
    "...\n",
    "\"\"\"\n",
    "for i in l:\n",
    "    print(i)"
   ]
  },
  {
   "cell_type": "code",
   "execution_count": 2,
   "metadata": {},
   "outputs": [
    {
     "name": "stdout",
     "output_type": "stream",
     "text": [
      "1 :positive\n",
      "-2 :negative\n",
      "3 :positive\n",
      "4 :positive\n",
      "-5 :negative\n",
      "6 :positive\n",
      "-1 :negative\n"
     ]
    }
   ],
   "source": [
    "l=[1,-2,3,4,-5,6,7-8]\n",
    "# write a code to print below\n",
    "\"\"\"\n",
    "1: positive\n",
    "-2: Negative\n",
    "3: positive\n",
    "...\n",
    "\"\"\"\n",
    "for i in l:\n",
    "    print(i,\":positive\" if i>0 else \":negative\")"
   ]
  },
  {
   "cell_type": "code",
   "execution_count": 3,
   "metadata": {},
   "outputs": [
    {
     "data": {
      "text/plain": [
       "False"
      ]
     },
     "execution_count": 3,
     "metadata": {},
     "output_type": "execute_result"
    }
   ],
   "source": [
    "\"1: positive\" == \"1 :positive\""
   ]
  },
  {
   "cell_type": "code",
   "execution_count": 5,
   "metadata": {},
   "outputs": [
    {
     "name": "stdout",
     "output_type": "stream",
     "text": [
      "1: positive\n",
      "-2: negative\n",
      "3: positive\n",
      "4: positive\n",
      "-5: negative\n",
      "6: positive\n",
      "7: positive\n",
      "-8: negative\n"
     ]
    }
   ],
   "source": [
    "l=[1,-2,3,4,-5,6,7,-8]\n",
    "# write a code to print below\n",
    "\"\"\"\n",
    "1: positive\n",
    "-2: Negative\n",
    "3: positive\n",
    "...\n",
    "\"\"\"\n",
    "for i in l:\n",
    "    print(f\"{i}: positive\" if i>0 else f\"{i}: negative\")"
   ]
  },
  {
   "cell_type": "code",
   "execution_count": null,
   "metadata": {},
   "outputs": [],
   "source": [
    "l=[1,-2,3,4,-5,6,7,-8]\n",
    "# write a code to print below, ignore the inputs other than int, float\n",
    "\"\"\"\n",
    "1: positive\n",
    "-2: Negative\n",
    "3: positive\n",
    "...\n",
    "\"\"\"\n",
    "for i in l:\n",
    "    print(f\"{i}: positive\" if i>0 else f\"{i}: negative\")"
   ]
  },
  {
   "cell_type": "code",
   "execution_count": null,
   "metadata": {},
   "outputs": [],
   "source": [
    "l=[1,-2,1+2j,3,\"pytthon\",None,4,True,12.3,-3.4,-5,6,7,-8]\n",
    "# write a code to print below, ignore the inputs other than int, float\n",
    "\"\"\"\n",
    "1: positive\n",
    "-2: Negative\n",
    "3: positive\n",
    "...\n",
    "\"\"\"\n",
    "for i in l:\n",
    "    print(f\"{i}: positive\" if i>0 else f\"{i}: negative\")"
   ]
  },
  {
   "cell_type": "code",
   "execution_count": 6,
   "metadata": {},
   "outputs": [
    {
     "ename": "TypeError",
     "evalue": "'>' not supported between instances of 'int' and 'complex'",
     "output_type": "error",
     "traceback": [
      "\u001b[1;31m---------------------------------------------------------------------------\u001b[0m",
      "\u001b[1;31mTypeError\u001b[0m                                 Traceback (most recent call last)",
      "\u001b[1;32m<ipython-input-6-685fcec7d796>\u001b[0m in \u001b[0;36m<module>\u001b[1;34m\u001b[0m\n\u001b[1;32m----> 1\u001b[1;33m \u001b[1;36m1\u001b[0m\u001b[1;33m>\u001b[0m\u001b[1;36m1\u001b[0m\u001b[1;33m+\u001b[0m\u001b[1;36m2j\u001b[0m\u001b[1;33m\u001b[0m\u001b[1;33m\u001b[0m\u001b[0m\n\u001b[0m",
      "\u001b[1;31mTypeError\u001b[0m: '>' not supported between instances of 'int' and 'complex'"
     ]
    }
   ],
   "source": [
    "1>1+2j"
   ]
  },
  {
   "cell_type": "code",
   "execution_count": 7,
   "metadata": {},
   "outputs": [
    {
     "ename": "TypeError",
     "evalue": "'>' not supported between instances of 'complex' and 'int'",
     "output_type": "error",
     "traceback": [
      "\u001b[1;31m---------------------------------------------------------------------------\u001b[0m",
      "\u001b[1;31mTypeError\u001b[0m                                 Traceback (most recent call last)",
      "\u001b[1;32m<ipython-input-7-50cbd27b8ff1>\u001b[0m in \u001b[0;36m<module>\u001b[1;34m\u001b[0m\n\u001b[1;32m----> 1\u001b[1;33m \u001b[1;36m1\u001b[0m\u001b[1;33m+\u001b[0m\u001b[1;36m2j\u001b[0m\u001b[1;33m>\u001b[0m\u001b[1;36m0\u001b[0m\u001b[1;33m\u001b[0m\u001b[1;33m\u001b[0m\u001b[0m\n\u001b[0m",
      "\u001b[1;31mTypeError\u001b[0m: '>' not supported between instances of 'complex' and 'int'"
     ]
    }
   ],
   "source": [
    "1+2j>0"
   ]
  },
  {
   "cell_type": "code",
   "execution_count": 8,
   "metadata": {},
   "outputs": [
    {
     "name": "stdout",
     "output_type": "stream",
     "text": [
      "1: positive\n",
      "-2: negative\n"
     ]
    },
    {
     "ename": "TypeError",
     "evalue": "'>' not supported between instances of 'complex' and 'int'",
     "output_type": "error",
     "traceback": [
      "\u001b[1;31m---------------------------------------------------------------------------\u001b[0m",
      "\u001b[1;31mTypeError\u001b[0m                                 Traceback (most recent call last)",
      "\u001b[1;32m<ipython-input-8-a13c667344e0>\u001b[0m in \u001b[0;36m<module>\u001b[1;34m\u001b[0m\n\u001b[0;32m      8\u001b[0m \"\"\"\n\u001b[0;32m      9\u001b[0m \u001b[1;32mfor\u001b[0m \u001b[0mi\u001b[0m \u001b[1;32min\u001b[0m \u001b[0ml\u001b[0m\u001b[1;33m:\u001b[0m\u001b[1;33m\u001b[0m\u001b[1;33m\u001b[0m\u001b[0m\n\u001b[1;32m---> 10\u001b[1;33m     \u001b[0mprint\u001b[0m\u001b[1;33m(\u001b[0m\u001b[1;34mf\"{i}: positive\"\u001b[0m \u001b[1;32mif\u001b[0m \u001b[0mi\u001b[0m\u001b[1;33m>\u001b[0m\u001b[1;36m0\u001b[0m \u001b[1;32melse\u001b[0m \u001b[1;34mf\"{i}: negative\"\u001b[0m\u001b[1;33m)\u001b[0m\u001b[1;33m\u001b[0m\u001b[1;33m\u001b[0m\u001b[0m\n\u001b[0m",
      "\u001b[1;31mTypeError\u001b[0m: '>' not supported between instances of 'complex' and 'int'"
     ]
    }
   ],
   "source": [
    "l=[1,-2,1+2j,3,\"pytthon\",None,4,True,12.3,-3.4,-5,6,7,-8]\n",
    "# write a code to print below, ignore the inputs other than int, float\n",
    "\"\"\"\n",
    "1: positive\n",
    "-2: Negative\n",
    "3: positive\n",
    "...\n",
    "\"\"\"\n",
    "for i in l:\n",
    "    print(f\"{i}: positive\" if i>0 else f\"{i}: negative\")"
   ]
  },
  {
   "cell_type": "code",
   "execution_count": 9,
   "metadata": {},
   "outputs": [
    {
     "data": {
      "text/plain": [
       "True"
      ]
     },
     "execution_count": 9,
     "metadata": {},
     "output_type": "execute_result"
    }
   ],
   "source": [
    "isinstance(12,int)"
   ]
  },
  {
   "cell_type": "code",
   "execution_count": 10,
   "metadata": {},
   "outputs": [
    {
     "data": {
      "text/plain": [
       "True"
      ]
     },
     "execution_count": 10,
     "metadata": {},
     "output_type": "execute_result"
    }
   ],
   "source": [
    "isinstance(112.3,float)"
   ]
  },
  {
   "cell_type": "code",
   "execution_count": 11,
   "metadata": {},
   "outputs": [
    {
     "data": {
      "text/plain": [
       "True"
      ]
     },
     "execution_count": 11,
     "metadata": {},
     "output_type": "execute_result"
    }
   ],
   "source": [
    "isinstance(12,(int,float))"
   ]
  },
  {
   "cell_type": "code",
   "execution_count": 12,
   "metadata": {},
   "outputs": [
    {
     "data": {
      "text/plain": [
       "True"
      ]
     },
     "execution_count": 12,
     "metadata": {},
     "output_type": "execute_result"
    }
   ],
   "source": [
    "isinstance(12.3,(int,float))"
   ]
  },
  {
   "cell_type": "code",
   "execution_count": 13,
   "metadata": {},
   "outputs": [
    {
     "data": {
      "text/plain": [
       "False"
      ]
     },
     "execution_count": 13,
     "metadata": {},
     "output_type": "execute_result"
    }
   ],
   "source": [
    "isinstance(\"python\",(int,float))"
   ]
  },
  {
   "cell_type": "code",
   "execution_count": 14,
   "metadata": {},
   "outputs": [
    {
     "data": {
      "text/plain": [
       "False"
      ]
     },
     "execution_count": 14,
     "metadata": {},
     "output_type": "execute_result"
    }
   ],
   "source": [
    "isinstance(12+3j,(int,float))"
   ]
  },
  {
   "cell_type": "code",
   "execution_count": 15,
   "metadata": {},
   "outputs": [
    {
     "name": "stdout",
     "output_type": "stream",
     "text": [
      "1: positive\n",
      "-2: negative\n",
      "(1+2j) cant decide\n",
      "3: positive\n",
      "pytthon cant decide\n",
      "None cant decide\n",
      "4: positive\n",
      "True: positive\n",
      "12.3: positive\n",
      "-3.4: negative\n",
      "-5: negative\n",
      "6: positive\n",
      "7: positive\n",
      "-8: negative\n"
     ]
    }
   ],
   "source": [
    "l=[1,-2,1+2j,3,\"pytthon\",None,4,True,12.3,-3.4,-5,6,7,-8]\n",
    "# write a code to print below, ignore the inputs other than int, float\n",
    "\"\"\"\n",
    "1: positive\n",
    "-2: Negative\n",
    "1+2j: cant decide\n",
    "3: positive\n",
    "pytohn: cant decide\n",
    "\n",
    "...\n",
    "\"\"\"\n",
    "for i in l:\n",
    "    if isinstance(i, (int,float)):\n",
    "        print(f\"{i}: positive\" if i>0 else f\"{i}: negative\")\n",
    "    else:\n",
    "        print(f\"{i} cant decide\")"
   ]
  },
  {
   "cell_type": "code",
   "execution_count": 16,
   "metadata": {},
   "outputs": [
    {
     "name": "stdout",
     "output_type": "stream",
     "text": [
      "<class 'bool'>\n",
      "True\n"
     ]
    }
   ],
   "source": [
    "a=True\n",
    "print(type(a))\n",
    "print(isinstance(a, int))#"
   ]
  },
  {
   "cell_type": "code",
   "execution_count": 17,
   "metadata": {},
   "outputs": [
    {
     "data": {
      "text/plain": [
       "1"
      ]
     },
     "execution_count": 17,
     "metadata": {},
     "output_type": "execute_result"
    }
   ],
   "source": [
    "int(True)"
   ]
  },
  {
   "cell_type": "code",
   "execution_count": 18,
   "metadata": {},
   "outputs": [
    {
     "data": {
      "text/plain": [
       "3"
      ]
     },
     "execution_count": 18,
     "metadata": {},
     "output_type": "execute_result"
    }
   ],
   "source": [
    "True+2"
   ]
  },
  {
   "cell_type": "code",
   "execution_count": 19,
   "metadata": {},
   "outputs": [
    {
     "data": {
      "text/plain": [
       "0"
      ]
     },
     "execution_count": 19,
     "metadata": {},
     "output_type": "execute_result"
    }
   ],
   "source": [
    "False*3"
   ]
  },
  {
   "cell_type": "code",
   "execution_count": 20,
   "metadata": {},
   "outputs": [
    {
     "name": "stdout",
     "output_type": "stream",
     "text": [
      "1: positive\n",
      "-2: negative\n",
      "(1+2j) cant decide\n",
      "3: positive\n",
      "pytthon cant decide\n",
      "None cant decide\n",
      "4: positive\n",
      "True cant decide\n",
      "12.3: positive\n",
      "-3.4: negative\n",
      "-5: negative\n",
      "6: positive\n",
      "7: positive\n",
      "-8: negative\n"
     ]
    }
   ],
   "source": [
    "l=[1,-2,1+2j,3,\"pytthon\",None,4,True,12.3,-3.4,-5,6,7,-8]\n",
    "# write a code to print below, ignore the inputs other than int, float\n",
    "\"\"\"\n",
    "1: positive\n",
    "-2: Negative\n",
    "1+2j: cant decide\n",
    "3: positive\n",
    "pytohn: cant decide\n",
    "\n",
    "...\n",
    "\"\"\"\n",
    "for i in l:\n",
    "    if isinstance(i, bool):\n",
    "        print(f\"{i} cant decide\")\n",
    "    elif isinstance(i, (int,float)):\n",
    "        print(f\"{i}: positive\" if i>0 else f\"{i}: negative\")\n",
    "    else:\n",
    "        print(f\"{i} cant decide\")"
   ]
  },
  {
   "cell_type": "code",
   "execution_count": 21,
   "metadata": {},
   "outputs": [
    {
     "name": "stdout",
     "output_type": "stream",
     "text": [
      "(1+2j)\n"
     ]
    }
   ],
   "source": [
    "a=1+2j\n",
    "print(a)"
   ]
  },
  {
   "cell_type": "code",
   "execution_count": 22,
   "metadata": {},
   "outputs": [
    {
     "data": {
      "text/plain": [
       "True"
      ]
     },
     "execution_count": 22,
     "metadata": {},
     "output_type": "execute_result"
    }
   ],
   "source": [
    "12 in   [12,34,21,45,63]"
   ]
  },
  {
   "cell_type": "code",
   "execution_count": 23,
   "metadata": {},
   "outputs": [
    {
     "data": {
      "text/plain": [
       "False"
      ]
     },
     "execution_count": 23,
     "metadata": {},
     "output_type": "execute_result"
    }
   ],
   "source": [
    "47 in   [12,34,21,45,63]"
   ]
  },
  {
   "cell_type": "code",
   "execution_count": 24,
   "metadata": {},
   "outputs": [
    {
     "name": "stdout",
     "output_type": "stream",
     "text": [
      "10: EVEN\n",
      "11: ODD\n",
      "15: ODD\n"
     ]
    }
   ],
   "source": [
    "l=[10,11,15]\n",
    "for i in l:\n",
    "    print(f\"{i}: EVEN\" if i%2==0 else f\"{i}: ODD\" )"
   ]
  },
  {
   "cell_type": "code",
   "execution_count": null,
   "metadata": {},
   "outputs": [],
   "source": [
    "# check whether the list has atlease one even number or not\n",
    "l=[1,3,5,7,33,21] # There is no even numbers in the list\n",
    "l=[1,12,3,5,7,33,21] ## there is an even numbers in the list\n",
    "l=[1,12,34,52,74,33,21] ## there is an even numbers in the list"
   ]
  },
  {
   "cell_type": "code",
   "execution_count": null,
   "metadata": {},
   "outputs": [],
   "source": [
    "# WAP to count even and odd numbers\n",
    "l=[1,3,5,7,33,21] # Even: 0, Odd: 6\n",
    "l=[1,12,3,5,7,33,21] #Even: 1, Odd: 6\n",
    "l=[1,12,34,52,74,33,21] #Even: 4, Odd:3"
   ]
  },
  {
   "cell_type": "code",
   "execution_count": 1,
   "metadata": {},
   "outputs": [
    {
     "name": "stdout",
     "output_type": "stream",
     "text": [
      "EVEN: 1\n",
      "ODD: 6\n"
     ]
    }
   ],
   "source": [
    "l=[1,3,4,5,7,33,21]\n",
    "odd_count=0\n",
    "even_count=0\n",
    "for i in l:\n",
    "    if i%2==0:#True\n",
    "        even_count = even_count+1#1\n",
    "    else:\n",
    "        odd_count = odd_count+1#3\n",
    "print(\"EVEN:\",even_count)\n",
    "print(\"ODD:\",odd_count)\n",
    "\n",
    "        \n",
    "    "
   ]
  },
  {
   "cell_type": "code",
   "execution_count": 2,
   "metadata": {},
   "outputs": [
    {
     "name": "stdout",
     "output_type": "stream",
     "text": [
      "EVEN: 0\n",
      "ODD: 1\n",
      "EVEN: 0\n",
      "ODD: 2\n",
      "EVEN: 1\n",
      "ODD: 2\n",
      "EVEN: 1\n",
      "ODD: 3\n",
      "EVEN: 1\n",
      "ODD: 4\n",
      "EVEN: 1\n",
      "ODD: 5\n",
      "EVEN: 1\n",
      "ODD: 6\n"
     ]
    }
   ],
   "source": [
    "l=[1,3,4,5,7,33,21]\n",
    "odd_count=0\n",
    "even_count=0\n",
    "for i in l:\n",
    "    if i%2==0:#True\n",
    "        even_count = even_count+1#1\n",
    "    else:\n",
    "        odd_count = odd_count+1#3\n",
    "    print(\"EVEN:\",even_count)\n",
    "    print(\"ODD:\",odd_count)\n",
    "\n",
    "        \n",
    "    "
   ]
  },
  {
   "cell_type": "code",
   "execution_count": 3,
   "metadata": {},
   "outputs": [
    {
     "name": "stdout",
     "output_type": "stream",
     "text": [
      "EVEN: 1\n",
      "ODD: 6\n"
     ]
    }
   ],
   "source": [
    "l=[1,3,4,5,7,33,21]\n",
    "odd_count=0\n",
    "even_count=0\n",
    "for i in l:\n",
    "    if i%2==0:#True\n",
    "        even_count = even_count+1#1\n",
    "    else:\n",
    "        odd_count = odd_count+1#3\n",
    "print(\"EVEN:\",even_count)\n",
    "print(\"ODD:\",odd_count)"
   ]
  },
  {
   "cell_type": "code",
   "execution_count": 4,
   "metadata": {},
   "outputs": [
    {
     "name": "stdout",
     "output_type": "stream",
     "text": [
      "list contains evenumbers.\n"
     ]
    }
   ],
   "source": [
    "l=[1,3,4,5,7,33,21]\n",
    "odd_count=0\n",
    "even_count=0\n",
    "for i in l:\n",
    "    if i%2==0:#True\n",
    "        even_count = even_count+1#1\n",
    "    else:\n",
    "        odd_count = odd_count+1#3\n",
    "if even_count == 0:\n",
    "    print(\"list does not contains even numbers\")\n",
    "else:\n",
    "    print(\"list contains evenumbers.\")"
   ]
  },
  {
   "cell_type": "code",
   "execution_count": 5,
   "metadata": {},
   "outputs": [
    {
     "name": "stdout",
     "output_type": "stream",
     "text": [
      "list does not contains even numbers\n"
     ]
    }
   ],
   "source": [
    "l=[1,3,5,7,33,21]\n",
    "odd_count=0\n",
    "even_count=0\n",
    "for i in l:\n",
    "    if i%2==0:\n",
    "        even_count = even_count+1\n",
    "    else:\n",
    "        odd_count = odd_count+1\n",
    "if even_count == 0:\n",
    "    print(\"list does not contains even numbers\")\n",
    "else:\n",
    "    print(\"list contains evenumbers.\")"
   ]
  },
  {
   "cell_type": "code",
   "execution_count": 6,
   "metadata": {},
   "outputs": [
    {
     "name": "stdout",
     "output_type": "stream",
     "text": [
      "4\n",
      "1\n",
      "3\n",
      "6\n",
      "5\n",
      "7\n",
      "33\n",
      "21\n",
      "list contains evenumbers.\n"
     ]
    }
   ],
   "source": [
    "l=[4,1,3,6,5,7,33,21]\n",
    "odd_count=0\n",
    "even_count=0\n",
    "for i in l:\n",
    "    print(i)\n",
    "    if i%2==0:\n",
    "        even_count = even_count+1\n",
    "    else:\n",
    "        odd_count = odd_count+1\n",
    "if even_count == 0:\n",
    "    print(\"list does not contains even numbers\")\n",
    "else:\n",
    "    print(\"list contains evenumbers.\")"
   ]
  },
  {
   "cell_type": "code",
   "execution_count": 7,
   "metadata": {},
   "outputs": [
    {
     "name": "stdout",
     "output_type": "stream",
     "text": [
      "1\n",
      "3\n",
      "6\n",
      "5\n",
      "7\n",
      "33\n",
      "21\n",
      "list contains evenumbers.\n"
     ]
    }
   ],
   "source": [
    "l=[1,3,6,5,7,33,21]\n",
    "odd_count=0\n",
    "even_count=0\n",
    "for i in l:\n",
    "    print(i)\n",
    "    if i%2==0:\n",
    "        even_count = even_count+1\n",
    "    else:\n",
    "        odd_count = odd_count+1\n",
    "if even_count == 0:\n",
    "    print(\"list does not contains even numbers\")\n",
    "else:\n",
    "    print(\"list contains evenumbers.\")"
   ]
  },
  {
   "cell_type": "code",
   "execution_count": 8,
   "metadata": {},
   "outputs": [
    {
     "name": "stdout",
     "output_type": "stream",
     "text": [
      "1\n",
      "3\n",
      "5\n",
      "7\n",
      "33\n",
      "21\n",
      "list does not contains even numbers\n"
     ]
    }
   ],
   "source": [
    "l=[1,3,5,7,33,21]\n",
    "odd_count=0\n",
    "even_count=0\n",
    "for i in l:\n",
    "    print(i)\n",
    "    if i%2==0:\n",
    "        even_count = even_count+1\n",
    "    else:\n",
    "        odd_count = odd_count+1\n",
    "if even_count == 0:\n",
    "    print(\"list does not contains even numbers\")\n",
    "else:\n",
    "    print(\"list contains evenumbers.\")"
   ]
  },
  {
   "cell_type": "code",
   "execution_count": 9,
   "metadata": {},
   "outputs": [
    {
     "name": "stdout",
     "output_type": "stream",
     "text": [
      "1\n",
      "3\n",
      "6\n",
      "list contains evenumbers.\n"
     ]
    }
   ],
   "source": [
    "l=[1,3,6,5,7,33,21]\n",
    "even_count=0\n",
    "for i in l:#i=6\n",
    "    print(i)\n",
    "    if i%2==0:#True\n",
    "        even_count = even_count+1#1\n",
    "        break\n",
    "if even_count == 0:\n",
    "    print(\"list does not contains even numbers\")\n",
    "else:\n",
    "    print(\"list contains evenumbers.\")"
   ]
  },
  {
   "cell_type": "code",
   "execution_count": 10,
   "metadata": {},
   "outputs": [
    {
     "name": "stdout",
     "output_type": "stream",
     "text": [
      "4\n",
      "list contains evenumbers.\n"
     ]
    }
   ],
   "source": [
    "l=[4,1,3,6,5,7,33,21]\n",
    "even_count=0\n",
    "for i in l:#i=6\n",
    "    print(i)\n",
    "    if i%2==0:#True\n",
    "        even_count = even_count+1#1\n",
    "        break\n",
    "if even_count == 0:\n",
    "    print(\"list does not contains even numbers\")\n",
    "else:\n",
    "    print(\"list contains evenumbers.\")"
   ]
  },
  {
   "cell_type": "code",
   "execution_count": 11,
   "metadata": {},
   "outputs": [
    {
     "name": "stdout",
     "output_type": "stream",
     "text": [
      "1\n",
      "3\n",
      "5\n",
      "7\n",
      "33\n",
      "21\n",
      "24\n",
      "list contains evenumbers.\n"
     ]
    }
   ],
   "source": [
    "l=[1,3,5,7,33,21,24]\n",
    "even_count=0\n",
    "for i in l:#i=6\n",
    "    print(i)\n",
    "    if i%2==0:#True\n",
    "        even_count = even_count+1#1\n",
    "        break\n",
    "if even_count == 0:\n",
    "    print(\"list does not contains even numbers\")\n",
    "else:\n",
    "    print(\"list contains evenumbers.\")"
   ]
  },
  {
   "cell_type": "code",
   "execution_count": 12,
   "metadata": {},
   "outputs": [
    {
     "name": "stdout",
     "output_type": "stream",
     "text": [
      "1\n",
      "3\n",
      "5\n",
      "7\n",
      "33\n",
      "21\n",
      "list does not contains even numbers\n"
     ]
    }
   ],
   "source": [
    "l=[1,3,5,7,33,21]\n",
    "even_count=0\n",
    "for i in l:\n",
    "    print(i)\n",
    "    if i%2==0:\n",
    "        even_count = even_count+1\n",
    "        break\n",
    "if even_count == 0:\n",
    "    print(\"list does not contains even numbers\")\n",
    "else:\n",
    "    print(\"list contains evenumbers.\")"
   ]
  },
  {
   "cell_type": "code",
   "execution_count": null,
   "metadata": {},
   "outputs": [],
   "source": [
    "l=[1,3,5,7,33,21]\n",
    "even_count=0\n",
    "for i in l:\n",
    "    print(i)\n",
    "    if i%2==0:\n",
    "        even_count = even_count+1 #reading evecount, incrementing even count, reassiggin evencount\n",
    "        break\n",
    "if even_count == 0:\n",
    "    print(\"list does not contains even numbers\")\n",
    "else:\n",
    "    print(\"list contains evenumbers.\")\n",
    "# Ram memory: number of objects string in ram\n",
    "# time taken complete the program: number of operations performing"
   ]
  },
  {
   "cell_type": "code",
   "execution_count": 13,
   "metadata": {},
   "outputs": [
    {
     "name": "stdout",
     "output_type": "stream",
     "text": [
      "1\n",
      "3\n",
      "4\n",
      "list contains even numbers.\n"
     ]
    }
   ],
   "source": [
    "l=[1,3,4,5,7,33,21]\n",
    "for i in l:\n",
    "    print(i)\n",
    "    if i%2==0:\n",
    "        print(\"list contains even numbers.\")\n",
    "        break"
   ]
  },
  {
   "cell_type": "code",
   "execution_count": 14,
   "metadata": {},
   "outputs": [
    {
     "name": "stdout",
     "output_type": "stream",
     "text": [
      "1\n",
      "3\n",
      "5\n",
      "7\n",
      "33\n",
      "21\n"
     ]
    }
   ],
   "source": [
    "l=[1,3,5,7,33,21]\n",
    "for i in l:\n",
    "    print(i)\n",
    "    if i%2==0:\n",
    "        print(\"list contains even numbers.\")\n",
    "        break"
   ]
  },
  {
   "cell_type": "code",
   "execution_count": null,
   "metadata": {},
   "outputs": [],
   "source": [
    "l=[1,3,5,7,33,21]\n",
    "for i in l:\n",
    "    print(i)\n",
    "    if i%2==0:\n",
    "        print(\"list contains even numbers.\")\n",
    "        break"
   ]
  },
  {
   "cell_type": "code",
   "execution_count": 15,
   "metadata": {},
   "outputs": [
    {
     "name": "stdout",
     "output_type": "stream",
     "text": [
      "start\n",
      "tru\n"
     ]
    }
   ],
   "source": [
    "print(\"start\")\n",
    "if True:\n",
    "    print(\"tru\")\n",
    "else:\n",
    "    print(\"false\")"
   ]
  },
  {
   "cell_type": "code",
   "execution_count": 16,
   "metadata": {},
   "outputs": [
    {
     "name": "stdout",
     "output_type": "stream",
     "text": [
      "start\n",
      "tru\n"
     ]
    }
   ],
   "source": [
    "print(\"start\")\n",
    "if True:\n",
    "    print(\"tru\")"
   ]
  },
  {
   "cell_type": "code",
   "execution_count": 17,
   "metadata": {},
   "outputs": [
    {
     "ename": "SyntaxError",
     "evalue": "invalid syntax (<ipython-input-17-6a54ddcb601f>, line 2)",
     "output_type": "error",
     "traceback": [
      "\u001b[1;36m  File \u001b[1;32m\"<ipython-input-17-6a54ddcb601f>\"\u001b[1;36m, line \u001b[1;32m2\u001b[0m\n\u001b[1;33m    else:\u001b[0m\n\u001b[1;37m    ^\u001b[0m\n\u001b[1;31mSyntaxError\u001b[0m\u001b[1;31m:\u001b[0m invalid syntax\n"
     ]
    }
   ],
   "source": [
    "print(\"start\")\n",
    "else:\n",
    "    print(\"false\")"
   ]
  },
  {
   "cell_type": "code",
   "execution_count": null,
   "metadata": {},
   "outputs": [],
   "source": [
    "l=[1,3,5,7,33,21]\n",
    "for i in l:\n",
    "    print(i)\n",
    "    if i%2==0:\n",
    "        print(\"list contains even numbers.\")\n",
    "        break\n",
    "else:\n",
    "    \n",
    "        "
   ]
  },
  {
   "cell_type": "code",
   "execution_count": 18,
   "metadata": {},
   "outputs": [
    {
     "name": "stdout",
     "output_type": "stream",
     "text": [
      "i= 0\n",
      "end\n"
     ]
    }
   ],
   "source": [
    "i=0\n",
    "while i>3:#0>3: False\n",
    "    break#\n",
    "    print(i)\n",
    "    i=i+1\n",
    "print(\"i=\",i)\n",
    "print(\"end\")"
   ]
  },
  {
   "cell_type": "code",
   "execution_count": 19,
   "metadata": {},
   "outputs": [
    {
     "name": "stdout",
     "output_type": "stream",
     "text": [
      "i= 0\n",
      "end\n"
     ]
    }
   ],
   "source": [
    "i=0\n",
    "while i<3:#0<3:True\n",
    "    break\n",
    "    print(i)\n",
    "    i=i+1\n",
    "print(\"i=\",i)\n",
    "print(\"end\")"
   ]
  },
  {
   "cell_type": "code",
   "execution_count": 20,
   "metadata": {},
   "outputs": [
    {
     "name": "stdout",
     "output_type": "stream",
     "text": [
      "0\n",
      "i= 1\n",
      "end\n"
     ]
    }
   ],
   "source": [
    "i=0\n",
    "while i<3:#0<3:True\n",
    "    print(i)\n",
    "    i=i+1#1\n",
    "    break\n",
    "print(\"i=\",i)\n",
    "print(\"end\")"
   ]
  },
  {
   "cell_type": "code",
   "execution_count": 21,
   "metadata": {},
   "outputs": [
    {
     "name": "stdout",
     "output_type": "stream",
     "text": [
      "0\n",
      "i= 1\n",
      "end\n"
     ]
    }
   ],
   "source": [
    "i=0\n",
    "while i<3:#True\n",
    "    if i==1:# False\n",
    "        break\n",
    "    print(i)\n",
    "    i=i+1#1\n",
    "print(\"i=\",i)\n",
    "print(\"end\")"
   ]
  },
  {
   "cell_type": "code",
   "execution_count": 22,
   "metadata": {},
   "outputs": [
    {
     "name": "stdout",
     "output_type": "stream",
     "text": [
      "start\n",
      "10\n",
      "20\n",
      "30\n",
      "i= 30\n",
      "end\n"
     ]
    }
   ],
   "source": [
    "print(\"start\")\n",
    "for i in [10,20,30,40]:\n",
    "    print(i)\n",
    "    if i==30:\n",
    "        break\n",
    "        print(\"hello\")\n",
    "print(\"i=\",i)\n",
    "print(\"end\")"
   ]
  },
  {
   "cell_type": "code",
   "execution_count": 23,
   "metadata": {},
   "outputs": [
    {
     "name": "stdout",
     "output_type": "stream",
     "text": [
      "start\n"
     ]
    },
    {
     "ename": "SyntaxError",
     "evalue": "'break' outside loop (<ipython-input-23-8a2b9e727126>, line 3)",
     "output_type": "error",
     "traceback": [
      "\u001b[1;36m  File \u001b[1;32m\"<ipython-input-23-8a2b9e727126>\"\u001b[1;36m, line \u001b[1;32m3\u001b[0m\n\u001b[1;33m    break\u001b[0m\n\u001b[1;37m    ^\u001b[0m\n\u001b[1;31mSyntaxError\u001b[0m\u001b[1;31m:\u001b[0m 'break' outside loop\n"
     ]
    }
   ],
   "source": [
    "print(\"start\")\n",
    "if True:\n",
    "    break\n",
    "else:\n",
    "    print(\"hello\")\n",
    "print(\"end\")"
   ]
  },
  {
   "cell_type": "code",
   "execution_count": 24,
   "metadata": {},
   "outputs": [
    {
     "name": "stdout",
     "output_type": "stream",
     "text": [
      "start\n",
      "10\n",
      "20\n",
      "30\n",
      "40\n",
      "this is else block\n",
      "end\n"
     ]
    }
   ],
   "source": [
    "print(\"start\")\n",
    "for i in [10,20,30,40]:\n",
    "    print(i)\n",
    "else:# in python there is an \"else\" block to \"for\" loop.\n",
    "    print(\"this is else block\")\n",
    "print(\"end\")"
   ]
  },
  {
   "cell_type": "code",
   "execution_count": 25,
   "metadata": {},
   "outputs": [
    {
     "name": "stdout",
     "output_type": "stream",
     "text": [
      "start\n",
      "10\n",
      "end\n"
     ]
    }
   ],
   "source": [
    "print(\"start\")\n",
    "for i in [10,20,30,40]:\n",
    "    print(i)\n",
    "    break\n",
    "else:# in python there is an \"else\" block to \"for\" loop.\n",
    "    print(\"this is else block\")\n",
    "print(\"end\")"
   ]
  },
  {
   "cell_type": "code",
   "execution_count": 26,
   "metadata": {},
   "outputs": [
    {
     "name": "stdout",
     "output_type": "stream",
     "text": [
      "start\n",
      "10\n",
      "20\n",
      "30\n",
      "40\n",
      "this is else block\n",
      "end\n"
     ]
    }
   ],
   "source": [
    "print(\"start\")\n",
    "for i in [10,20,30,40]:\n",
    "    print(i)\n",
    "    if i==5:\n",
    "        break\n",
    "else:# in python there is an \"else\" block to \"for\" loop.\n",
    "    print(\"this is else block\")\n",
    "print(\"end\")"
   ]
  },
  {
   "cell_type": "code",
   "execution_count": 27,
   "metadata": {},
   "outputs": [
    {
     "name": "stdout",
     "output_type": "stream",
     "text": [
      "start\n",
      "this is else block\n",
      "end\n"
     ]
    }
   ],
   "source": [
    "print(\"start\")\n",
    "for i in []:\n",
    "    print(i)\n",
    "    if i==5:\n",
    "        break\n",
    "else:# in python there is an \"else\" block to \"for\" loop.\n",
    "    print(\"this is else block\")\n",
    "print(\"end\")\n",
    "# CAUTION: use else based on your requirement. Must check for empty sequence"
   ]
  },
  {
   "cell_type": "code",
   "execution_count": 28,
   "metadata": {},
   "outputs": [
    {
     "name": "stdout",
     "output_type": "stream",
     "text": [
      "1\n",
      "3\n",
      "5\n",
      "7\n",
      "33\n",
      "21\n",
      "list does not contains evenumbers\n"
     ]
    }
   ],
   "source": [
    "l=[1,3,5,7,33,21]\n",
    "for i in l:\n",
    "    print(i)\n",
    "    if i%2==0:\n",
    "        print(\"list contains even numbers.\")\n",
    "        break\n",
    "else:\n",
    "    print(\"list does not contains evenumbers\")\n",
    "    \n",
    "        "
   ]
  },
  {
   "cell_type": "code",
   "execution_count": 29,
   "metadata": {},
   "outputs": [
    {
     "name": "stdout",
     "output_type": "stream",
     "text": [
      "list does not contains evenumbers\n"
     ]
    }
   ],
   "source": [
    "l=[]\n",
    "for i in l:\n",
    "    print(i)\n",
    "    if i%2==0:\n",
    "        print(\"list contains even numbers.\")\n",
    "        break\n",
    "else:\n",
    "    print(\"list does not contains evenumbers\")\n",
    "    \n",
    "        "
   ]
  },
  {
   "cell_type": "code",
   "execution_count": 30,
   "metadata": {},
   "outputs": [],
   "source": [
    "# continue"
   ]
  },
  {
   "cell_type": "code",
   "execution_count": 31,
   "metadata": {},
   "outputs": [
    {
     "name": "stdout",
     "output_type": "stream",
     "text": [
      "start\n",
      "hello\n",
      "hi\n",
      "hello\n",
      "hi\n",
      "hello\n",
      "hi\n",
      "hello\n",
      "hi\n",
      "hello\n",
      "hi\n",
      "hello\n",
      "hi\n",
      "end\n"
     ]
    }
   ],
   "source": [
    "print(\"start\")\n",
    "for i in \"python\":\n",
    "    print(\"hello\")\n",
    "    print(\"hi\")\n",
    "print(\"end\")"
   ]
  },
  {
   "cell_type": "code",
   "execution_count": 32,
   "metadata": {},
   "outputs": [
    {
     "name": "stdout",
     "output_type": "stream",
     "text": [
      "start\n",
      "i= p\n",
      "hello\n",
      "hi\n",
      "i= y\n",
      "hello\n",
      "i= t\n",
      "hello\n",
      "i= h\n",
      "hello\n",
      "hi\n",
      "i= o\n",
      "hello\n",
      "end\n"
     ]
    }
   ],
   "source": [
    "print(\"start\")\n",
    "for i in \"python\":\n",
    "    print(\"i=\",i)\n",
    "    print(\"hello\")\n",
    "    if i==\"o\":\n",
    "        break\n",
    "    if i in [\"y\",\"t\"]:\n",
    "        continue\n",
    "    print(\"hi\")\n",
    "print(\"end\")"
   ]
  },
  {
   "cell_type": "code",
   "execution_count": 33,
   "metadata": {},
   "outputs": [
    {
     "name": "stdout",
     "output_type": "stream",
     "text": [
      "strt\n",
      "i= p\n",
      "i= y\n",
      "i= t\n",
      "end\n"
     ]
    }
   ],
   "source": [
    "print(\"strt\")\n",
    "for i in \"pyt\":\n",
    "    print(\"i=\",i)\n",
    "    continue\n",
    "    print(\"end of iteration\")\n",
    "print(\"end\")"
   ]
  },
  {
   "cell_type": "code",
   "execution_count": 34,
   "metadata": {},
   "outputs": [
    {
     "name": "stdout",
     "output_type": "stream",
     "text": [
      "strt\n",
      "i= p\n",
      "end of iteration\n",
      "i= y\n",
      "end of iteration\n",
      "i= t\n",
      "end of iteration\n",
      "end\n"
     ]
    }
   ],
   "source": [
    "print(\"strt\")\n",
    "for i in \"pyt\":\n",
    "    print(\"i=\",i)\n",
    "    #continue\n",
    "    print(\"end of iteration\")\n",
    "print(\"end\")"
   ]
  },
  {
   "cell_type": "code",
   "execution_count": null,
   "metadata": {},
   "outputs": [],
   "source": []
  }
 ],
 "metadata": {
  "kernelspec": {
   "display_name": "Python 3",
   "language": "python",
   "name": "python3"
  },
  "language_info": {
   "codemirror_mode": {
    "name": "ipython",
    "version": 3
   },
   "file_extension": ".py",
   "mimetype": "text/x-python",
   "name": "python",
   "nbconvert_exporter": "python",
   "pygments_lexer": "ipython3",
   "version": "3.8.3"
  }
 },
 "nbformat": 4,
 "nbformat_minor": 4
}
