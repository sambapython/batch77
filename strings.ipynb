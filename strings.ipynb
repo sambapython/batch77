{
 "cells": [
  {
   "cell_type": "code",
   "execution_count": 3,
   "metadata": {},
   "outputs": [],
   "source": [
    "s=\"python\""
   ]
  },
  {
   "cell_type": "code",
   "execution_count": 4,
   "metadata": {},
   "outputs": [],
   "source": [
    "s.capitalize?"
   ]
  },
  {
   "cell_type": "code",
   "execution_count": 5,
   "metadata": {},
   "outputs": [
    {
     "name": "stdout",
     "output_type": "stream",
     "text": [
      "Python program\n"
     ]
    }
   ],
   "source": [
    "s=\"python proGRAM\"\n",
    "print(s.capitalize())"
   ]
  },
  {
   "cell_type": "code",
   "execution_count": 6,
   "metadata": {},
   "outputs": [
    {
     "name": "stdout",
     "output_type": "stream",
     "text": [
      "\n"
     ]
    }
   ],
   "source": [
    "s=\"\"\n",
    "print(s.capitalize())"
   ]
  },
  {
   "cell_type": "code",
   "execution_count": 7,
   "metadata": {},
   "outputs": [
    {
     "name": "stdout",
     "output_type": "stream",
     "text": [
      "$python program\n"
     ]
    }
   ],
   "source": [
    "s=\"$python proGRAM\"\n",
    "print(s.capitalize())"
   ]
  },
  {
   "cell_type": "code",
   "execution_count": 8,
   "metadata": {},
   "outputs": [
    {
     "name": "stdout",
     "output_type": "stream",
     "text": [
      "        \n"
     ]
    }
   ],
   "source": [
    "s=\"        \"\n",
    "print(s.capitalize())"
   ]
  },
  {
   "cell_type": "code",
   "execution_count": 9,
   "metadata": {},
   "outputs": [
    {
     "name": "stdout",
     "output_type": "stream",
     "text": [
      "\n",
      "\n"
     ]
    }
   ],
   "source": [
    "s=\"\\n\"\n",
    "print(s.capitalize())"
   ]
  },
  {
   "cell_type": "code",
   "execution_count": 10,
   "metadata": {},
   "outputs": [
    {
     "name": "stdout",
     "output_type": "stream",
     "text": [
      "12sdfsf\n"
     ]
    }
   ],
   "source": [
    "s=\"12sdfsf\"\n",
    "print(s.capitalize())"
   ]
  },
  {
   "cell_type": "code",
   "execution_count": 1,
   "metadata": {},
   "outputs": [
    {
     "name": "stdout",
     "output_type": "stream",
     "text": [
      "['__add__', '__class__', '__contains__', '__delattr__', '__dir__', '__doc__', '__eq__', '__format__', '__ge__', '__getattribute__', '__getitem__', '__getnewargs__', '__gt__', '__hash__', '__init__', '__init_subclass__', '__iter__', '__le__', '__len__', '__lt__', '__mod__', '__mul__', '__ne__', '__new__', '__reduce__', '__reduce_ex__', '__repr__', '__rmod__', '__rmul__', '__setattr__', '__sizeof__', '__str__', '__subclasshook__', 'capitalize', 'casefold', 'center', 'count', 'encode', 'endswith', 'expandtabs', 'find', 'format', 'format_map', 'index', 'isalnum', 'isalpha', 'isascii', 'isdecimal', 'isdigit', 'isidentifier', 'islower', 'isnumeric', 'isprintable', 'isspace', 'istitle', 'isupper', 'join', 'ljust', 'lower', 'lstrip', 'maketrans', 'partition', 'replace', 'rfind', 'rindex', 'rjust', 'rpartition', 'rsplit', 'rstrip', 'split', 'splitlines', 'startswith', 'strip', 'swapcase', 'title', 'translate', 'upper', 'zfill']\n"
     ]
    }
   ],
   "source": [
    "s=\"python\"\n",
    "print(dir(s))"
   ]
  },
  {
   "cell_type": "code",
   "execution_count": 2,
   "metadata": {},
   "outputs": [
    {
     "name": "stdout",
     "output_type": "stream",
     "text": [
      "Python program\n",
      "Python Program\n",
      "python program\n",
      "PYTHON PROGRAM\n",
      "python program\n",
      "pYTHon proGRAM\n"
     ]
    }
   ],
   "source": [
    "s=\"PythON PROgram\"\n",
    "print(s.capitalize())\n",
    "print(s.title())\n",
    "print(s.lower())\n",
    "print(s.upper())\n",
    "print(s.casefold())\n",
    "print(s.swapcase())"
   ]
  },
  {
   "cell_type": "code",
   "execution_count": 3,
   "metadata": {},
   "outputs": [
    {
     "name": "stdout",
     "output_type": "stream",
     "text": [
      "Py3th%on prog$ram\n",
      "Py3Th%On Prog$Ram\n"
     ]
    }
   ],
   "source": [
    "s=\"py3th%on prog$ram\"\n",
    "print(s.capitalize())\n",
    "print(s.title())"
   ]
  },
  {
   "cell_type": "code",
   "execution_count": 4,
   "metadata": {},
   "outputs": [
    {
     "name": "stdout",
     "output_type": "stream",
     "text": [
      "True\n"
     ]
    }
   ],
   "source": [
    "s=\"Python Program\"\n",
    "print(s.istitle())"
   ]
  },
  {
   "cell_type": "code",
   "execution_count": 5,
   "metadata": {},
   "outputs": [
    {
     "name": "stdout",
     "output_type": "stream",
     "text": [
      "False\n"
     ]
    }
   ],
   "source": [
    "s=\"Pyt2hon Pro$gram\"\n",
    "print(s.istitle())"
   ]
  },
  {
   "cell_type": "code",
   "execution_count": 6,
   "metadata": {},
   "outputs": [
    {
     "name": "stdout",
     "output_type": "stream",
     "text": [
      "True\n"
     ]
    }
   ],
   "source": [
    "s=\"Pyt2Hon Pro$Gram\"\n",
    "print(s.istitle())"
   ]
  },
  {
   "cell_type": "code",
   "execution_count": 7,
   "metadata": {},
   "outputs": [
    {
     "data": {
      "text/plain": [
       "False"
      ]
     },
     "execution_count": 7,
     "metadata": {},
     "output_type": "execute_result"
    }
   ],
   "source": [
    "s=\"pyTHON\"\n",
    "k=\"PYThon\"\n",
    "s==k"
   ]
  },
  {
   "cell_type": "code",
   "execution_count": 8,
   "metadata": {},
   "outputs": [
    {
     "data": {
      "text/plain": [
       "True"
      ]
     },
     "execution_count": 8,
     "metadata": {},
     "output_type": "execute_result"
    }
   ],
   "source": [
    "s=\"pyTHON\"\n",
    "k=\"PYThon\"\n",
    "s.lower()==k.lower()"
   ]
  },
  {
   "cell_type": "code",
   "execution_count": 9,
   "metadata": {},
   "outputs": [
    {
     "data": {
      "text/plain": [
       "True"
      ]
     },
     "execution_count": 9,
     "metadata": {},
     "output_type": "execute_result"
    }
   ],
   "source": [
    "s=\"pyTHON\"\n",
    "k=\"PYThon\"\n",
    "s.upper()==k.upper()"
   ]
  },
  {
   "cell_type": "code",
   "execution_count": 10,
   "metadata": {},
   "outputs": [
    {
     "data": {
      "text/plain": [
       "True"
      ]
     },
     "execution_count": 10,
     "metadata": {},
     "output_type": "execute_result"
    }
   ],
   "source": [
    "s=\"pyTHON\"\n",
    "k=\"PYThon\"\n",
    "s.casefold()==k.casefold()"
   ]
  },
  {
   "cell_type": "code",
   "execution_count": 11,
   "metadata": {},
   "outputs": [
    {
     "name": "stdout",
     "output_type": "stream",
     "text": [
      "python program                                    \n",
      "                  python program                  \n",
      "                                    python program\n"
     ]
    }
   ],
   "source": [
    "s=\"python program\"\n",
    "print(s.ljust(50))\n",
    "print(s.center(50))\n",
    "print(s.rjust(50))"
   ]
  },
  {
   "cell_type": "code",
   "execution_count": 12,
   "metadata": {},
   "outputs": [
    {
     "name": "stdout",
     "output_type": "stream",
     "text": [
      "python program                                                                                           \n",
      "                                              python program                                             \n",
      "                                                                                           python program\n"
     ]
    }
   ],
   "source": [
    "s=\"python program\"\n",
    "print(s.ljust(105))\n",
    "print(s.center(105))\n",
    "print(s.rjust(105))"
   ]
  },
  {
   "cell_type": "code",
   "execution_count": 13,
   "metadata": {},
   "outputs": [
    {
     "name": "stdout",
     "output_type": "stream",
     "text": [
      "python program                                                                                                               \n",
      "                                                        python program                                                       \n",
      "                                                                                                               python program\n"
     ]
    }
   ],
   "source": [
    "s=\"python program\"\n",
    "print(s.ljust(125))\n",
    "print(s.center(125))\n",
    "print(s.rjust(125))"
   ]
  },
  {
   "cell_type": "code",
   "execution_count": 14,
   "metadata": {},
   "outputs": [
    {
     "name": "stdout",
     "output_type": "stream",
     "text": [
      "55\n"
     ]
    }
   ],
   "source": [
    "s=\"python program\"\n",
    "output_size=125\n",
    "len_s=len(s)\n",
    "remaining = output_size-len_s\n",
    "number_spaces=remaining//2\n",
    "print(number_spaces)"
   ]
  },
  {
   "cell_type": "code",
   "execution_count": 15,
   "metadata": {},
   "outputs": [
    {
     "name": "stdout",
     "output_type": "stream",
     "text": [
      "                                                       python program                                                       \n"
     ]
    }
   ],
   "source": [
    "s=\"python program\"\n",
    "output_size=125\n",
    "len_s=len(s)\n",
    "remaining = output_size-len_s\n",
    "number_spaces=remaining//2\n",
    "print(\" \"*number_spaces+s+\" \"*number_spaces)"
   ]
  },
  {
   "cell_type": "code",
   "execution_count": 16,
   "metadata": {},
   "outputs": [
    {
     "name": "stdout",
     "output_type": "stream",
     "text": [
      "+++++++++++++++++++++++++++++++++++++++++++++++++++++++python program+++++++++++++++++++++++++++++++++++++++++++++++++++++++\n"
     ]
    }
   ],
   "source": [
    "s=\"python program\"\n",
    "output_size=125\n",
    "len_s=len(s)\n",
    "remaining = output_size-len_s\n",
    "number_spaces=remaining//2\n",
    "print(\"+\"*number_spaces+s+\"+\"*number_spaces)"
   ]
  },
  {
   "cell_type": "code",
   "execution_count": 18,
   "metadata": {},
   "outputs": [
    {
     "name": "stdout",
     "output_type": "stream",
     "text": [
      "python program***************************************************************************************************************\n",
      "++++++++++++++++++++++++++++++++++++++++++++++++++++++++python program+++++++++++++++++++++++++++++++++++++++++++++++++++++++\n",
      "---------------------------------------------------------------------------------------------------------------python program\n"
     ]
    }
   ],
   "source": [
    "s=\"python program\"\n",
    "print(s.ljust(125,\"*\"))\n",
    "print(s.center(125,\"+\"))\n",
    "print(s.rjust(125,\"-\"))"
   ]
  },
  {
   "cell_type": "code",
   "execution_count": 19,
   "metadata": {},
   "outputs": [
    {
     "name": "stdout",
     "output_type": "stream",
     "text": [
      "python program\n",
      "python program\n",
      "python program\n"
     ]
    }
   ],
   "source": [
    "s=\"python program\"\n",
    "print(s.ljust(10))\n",
    "print(s.center(10))\n",
    "print(s.rjust(10))"
   ]
  },
  {
   "cell_type": "code",
   "execution_count": 20,
   "metadata": {},
   "outputs": [
    {
     "name": "stdout",
     "output_type": "stream",
     "text": [
      "python program                                                                                      \n",
      "                                             python program                                             \n",
      "                                                                  python program\n"
     ]
    }
   ],
   "source": [
    "s=\"python program\"\n",
    "print(s.ljust(100))\n",
    "print(s.center(104))\n",
    "print(s.rjust(80))"
   ]
  },
  {
   "cell_type": "code",
   "execution_count": 24,
   "metadata": {},
   "outputs": [
    {
     "name": "stdout",
     "output_type": "stream",
     "text": [
      "The name of the person:jayaram, age:3.4, height:3.35, Weight:17.34\n",
      "The name of the person:jayaram, age:3.4, height:3.35, Weight:17.34\n"
     ]
    }
   ],
   "source": [
    "name=\"jayaram\"\n",
    "age=3.4\n",
    "height=3.3456645\n",
    "weight=17.343455\n",
    "print(\"The name of the person:%s, age:%s, height:%.2f, Weight:%.2f\"%(name,age,height,weight))\n",
    "print(f\"The name of the person:{name}, age:{age}, height:{height:.2f}, Weight:{weight:.2f}\")"
   ]
  },
  {
   "cell_type": "code",
   "execution_count": 25,
   "metadata": {},
   "outputs": [
    {
     "name": "stdout",
     "output_type": "stream",
     "text": [
      "The name of the person:jayaram, age:3.4, height:3.35, Weight:17.34\n",
      "The name of the person:jayaram, age:3.4, height:3.35, Weight:17.34\n",
      "The name of the person:jayaram, age:3.4, height:3.3456645, Weight:17.343455\n"
     ]
    }
   ],
   "source": [
    "name=\"jayaram\"\n",
    "age=3.4\n",
    "height=3.3456645\n",
    "weight=17.343455\n",
    "print(\"The name of the person:%s, age:%s, height:%.2f, Weight:%.2f\"%(name,age,height,weight))\n",
    "print(f\"The name of the person:{name}, age:{age}, height:{height:.2f}, Weight:{weight:.2f}\")\n",
    "print(\"The name of the person:{0}, age:{1}, height:{2}, Weight:{3}\".format(name,age,height,weight))"
   ]
  },
  {
   "cell_type": "code",
   "execution_count": 26,
   "metadata": {},
   "outputs": [
    {
     "name": "stdout",
     "output_type": "stream",
     "text": [
      "The name of the person:jayaram, age:3.4, height:3.35, Weight:17.34\n",
      "The name of the person:jayaram, age:3.4, height:3.35, Weight:17.34\n",
      "The name of the person:jayaram, age:3.4, height:3.35, Weight:17.34\n"
     ]
    }
   ],
   "source": [
    "name=\"jayaram\"\n",
    "age=3.4\n",
    "height=3.3456645\n",
    "weight=17.343455\n",
    "print(\"The name of the person:%s, age:%s, height:%.2f, Weight:%.2f\"%(name,age,height,weight))\n",
    "print(f\"The name of the person:{name}, age:{age}, height:{height:.2f}, Weight:{weight:.2f}\")\n",
    "print(\"The name of the person:{0}, age:{1}, height:{2:.2f}, Weight:{3:.2f}\".format(name,age,height,weight))"
   ]
  },
  {
   "cell_type": "code",
   "execution_count": 27,
   "metadata": {},
   "outputs": [
    {
     "name": "stdout",
     "output_type": "stream",
     "text": [
      "The name of the person:jayaram, age:jayaram, height:jayaram, Weight:jayaram\n"
     ]
    }
   ],
   "source": [
    "print(\"The name of the person:{0}, age:{0}, height:{0}, Weight:{0}\".format(name,age,height,weight))"
   ]
  },
  {
   "cell_type": "code",
   "execution_count": 29,
   "metadata": {},
   "outputs": [
    {
     "name": "stdout",
     "output_type": "stream",
     "text": [
      "The name of the person:jayaram, Age:3.4, Height:3.446, Weight:17.34543\n"
     ]
    }
   ],
   "source": [
    "d={\"name\":\"jayaram\",\"age\":3.4,\"height\":3.446,\"weight\":17.34543}\n",
    "print(\"The name of the person:%(name)s, Age:%(age)s, Height:%(height)s, Weight:%(weight)s\"%d)"
   ]
  },
  {
   "cell_type": "code",
   "execution_count": 30,
   "metadata": {},
   "outputs": [
    {
     "name": "stdout",
     "output_type": "stream",
     "text": [
      "The name of the person:jayaram, Age:3.4, Height:3.446000, Weight:17.345430\n"
     ]
    }
   ],
   "source": [
    "d={\"name\":\"jayaram\",\"age\":3.4,\"height\":3.446,\"weight\":17.34543}\n",
    "print(\"The name of the person:%(name)s, Age:%(age)s, Height:%(height)f, Weight:%(weight)f\"%d)"
   ]
  },
  {
   "cell_type": "code",
   "execution_count": 32,
   "metadata": {},
   "outputs": [
    {
     "name": "stdout",
     "output_type": "stream",
     "text": [
      "The name of the person:jayaram, Age:3.4, Height:3.45, Weight:17.35\n"
     ]
    }
   ],
   "source": [
    "d={\"name\":\"jayaram\",\"age\":3.4,\"height\":3.446,\"weight\":17.34543}\n",
    "print(\"The name of the person:%(name)s, Age:%(age)s, Height:%(height).2f, Weight:%(weight).2f\"%d)"
   ]
  },
  {
   "cell_type": "code",
   "execution_count": 34,
   "metadata": {},
   "outputs": [
    {
     "name": "stdout",
     "output_type": "stream",
     "text": [
      "The name of the person:jayaram, Age:3.4, Height:3.45, Weight:17.35\n",
      "The name of the person:jayaram, Age:3.4, Height:3.446, Weight:17.34543\n"
     ]
    }
   ],
   "source": [
    "d={\"name\":\"jayaram\",\"age\":3.4,\"height\":3.446,\"weight\":17.34543}\n",
    "print(\"The name of the person:%(name)s, Age:%(age)s, Height:%(height).2f, Weight:%(weight).2f\"%d)\n",
    "print(\"The name of the person:{name}, Age:{age}, Height:{height}, Weight:{weight}\".format_map(d))"
   ]
  },
  {
   "cell_type": "code",
   "execution_count": 35,
   "metadata": {},
   "outputs": [
    {
     "name": "stdout",
     "output_type": "stream",
     "text": [
      "The name of the person:jayaram, Age:3.4, Height:3.45, Weight:17.35\n",
      "The name of the person:jayaram, Age:3.4, Height:3.45, Weight:17.35\n"
     ]
    }
   ],
   "source": [
    "d={\"name\":\"jayaram\",\"age\":3.4,\"height\":3.446,\"weight\":17.34543}\n",
    "print(\"The name of the person:%(name)s, Age:%(age)s, Height:%(height).2f, Weight:%(weight).2f\"%d)\n",
    "print(\"The name of the person:{name}, Age:{age}, Height:{height:.2f}, Weight:{weight:.2f}\".format_map(d))"
   ]
  },
  {
   "cell_type": "code",
   "execution_count": 36,
   "metadata": {},
   "outputs": [
    {
     "name": "stdout",
     "output_type": "stream",
     "text": [
      "7\n",
      "7\n",
      "7\n",
      "7\n"
     ]
    }
   ],
   "source": [
    "s=\"python program\"\n",
    "print(s.index(\"pro\"))\n",
    "print(s.find(\"pro\"))\n",
    "print(s.rindex(\"pro\"))\n",
    "print(s.rfind(\"pro\"))"
   ]
  },
  {
   "cell_type": "code",
   "execution_count": 37,
   "metadata": {},
   "outputs": [
    {
     "name": "stdout",
     "output_type": "stream",
     "text": [
      "2\n",
      "2\n",
      "2\n",
      "2\n"
     ]
    }
   ],
   "source": [
    "s=\"python program\"\n",
    "print(s.index(\"tho\"))\n",
    "print(s.find(\"tho\"))\n",
    "print(s.rindex(\"tho\"))\n",
    "print(s.rfind(\"tho\"))"
   ]
  },
  {
   "cell_type": "code",
   "execution_count": 39,
   "metadata": {},
   "outputs": [
    {
     "name": "stdout",
     "output_type": "stream",
     "text": [
      "6\n",
      "6\n",
      "40\n",
      "40\n"
     ]
    }
   ],
   "source": [
    "s=\"apple;banana;orange;apple;banana;grapes;banana;mango\"\n",
    "print(s.index(\"banana\"))\n",
    "print(s.find(\"banana\"))\n",
    "print(s.rindex(\"banana\"))\n",
    "print(s.rfind(\"banana\"))"
   ]
  },
  {
   "cell_type": "code",
   "execution_count": 40,
   "metadata": {},
   "outputs": [
    {
     "name": "stdout",
     "output_type": "stream",
     "text": [
      "6\n",
      "6\n"
     ]
    }
   ],
   "source": [
    "s=\"apple;banana;orange;apple;banana;grapes;banana;mango\"\n",
    "print(s.index(\"banana\"))\n",
    "print(s.find(\"banana\"))"
   ]
  },
  {
   "cell_type": "code",
   "execution_count": 41,
   "metadata": {},
   "outputs": [
    {
     "name": "stdout",
     "output_type": "stream",
     "text": [
      "-1\n"
     ]
    },
    {
     "ename": "ValueError",
     "evalue": "substring not found",
     "output_type": "error",
     "traceback": [
      "\u001b[1;31m---------------------------------------------------------------------------\u001b[0m",
      "\u001b[1;31mValueError\u001b[0m                                Traceback (most recent call last)",
      "\u001b[1;32m<ipython-input-41-a5de0edcc964>\u001b[0m in \u001b[0;36m<module>\u001b[1;34m\u001b[0m\n\u001b[0;32m      1\u001b[0m \u001b[0ms\u001b[0m\u001b[1;33m=\u001b[0m\u001b[1;34m\"apple;banana;orange;apple;banana;grapes;banana;mango\"\u001b[0m\u001b[1;33m\u001b[0m\u001b[1;33m\u001b[0m\u001b[0m\n\u001b[0;32m      2\u001b[0m \u001b[0mprint\u001b[0m\u001b[1;33m(\u001b[0m\u001b[0ms\u001b[0m\u001b[1;33m.\u001b[0m\u001b[0mfind\u001b[0m\u001b[1;33m(\u001b[0m\u001b[1;34m\"pomogranate\"\u001b[0m\u001b[1;33m)\u001b[0m\u001b[1;33m)\u001b[0m\u001b[1;33m\u001b[0m\u001b[1;33m\u001b[0m\u001b[0m\n\u001b[1;32m----> 3\u001b[1;33m \u001b[0mprint\u001b[0m\u001b[1;33m(\u001b[0m\u001b[0ms\u001b[0m\u001b[1;33m.\u001b[0m\u001b[0mindex\u001b[0m\u001b[1;33m(\u001b[0m\u001b[1;34m\"pomogranate\"\u001b[0m\u001b[1;33m)\u001b[0m\u001b[1;33m)\u001b[0m\u001b[1;33m\u001b[0m\u001b[1;33m\u001b[0m\u001b[0m\n\u001b[0m",
      "\u001b[1;31mValueError\u001b[0m: substring not found"
     ]
    }
   ],
   "source": [
    "s=\"apple;banana;orange;apple;banana;grapes;banana;mango\"\n",
    "print(s.find(\"pomogranate\"))\n",
    "print(s.index(\"pomogranate\"))\n"
   ]
  },
  {
   "cell_type": "code",
   "execution_count": 42,
   "metadata": {},
   "outputs": [
    {
     "name": "stdout",
     "output_type": "stream",
     "text": [
      "-1\n"
     ]
    },
    {
     "ename": "ValueError",
     "evalue": "substring not found",
     "output_type": "error",
     "traceback": [
      "\u001b[1;31m---------------------------------------------------------------------------\u001b[0m",
      "\u001b[1;31mValueError\u001b[0m                                Traceback (most recent call last)",
      "\u001b[1;32m<ipython-input-42-0b77bf11d945>\u001b[0m in \u001b[0;36m<module>\u001b[1;34m\u001b[0m\n\u001b[0;32m      1\u001b[0m \u001b[0ms\u001b[0m\u001b[1;33m=\u001b[0m\u001b[1;34m\"apple;banana;orange;apple;banana;grapes;banana;mango\"\u001b[0m\u001b[1;33m\u001b[0m\u001b[1;33m\u001b[0m\u001b[0m\n\u001b[0;32m      2\u001b[0m \u001b[0mprint\u001b[0m\u001b[1;33m(\u001b[0m\u001b[0ms\u001b[0m\u001b[1;33m.\u001b[0m\u001b[0mfind\u001b[0m\u001b[1;33m(\u001b[0m\u001b[1;34m\"BANANA\"\u001b[0m\u001b[1;33m)\u001b[0m\u001b[1;33m)\u001b[0m\u001b[1;33m\u001b[0m\u001b[1;33m\u001b[0m\u001b[0m\n\u001b[1;32m----> 3\u001b[1;33m \u001b[0mprint\u001b[0m\u001b[1;33m(\u001b[0m\u001b[0ms\u001b[0m\u001b[1;33m.\u001b[0m\u001b[0mindex\u001b[0m\u001b[1;33m(\u001b[0m\u001b[1;34m\"BANANA\"\u001b[0m\u001b[1;33m)\u001b[0m\u001b[1;33m)\u001b[0m\u001b[1;33m\u001b[0m\u001b[1;33m\u001b[0m\u001b[0m\n\u001b[0m",
      "\u001b[1;31mValueError\u001b[0m: substring not found"
     ]
    }
   ],
   "source": [
    "s=\"apple;banana;orange;apple;banana;grapes;banana;mango\"\n",
    "print(s.find(\"BANANA\"))\n",
    "print(s.index(\"BANANA\"))"
   ]
  },
  {
   "cell_type": "code",
   "execution_count": 43,
   "metadata": {},
   "outputs": [
    {
     "name": "stdout",
     "output_type": "stream",
     "text": [
      "6\n",
      "6\n"
     ]
    }
   ],
   "source": [
    "s=\"apple;banana;orange;apple;banana;grapes;banana;mango\"\n",
    "print(s.casefold().find(\"BANANA\".casefold()))\n",
    "print(s.casefold().index(\"BANANA\".casefold()))"
   ]
  },
  {
   "cell_type": "code",
   "execution_count": 44,
   "metadata": {},
   "outputs": [
    {
     "name": "stdout",
     "output_type": "stream",
     "text": [
      "0\n",
      "0\n"
     ]
    }
   ],
   "source": [
    "s=\"python\"\n",
    "print(s.find(\"p\"))\n",
    "print(s.find(\"\"))"
   ]
  },
  {
   "cell_type": "code",
   "execution_count": 45,
   "metadata": {},
   "outputs": [
    {
     "name": "stdout",
     "output_type": "stream",
     "text": [
      "6\n"
     ]
    }
   ],
   "source": [
    "s=\"apple;banana;orange;apple;banana;grapes;banana;mango\"\n",
    "print(s.find(\"banana\"))"
   ]
  },
  {
   "cell_type": "code",
   "execution_count": null,
   "metadata": {},
   "outputs": [],
   "source": [
    "s=\"apple;banana;orange;apple;banana;banana;grapes;banana;mango;banana\"\n",
    "print(s.find(\"banana\"))"
   ]
  },
  {
   "cell_type": "code",
   "execution_count": 46,
   "metadata": {},
   "outputs": [
    {
     "name": "stdout",
     "output_type": "stream",
     "text": [
      "['__add__', '__class__', '__contains__', '__delattr__', '__dir__', '__doc__', '__eq__', '__format__', '__ge__', '__getattribute__', '__getitem__', '__getnewargs__', '__gt__', '__hash__', '__init__', '__init_subclass__', '__iter__', '__le__', '__len__', '__lt__', '__mod__', '__mul__', '__ne__', '__new__', '__reduce__', '__reduce_ex__', '__repr__', '__rmod__', '__rmul__', '__setattr__', '__sizeof__', '__str__', '__subclasshook__', 'capitalize', 'casefold', 'center', 'count', 'encode', 'endswith', 'expandtabs', 'find', 'format', 'format_map', 'index', 'isalnum', 'isalpha', 'isascii', 'isdecimal', 'isdigit', 'isidentifier', 'islower', 'isnumeric', 'isprintable', 'isspace', 'istitle', 'isupper', 'join', 'ljust', 'lower', 'lstrip', 'maketrans', 'partition', 'replace', 'rfind', 'rindex', 'rjust', 'rpartition', 'rsplit', 'rstrip', 'split', 'splitlines', 'startswith', 'strip', 'swapcase', 'title', 'translate', 'upper', 'zfill']\n"
     ]
    }
   ],
   "source": [
    "print(dir(s))"
   ]
  },
  {
   "cell_type": "code",
   "execution_count": 1,
   "metadata": {},
   "outputs": [
    {
     "name": "stdout",
     "output_type": "stream",
     "text": [
      "True\n",
      "False\n"
     ]
    }
   ],
   "source": [
    "s=\"abc123\"\n",
    "print(s.isalnum())\n",
    "print(s.isalpha())"
   ]
  },
  {
   "cell_type": "code",
   "execution_count": 2,
   "metadata": {},
   "outputs": [
    {
     "name": "stdout",
     "output_type": "stream",
     "text": [
      "True\n",
      "True\n"
     ]
    }
   ],
   "source": [
    "s=\"abc\"\n",
    "print(s.isalnum())\n",
    "print(s.isalpha())"
   ]
  },
  {
   "cell_type": "code",
   "execution_count": 3,
   "metadata": {},
   "outputs": [
    {
     "name": "stdout",
     "output_type": "stream",
     "text": [
      "False\n",
      "False\n"
     ]
    }
   ],
   "source": [
    "s=\"abc$\"\n",
    "print(s.isalnum())\n",
    "print(s.isalpha())"
   ]
  },
  {
   "cell_type": "code",
   "execution_count": 5,
   "metadata": {},
   "outputs": [
    {
     "name": "stdout",
     "output_type": "stream",
     "text": [
      "enter string:rwe32423\n",
      "it dones not have special symbols\n"
     ]
    }
   ],
   "source": [
    "if input(\"enter string:\").isalnum():\n",
    "    print(\"it dones not have special symbols\")\n",
    "else:\n",
    "    print(\"it has special symbols\")"
   ]
  },
  {
   "cell_type": "code",
   "execution_count": 8,
   "metadata": {},
   "outputs": [
    {
     "name": "stdout",
     "output_type": "stream",
     "text": [
      "enter string:\n",
      "it has special symbols\n"
     ]
    }
   ],
   "source": [
    "if input(\"enter string:\").isalnum():\n",
    "    print(\"it dones not have special symbols\")\n",
    "else:\n",
    "    print(\"it has special symbols\")"
   ]
  },
  {
   "cell_type": "code",
   "execution_count": 9,
   "metadata": {},
   "outputs": [
    {
     "name": "stdout",
     "output_type": "stream",
     "text": [
      "enter string:sdfsd\n",
      "it dones not have special symbols\n"
     ]
    }
   ],
   "source": [
    "s=input(\"enter string:\")\n",
    "if s:\n",
    "    if s.isalnum():\n",
    "        print(\"it dones not have special symbols\")\n",
    "    else:\n",
    "        print(\"it has special symbols\")\n",
    "else:\n",
    "    print(\"please enter a valid string\")"
   ]
  },
  {
   "cell_type": "code",
   "execution_count": 10,
   "metadata": {},
   "outputs": [
    {
     "name": "stdout",
     "output_type": "stream",
     "text": [
      "enter string:werew@#$@#\n",
      "it has special symbols\n"
     ]
    }
   ],
   "source": [
    "s=input(\"enter string:\")\n",
    "if s:\n",
    "    if s.isalnum():\n",
    "        print(\"it dones not have special symbols\")\n",
    "    else:\n",
    "        print(\"it has special symbols\")\n",
    "else:\n",
    "    print(\"please enter a valid string\")"
   ]
  },
  {
   "cell_type": "code",
   "execution_count": 11,
   "metadata": {},
   "outputs": [
    {
     "name": "stdout",
     "output_type": "stream",
     "text": [
      "enter string:\n",
      "please enter a valid string\n"
     ]
    }
   ],
   "source": [
    "s=input(\"enter string:\")\n",
    "if s:\n",
    "    if s.isalnum():\n",
    "        print(\"it dones not have special symbols\")\n",
    "    else:\n",
    "        print(\"it has special symbols\")\n",
    "else:\n",
    "    print(\"please enter a valid string\")"
   ]
  },
  {
   "cell_type": "code",
   "execution_count": 12,
   "metadata": {},
   "outputs": [
    {
     "name": "stdout",
     "output_type": "stream",
     "text": [
      "['__add__', '__class__', '__contains__', '__delattr__', '__dir__', '__doc__', '__eq__', '__format__', '__ge__', '__getattribute__', '__getitem__', '__getnewargs__', '__gt__', '__hash__', '__init__', '__init_subclass__', '__iter__', '__le__', '__len__', '__lt__', '__mod__', '__mul__', '__ne__', '__new__', '__reduce__', '__reduce_ex__', '__repr__', '__rmod__', '__rmul__', '__setattr__', '__sizeof__', '__str__', '__subclasshook__', 'capitalize', 'casefold', 'center', 'count', 'encode', 'endswith', 'expandtabs', 'find', 'format', 'format_map', 'index', 'isalnum', 'isalpha', 'isascii', 'isdecimal', 'isdigit', 'isidentifier', 'islower', 'isnumeric', 'isprintable', 'isspace', 'istitle', 'isupper', 'join', 'ljust', 'lower', 'lstrip', 'maketrans', 'partition', 'replace', 'rfind', 'rindex', 'rjust', 'rpartition', 'rsplit', 'rstrip', 'split', 'splitlines', 'startswith', 'strip', 'swapcase', 'title', 'translate', 'upper', 'zfill']\n"
     ]
    }
   ],
   "source": [
    "print(dir(s))"
   ]
  },
  {
   "cell_type": "code",
   "execution_count": 13,
   "metadata": {},
   "outputs": [
    {
     "name": "stdout",
     "output_type": "stream",
     "text": [
      "True\n"
     ]
    }
   ],
   "source": [
    "s=\"pythpn\"\n",
    "print(s.isascii())"
   ]
  },
  {
   "cell_type": "code",
   "execution_count": 14,
   "metadata": {},
   "outputs": [
    {
     "data": {
      "text/plain": [
       "'త'"
      ]
     },
     "execution_count": 14,
     "metadata": {},
     "output_type": "execute_result"
    }
   ],
   "source": [
    "s=\"తెలంగాణ · ఆంధ్రప్రదేశ్ · సినిమా · ఇండియా న్యూస్ · జాబ్స్\"\n",
    "s[0]"
   ]
  },
  {
   "cell_type": "code",
   "execution_count": 15,
   "metadata": {},
   "outputs": [
    {
     "name": "stdout",
     "output_type": "stream",
     "text": [
      "3108\n"
     ]
    }
   ],
   "source": [
    "s=\"తెలంగాణ · ఆంధ్రప్రదేశ్ · సినిమా · ఇండియా న్యూస్ · జాబ్స్\"\n",
    "print(ord(s[0]))"
   ]
  },
  {
   "cell_type": "code",
   "execution_count": 17,
   "metadata": {},
   "outputs": [
    {
     "name": "stdout",
     "output_type": "stream",
     "text": [
      "False\n"
     ]
    }
   ],
   "source": [
    "s=\"తెలంగాణ · ఆంధ్రప్రదేశ్ · సినిమా · ఇండియా న్యూస్ · జాబ్స్\"\n",
    "print(s[0].isascii())"
   ]
  },
  {
   "cell_type": "code",
   "execution_count": 18,
   "metadata": {},
   "outputs": [
    {
     "name": "stdout",
     "output_type": "stream",
     "text": [
      "True\n",
      "True\n",
      "True\n"
     ]
    }
   ],
   "source": [
    "s=\"1\"\n",
    "print(s.isdigit())\n",
    "print(s.isnumeric())\n",
    "print(s.isdecimal())"
   ]
  },
  {
   "cell_type": "code",
   "execution_count": 19,
   "metadata": {},
   "outputs": [
    {
     "name": "stdout",
     "output_type": "stream",
     "text": [
      "False\n",
      "False\n",
      "False\n"
     ]
    }
   ],
   "source": [
    "s=\"a\"\n",
    "print(s.isdigit())\n",
    "print(s.isnumeric())\n",
    "print(s.isdecimal())"
   ]
  },
  {
   "cell_type": "code",
   "execution_count": 20,
   "metadata": {},
   "outputs": [
    {
     "name": "stdout",
     "output_type": "stream",
     "text": [
      "False\n",
      "False\n",
      "False\n"
     ]
    }
   ],
   "source": [
    "s=\"いち\"\n",
    "print(s.isdigit())\n",
    "print(s.isnumeric())\n",
    "print(s.isdecimal())"
   ]
  },
  {
   "cell_type": "code",
   "execution_count": 22,
   "metadata": {},
   "outputs": [
    {
     "name": "stdout",
     "output_type": "stream",
     "text": [
      "False\n",
      "True\n",
      "False\n"
     ]
    }
   ],
   "source": [
    "s=\"四\"\n",
    "print(s.isdigit())\n",
    "print(s.isnumeric())\n",
    "print(s.isdecimal())"
   ]
  },
  {
   "cell_type": "code",
   "execution_count": 24,
   "metadata": {},
   "outputs": [
    {
     "name": "stdout",
     "output_type": "stream",
     "text": [
      "True\n",
      "True\n",
      "False\n"
     ]
    }
   ],
   "source": [
    "s=\"2³\"\n",
    "print(s.isdigit())\n",
    "print(s.isnumeric())\n",
    "print(s.isdecimal())"
   ]
  },
  {
   "cell_type": "code",
   "execution_count": 25,
   "metadata": {},
   "outputs": [
    {
     "name": "stdout",
     "output_type": "stream",
     "text": [
      "True\n"
     ]
    }
   ],
   "source": [
    "s=\"sdsdf\"\n",
    "print(s.isprintable())"
   ]
  },
  {
   "cell_type": "code",
   "execution_count": 26,
   "metadata": {},
   "outputs": [
    {
     "name": "stdout",
     "output_type": "stream",
     "text": [
      "False\n"
     ]
    }
   ],
   "source": [
    "s=\"\\n\"\n",
    "print(s.isprintable())"
   ]
  },
  {
   "cell_type": "code",
   "execution_count": 27,
   "metadata": {},
   "outputs": [
    {
     "name": "stdout",
     "output_type": "stream",
     "text": [
      "True\n"
     ]
    }
   ],
   "source": [
    "s=\"\\\\n\"\n",
    "print(s.isprintable())"
   ]
  },
  {
   "cell_type": "code",
   "execution_count": 28,
   "metadata": {},
   "outputs": [
    {
     "name": "stdout",
     "output_type": "stream",
     "text": [
      "['apple;orange;grape;banana;mango;pineapple']\n",
      "['apple;orange;grape;banana;mango;pineapple']\n"
     ]
    },
    {
     "ename": "TypeError",
     "evalue": "partition() takes exactly one argument (0 given)",
     "output_type": "error",
     "traceback": [
      "\u001b[1;31m---------------------------------------------------------------------------\u001b[0m",
      "\u001b[1;31mTypeError\u001b[0m                                 Traceback (most recent call last)",
      "\u001b[1;32m<ipython-input-28-96c788b7d8aa>\u001b[0m in \u001b[0;36m<module>\u001b[1;34m\u001b[0m\n\u001b[0;32m      2\u001b[0m \u001b[0mprint\u001b[0m\u001b[1;33m(\u001b[0m\u001b[0ms\u001b[0m\u001b[1;33m.\u001b[0m\u001b[0msplit\u001b[0m\u001b[1;33m(\u001b[0m\u001b[1;33m)\u001b[0m\u001b[1;33m)\u001b[0m\u001b[1;33m\u001b[0m\u001b[1;33m\u001b[0m\u001b[0m\n\u001b[0;32m      3\u001b[0m \u001b[0mprint\u001b[0m\u001b[1;33m(\u001b[0m\u001b[0ms\u001b[0m\u001b[1;33m.\u001b[0m\u001b[0mrsplit\u001b[0m\u001b[1;33m(\u001b[0m\u001b[1;33m)\u001b[0m\u001b[1;33m)\u001b[0m\u001b[1;33m\u001b[0m\u001b[1;33m\u001b[0m\u001b[0m\n\u001b[1;32m----> 4\u001b[1;33m \u001b[0mprint\u001b[0m\u001b[1;33m(\u001b[0m\u001b[0ms\u001b[0m\u001b[1;33m.\u001b[0m\u001b[0mpartition\u001b[0m\u001b[1;33m(\u001b[0m\u001b[1;33m)\u001b[0m\u001b[1;33m)\u001b[0m\u001b[1;33m\u001b[0m\u001b[1;33m\u001b[0m\u001b[0m\n\u001b[0m\u001b[0;32m      5\u001b[0m \u001b[0mprint\u001b[0m\u001b[1;33m(\u001b[0m\u001b[0ms\u001b[0m\u001b[1;33m.\u001b[0m\u001b[0mrpartition\u001b[0m\u001b[1;33m(\u001b[0m\u001b[1;33m)\u001b[0m\u001b[1;33m)\u001b[0m\u001b[1;33m\u001b[0m\u001b[1;33m\u001b[0m\u001b[0m\n",
      "\u001b[1;31mTypeError\u001b[0m: partition() takes exactly one argument (0 given)"
     ]
    }
   ],
   "source": [
    "s=\"apple;orange;grape;banana;mango;pineapple\"\n",
    "print(s.split())\n",
    "print(s.rsplit())\n",
    "print(s.partition())\n",
    "print(s.rpartition())"
   ]
  },
  {
   "cell_type": "code",
   "execution_count": 29,
   "metadata": {},
   "outputs": [
    {
     "name": "stdout",
     "output_type": "stream",
     "text": [
      "['apple', 'orange', 'grape', 'banana', 'mango', 'pineapple']\n",
      "['apple', 'orange', 'grape', 'banana', 'mango', 'pineapple']\n",
      "('apple', ';', 'orange;grape;banana;mango;pineapple')\n",
      "('apple;orange;grape;banana;mango', ';', 'pineapple')\n"
     ]
    }
   ],
   "source": [
    "s=\"apple;orange;grape;banana;mango;pineapple\"\n",
    "print(s.split(\";\"))\n",
    "print(s.rsplit(\";\"))\n",
    "print(s.partition(\";\"))\n",
    "print(s.rpartition(\";\"))"
   ]
  },
  {
   "cell_type": "code",
   "execution_count": 30,
   "metadata": {},
   "outputs": [
    {
     "name": "stdout",
     "output_type": "stream",
     "text": [
      "['apple', 'orange', 'grape;banana;mango;pineapple']\n",
      "['apple;orange;grape;banana', 'mango', 'pineapple']\n"
     ]
    }
   ],
   "source": [
    "s=\"apple;orange;grape;banana;mango;pineapple\"\n",
    "print(s.split(\";\",2))\n",
    "print(s.rsplit(\";\",2))"
   ]
  },
  {
   "cell_type": "code",
   "execution_count": 31,
   "metadata": {},
   "outputs": [
    {
     "name": "stdout",
     "output_type": "stream",
     "text": [
      "apple;orange;grape;banana;mango;pineapple\n"
     ]
    }
   ],
   "source": [
    "l=['apple', 'orange', 'grape', 'banana', 'mango', 'pineapple']\n",
    "print(\";\".join(l))"
   ]
  },
  {
   "cell_type": "code",
   "execution_count": 32,
   "metadata": {},
   "outputs": [
    {
     "data": {
      "text/plain": [
       "'apple orange grape banana mango pineapple'"
      ]
     },
     "execution_count": 32,
     "metadata": {},
     "output_type": "execute_result"
    }
   ],
   "source": [
    "s=\"apple;orange;grape;banana;mango;pineapple\"\n",
    "s.replace(\";\", \" \")"
   ]
  },
  {
   "cell_type": "code",
   "execution_count": 33,
   "metadata": {},
   "outputs": [
    {
     "name": "stdout",
     "output_type": "stream",
     "text": [
      "['apple', 'orange', 'grape', 'banana', 'mango', 'pineapple']\n"
     ]
    }
   ],
   "source": [
    "s='apple orange grape banana mango pineapple'\n",
    "print(s.split())"
   ]
  },
  {
   "cell_type": "code",
   "execution_count": 34,
   "metadata": {},
   "outputs": [
    {
     "name": "stdout",
     "output_type": "stream",
     "text": [
      "['apple', 'orange', 'grape', 'banana', 'mango', 'pineapple']\n",
      "['apple', 'orange', 'grape', 'banana', 'mango', 'pineapple']\n"
     ]
    }
   ],
   "source": [
    "s='apple orange grape banana mango pineapple'\n",
    "print(s.split())\n",
    "print(s.split(\" \"))"
   ]
  },
  {
   "cell_type": "code",
   "execution_count": 35,
   "metadata": {},
   "outputs": [
    {
     "name": "stdout",
     "output_type": "stream",
     "text": [
      "['apple', 'orange', 'grape', 'banana', 'mango', 'pineapple']\n",
      "['apple', 'orange', '', '', '', '', '', '', '', '', '', '', '', '', '', 'grape', '', '', '', '', '', '', '', 'banana', '', '', '', '', '', '', '', '', '', '', '', '', 'mango', 'pineapple']\n"
     ]
    }
   ],
   "source": [
    "s='apple orange              grape        banana             mango pineapple'\n",
    "print(s.split())\n",
    "print(s.split(\" \"))"
   ]
  },
  {
   "cell_type": "code",
   "execution_count": 37,
   "metadata": {},
   "outputs": [
    {
     "data": {
      "text/plain": [
       "'apple orange grape banana mango pineapple'"
      ]
     },
     "execution_count": 37,
     "metadata": {},
     "output_type": "execute_result"
    }
   ],
   "source": [
    "s=\"apple;orange;grape;banana;mango;pineapple\"\n",
    "s.replace(\";\",\" \")"
   ]
  },
  {
   "cell_type": "code",
   "execution_count": 38,
   "metadata": {},
   "outputs": [
    {
     "data": {
      "text/plain": [
       "'apple orange grape;banana;mango;pineapple'"
      ]
     },
     "execution_count": 38,
     "metadata": {},
     "output_type": "execute_result"
    }
   ],
   "source": [
    "s=\"apple;orange;grape;banana;mango;pineapple\"\n",
    "s.replace(\";\",\" \",2)"
   ]
  },
  {
   "cell_type": "code",
   "execution_count": 39,
   "metadata": {},
   "outputs": [
    {
     "data": {
      "text/plain": [
       "'apple orange grape banana mango pineapple'"
      ]
     },
     "execution_count": 39,
     "metadata": {},
     "output_type": "execute_result"
    }
   ],
   "source": [
    "s=\"apple;orange;grape;banana;mango;pineapple\"\n",
    "s.replace(\";\",\" \",-2)"
   ]
  },
  {
   "cell_type": "code",
   "execution_count": 41,
   "metadata": {},
   "outputs": [
    {
     "data": {
      "text/plain": [
       "['apple;orange;grape;banana', 'mango', 'pineapple']"
      ]
     },
     "execution_count": 41,
     "metadata": {},
     "output_type": "execute_result"
    }
   ],
   "source": [
    "s=\"apple;orange;grape;banana;mango;pineapple\"\n",
    "s.rsplit(\";\",2)"
   ]
  },
  {
   "cell_type": "code",
   "execution_count": 42,
   "metadata": {},
   "outputs": [
    {
     "data": {
      "text/plain": [
       "'apple;orange;grape;banana mango pineapple'"
      ]
     },
     "execution_count": 42,
     "metadata": {},
     "output_type": "execute_result"
    }
   ],
   "source": [
    "s=\"apple;orange;grape;banana;mango;pineapple\"\n",
    "\" \".join(s.rsplit(\";\",2))"
   ]
  },
  {
   "cell_type": "code",
   "execution_count": 43,
   "metadata": {},
   "outputs": [
    {
     "name": "stdout",
     "output_type": "stream",
     "text": [
      "['__add__', '__class__', '__contains__', '__delattr__', '__dir__', '__doc__', '__eq__', '__format__', '__ge__', '__getattribute__', '__getitem__', '__getnewargs__', '__gt__', '__hash__', '__init__', '__init_subclass__', '__iter__', '__le__', '__len__', '__lt__', '__mod__', '__mul__', '__ne__', '__new__', '__reduce__', '__reduce_ex__', '__repr__', '__rmod__', '__rmul__', '__setattr__', '__sizeof__', '__str__', '__subclasshook__', 'capitalize', 'casefold', 'center', 'count', 'encode', 'endswith', 'expandtabs', 'find', 'format', 'format_map', 'index', 'isalnum', 'isalpha', 'isascii', 'isdecimal', 'isdigit', 'isidentifier', 'islower', 'isnumeric', 'isprintable', 'isspace', 'istitle', 'isupper', 'join', 'ljust', 'lower', 'lstrip', 'maketrans', 'partition', 'replace', 'rfind', 'rindex', 'rjust', 'rpartition', 'rsplit', 'rstrip', 'split', 'splitlines', 'startswith', 'strip', 'swapcase', 'title', 'translate', 'upper', 'zfill']\n"
     ]
    }
   ],
   "source": [
    "print(dir(s))"
   ]
  },
  {
   "cell_type": "code",
   "execution_count": 44,
   "metadata": {},
   "outputs": [
    {
     "name": "stdout",
     "output_type": "stream",
     "text": [
      "!@#username@#!name#@!\n"
     ]
    }
   ],
   "source": [
    "s=\"!@#username@#!name#@!\"\n",
    "print(s.strip())"
   ]
  },
  {
   "cell_type": "code",
   "execution_count": 45,
   "metadata": {},
   "outputs": [
    {
     "name": "stdout",
     "output_type": "stream",
     "text": [
      "@#username@#!name#@\n"
     ]
    }
   ],
   "source": [
    "s=\"!@#username@#!name#@!\"\n",
    "print(s.strip(\"!\"))"
   ]
  },
  {
   "cell_type": "code",
   "execution_count": 47,
   "metadata": {},
   "outputs": [
    {
     "name": "stdout",
     "output_type": "stream",
     "text": [
      "@#username@#!name#@\n",
      "!@#username@#!name#@\n",
      "@#username@#!name#@!\n"
     ]
    }
   ],
   "source": [
    "s=\"!@#username@#!name#@!\"\n",
    "print(s.strip(\"!\"))\n",
    "print(s.rstrip(\"!\"))\n",
    "print(s.lstrip(\"!\"))"
   ]
  },
  {
   "cell_type": "code",
   "execution_count": 48,
   "metadata": {},
   "outputs": [
    {
     "data": {
      "text/plain": [
       "2"
      ]
     },
     "execution_count": 48,
     "metadata": {},
     "output_type": "execute_result"
    }
   ],
   "source": [
    "s=\"apple;orange'apple;orange;grape\"\n",
    "s.count(\"apple\")"
   ]
  },
  {
   "cell_type": "code",
   "execution_count": 49,
   "metadata": {},
   "outputs": [
    {
     "data": {
      "text/plain": [
       "0"
      ]
     },
     "execution_count": 49,
     "metadata": {},
     "output_type": "execute_result"
    }
   ],
   "source": [
    "s=\"apple;orange'apple;orange;grape\"\n",
    "s.count(\"pa\")"
   ]
  },
  {
   "cell_type": "code",
   "execution_count": 50,
   "metadata": {},
   "outputs": [
    {
     "data": {
      "text/plain": [
       "3"
      ]
     },
     "execution_count": 50,
     "metadata": {},
     "output_type": "execute_result"
    }
   ],
   "source": [
    "s=\"apple;orange'apple;orange;grape\"\n",
    "s.count(\"ap\")"
   ]
  },
  {
   "cell_type": "code",
   "execution_count": 51,
   "metadata": {},
   "outputs": [
    {
     "name": "stdout",
     "output_type": "stream",
     "text": [
      "#username@#!name#\n",
      "!@#username@#!name#\n",
      "#username@#!name#@!\n"
     ]
    }
   ],
   "source": [
    "s=\"!@#username@#!name#@!\"\n",
    "print(s.strip(\"!@\"))\n",
    "print(s.rstrip(\"!@\"))\n",
    "print(s.lstrip(\"!@\"))"
   ]
  },
  {
   "cell_type": "code",
   "execution_count": null,
   "metadata": {},
   "outputs": [],
   "source": [
    "# general assignment\n",
    "# how all string function acting for \"\"  empty character."
   ]
  }
 ],
 "metadata": {
  "kernelspec": {
   "display_name": "Python 3",
   "language": "python",
   "name": "python3"
  },
  "language_info": {
   "codemirror_mode": {
    "name": "ipython",
    "version": 3
   },
   "file_extension": ".py",
   "mimetype": "text/x-python",
   "name": "python",
   "nbconvert_exporter": "python",
   "pygments_lexer": "ipython3",
   "version": "3.8.3"
  }
 },
 "nbformat": 4,
 "nbformat_minor": 4
}
