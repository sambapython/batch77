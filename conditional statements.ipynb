{
 "cells": [
  {
   "cell_type": "code",
   "execution_count": 1,
   "metadata": {},
   "outputs": [
    {
     "name": "stdout",
     "output_type": "stream",
     "text": [
      "b is big\n"
     ]
    }
   ],
   "source": [
    "a=10\n",
    "b=20\n",
    "print(\"b is big\")"
   ]
  },
  {
   "cell_type": "code",
   "execution_count": 2,
   "metadata": {},
   "outputs": [
    {
     "name": "stdout",
     "output_type": "stream",
     "text": [
      "a is big\n"
     ]
    }
   ],
   "source": [
    "a=100\n",
    "b=20\n",
    "print(\"a is big\")"
   ]
  },
  {
   "cell_type": "code",
   "execution_count": 3,
   "metadata": {},
   "outputs": [
    {
     "name": "stdout",
     "output_type": "stream",
     "text": [
      "enter a value:12\n",
      "enter b value:34\n",
      "a is big\n",
      "b is big\n"
     ]
    }
   ],
   "source": [
    "a=float(input(\"enter a value:\"))\n",
    "b=float(input(\"enter b value:\"))\n",
    "print(\"a is big\")\n",
    "print(\"b is big\")"
   ]
  },
  {
   "cell_type": "code",
   "execution_count": 4,
   "metadata": {},
   "outputs": [
    {
     "name": "stdout",
     "output_type": "stream",
     "text": [
      "enter a value:34\n",
      "enter b value:12\n",
      "a is big\n",
      "b is big\n"
     ]
    }
   ],
   "source": [
    "a=float(input(\"enter a value:\"))\n",
    "b=float(input(\"enter b value:\"))\n",
    "print(\"a is big\")\n",
    "print(\"b is big\")"
   ]
  },
  {
   "cell_type": "code",
   "execution_count": null,
   "metadata": {},
   "outputs": [],
   "source": [
    "print(\"start\") # main block\n",
    "if True:\n",
    "    print(\"HELLO\")# if block\n",
    "    print(\"HI\")# if block\n",
    "print(\"end\")# main block"
   ]
  },
  {
   "cell_type": "code",
   "execution_count": null,
   "metadata": {},
   "outputs": [],
   "source": [
    "print(\"start\") # main block\n",
    "if True:\n",
    "    print(\"HELLO\")# if block\n",
    "print(\"HI\")# main block\n",
    "print(\"end\")# main block"
   ]
  },
  {
   "cell_type": "code",
   "execution_count": 5,
   "metadata": {},
   "outputs": [
    {
     "name": "stdout",
     "output_type": "stream",
     "text": [
      "start\n",
      "HELLO\n",
      "HI\n",
      "end\n"
     ]
    }
   ],
   "source": [
    "print(\"start\") # main block\n",
    "if True:\n",
    "    print(\"HELLO\")# if block\n",
    "    print(\"HI\")# if block\n",
    "print(\"end\")# main block"
   ]
  },
  {
   "cell_type": "code",
   "execution_count": 6,
   "metadata": {},
   "outputs": [
    {
     "name": "stdout",
     "output_type": "stream",
     "text": [
      "start\n",
      "end\n"
     ]
    }
   ],
   "source": [
    "print(\"start\") # main block\n",
    "if False:\n",
    "    print(\"HELLO\")# if block\n",
    "    print(\"HI\")# if block\n",
    "print(\"end\")# main block"
   ]
  },
  {
   "cell_type": "code",
   "execution_count": 7,
   "metadata": {},
   "outputs": [
    {
     "name": "stdout",
     "output_type": "stream",
     "text": [
      "start\n",
      "HELLO\n",
      "end\n"
     ]
    }
   ],
   "source": [
    "print(\"start\") # main block\n",
    "if True:\n",
    "    print(\"HELLO\")# if block\n",
    "else:\n",
    "    print(\"HI\")# else block\n",
    "print(\"end\")# main block"
   ]
  },
  {
   "cell_type": "code",
   "execution_count": 8,
   "metadata": {},
   "outputs": [
    {
     "name": "stdout",
     "output_type": "stream",
     "text": [
      "start\n",
      "HI\n",
      "end\n"
     ]
    }
   ],
   "source": [
    "print(\"start\") # main block\n",
    "if False:\n",
    "    print(\"HELLO\")# if block\n",
    "else:\n",
    "    print(\"HI\")# else block\n",
    "print(\"end\")# main block"
   ]
  },
  {
   "cell_type": "code",
   "execution_count": 9,
   "metadata": {},
   "outputs": [
    {
     "name": "stdout",
     "output_type": "stream",
     "text": [
      "enter a value:100\n",
      "enter b value:10\n",
      "True\n",
      "a is big\n",
      "b is big\n"
     ]
    }
   ],
   "source": [
    "a=float(input(\"enter a value:\"))\n",
    "b=float(input(\"enter b value:\"))\n",
    "print(a>b)\n",
    "print(\"a is big\")\n",
    "print(\"b is big\")"
   ]
  },
  {
   "cell_type": "code",
   "execution_count": 10,
   "metadata": {},
   "outputs": [
    {
     "name": "stdout",
     "output_type": "stream",
     "text": [
      "enter a value:12\n",
      "enter b value:34\n",
      "False\n",
      "a is big\n",
      "b is big\n"
     ]
    }
   ],
   "source": [
    "a=float(input(\"enter a value:\"))\n",
    "b=float(input(\"enter b value:\"))\n",
    "print(a>b)\n",
    "print(\"a is big\")\n",
    "print(\"b is big\")"
   ]
  },
  {
   "cell_type": "code",
   "execution_count": 12,
   "metadata": {},
   "outputs": [
    {
     "name": "stdout",
     "output_type": "stream",
     "text": [
      "enter a value:12\n",
      "enter b value:34\n",
      "b is big\n",
      "End\n"
     ]
    }
   ],
   "source": [
    "a=float(input(\"enter a value:\"))\n",
    "b=float(input(\"enter b value:\"))\n",
    "if a>b:\n",
    "    print(\"a is big\")\n",
    "else:\n",
    "    print(\"b is big\")\n",
    "print(\"End\")"
   ]
  },
  {
   "cell_type": "code",
   "execution_count": 13,
   "metadata": {},
   "outputs": [
    {
     "name": "stdout",
     "output_type": "stream",
     "text": [
      "enter a value:12\n",
      "enter b value:3\n",
      "a is big\n",
      "End\n"
     ]
    }
   ],
   "source": [
    "a=float(input(\"enter a value:\"))\n",
    "b=float(input(\"enter b value:\"))\n",
    "if a>b:\n",
    "    print(\"a is big\")\n",
    "else:\n",
    "    print(\"b is big\")\n",
    "print(\"End\")"
   ]
  },
  {
   "cell_type": "code",
   "execution_count": 14,
   "metadata": {},
   "outputs": [
    {
     "name": "stdout",
     "output_type": "stream",
     "text": [
      "enter:python\n"
     ]
    }
   ],
   "source": [
    "# write a cod to check given string contains atleast one character or not.\n",
    "s=input(\"enter:\")\n",
    "# yes we got characters"
   ]
  },
  {
   "cell_type": "code",
   "execution_count": 15,
   "metadata": {},
   "outputs": [
    {
     "name": "stdout",
     "output_type": "stream",
     "text": [
      "enter:\n"
     ]
    }
   ],
   "source": [
    "# write a cod to check given string contains atleast one character or not.\n",
    "s=input(\"enter:\")\n",
    "# we did not get a characters."
   ]
  },
  {
   "cell_type": "code",
   "execution_count": 16,
   "metadata": {},
   "outputs": [
    {
     "name": "stdout",
     "output_type": "stream",
     "text": [
      "enter:\n",
      "True\n"
     ]
    }
   ],
   "source": [
    "s=input(\"enter:\")\n",
    "print(s==\"\")"
   ]
  },
  {
   "cell_type": "code",
   "execution_count": 17,
   "metadata": {},
   "outputs": [
    {
     "name": "stdout",
     "output_type": "stream",
     "text": [
      "enter:sddfds\n",
      "False\n"
     ]
    }
   ],
   "source": [
    "s=input(\"enter:\")\n",
    "print(s==\"\")"
   ]
  },
  {
   "cell_type": "code",
   "execution_count": 18,
   "metadata": {},
   "outputs": [
    {
     "name": "stdout",
     "output_type": "stream",
     "text": [
      "enter:python\n",
      "6\n"
     ]
    }
   ],
   "source": [
    "s=input(\"enter:\")\n",
    "print(len(s))"
   ]
  },
  {
   "cell_type": "code",
   "execution_count": 19,
   "metadata": {},
   "outputs": [
    {
     "name": "stdout",
     "output_type": "stream",
     "text": [
      "enter:\n",
      "0\n"
     ]
    }
   ],
   "source": [
    "s=input(\"enter:\")\n",
    "print(len(s))"
   ]
  },
  {
   "cell_type": "code",
   "execution_count": 20,
   "metadata": {},
   "outputs": [
    {
     "name": "stdout",
     "output_type": "stream",
     "text": [
      "enter:\n",
      "False\n"
     ]
    }
   ],
   "source": [
    "s=input(\"enter:\")\n",
    "print(bool(s))"
   ]
  },
  {
   "cell_type": "code",
   "execution_count": 21,
   "metadata": {},
   "outputs": [
    {
     "name": "stdout",
     "output_type": "stream",
     "text": [
      "enter:sdfsf\n",
      "True\n"
     ]
    }
   ],
   "source": [
    "s=input(\"enter:\")\n",
    "print(bool(s))"
   ]
  },
  {
   "cell_type": "code",
   "execution_count": 22,
   "metadata": {},
   "outputs": [
    {
     "name": "stdout",
     "output_type": "stream",
     "text": [
      "enter:\n",
      "dont given charaters\n"
     ]
    }
   ],
   "source": [
    "s=input(\"enter:\")\n",
    "if len(s)==0:\n",
    "    print(\"dont given charaters\")\n",
    "else:\n",
    "    print(\"given charaters\")"
   ]
  },
  {
   "cell_type": "code",
   "execution_count": 23,
   "metadata": {},
   "outputs": [
    {
     "name": "stdout",
     "output_type": "stream",
     "text": [
      "enter:sdfsd\n",
      "given charaters\n"
     ]
    }
   ],
   "source": [
    "s=input(\"enter:\")\n",
    "if len(s)==0:\n",
    "    print(\"dont given charaters\")\n",
    "else:\n",
    "    print(\"given charaters\")"
   ]
  },
  {
   "cell_type": "code",
   "execution_count": 24,
   "metadata": {},
   "outputs": [
    {
     "name": "stdout",
     "output_type": "stream",
     "text": [
      "enter:\n",
      "dont given charaters\n"
     ]
    }
   ],
   "source": [
    "s=input(\"enter:\")\n",
    "if len(s)!=0:\n",
    "    print(\"given charaters\")\n",
    "else:\n",
    "    print(\"dont given charaters\")\n",
    "    "
   ]
  },
  {
   "cell_type": "code",
   "execution_count": 25,
   "metadata": {},
   "outputs": [
    {
     "name": "stdout",
     "output_type": "stream",
     "text": [
      "enter:sdfsdf\n",
      "given charaters\n"
     ]
    }
   ],
   "source": [
    "s=input(\"enter:\")\n",
    "if len(s)!=0:\n",
    "    print(\"given charaters\")\n",
    "else:\n",
    "    print(\"dont given charaters\")\n",
    "    "
   ]
  },
  {
   "cell_type": "code",
   "execution_count": 26,
   "metadata": {},
   "outputs": [
    {
     "name": "stdout",
     "output_type": "stream",
     "text": [
      "enter:\n",
      "dont given charaters\n"
     ]
    }
   ],
   "source": [
    "s=input(\"enter:\")\n",
    "if bool(s):\n",
    "    print(\"given charaters\")\n",
    "else:\n",
    "    print(\"dont given charaters\")"
   ]
  },
  {
   "cell_type": "code",
   "execution_count": 27,
   "metadata": {},
   "outputs": [
    {
     "name": "stdout",
     "output_type": "stream",
     "text": [
      "enter:safsdf\n",
      "given charaters\n"
     ]
    }
   ],
   "source": [
    "s=input(\"enter:\")\n",
    "if bool(s):\n",
    "    print(\"given charaters\")\n",
    "else:\n",
    "    print(\"dont given charaters\")"
   ]
  },
  {
   "cell_type": "code",
   "execution_count": 28,
   "metadata": {},
   "outputs": [
    {
     "name": "stdout",
     "output_type": "stream",
     "text": [
      "enter:dfsdfs\n",
      "given charaters\n"
     ]
    }
   ],
   "source": [
    "s=input(\"enter:\")\n",
    "if s: # what ever the expressions given here passed to bool() internally..\n",
    "    print(\"given charaters\")\n",
    "else:\n",
    "    print(\"dont given charaters\")"
   ]
  },
  {
   "cell_type": "code",
   "execution_count": 29,
   "metadata": {},
   "outputs": [
    {
     "name": "stdout",
     "output_type": "stream",
     "text": [
      "enter:\n",
      "dont given charaters\n"
     ]
    }
   ],
   "source": [
    "s=input(\"enter:\")\n",
    "if s: # what ever the expressions given here passed to bool() internally..\n",
    "    print(\"given charaters\")\n",
    "else:\n",
    "    print(\"dont given charaters\")"
   ]
  },
  {
   "cell_type": "code",
   "execution_count": 30,
   "metadata": {},
   "outputs": [
    {
     "name": "stdout",
     "output_type": "stream",
     "text": [
      "enter:qweqwr\n",
      "given chars\n"
     ]
    }
   ],
   "source": [
    "s=input(\"enter:\")\n",
    "print(\"given chars\" if s else \"not given chars\")"
   ]
  },
  {
   "cell_type": "code",
   "execution_count": 31,
   "metadata": {},
   "outputs": [
    {
     "name": "stdout",
     "output_type": "stream",
     "text": [
      "enter:\n",
      "not given chars\n"
     ]
    }
   ],
   "source": [
    "s=input(\"enter:\")\n",
    "print(\"given chars\" if s else \"not given chars\")"
   ]
  },
  {
   "cell_type": "code",
   "execution_count": 32,
   "metadata": {},
   "outputs": [
    {
     "name": "stdout",
     "output_type": "stream",
     "text": [
      "Enter:python\n",
      "given chars\n"
     ]
    }
   ],
   "source": [
    "print(\"given chars\" if input(\"Enter:\") else \"not given chars\")"
   ]
  },
  {
   "cell_type": "code",
   "execution_count": 33,
   "metadata": {},
   "outputs": [
    {
     "name": "stdout",
     "output_type": "stream",
     "text": [
      "Enter:\n",
      "not given chars\n"
     ]
    }
   ],
   "source": [
    "print(\"given chars\" if input(\"Enter:\") else \"not given chars\")"
   ]
  },
  {
   "cell_type": "code",
   "execution_count": 3,
   "metadata": {},
   "outputs": [
    {
     "name": "stdout",
     "output_type": "stream",
     "text": [
      "enter number1:100\n",
      "enter number2:10\n",
      "enter operator:/\n",
      "10.0\n",
      "end\n"
     ]
    }
   ],
   "source": [
    "\"\"\"\n",
    "number1=\n",
    "number2=\n",
    "operator=\"+\", a+b, - a-b, *, a*b, '/' a/b\n",
    "\"\"\"\n",
    "number1 = float(input(\"enter number1:\"))#20\n",
    "number2 = float(input(\"enter number2:\"))#13\n",
    "operator = input(\"enter operator:\")# -: 7, *:260, +: 33\n",
    "if operator == \"+\":\n",
    "    print(number1+number2)\n",
    "if operator == \"-\":\n",
    "    print(number1-number2)\n",
    "if operator == \"*\":\n",
    "    print(number1*number2)\n",
    "if operator == \"/\":\n",
    "    print(number1/number2)\n",
    "print(\"end\")"
   ]
  },
  {
   "cell_type": "code",
   "execution_count": 4,
   "metadata": {},
   "outputs": [
    {
     "name": "stdout",
     "output_type": "stream",
     "text": [
      "enter number1:12\n",
      "enter number2:34\n",
      "enter operator:>\n",
      "end\n"
     ]
    }
   ],
   "source": [
    "\"\"\"\n",
    "number1=\n",
    "number2=\n",
    "operator=\"+\", a+b, - a-b, *, a*b, '/' a/b\n",
    "\"\"\"\n",
    "number1 = float(input(\"enter number1:\"))#20\n",
    "number2 = float(input(\"enter number2:\"))#13\n",
    "operator = input(\"enter operator:\")# -: 7, *:260, +: 33\n",
    "if operator == \"+\":\n",
    "    print(number1+number2)\n",
    "if operator == \"-\":\n",
    "    print(number1-number2)\n",
    "if operator == \"*\":\n",
    "    print(number1*number2)\n",
    "if operator == \"/\":\n",
    "    print(number1/number2)\n",
    "print(\"end\")"
   ]
  },
  {
   "cell_type": "code",
   "execution_count": 5,
   "metadata": {},
   "outputs": [
    {
     "name": "stdout",
     "output_type": "stream",
     "text": [
      "enter number1:12\n",
      "enter number2:34\n",
      "enter operator:>\n",
      "we are not handling > operator\n",
      "end\n"
     ]
    }
   ],
   "source": [
    "\"\"\"\n",
    "number1=\n",
    "number2=\n",
    "operator=\"+\", a+b, - a-b, *, a*b, '/' a/b\n",
    "\"\"\"\n",
    "number1 = float(input(\"enter number1:\"))#20\n",
    "number2 = float(input(\"enter number2:\"))#13\n",
    "operator = input(\"enter operator:\")# -: 7, *:260, +: 33\n",
    "if operator not in ['+','-','*','/']:\n",
    "    print(\"we are not handling %s operator\" % operator)\n",
    "if operator == \"+\":\n",
    "    print(number1+number2)\n",
    "if operator == \"-\":\n",
    "    print(number1-number2)\n",
    "if operator == \"*\":\n",
    "    print(number1*number2)\n",
    "if operator == \"/\":\n",
    "    print(number1/number2)\n",
    "print(\"end\")"
   ]
  },
  {
   "cell_type": "code",
   "execution_count": 6,
   "metadata": {},
   "outputs": [
    {
     "name": "stdout",
     "output_type": "stream",
     "text": [
      "enter num112\n",
      "enter num234\n",
      "enter operator:+\n",
      "46.0\n"
     ]
    }
   ],
   "source": [
    "num1 = float(input(\"enter num1\"))\n",
    "num2 = float(input(\"enter num2\"))\n",
    "operator = input(\"enter operator:\")\n",
    "if operator == '+':\n",
    "    print(num1+num2)\n",
    "elif operator == '-':\n",
    "    print(num1-num2)\n",
    "elif operator == '*':\n",
    "    print(num1*num2)\n",
    "elif operator == '/':\n",
    "    print(num1/num2)\n",
    "else: \n",
    "    print(\"you have given not operator\")"
   ]
  },
  {
   "cell_type": "code",
   "execution_count": 7,
   "metadata": {},
   "outputs": [
    {
     "name": "stdout",
     "output_type": "stream",
     "text": [
      "enter number1:12\n",
      "enter number2:34\n",
      "enter operator:+\n",
      "46.0\n",
      "end\n"
     ]
    }
   ],
   "source": [
    "\"\"\"\n",
    "number1=\n",
    "number2=\n",
    "operator=\"+\", a+b, - a-b, *, a*b, '/' a/b\n",
    "\"\"\"\n",
    "number1 = float(input(\"enter number1:\"))#20\n",
    "number2 = float(input(\"enter number2:\"))#13\n",
    "operator = input(\"enter operator:\")# -: 7, *:260, +: 33\n",
    "if operator in ['+','-','*','/']:\n",
    "    if operator == \"+\": # True\n",
    "        print(number1+number2)\n",
    "    if operator == \"-\":\n",
    "        print(number1-number2)\n",
    "    if operator == \"*\":\n",
    "        print(number1*number2)\n",
    "    if operator == \"/\":\n",
    "        print(number1/number2)\n",
    "else:\n",
    "    print(\"we are not handling %s operator\" % operator)\n",
    "    \n",
    "print(\"end\")"
   ]
  },
  {
   "cell_type": "code",
   "execution_count": 8,
   "metadata": {},
   "outputs": [
    {
     "name": "stdout",
     "output_type": "stream",
     "text": [
      "enter number1:13\n",
      "enter number2:12\n",
      "enter operator:*\n",
      "156.0\n",
      "end\n"
     ]
    }
   ],
   "source": [
    "\"\"\"\n",
    "number1=\n",
    "number2=\n",
    "operator=\"+\", a+b, - a-b, *, a*b, '/' a/b\n",
    "\"\"\"\n",
    "number1 = float(input(\"enter number1:\"))#20\n",
    "number2 = float(input(\"enter number2:\"))#13\n",
    "operator = input(\"enter operator:\")# -: 7, *:260, +: 33\n",
    "if operator in ['+','-','*','/']:\n",
    "    if operator == \"+\": # False\n",
    "        print(number1+number2)\n",
    "    if operator == \"-\": # False\n",
    "        print(number1-number2)\n",
    "    if operator == \"*\": # True\n",
    "        print(number1*number2)\n",
    "    if operator == \"/\":\n",
    "        print(number1/number2)\n",
    "else:\n",
    "    print(\"we are not handling %s operator\" % operator)\n",
    "    \n",
    "print(\"end\")"
   ]
  },
  {
   "cell_type": "code",
   "execution_count": 9,
   "metadata": {},
   "outputs": [
    {
     "name": "stdout",
     "output_type": "stream",
     "text": [
      "enter number1:12\n",
      "enter number2:6\n",
      "enter operator:/\n",
      "2.0\n",
      "end\n"
     ]
    }
   ],
   "source": [
    "\"\"\"\n",
    "number1=\n",
    "number2=\n",
    "operator=\"+\", a+b, - a-b, *, a*b, '/' a/b\n",
    "\"\"\"\n",
    "number1 = float(input(\"enter number1:\"))#20\n",
    "number2 = float(input(\"enter number2:\"))#13\n",
    "operator = input(\"enter operator:\")# -: 7, *:260, +: 33\n",
    "if operator in ['+','-','*','/']:\n",
    "    if operator == \"+\": # False\n",
    "        print(number1+number2)\n",
    "    elif operator == \"-\": # False\n",
    "        print(number1-number2)\n",
    "    elif operator == \"*\": # False\n",
    "        print(number1*number2)\n",
    "    elif operator == \"/\": # True\n",
    "        print(number1/number2)\n",
    "else:\n",
    "    print(\"we are not handling %s operator\" % operator)\n",
    "    "
   ]
  },
  {
   "cell_type": "code",
   "execution_count": 10,
   "metadata": {},
   "outputs": [
    {
     "name": "stdout",
     "output_type": "stream",
     "text": [
      "enter number1:12\n",
      "enter number2:6\n",
      "enter operator:-\n",
      "6.0\n"
     ]
    }
   ],
   "source": [
    "\"\"\"\n",
    "number1=\n",
    "number2=\n",
    "operator=\"+\", a+b, - a-b, *, a*b, '/' a/b\n",
    "\"\"\"\n",
    "number1 = float(input(\"enter number1:\"))#20\n",
    "number2 = float(input(\"enter number2:\"))#13\n",
    "operator = input(\"enter operator:\")# -: 7, *:260, +: 33\n",
    "if operator in ['+','-','*','/']:\n",
    "    if operator == \"+\": # False\n",
    "        print(number1+number2)\n",
    "    elif operator == \"-\": # True\n",
    "        print(number1-number2)\n",
    "    elif operator == \"*\": \n",
    "        print(number1*number2)\n",
    "    elif operator == \"/\": \n",
    "        print(number1/number2)\n",
    "else:\n",
    "    print(\"we are not handling %s operator\" % operator)\n",
    "    "
   ]
  },
  {
   "cell_type": "code",
   "execution_count": null,
   "metadata": {},
   "outputs": [],
   "source": []
  }
 ],
 "metadata": {
  "kernelspec": {
   "display_name": "Python 3",
   "language": "python",
   "name": "python3"
  },
  "language_info": {
   "codemirror_mode": {
    "name": "ipython",
    "version": 3
   },
   "file_extension": ".py",
   "mimetype": "text/x-python",
   "name": "python",
   "nbconvert_exporter": "python",
   "pygments_lexer": "ipython3",
   "version": "3.8.3"
  }
 },
 "nbformat": 4,
 "nbformat_minor": 4
}
