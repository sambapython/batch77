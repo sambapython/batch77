{
 "cells": [
  {
   "cell_type": "code",
   "execution_count": null,
   "metadata": {},
   "outputs": [],
   "source": [
    "def div(x,y):\n",
    "    return x/y\n",
    "def mul(x,y):\n",
    "    return x*y\n",
    "def add(x,y):\n",
    "    return x+y\n",
    "print(add(10,20))\n",
    "print(mul(10,20))\n",
    "print(div(10,20))"
   ]
  },
  {
   "cell_type": "code",
   "execution_count": null,
   "metadata": {},
   "outputs": [],
   "source": [
    "# employee operations\n",
    "#salary calc involves\n",
    "# employee_infor\n",
    "# leave_cals\n",
    "# tax\n",
    "# pension\n",
    "# any deductions\n",
    "# salar_calc"
   ]
  },
  {
   "cell_type": "code",
   "execution_count": 1,
   "metadata": {},
   "outputs": [],
   "source": [
    "class Employee: # class Name should be in Title case. This is the convention following by all the python developers.\n",
    "    pass\n",
    "    "
   ]
  },
  {
   "cell_type": "code",
   "execution_count": 2,
   "metadata": {},
   "outputs": [],
   "source": [
    "class employee:\n",
    "    pass"
   ]
  },
  {
   "cell_type": "code",
   "execution_count": 3,
   "metadata": {},
   "outputs": [],
   "source": [
    "class emp_loyee:\n",
    "    pass"
   ]
  },
  {
   "cell_type": "code",
   "execution_count": 4,
   "metadata": {},
   "outputs": [
    {
     "ename": "SyntaxError",
     "evalue": "invalid syntax (<ipython-input-4-a5206ba8bd8f>, line 1)",
     "output_type": "error",
     "traceback": [
      "\u001b[1;36m  File \u001b[1;32m\"<ipython-input-4-a5206ba8bd8f>\"\u001b[1;36m, line \u001b[1;32m1\u001b[0m\n\u001b[1;33m    class 1emp:\u001b[0m\n\u001b[1;37m          ^\u001b[0m\n\u001b[1;31mSyntaxError\u001b[0m\u001b[1;31m:\u001b[0m invalid syntax\n"
     ]
    }
   ],
   "source": [
    "class 1emp:\n",
    "    pass"
   ]
  },
  {
   "cell_type": "code",
   "execution_count": 5,
   "metadata": {},
   "outputs": [
    {
     "ename": "SyntaxError",
     "evalue": "invalid syntax (<ipython-input-5-8c10b2cb97f0>, line 1)",
     "output_type": "error",
     "traceback": [
      "\u001b[1;36m  File \u001b[1;32m\"<ipython-input-5-8c10b2cb97f0>\"\u001b[1;36m, line \u001b[1;32m1\u001b[0m\n\u001b[1;33m    class for:\u001b[0m\n\u001b[1;37m          ^\u001b[0m\n\u001b[1;31mSyntaxError\u001b[0m\u001b[1;31m:\u001b[0m invalid syntax\n"
     ]
    }
   ],
   "source": [
    "class for:\n",
    "    pass"
   ]
  },
  {
   "cell_type": "code",
   "execution_count": 6,
   "metadata": {},
   "outputs": [
    {
     "name": "stdout",
     "output_type": "stream",
     "text": [
      "this is calss\n"
     ]
    }
   ],
   "source": [
    "def fun():\n",
    "    print(\"this is fun\")\n",
    "class Emp:\n",
    "    print(\"this is calss\")"
   ]
  },
  {
   "cell_type": "code",
   "execution_count": 7,
   "metadata": {},
   "outputs": [
    {
     "name": "stdout",
     "output_type": "stream",
     "text": [
      "this is calss\n"
     ]
    }
   ],
   "source": [
    "def fun():\n",
    "    print(\"this is fun\")\n",
    "class Emp:\n",
    "    print(\"this is calss\")\n",
    "    def fun_class():\n",
    "        print(\"this is fun in calss\")\n",
    "        "
   ]
  },
  {
   "cell_type": "code",
   "execution_count": 9,
   "metadata": {},
   "outputs": [
    {
     "name": "stdout",
     "output_type": "stream",
     "text": [
      "jay 70000\n",
      "this is fun in calss\n"
     ]
    }
   ],
   "source": [
    "def fun():\n",
    "    print(\"this is fun\")\n",
    "class Emp:\n",
    "    name = \"jay\"\n",
    "    salary=70000\n",
    "    print(name,salary)\n",
    "    def fun_class():\n",
    "        print(\"this is fun in calss\")\n",
    "    fun_class()\n",
    "        "
   ]
  },
  {
   "cell_type": "code",
   "execution_count": 10,
   "metadata": {},
   "outputs": [
    {
     "ename": "NameError",
     "evalue": "name 'name' is not defined",
     "output_type": "error",
     "traceback": [
      "\u001b[1;31m---------------------------------------------------------------------------\u001b[0m",
      "\u001b[1;31mNameError\u001b[0m                                 Traceback (most recent call last)",
      "\u001b[1;32m<ipython-input-10-29d1f695ca4a>\u001b[0m in \u001b[0;36m<module>\u001b[1;34m\u001b[0m\n\u001b[0;32m      7\u001b[0m     \u001b[1;32mdef\u001b[0m \u001b[0mfun_class\u001b[0m\u001b[1;33m(\u001b[0m\u001b[0mx\u001b[0m\u001b[1;33m)\u001b[0m\u001b[1;33m:\u001b[0m\u001b[1;33m\u001b[0m\u001b[1;33m\u001b[0m\u001b[0m\n\u001b[0;32m      8\u001b[0m         \u001b[0mprint\u001b[0m\u001b[1;33m(\u001b[0m\u001b[1;34m\"this is fun in calss\"\u001b[0m\u001b[1;33m)\u001b[0m\u001b[1;33m\u001b[0m\u001b[1;33m\u001b[0m\u001b[0m\n\u001b[1;32m----> 9\u001b[1;33m \u001b[0mprint\u001b[0m\u001b[1;33m(\u001b[0m\u001b[0mname\u001b[0m\u001b[1;33m,\u001b[0m\u001b[0msalary\u001b[0m\u001b[1;33m)\u001b[0m\u001b[1;33m\u001b[0m\u001b[1;33m\u001b[0m\u001b[0m\n\u001b[0m",
      "\u001b[1;31mNameError\u001b[0m: name 'name' is not defined"
     ]
    }
   ],
   "source": [
    "def fun():\n",
    "    print(\"this is fun\")\n",
    "\n",
    "class Emp:\n",
    "    name = \"jay\"\n",
    "    salary=70000\n",
    "    def fun_class(x):\n",
    "        print(\"this is fun in calss\")\n",
    "print(name,salary)"
   ]
  },
  {
   "cell_type": "code",
   "execution_count": 11,
   "metadata": {},
   "outputs": [
    {
     "name": "stdout",
     "output_type": "stream",
     "text": [
      "jay 70000\n"
     ]
    }
   ],
   "source": [
    "def fun():\n",
    "    print(\"this is fun\")\n",
    "\n",
    "class Emp:\n",
    "    name = \"jay\"\n",
    "    salary=70000\n",
    "    def fun_class(x):\n",
    "        print(\"this is fun in calss\")\n",
    "print(Emp.name,Emp.salary)"
   ]
  },
  {
   "cell_type": "code",
   "execution_count": 12,
   "metadata": {},
   "outputs": [
    {
     "name": "stdout",
     "output_type": "stream",
     "text": [
      "jay 70000\n",
      "this is fun in calss\n"
     ]
    }
   ],
   "source": [
    "def fun():\n",
    "    print(\"this is fun\")\n",
    "\n",
    "class Emp:\n",
    "    name = \"jay\"\n",
    "    salary=70000\n",
    "    def fun_class(x):\n",
    "        print(\"this is fun in calss\")\n",
    "print(Emp.name,Emp.salary)\n",
    "Emp.fun_class(10)"
   ]
  },
  {
   "cell_type": "code",
   "execution_count": 13,
   "metadata": {},
   "outputs": [
    {
     "name": "stdout",
     "output_type": "stream",
     "text": [
      "Satheesh kumar development Emp1\n",
      "Chaithanya Sai Development Emp2\n"
     ]
    }
   ],
   "source": [
    "class Emp:\n",
    "    def sala_cal(x):\n",
    "        print(\"this is salry calculation\")\n",
    "        \n",
    "satheesh = Emp()# it's looking like a function call, so to differentiate function call or object creation, we have to follow\n",
    "# the convention as Title case class anem\n",
    "satheesh.name=\"Satheesh kumar\"\n",
    "satheesh.stream = \"development\"\n",
    "satheesh.empid=\"Emp1\"\n",
    "sai = Emp()\n",
    "sai.name=\"Chaithanya Sai\"\n",
    "sai.stream = \"Development\"\n",
    "sai.empid=\"Emp2\"\n",
    "print(satheesh.name,satheesh.stream,satheesh.empid)\n",
    "print(sai.name,sai.stream,sai.empid)"
   ]
  },
  {
   "cell_type": "code",
   "execution_count": 14,
   "metadata": {},
   "outputs": [],
   "source": [
    "# sample class for product, Innitialize two products."
   ]
  },
  {
   "cell_type": "code",
   "execution_count": 15,
   "metadata": {},
   "outputs": [
    {
     "name": "stdout",
     "output_type": "stream",
     "text": [
      "Satheesh kumar development Emp1\n",
      "Chaithanya Sai Development Emp2\n"
     ]
    }
   ],
   "source": [
    "class Emp:\n",
    "    def sala_cal(x):\n",
    "        print(\"this is salry calculation\")\n",
    "    def get(x):\n",
    "        print(x.name,x.stream,x.empid)\n",
    "        \n",
    "satheesh = Emp()# Emp() ia an object\n",
    "satheesh.name=\"Satheesh kumar\"\n",
    "satheesh.stream = \"development\"\n",
    "satheesh.empid=\"Emp1\"\n",
    "sai = Emp()\n",
    "sai.name=\"Chaithanya Sai\"\n",
    "sai.stream = \"Development\"\n",
    "sai.empid=\"Emp2\"\n",
    "#print(satheesh.name,satheesh.stream,satheesh.empid)\n",
    "Emp.get(satheesh)\n",
    "#print(sai.name,sai.stream,sai.empid)\n",
    "Emp.get(sai)"
   ]
  },
  {
   "cell_type": "code",
   "execution_count": 16,
   "metadata": {},
   "outputs": [
    {
     "name": "stdout",
     "output_type": "stream",
     "text": [
      "Satheesh kumar development Emp1\n",
      "Chaithanya Sai Development Emp2\n"
     ]
    },
    {
     "ename": "AttributeError",
     "evalue": "'Emp' object has no attribute 'stream'",
     "output_type": "error",
     "traceback": [
      "\u001b[1;31m---------------------------------------------------------------------------\u001b[0m",
      "\u001b[1;31mAttributeError\u001b[0m                            Traceback (most recent call last)",
      "\u001b[1;32m<ipython-input-16-1b7efd5c4ebd>\u001b[0m in \u001b[0;36m<module>\u001b[1;34m\u001b[0m\n\u001b[0;32m     20\u001b[0m \u001b[0mhari\u001b[0m\u001b[1;33m.\u001b[0m\u001b[0mname\u001b[0m\u001b[1;33m=\u001b[0m\u001b[1;34m\"Hari kumar\"\u001b[0m\u001b[1;33m\u001b[0m\u001b[1;33m\u001b[0m\u001b[0m\n\u001b[0;32m     21\u001b[0m \u001b[0mhari\u001b[0m\u001b[1;33m.\u001b[0m\u001b[0mempid\u001b[0m\u001b[1;33m=\u001b[0m\u001b[1;34m\"Emp3\"\u001b[0m\u001b[1;33m\u001b[0m\u001b[1;33m\u001b[0m\u001b[0m\n\u001b[1;32m---> 22\u001b[1;33m \u001b[0mEmp\u001b[0m\u001b[1;33m.\u001b[0m\u001b[0mget\u001b[0m\u001b[1;33m(\u001b[0m\u001b[0mhari\u001b[0m\u001b[1;33m)\u001b[0m\u001b[1;33m\u001b[0m\u001b[1;33m\u001b[0m\u001b[0m\n\u001b[0m",
      "\u001b[1;32m<ipython-input-16-1b7efd5c4ebd>\u001b[0m in \u001b[0;36mget\u001b[1;34m(x)\u001b[0m\n\u001b[0;32m      3\u001b[0m         \u001b[0mprint\u001b[0m\u001b[1;33m(\u001b[0m\u001b[1;34m\"this is salry calculation\"\u001b[0m\u001b[1;33m)\u001b[0m\u001b[1;33m\u001b[0m\u001b[1;33m\u001b[0m\u001b[0m\n\u001b[0;32m      4\u001b[0m     \u001b[1;32mdef\u001b[0m \u001b[0mget\u001b[0m\u001b[1;33m(\u001b[0m\u001b[0mx\u001b[0m\u001b[1;33m)\u001b[0m\u001b[1;33m:\u001b[0m\u001b[1;33m\u001b[0m\u001b[1;33m\u001b[0m\u001b[0m\n\u001b[1;32m----> 5\u001b[1;33m         \u001b[0mprint\u001b[0m\u001b[1;33m(\u001b[0m\u001b[0mx\u001b[0m\u001b[1;33m.\u001b[0m\u001b[0mname\u001b[0m\u001b[1;33m,\u001b[0m\u001b[0mx\u001b[0m\u001b[1;33m.\u001b[0m\u001b[0mstream\u001b[0m\u001b[1;33m,\u001b[0m\u001b[0mx\u001b[0m\u001b[1;33m.\u001b[0m\u001b[0mempid\u001b[0m\u001b[1;33m)\u001b[0m\u001b[1;33m\u001b[0m\u001b[1;33m\u001b[0m\u001b[0m\n\u001b[0m\u001b[0;32m      6\u001b[0m \u001b[1;33m\u001b[0m\u001b[0m\n\u001b[0;32m      7\u001b[0m \u001b[0msatheesh\u001b[0m \u001b[1;33m=\u001b[0m \u001b[0mEmp\u001b[0m\u001b[1;33m(\u001b[0m\u001b[1;33m)\u001b[0m\u001b[1;31m# Emp() ia an object\u001b[0m\u001b[1;33m\u001b[0m\u001b[1;33m\u001b[0m\u001b[0m\n",
      "\u001b[1;31mAttributeError\u001b[0m: 'Emp' object has no attribute 'stream'"
     ]
    }
   ],
   "source": [
    "class Emp:\n",
    "    def sala_cal(x):\n",
    "        print(\"this is salry calculation\")\n",
    "    def get(x):\n",
    "        print(x.name,x.stream,x.empid)\n",
    "        \n",
    "satheesh = Emp()# Emp() ia an object\n",
    "satheesh.name=\"Satheesh kumar\"\n",
    "satheesh.stream = \"development\"\n",
    "satheesh.empid=\"Emp1\"\n",
    "sai = Emp()\n",
    "sai.name=\"Chaithanya Sai\"\n",
    "sai.stream = \"Development\"\n",
    "sai.empid=\"Emp2\"\n",
    "#print(satheesh.name,satheesh.stream,satheesh.empid)\n",
    "Emp.get(satheesh)\n",
    "#print(sai.name,sai.stream,sai.empid)\n",
    "Emp.get(sai)\n",
    "hari = Emp()\n",
    "hari.name=\"Hari kumar\"\n",
    "hari.empid=\"Emp3\"\n",
    "Emp.get(hari)"
   ]
  },
  {
   "cell_type": "code",
   "execution_count": 17,
   "metadata": {},
   "outputs": [
    {
     "name": "stdout",
     "output_type": "stream",
     "text": [
      "Satheesh kumar development Emp1\n",
      "Chaithanya Sai Development Emp2\n",
      "Hari kumar None Emp3\n"
     ]
    }
   ],
   "source": [
    "class Emp:\n",
    "    def sala_cal(x):\n",
    "        print(\"this is salry calculation\")\n",
    "    def get_emp(x):\n",
    "        print(x.name,x.stream,x.empid)\n",
    "        \n",
    "    def set_emp(x,emp_name, emp_id, emp_stream=None):\n",
    "        x.name=emp_name\n",
    "        x.stream=emp_stream\n",
    "        x.empid=emp_id\n",
    "        \n",
    "satheesh = Emp()# Emp() ia an object\n",
    "Emp.set_emp(satheesh,\"Satheesh kumar\",\"Emp1\",\"development\",)\n",
    "'''\n",
    "satheesh.name=\"Satheesh kumar\"\n",
    "satheesh.stream = \"development\"\n",
    "satheesh.empid=\"Emp1\"\n",
    "'''\n",
    "sai = Emp()\n",
    "Emp.set_emp(sai,\"Chaithanya Sai\",\"Emp2\",\"Development\")\n",
    "\"\"\"\n",
    "sai.name=\"Chaithanya Sai\"\n",
    "sai.stream = \"Development\"\n",
    "sai.empid=\"Emp2\"\n",
    "\"\"\"\n",
    "\n",
    "#print(satheesh.name,satheesh.stream,satheesh.empid)\n",
    "Emp.get_emp(satheesh)\n",
    "#print(sai.name,sai.stream,sai.empid)\n",
    "Emp.get_emp(sai)\n",
    "hari = Emp()\n",
    "Emp.set_emp(hari,\"Hari kumar\",\"Emp3\")\n",
    "\n",
    "\"\"\"\n",
    "hari.name=\"Hari kumar\"\n",
    "hari.empid=\"Emp3\"\n",
    "\"\"\"\n",
    "\n",
    "Emp.get_emp(hari)"
   ]
  },
  {
   "cell_type": "code",
   "execution_count": null,
   "metadata": {},
   "outputs": [],
   "source": [
    "class Emp:\n",
    "    def sala_cal(x):\n",
    "        print(\"this is salry calculation\")\n",
    "    def get_emp(x):\n",
    "        print(x.name,x.stream,x.empid)\n",
    "        \n",
    "    def set_emp(x,emp_name, emp_id, emp_stream=None):\n",
    "        x.name=emp_name\n",
    "        x.stream=emp_stream\n",
    "        x.empid=emp_id\n",
    "        \n",
    "satheesh = Emp()# Emp() ia an object\n",
    "Emp.set_emp(satheesh,\"Satheesh kumar\",\"Emp1\",\"development\",)\n",
    "sai = Emp()\n",
    "Emp.set_emp(sai,\"Chaithanya Sai\",\"Emp2\",\"Development\")\n",
    "Emp.get_emp(satheesh)\n",
    "Emp.get_emp(sai)\n",
    "hari = Emp()\n",
    "Emp.set_emp(hari,\"Hari kumar\",\"Emp3\")\n",
    "Emp.get_emp(hari)\n",
    "#"
   ]
  },
  {
   "cell_type": "code",
   "execution_count": null,
   "metadata": {},
   "outputs": [],
   "source": [
    "#vehicle, user, trips\n",
    "class Vehicle:\n",
    "    def set_vehicle():\n",
    "        pass\n",
    "    def get_vehicle():\n",
    "        pass"
   ]
  }
 ],
 "metadata": {
  "kernelspec": {
   "display_name": "Python 3",
   "language": "python",
   "name": "python3"
  },
  "language_info": {
   "codemirror_mode": {
    "name": "ipython",
    "version": 3
   },
   "file_extension": ".py",
   "mimetype": "text/x-python",
   "name": "python",
   "nbconvert_exporter": "python",
   "pygments_lexer": "ipython3",
   "version": "3.8.3"
  }
 },
 "nbformat": 4,
 "nbformat_minor": 4
}
