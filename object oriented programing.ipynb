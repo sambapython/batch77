{
 "cells": [
  {
   "cell_type": "code",
   "execution_count": null,
   "metadata": {},
   "outputs": [],
   "source": [
    "def div(x,y):\n",
    "    return x/y\n",
    "def mul(x,y):\n",
    "    return x*y\n",
    "def add(x,y):\n",
    "    return x+y\n",
    "print(add(10,20))\n",
    "print(mul(10,20))\n",
    "print(div(10,20))"
   ]
  },
  {
   "cell_type": "code",
   "execution_count": null,
   "metadata": {},
   "outputs": [],
   "source": [
    "# employee operations\n",
    "#salary calc involves\n",
    "# employee_infor\n",
    "# leave_cals\n",
    "# tax\n",
    "# pension\n",
    "# any deductions\n",
    "# salar_calc"
   ]
  },
  {
   "cell_type": "code",
   "execution_count": 1,
   "metadata": {},
   "outputs": [],
   "source": [
    "class Employee: # class Name should be in Title case. This is the convention following by all the python developers.\n",
    "    pass\n",
    "    "
   ]
  },
  {
   "cell_type": "code",
   "execution_count": 2,
   "metadata": {},
   "outputs": [],
   "source": [
    "class employee:\n",
    "    pass"
   ]
  },
  {
   "cell_type": "code",
   "execution_count": 3,
   "metadata": {},
   "outputs": [],
   "source": [
    "class emp_loyee:\n",
    "    pass"
   ]
  },
  {
   "cell_type": "code",
   "execution_count": 4,
   "metadata": {},
   "outputs": [
    {
     "ename": "SyntaxError",
     "evalue": "invalid syntax (<ipython-input-4-a5206ba8bd8f>, line 1)",
     "output_type": "error",
     "traceback": [
      "\u001b[1;36m  File \u001b[1;32m\"<ipython-input-4-a5206ba8bd8f>\"\u001b[1;36m, line \u001b[1;32m1\u001b[0m\n\u001b[1;33m    class 1emp:\u001b[0m\n\u001b[1;37m          ^\u001b[0m\n\u001b[1;31mSyntaxError\u001b[0m\u001b[1;31m:\u001b[0m invalid syntax\n"
     ]
    }
   ],
   "source": [
    "class 1emp:\n",
    "    pass"
   ]
  },
  {
   "cell_type": "code",
   "execution_count": 5,
   "metadata": {},
   "outputs": [
    {
     "ename": "SyntaxError",
     "evalue": "invalid syntax (<ipython-input-5-8c10b2cb97f0>, line 1)",
     "output_type": "error",
     "traceback": [
      "\u001b[1;36m  File \u001b[1;32m\"<ipython-input-5-8c10b2cb97f0>\"\u001b[1;36m, line \u001b[1;32m1\u001b[0m\n\u001b[1;33m    class for:\u001b[0m\n\u001b[1;37m          ^\u001b[0m\n\u001b[1;31mSyntaxError\u001b[0m\u001b[1;31m:\u001b[0m invalid syntax\n"
     ]
    }
   ],
   "source": [
    "class for:\n",
    "    pass"
   ]
  },
  {
   "cell_type": "code",
   "execution_count": 6,
   "metadata": {},
   "outputs": [
    {
     "name": "stdout",
     "output_type": "stream",
     "text": [
      "this is calss\n"
     ]
    }
   ],
   "source": [
    "def fun():\n",
    "    print(\"this is fun\")\n",
    "class Emp:\n",
    "    print(\"this is calss\")"
   ]
  },
  {
   "cell_type": "code",
   "execution_count": 7,
   "metadata": {},
   "outputs": [
    {
     "name": "stdout",
     "output_type": "stream",
     "text": [
      "this is calss\n"
     ]
    }
   ],
   "source": [
    "def fun():\n",
    "    print(\"this is fun\")\n",
    "class Emp:\n",
    "    print(\"this is calss\")\n",
    "    def fun_class():\n",
    "        print(\"this is fun in calss\")\n",
    "        "
   ]
  },
  {
   "cell_type": "code",
   "execution_count": 9,
   "metadata": {},
   "outputs": [
    {
     "name": "stdout",
     "output_type": "stream",
     "text": [
      "jay 70000\n",
      "this is fun in calss\n"
     ]
    }
   ],
   "source": [
    "def fun():\n",
    "    print(\"this is fun\")\n",
    "class Emp:\n",
    "    name = \"jay\"\n",
    "    salary=70000\n",
    "    print(name,salary)\n",
    "    def fun_class():\n",
    "        print(\"this is fun in calss\")\n",
    "    fun_class()\n",
    "        "
   ]
  },
  {
   "cell_type": "code",
   "execution_count": 10,
   "metadata": {},
   "outputs": [
    {
     "ename": "NameError",
     "evalue": "name 'name' is not defined",
     "output_type": "error",
     "traceback": [
      "\u001b[1;31m---------------------------------------------------------------------------\u001b[0m",
      "\u001b[1;31mNameError\u001b[0m                                 Traceback (most recent call last)",
      "\u001b[1;32m<ipython-input-10-29d1f695ca4a>\u001b[0m in \u001b[0;36m<module>\u001b[1;34m\u001b[0m\n\u001b[0;32m      7\u001b[0m     \u001b[1;32mdef\u001b[0m \u001b[0mfun_class\u001b[0m\u001b[1;33m(\u001b[0m\u001b[0mx\u001b[0m\u001b[1;33m)\u001b[0m\u001b[1;33m:\u001b[0m\u001b[1;33m\u001b[0m\u001b[1;33m\u001b[0m\u001b[0m\n\u001b[0;32m      8\u001b[0m         \u001b[0mprint\u001b[0m\u001b[1;33m(\u001b[0m\u001b[1;34m\"this is fun in calss\"\u001b[0m\u001b[1;33m)\u001b[0m\u001b[1;33m\u001b[0m\u001b[1;33m\u001b[0m\u001b[0m\n\u001b[1;32m----> 9\u001b[1;33m \u001b[0mprint\u001b[0m\u001b[1;33m(\u001b[0m\u001b[0mname\u001b[0m\u001b[1;33m,\u001b[0m\u001b[0msalary\u001b[0m\u001b[1;33m)\u001b[0m\u001b[1;33m\u001b[0m\u001b[1;33m\u001b[0m\u001b[0m\n\u001b[0m",
      "\u001b[1;31mNameError\u001b[0m: name 'name' is not defined"
     ]
    }
   ],
   "source": [
    "def fun():\n",
    "    print(\"this is fun\")\n",
    "\n",
    "class Emp:\n",
    "    name = \"jay\"\n",
    "    salary=70000\n",
    "    def fun_class(x):\n",
    "        print(\"this is fun in calss\")\n",
    "print(name,salary)"
   ]
  },
  {
   "cell_type": "code",
   "execution_count": 11,
   "metadata": {},
   "outputs": [
    {
     "name": "stdout",
     "output_type": "stream",
     "text": [
      "jay 70000\n"
     ]
    }
   ],
   "source": [
    "def fun():\n",
    "    print(\"this is fun\")\n",
    "\n",
    "class Emp:\n",
    "    name = \"jay\"\n",
    "    salary=70000\n",
    "    def fun_class(x):\n",
    "        print(\"this is fun in calss\")\n",
    "print(Emp.name,Emp.salary)"
   ]
  },
  {
   "cell_type": "code",
   "execution_count": 12,
   "metadata": {},
   "outputs": [
    {
     "name": "stdout",
     "output_type": "stream",
     "text": [
      "jay 70000\n",
      "this is fun in calss\n"
     ]
    }
   ],
   "source": [
    "def fun():\n",
    "    print(\"this is fun\")\n",
    "\n",
    "class Emp:\n",
    "    name = \"jay\"\n",
    "    salary=70000\n",
    "    def fun_class(x):\n",
    "        print(\"this is fun in calss\")\n",
    "print(Emp.name,Emp.salary)\n",
    "Emp.fun_class(10)"
   ]
  },
  {
   "cell_type": "code",
   "execution_count": 13,
   "metadata": {},
   "outputs": [
    {
     "name": "stdout",
     "output_type": "stream",
     "text": [
      "Satheesh kumar development Emp1\n",
      "Chaithanya Sai Development Emp2\n"
     ]
    }
   ],
   "source": [
    "class Emp:\n",
    "    def sala_cal(x):\n",
    "        print(\"this is salry calculation\")\n",
    "        \n",
    "satheesh = Emp()# it's looking like a function call, so to differentiate function call or object creation, we have to follow\n",
    "# the convention as Title case class anem\n",
    "satheesh.name=\"Satheesh kumar\"\n",
    "satheesh.stream = \"development\"\n",
    "satheesh.empid=\"Emp1\"\n",
    "sai = Emp()\n",
    "sai.name=\"Chaithanya Sai\"\n",
    "sai.stream = \"Development\"\n",
    "sai.empid=\"Emp2\"\n",
    "print(satheesh.name,satheesh.stream,satheesh.empid)\n",
    "print(sai.name,sai.stream,sai.empid)"
   ]
  },
  {
   "cell_type": "code",
   "execution_count": 14,
   "metadata": {},
   "outputs": [],
   "source": [
    "# sample class for product, Innitialize two products."
   ]
  },
  {
   "cell_type": "code",
   "execution_count": 15,
   "metadata": {},
   "outputs": [
    {
     "name": "stdout",
     "output_type": "stream",
     "text": [
      "Satheesh kumar development Emp1\n",
      "Chaithanya Sai Development Emp2\n"
     ]
    }
   ],
   "source": [
    "class Emp:\n",
    "    def sala_cal(x):\n",
    "        print(\"this is salry calculation\")\n",
    "    def get(x):\n",
    "        print(x.name,x.stream,x.empid)\n",
    "        \n",
    "satheesh = Emp()# Emp() ia an object\n",
    "satheesh.name=\"Satheesh kumar\"\n",
    "satheesh.stream = \"development\"\n",
    "satheesh.empid=\"Emp1\"\n",
    "sai = Emp()\n",
    "sai.name=\"Chaithanya Sai\"\n",
    "sai.stream = \"Development\"\n",
    "sai.empid=\"Emp2\"\n",
    "#print(satheesh.name,satheesh.stream,satheesh.empid)\n",
    "Emp.get(satheesh)\n",
    "#print(sai.name,sai.stream,sai.empid)\n",
    "Emp.get(sai)"
   ]
  },
  {
   "cell_type": "code",
   "execution_count": 16,
   "metadata": {},
   "outputs": [
    {
     "name": "stdout",
     "output_type": "stream",
     "text": [
      "Satheesh kumar development Emp1\n",
      "Chaithanya Sai Development Emp2\n"
     ]
    },
    {
     "ename": "AttributeError",
     "evalue": "'Emp' object has no attribute 'stream'",
     "output_type": "error",
     "traceback": [
      "\u001b[1;31m---------------------------------------------------------------------------\u001b[0m",
      "\u001b[1;31mAttributeError\u001b[0m                            Traceback (most recent call last)",
      "\u001b[1;32m<ipython-input-16-1b7efd5c4ebd>\u001b[0m in \u001b[0;36m<module>\u001b[1;34m\u001b[0m\n\u001b[0;32m     20\u001b[0m \u001b[0mhari\u001b[0m\u001b[1;33m.\u001b[0m\u001b[0mname\u001b[0m\u001b[1;33m=\u001b[0m\u001b[1;34m\"Hari kumar\"\u001b[0m\u001b[1;33m\u001b[0m\u001b[1;33m\u001b[0m\u001b[0m\n\u001b[0;32m     21\u001b[0m \u001b[0mhari\u001b[0m\u001b[1;33m.\u001b[0m\u001b[0mempid\u001b[0m\u001b[1;33m=\u001b[0m\u001b[1;34m\"Emp3\"\u001b[0m\u001b[1;33m\u001b[0m\u001b[1;33m\u001b[0m\u001b[0m\n\u001b[1;32m---> 22\u001b[1;33m \u001b[0mEmp\u001b[0m\u001b[1;33m.\u001b[0m\u001b[0mget\u001b[0m\u001b[1;33m(\u001b[0m\u001b[0mhari\u001b[0m\u001b[1;33m)\u001b[0m\u001b[1;33m\u001b[0m\u001b[1;33m\u001b[0m\u001b[0m\n\u001b[0m",
      "\u001b[1;32m<ipython-input-16-1b7efd5c4ebd>\u001b[0m in \u001b[0;36mget\u001b[1;34m(x)\u001b[0m\n\u001b[0;32m      3\u001b[0m         \u001b[0mprint\u001b[0m\u001b[1;33m(\u001b[0m\u001b[1;34m\"this is salry calculation\"\u001b[0m\u001b[1;33m)\u001b[0m\u001b[1;33m\u001b[0m\u001b[1;33m\u001b[0m\u001b[0m\n\u001b[0;32m      4\u001b[0m     \u001b[1;32mdef\u001b[0m \u001b[0mget\u001b[0m\u001b[1;33m(\u001b[0m\u001b[0mx\u001b[0m\u001b[1;33m)\u001b[0m\u001b[1;33m:\u001b[0m\u001b[1;33m\u001b[0m\u001b[1;33m\u001b[0m\u001b[0m\n\u001b[1;32m----> 5\u001b[1;33m         \u001b[0mprint\u001b[0m\u001b[1;33m(\u001b[0m\u001b[0mx\u001b[0m\u001b[1;33m.\u001b[0m\u001b[0mname\u001b[0m\u001b[1;33m,\u001b[0m\u001b[0mx\u001b[0m\u001b[1;33m.\u001b[0m\u001b[0mstream\u001b[0m\u001b[1;33m,\u001b[0m\u001b[0mx\u001b[0m\u001b[1;33m.\u001b[0m\u001b[0mempid\u001b[0m\u001b[1;33m)\u001b[0m\u001b[1;33m\u001b[0m\u001b[1;33m\u001b[0m\u001b[0m\n\u001b[0m\u001b[0;32m      6\u001b[0m \u001b[1;33m\u001b[0m\u001b[0m\n\u001b[0;32m      7\u001b[0m \u001b[0msatheesh\u001b[0m \u001b[1;33m=\u001b[0m \u001b[0mEmp\u001b[0m\u001b[1;33m(\u001b[0m\u001b[1;33m)\u001b[0m\u001b[1;31m# Emp() ia an object\u001b[0m\u001b[1;33m\u001b[0m\u001b[1;33m\u001b[0m\u001b[0m\n",
      "\u001b[1;31mAttributeError\u001b[0m: 'Emp' object has no attribute 'stream'"
     ]
    }
   ],
   "source": [
    "class Emp:\n",
    "    def sala_cal(x):\n",
    "        print(\"this is salry calculation\")\n",
    "    def get(x):\n",
    "        print(x.name,x.stream,x.empid)\n",
    "        \n",
    "satheesh = Emp()# Emp() ia an object\n",
    "satheesh.name=\"Satheesh kumar\"\n",
    "satheesh.stream = \"development\"\n",
    "satheesh.empid=\"Emp1\"\n",
    "sai = Emp()\n",
    "sai.name=\"Chaithanya Sai\"\n",
    "sai.stream = \"Development\"\n",
    "sai.empid=\"Emp2\"\n",
    "#print(satheesh.name,satheesh.stream,satheesh.empid)\n",
    "Emp.get(satheesh)\n",
    "#print(sai.name,sai.stream,sai.empid)\n",
    "Emp.get(sai)\n",
    "hari = Emp()\n",
    "hari.name=\"Hari kumar\"\n",
    "hari.empid=\"Emp3\"\n",
    "Emp.get(hari)"
   ]
  },
  {
   "cell_type": "code",
   "execution_count": 17,
   "metadata": {},
   "outputs": [
    {
     "name": "stdout",
     "output_type": "stream",
     "text": [
      "Satheesh kumar development Emp1\n",
      "Chaithanya Sai Development Emp2\n",
      "Hari kumar None Emp3\n"
     ]
    }
   ],
   "source": [
    "class Emp:\n",
    "    def sala_cal(x):\n",
    "        print(\"this is salry calculation\")\n",
    "    def get_emp(x):\n",
    "        print(x.name,x.stream,x.empid)\n",
    "        \n",
    "    def set_emp(x,emp_name, emp_id, emp_stream=None):\n",
    "        x.name=emp_name\n",
    "        x.stream=emp_stream\n",
    "        x.empid=emp_id\n",
    "        \n",
    "satheesh = Emp()# Emp() ia an object\n",
    "Emp.set_emp(satheesh,\"Satheesh kumar\",\"Emp1\",\"development\",)\n",
    "'''\n",
    "satheesh.name=\"Satheesh kumar\"\n",
    "satheesh.stream = \"development\"\n",
    "satheesh.empid=\"Emp1\"\n",
    "'''\n",
    "sai = Emp()\n",
    "Emp.set_emp(sai,\"Chaithanya Sai\",\"Emp2\",\"Development\")\n",
    "\"\"\"\n",
    "sai.name=\"Chaithanya Sai\"\n",
    "sai.stream = \"Development\"\n",
    "sai.empid=\"Emp2\"\n",
    "\"\"\"\n",
    "\n",
    "#print(satheesh.name,satheesh.stream,satheesh.empid)\n",
    "Emp.get_emp(satheesh)\n",
    "#print(sai.name,sai.stream,sai.empid)\n",
    "Emp.get_emp(sai)\n",
    "hari = Emp()\n",
    "Emp.set_emp(hari,\"Hari kumar\",\"Emp3\")\n",
    "\n",
    "\"\"\"\n",
    "hari.name=\"Hari kumar\"\n",
    "hari.empid=\"Emp3\"\n",
    "\"\"\"\n",
    "\n",
    "Emp.get_emp(hari)"
   ]
  },
  {
   "cell_type": "code",
   "execution_count": null,
   "metadata": {},
   "outputs": [],
   "source": [
    "class Emp:\n",
    "    def sala_cal(x):\n",
    "        print(\"this is salry calculation\")\n",
    "    def get_emp(x):\n",
    "        print(x.name,x.stream,x.empid)\n",
    "        \n",
    "    def set_emp(x,emp_name, emp_id, emp_stream=None):\n",
    "        x.name=emp_name\n",
    "        x.stream=emp_stream\n",
    "        x.empid=emp_id\n",
    "        \n",
    "satheesh = Emp()# Emp() ia an object\n",
    "Emp.set_emp(satheesh,\"Satheesh kumar\",\"Emp1\",\"development\",)\n",
    "sai = Emp()\n",
    "Emp.set_emp(sai,\"Chaithanya Sai\",\"Emp2\",\"Development\")\n",
    "Emp.get_emp(satheesh)\n",
    "Emp.get_emp(sai)\n",
    "hari = Emp()\n",
    "Emp.set_emp(hari,\"Hari kumar\",\"Emp3\")\n",
    "Emp.get_emp(hari)\n",
    "#"
   ]
  },
  {
   "cell_type": "code",
   "execution_count": null,
   "metadata": {},
   "outputs": [],
   "source": [
    "#vehicle, user, trips\n",
    "class Vehicle:\n",
    "    def set_vehicle():\n",
    "        pass\n",
    "    def get_vehicle():\n",
    "        pass"
   ]
  },
  {
   "cell_type": "code",
   "execution_count": 1,
   "metadata": {},
   "outputs": [
    {
     "name": "stdout",
     "output_type": "stream",
     "text": [
      "Satheesh kumar development Emp1\n"
     ]
    },
    {
     "ename": "AttributeError",
     "evalue": "'Emp' object has no attribute 'name'",
     "output_type": "error",
     "traceback": [
      "\u001b[1;31m---------------------------------------------------------------------------\u001b[0m",
      "\u001b[1;31mAttributeError\u001b[0m                            Traceback (most recent call last)",
      "\u001b[1;32m<ipython-input-1-1c60c41da3e4>\u001b[0m in \u001b[0;36m<module>\u001b[1;34m\u001b[0m\n\u001b[0;32m     15\u001b[0m \u001b[0mEmp\u001b[0m\u001b[1;33m.\u001b[0m\u001b[0mget_emp\u001b[0m\u001b[1;33m(\u001b[0m\u001b[0msatheesh\u001b[0m\u001b[1;33m)\u001b[0m\u001b[1;33m\u001b[0m\u001b[1;33m\u001b[0m\u001b[0m\n\u001b[0;32m     16\u001b[0m \u001b[0mnithin\u001b[0m \u001b[1;33m=\u001b[0m \u001b[0mEmp\u001b[0m\u001b[1;33m(\u001b[0m\u001b[1;33m)\u001b[0m\u001b[1;33m\u001b[0m\u001b[1;33m\u001b[0m\u001b[0m\n\u001b[1;32m---> 17\u001b[1;33m \u001b[0mEmp\u001b[0m\u001b[1;33m.\u001b[0m\u001b[0mget_emp\u001b[0m\u001b[1;33m(\u001b[0m\u001b[0mnithin\u001b[0m\u001b[1;33m)\u001b[0m\u001b[1;33m\u001b[0m\u001b[1;33m\u001b[0m\u001b[0m\n\u001b[0m",
      "\u001b[1;32m<ipython-input-1-1c60c41da3e4>\u001b[0m in \u001b[0;36mget_emp\u001b[1;34m(x)\u001b[0m\n\u001b[0;32m      4\u001b[0m         \u001b[0mprint\u001b[0m\u001b[1;33m(\u001b[0m\u001b[1;34m\"this is salry calculation\"\u001b[0m\u001b[1;33m)\u001b[0m\u001b[1;33m\u001b[0m\u001b[1;33m\u001b[0m\u001b[0m\n\u001b[0;32m      5\u001b[0m     \u001b[1;32mdef\u001b[0m \u001b[0mget_emp\u001b[0m\u001b[1;33m(\u001b[0m\u001b[0mx\u001b[0m\u001b[1;33m)\u001b[0m\u001b[1;33m:\u001b[0m\u001b[1;33m\u001b[0m\u001b[1;33m\u001b[0m\u001b[0m\n\u001b[1;32m----> 6\u001b[1;33m         \u001b[0mprint\u001b[0m\u001b[1;33m(\u001b[0m\u001b[0mx\u001b[0m\u001b[1;33m.\u001b[0m\u001b[0mname\u001b[0m\u001b[1;33m,\u001b[0m\u001b[0mx\u001b[0m\u001b[1;33m.\u001b[0m\u001b[0mstream\u001b[0m\u001b[1;33m,\u001b[0m\u001b[0mx\u001b[0m\u001b[1;33m.\u001b[0m\u001b[0mempid\u001b[0m\u001b[1;33m)\u001b[0m\u001b[1;33m\u001b[0m\u001b[1;33m\u001b[0m\u001b[0m\n\u001b[0m\u001b[0;32m      7\u001b[0m \u001b[1;33m\u001b[0m\u001b[0m\n\u001b[0;32m      8\u001b[0m     \u001b[1;32mdef\u001b[0m \u001b[0mset_emp\u001b[0m\u001b[1;33m(\u001b[0m\u001b[0mx\u001b[0m\u001b[1;33m,\u001b[0m\u001b[0memp_name\u001b[0m\u001b[1;33m,\u001b[0m \u001b[0memp_id\u001b[0m\u001b[1;33m,\u001b[0m \u001b[0memp_stream\u001b[0m\u001b[1;33m=\u001b[0m\u001b[1;32mNone\u001b[0m\u001b[1;33m)\u001b[0m\u001b[1;33m:\u001b[0m\u001b[1;33m\u001b[0m\u001b[1;33m\u001b[0m\u001b[0m\n",
      "\u001b[1;31mAttributeError\u001b[0m: 'Emp' object has no attribute 'name'"
     ]
    }
   ],
   "source": [
    "class Emp:\n",
    "    company_name = \"KHAYAATHI\"\n",
    "    def sala_cal(x):\n",
    "        print(\"this is salry calculation\")\n",
    "    def get_emp(x):\n",
    "        print(x.name,x.stream,x.empid)\n",
    "        \n",
    "    def set_emp(x,emp_name, emp_id, emp_stream=None):\n",
    "        x.name=emp_name\n",
    "        x.stream=emp_stream\n",
    "        x.empid=emp_id\n",
    "        \n",
    "satheesh = Emp()# Emp() ia an object\n",
    "Emp.set_emp(satheesh,\"Satheesh kumar\",\"Emp1\",\"development\",)\n",
    "Emp.get_emp(satheesh)\n",
    "nithin = Emp()\n",
    "Emp.get_emp(nithin)"
   ]
  },
  {
   "cell_type": "code",
   "execution_count": 2,
   "metadata": {},
   "outputs": [
    {
     "name": "stdout",
     "output_type": "stream",
     "text": [
      "Satheesh kumar development Emp1\n",
      "KHAYAATHI\n"
     ]
    },
    {
     "ename": "AttributeError",
     "evalue": "'Emp' object has no attribute 'name'",
     "output_type": "error",
     "traceback": [
      "\u001b[1;31m---------------------------------------------------------------------------\u001b[0m",
      "\u001b[1;31mAttributeError\u001b[0m                            Traceback (most recent call last)",
      "\u001b[1;32m<ipython-input-2-6f760f6a1bb5>\u001b[0m in \u001b[0;36m<module>\u001b[1;34m\u001b[0m\n\u001b[0;32m     17\u001b[0m \u001b[0mnithin\u001b[0m \u001b[1;33m=\u001b[0m \u001b[0mEmp\u001b[0m\u001b[1;33m(\u001b[0m\u001b[1;33m)\u001b[0m\u001b[1;33m\u001b[0m\u001b[1;33m\u001b[0m\u001b[0m\n\u001b[0;32m     18\u001b[0m \u001b[0mprint\u001b[0m\u001b[1;33m(\u001b[0m\u001b[0mnithin\u001b[0m\u001b[1;33m.\u001b[0m\u001b[0mcompany_name\u001b[0m\u001b[1;33m)\u001b[0m\u001b[1;33m\u001b[0m\u001b[1;33m\u001b[0m\u001b[0m\n\u001b[1;32m---> 19\u001b[1;33m \u001b[0mEmp\u001b[0m\u001b[1;33m.\u001b[0m\u001b[0mget_emp\u001b[0m\u001b[1;33m(\u001b[0m\u001b[0mnithin\u001b[0m\u001b[1;33m)\u001b[0m\u001b[1;33m\u001b[0m\u001b[1;33m\u001b[0m\u001b[0m\n\u001b[0m",
      "\u001b[1;32m<ipython-input-2-6f760f6a1bb5>\u001b[0m in \u001b[0;36mget_emp\u001b[1;34m(x)\u001b[0m\n\u001b[0;32m      5\u001b[0m         \u001b[0mprint\u001b[0m\u001b[1;33m(\u001b[0m\u001b[1;34m\"this is salry calculation\"\u001b[0m\u001b[1;33m)\u001b[0m\u001b[1;33m\u001b[0m\u001b[1;33m\u001b[0m\u001b[0m\n\u001b[0;32m      6\u001b[0m     \u001b[1;32mdef\u001b[0m \u001b[0mget_emp\u001b[0m\u001b[1;33m(\u001b[0m\u001b[0mx\u001b[0m\u001b[1;33m)\u001b[0m\u001b[1;33m:\u001b[0m\u001b[1;33m\u001b[0m\u001b[1;33m\u001b[0m\u001b[0m\n\u001b[1;32m----> 7\u001b[1;33m         \u001b[0mprint\u001b[0m\u001b[1;33m(\u001b[0m\u001b[0mx\u001b[0m\u001b[1;33m.\u001b[0m\u001b[0mname\u001b[0m\u001b[1;33m,\u001b[0m\u001b[0mx\u001b[0m\u001b[1;33m.\u001b[0m\u001b[0mstream\u001b[0m\u001b[1;33m,\u001b[0m\u001b[0mx\u001b[0m\u001b[1;33m.\u001b[0m\u001b[0mempid\u001b[0m\u001b[1;33m)\u001b[0m\u001b[1;33m\u001b[0m\u001b[1;33m\u001b[0m\u001b[0m\n\u001b[0m\u001b[0;32m      8\u001b[0m \u001b[1;33m\u001b[0m\u001b[0m\n\u001b[0;32m      9\u001b[0m     \u001b[1;32mdef\u001b[0m \u001b[0mset_emp\u001b[0m\u001b[1;33m(\u001b[0m\u001b[0mx\u001b[0m\u001b[1;33m,\u001b[0m\u001b[0memp_name\u001b[0m\u001b[1;33m,\u001b[0m \u001b[0memp_id\u001b[0m\u001b[1;33m,\u001b[0m \u001b[0memp_stream\u001b[0m\u001b[1;33m=\u001b[0m\u001b[1;32mNone\u001b[0m\u001b[1;33m)\u001b[0m\u001b[1;33m:\u001b[0m\u001b[1;33m\u001b[0m\u001b[1;33m\u001b[0m\u001b[0m\n",
      "\u001b[1;31mAttributeError\u001b[0m: 'Emp' object has no attribute 'name'"
     ]
    }
   ],
   "source": [
    "class Emp:\n",
    "    company_name = \"KHAYAATHI\" # class object attribute\n",
    "    \n",
    "    def sala_cal(x):\n",
    "        print(\"this is salry calculation\")\n",
    "    def get_emp(x):\n",
    "        print(x.name,x.stream,x.empid)\n",
    "        \n",
    "    def set_emp(x,emp_name, emp_id, emp_stream=None):\n",
    "        x.name=emp_name # data object attribute  \n",
    "        x.stream=emp_stream # data object attribute\n",
    "        x.empid=emp_id # data object attribute\n",
    "        \n",
    "satheesh = Emp()# Emp() ia an object\n",
    "Emp.set_emp(satheesh,\"Satheesh kumar\",\"Emp1\",\"development\",)\n",
    "Emp.get_emp(satheesh)\n",
    "nithin = Emp()\n",
    "print(nithin.company_name)\n",
    "Emp.get_emp(nithin)"
   ]
  },
  {
   "cell_type": "code",
   "execution_count": 3,
   "metadata": {},
   "outputs": [
    {
     "name": "stdout",
     "output_type": "stream",
     "text": [
      "Satheesh kumar development Emp1\n",
      "KHAYAATHI\n",
      "KHAYAATHI\n"
     ]
    },
    {
     "ename": "AttributeError",
     "evalue": "'Emp' object has no attribute 'name'",
     "output_type": "error",
     "traceback": [
      "\u001b[1;31m---------------------------------------------------------------------------\u001b[0m",
      "\u001b[1;31mAttributeError\u001b[0m                            Traceback (most recent call last)",
      "\u001b[1;32m<ipython-input-3-42061f3d3e99>\u001b[0m in \u001b[0;36m<module>\u001b[1;34m\u001b[0m\n\u001b[0;32m     19\u001b[0m \u001b[0mnithin\u001b[0m\u001b[1;33m.\u001b[0m\u001b[0mcompany_name\u001b[0m \u001b[1;33m=\u001b[0m \u001b[1;34m\"TCS\"\u001b[0m\u001b[1;33m\u001b[0m\u001b[1;33m\u001b[0m\u001b[0m\n\u001b[0;32m     20\u001b[0m \u001b[0mprint\u001b[0m\u001b[1;33m(\u001b[0m\u001b[0msatheesh\u001b[0m\u001b[1;33m.\u001b[0m\u001b[0mcompany_name\u001b[0m\u001b[1;33m)\u001b[0m\u001b[1;33m\u001b[0m\u001b[1;33m\u001b[0m\u001b[0m\n\u001b[1;32m---> 21\u001b[1;33m \u001b[0mEmp\u001b[0m\u001b[1;33m.\u001b[0m\u001b[0mget_emp\u001b[0m\u001b[1;33m(\u001b[0m\u001b[0mnithin\u001b[0m\u001b[1;33m)\u001b[0m\u001b[1;33m\u001b[0m\u001b[1;33m\u001b[0m\u001b[0m\n\u001b[0m",
      "\u001b[1;32m<ipython-input-3-42061f3d3e99>\u001b[0m in \u001b[0;36mget_emp\u001b[1;34m(x)\u001b[0m\n\u001b[0;32m      5\u001b[0m         \u001b[0mprint\u001b[0m\u001b[1;33m(\u001b[0m\u001b[1;34m\"this is salry calculation\"\u001b[0m\u001b[1;33m)\u001b[0m\u001b[1;33m\u001b[0m\u001b[1;33m\u001b[0m\u001b[0m\n\u001b[0;32m      6\u001b[0m     \u001b[1;32mdef\u001b[0m \u001b[0mget_emp\u001b[0m\u001b[1;33m(\u001b[0m\u001b[0mx\u001b[0m\u001b[1;33m)\u001b[0m\u001b[1;33m:\u001b[0m\u001b[1;33m\u001b[0m\u001b[1;33m\u001b[0m\u001b[0m\n\u001b[1;32m----> 7\u001b[1;33m         \u001b[0mprint\u001b[0m\u001b[1;33m(\u001b[0m\u001b[0mx\u001b[0m\u001b[1;33m.\u001b[0m\u001b[0mname\u001b[0m\u001b[1;33m,\u001b[0m\u001b[0mx\u001b[0m\u001b[1;33m.\u001b[0m\u001b[0mstream\u001b[0m\u001b[1;33m,\u001b[0m\u001b[0mx\u001b[0m\u001b[1;33m.\u001b[0m\u001b[0mempid\u001b[0m\u001b[1;33m)\u001b[0m\u001b[1;33m\u001b[0m\u001b[1;33m\u001b[0m\u001b[0m\n\u001b[0m\u001b[0;32m      8\u001b[0m \u001b[1;33m\u001b[0m\u001b[0m\n\u001b[0;32m      9\u001b[0m     \u001b[1;32mdef\u001b[0m \u001b[0mset_emp\u001b[0m\u001b[1;33m(\u001b[0m\u001b[0mx\u001b[0m\u001b[1;33m,\u001b[0m\u001b[0memp_name\u001b[0m\u001b[1;33m,\u001b[0m \u001b[0memp_id\u001b[0m\u001b[1;33m,\u001b[0m \u001b[0memp_stream\u001b[0m\u001b[1;33m=\u001b[0m\u001b[1;32mNone\u001b[0m\u001b[1;33m)\u001b[0m\u001b[1;33m:\u001b[0m\u001b[1;33m\u001b[0m\u001b[1;33m\u001b[0m\u001b[0m\n",
      "\u001b[1;31mAttributeError\u001b[0m: 'Emp' object has no attribute 'name'"
     ]
    }
   ],
   "source": [
    "class Emp:\n",
    "    company_name = \"KHAYAATHI\" # class object attribute\n",
    "    \n",
    "    def sala_cal(x):\n",
    "        print(\"this is salry calculation\")\n",
    "    def get_emp(x):\n",
    "        print(x.name,x.stream,x.empid)\n",
    "        \n",
    "    def set_emp(x,emp_name, emp_id, emp_stream=None):\n",
    "        x.name=emp_name # data object attribute  \n",
    "        x.stream=emp_stream # data object attribute\n",
    "        x.empid=emp_id # data object attribute\n",
    "        \n",
    "satheesh = Emp()# Emp() ia an object\n",
    "Emp.set_emp(satheesh,\"Satheesh kumar\",\"Emp1\",\"development\",)\n",
    "Emp.get_emp(satheesh)\n",
    "nithin = Emp()\n",
    "print(nithin.company_name)\n",
    "nithin.company_name = \"TCS\"\n",
    "print(satheesh.company_name)\n",
    "Emp.get_emp(nithin)"
   ]
  },
  {
   "cell_type": "code",
   "execution_count": 4,
   "metadata": {},
   "outputs": [
    {
     "name": "stdout",
     "output_type": "stream",
     "text": [
      "Satheesh kumar development Emp1\n",
      "KHAYAATHI\n",
      "KHAYAATHI\n",
      "TCS\n"
     ]
    },
    {
     "ename": "AttributeError",
     "evalue": "'Emp' object has no attribute 'name'",
     "output_type": "error",
     "traceback": [
      "\u001b[1;31m---------------------------------------------------------------------------\u001b[0m",
      "\u001b[1;31mAttributeError\u001b[0m                            Traceback (most recent call last)",
      "\u001b[1;32m<ipython-input-4-b342c4ad4dfd>\u001b[0m in \u001b[0;36m<module>\u001b[1;34m\u001b[0m\n\u001b[0;32m     20\u001b[0m \u001b[0mprint\u001b[0m\u001b[1;33m(\u001b[0m\u001b[0msatheesh\u001b[0m\u001b[1;33m.\u001b[0m\u001b[0mcompany_name\u001b[0m\u001b[1;33m)\u001b[0m\u001b[1;33m\u001b[0m\u001b[1;33m\u001b[0m\u001b[0m\n\u001b[0;32m     21\u001b[0m \u001b[0mprint\u001b[0m\u001b[1;33m(\u001b[0m\u001b[0mnithin\u001b[0m\u001b[1;33m.\u001b[0m\u001b[0mcompany_name\u001b[0m\u001b[1;33m)\u001b[0m\u001b[1;33m\u001b[0m\u001b[1;33m\u001b[0m\u001b[0m\n\u001b[1;32m---> 22\u001b[1;33m \u001b[0mEmp\u001b[0m\u001b[1;33m.\u001b[0m\u001b[0mget_emp\u001b[0m\u001b[1;33m(\u001b[0m\u001b[0mnithin\u001b[0m\u001b[1;33m)\u001b[0m\u001b[1;33m\u001b[0m\u001b[1;33m\u001b[0m\u001b[0m\n\u001b[0m",
      "\u001b[1;32m<ipython-input-4-b342c4ad4dfd>\u001b[0m in \u001b[0;36mget_emp\u001b[1;34m(x)\u001b[0m\n\u001b[0;32m      5\u001b[0m         \u001b[0mprint\u001b[0m\u001b[1;33m(\u001b[0m\u001b[1;34m\"this is salry calculation\"\u001b[0m\u001b[1;33m)\u001b[0m\u001b[1;33m\u001b[0m\u001b[1;33m\u001b[0m\u001b[0m\n\u001b[0;32m      6\u001b[0m     \u001b[1;32mdef\u001b[0m \u001b[0mget_emp\u001b[0m\u001b[1;33m(\u001b[0m\u001b[0mx\u001b[0m\u001b[1;33m)\u001b[0m\u001b[1;33m:\u001b[0m\u001b[1;33m\u001b[0m\u001b[1;33m\u001b[0m\u001b[0m\n\u001b[1;32m----> 7\u001b[1;33m         \u001b[0mprint\u001b[0m\u001b[1;33m(\u001b[0m\u001b[0mx\u001b[0m\u001b[1;33m.\u001b[0m\u001b[0mname\u001b[0m\u001b[1;33m,\u001b[0m\u001b[0mx\u001b[0m\u001b[1;33m.\u001b[0m\u001b[0mstream\u001b[0m\u001b[1;33m,\u001b[0m\u001b[0mx\u001b[0m\u001b[1;33m.\u001b[0m\u001b[0mempid\u001b[0m\u001b[1;33m)\u001b[0m\u001b[1;33m\u001b[0m\u001b[1;33m\u001b[0m\u001b[0m\n\u001b[0m\u001b[0;32m      8\u001b[0m \u001b[1;33m\u001b[0m\u001b[0m\n\u001b[0;32m      9\u001b[0m     \u001b[1;32mdef\u001b[0m \u001b[0mset_emp\u001b[0m\u001b[1;33m(\u001b[0m\u001b[0mx\u001b[0m\u001b[1;33m,\u001b[0m\u001b[0memp_name\u001b[0m\u001b[1;33m,\u001b[0m \u001b[0memp_id\u001b[0m\u001b[1;33m,\u001b[0m \u001b[0memp_stream\u001b[0m\u001b[1;33m=\u001b[0m\u001b[1;32mNone\u001b[0m\u001b[1;33m)\u001b[0m\u001b[1;33m:\u001b[0m\u001b[1;33m\u001b[0m\u001b[1;33m\u001b[0m\u001b[0m\n",
      "\u001b[1;31mAttributeError\u001b[0m: 'Emp' object has no attribute 'name'"
     ]
    }
   ],
   "source": [
    "class Emp:\n",
    "    company_name = \"KHAYAATHI\" # class object attribute\n",
    "    \n",
    "    def sala_cal(x):\n",
    "        print(\"this is salry calculation\")\n",
    "    def get_emp(x):\n",
    "        print(x.name,x.stream,x.empid)\n",
    "        \n",
    "    def set_emp(x,emp_name, emp_id, emp_stream=None):\n",
    "        x.name=emp_name # data object attribute  \n",
    "        x.stream=emp_stream # data object attribute\n",
    "        x.empid=emp_id # data object attribute\n",
    "        \n",
    "satheesh = Emp()# Emp() ia an object\n",
    "Emp.set_emp(satheesh,\"Satheesh kumar\",\"Emp1\",\"development\",)\n",
    "Emp.get_emp(satheesh)\n",
    "nithin = Emp()\n",
    "print(nithin.company_name)\n",
    "nithin.company_name = \"TCS\"\n",
    "print(satheesh.company_name)\n",
    "print(nithin.company_name)\n",
    "Emp.get_emp(nithin)"
   ]
  },
  {
   "cell_type": "code",
   "execution_count": 6,
   "metadata": {},
   "outputs": [
    {
     "name": "stdout",
     "output_type": "stream",
     "text": [
      "Satheesh kumar development Emp1\n",
      "KHAYAATHI\n",
      "KHAYAATHI\n",
      "TCS\n",
      "KHAYAATHI\n"
     ]
    }
   ],
   "source": [
    "class Emp:\n",
    "    company_name = \"KHAYAATHI\" # class object attribute\n",
    "    \n",
    "    def sala_cal(x):\n",
    "        print(\"this is salry calculation\")\n",
    "    def get_emp(x):\n",
    "        print(x.name,x.stream,x.empid)\n",
    "        \n",
    "    def set_emp(x,emp_name, emp_id, emp_stream=None):\n",
    "        x.name=emp_name # data object attribute  \n",
    "        x.stream=emp_stream # data object attribute\n",
    "        x.empid=emp_id # data object attribute\n",
    "        \n",
    "satheesh = Emp()# Emp() ia an object\n",
    "Emp.set_emp(satheesh,\"Satheesh kumar\",\"Emp1\",\"development\",)\n",
    "Emp.get_emp(satheesh)\n",
    "nithin = Emp()\n",
    "print(nithin.company_name)\n",
    "nithin.company_name = \"TCS\"\n",
    "print(satheesh.company_name)\n",
    "print(nithin.company_name)\n",
    "print(Emp.company_name)"
   ]
  },
  {
   "cell_type": "code",
   "execution_count": 7,
   "metadata": {},
   "outputs": [
    {
     "name": "stdout",
     "output_type": "stream",
     "text": [
      "Satheesh kumar development Emp1\n",
      "KHAYAATHI\n",
      "KHAYAATHI\n",
      "TCS\n",
      "KHAYAATHI\n"
     ]
    }
   ],
   "source": [
    "class Emp:\n",
    "    company_name = \"KHAYAATHI\" # class object attribute\n",
    "    \n",
    "    def sala_cal(x):\n",
    "        print(\"this is salry calculation\")\n",
    "    def get_emp(x):\n",
    "        print(x.name,x.stream,x.empid)\n",
    "        \n",
    "    def set_emp(x,emp_name, emp_id, emp_stream=None):\n",
    "        x.name=emp_name # data object attribute  \n",
    "        x.stream=emp_stream # data object attribute\n",
    "        x.empid=emp_id # data object attribute\n",
    "        \n",
    "satheesh = Emp()# Emp() ia an object\n",
    "Emp.set_emp(satheesh,\"Satheesh kumar\",\"Emp1\",\"development\",)\n",
    "Emp.get_emp(satheesh)\n",
    "nithin = Emp()\n",
    "print(nithin.company_name)\n",
    "nithin.company_name = \"TCS\"\n",
    "print(satheesh.company_name)\n",
    "print(nithin.company_name)\n",
    "print(Emp.company_name)"
   ]
  },
  {
   "cell_type": "code",
   "execution_count": 8,
   "metadata": {},
   "outputs": [
    {
     "name": "stdout",
     "output_type": "stream",
     "text": [
      "Satheesh kumar development Emp1\n",
      "KHAYAATHI\n",
      "KHAYAATHI\n",
      "TCS\n",
      "KHAYAATHI\n",
      "INFOSYS\n",
      "INFOSYS\n",
      "TCS\n"
     ]
    }
   ],
   "source": [
    "class Emp:\n",
    "    company_name = \"KHAYAATHI\" # class object attribute\n",
    "    \n",
    "    def sala_cal(x):\n",
    "        print(\"this is salry calculation\")\n",
    "    def get_emp(x):\n",
    "        print(x.name,x.stream,x.empid)\n",
    "        \n",
    "    def set_emp(x,emp_name, emp_id, emp_stream=None):\n",
    "        x.name=emp_name # data object attribute  \n",
    "        x.stream=emp_stream # data object attribute\n",
    "        x.empid=emp_id # data object attribute\n",
    "        \n",
    "satheesh = Emp()# Emp() ia an object\n",
    "Emp.set_emp(satheesh,\"Satheesh kumar\",\"Emp1\",\"development\",)\n",
    "Emp.get_emp(satheesh)\n",
    "nithin = Emp()\n",
    "print(nithin.company_name)\n",
    "nithin.company_name = \"TCS\" # now the company_name will be create in nithin frame, this is not Emp.company_name.\n",
    "# so here there are two seperate referenes of company_name: one is available in Emp frame refering \"KHYAATHI\". Next one is\n",
    "# available in Nithin frame which is refering to TCS object.\n",
    "print(satheesh.company_name)\n",
    "print(nithin.company_name)\n",
    "print(Emp.company_name)\n",
    "Emp.company_name=\"INFOSYS\"\n",
    "print(Emp.company_name)\n",
    "print(satheesh.company_name)\n",
    "print(nithin.company_name)"
   ]
  },
  {
   "cell_type": "code",
   "execution_count": 9,
   "metadata": {},
   "outputs": [
    {
     "name": "stdout",
     "output_type": "stream",
     "text": [
      "Satheesh kumar development Emp1\n"
     ]
    },
    {
     "ename": "AttributeError",
     "evalue": "'Emp' object has no attribute 'name'",
     "output_type": "error",
     "traceback": [
      "\u001b[1;31m---------------------------------------------------------------------------\u001b[0m",
      "\u001b[1;31mAttributeError\u001b[0m                            Traceback (most recent call last)",
      "\u001b[1;32m<ipython-input-9-82c1604efbf8>\u001b[0m in \u001b[0;36m<module>\u001b[1;34m\u001b[0m\n\u001b[0;32m     13\u001b[0m \u001b[0mEmp\u001b[0m\u001b[1;33m.\u001b[0m\u001b[0mget_emp\u001b[0m\u001b[1;33m(\u001b[0m\u001b[0msatheesh\u001b[0m\u001b[1;33m)\u001b[0m\u001b[1;33m\u001b[0m\u001b[1;33m\u001b[0m\u001b[0m\n\u001b[0;32m     14\u001b[0m \u001b[0mhari\u001b[0m \u001b[1;33m=\u001b[0m \u001b[0mEmp\u001b[0m\u001b[1;33m(\u001b[0m\u001b[1;33m)\u001b[0m\u001b[1;33m\u001b[0m\u001b[1;33m\u001b[0m\u001b[0m\n\u001b[1;32m---> 15\u001b[1;33m \u001b[0mprint\u001b[0m\u001b[1;33m(\u001b[0m\u001b[0mhari\u001b[0m\u001b[1;33m.\u001b[0m\u001b[0mget_emp\u001b[0m\u001b[1;33m(\u001b[0m\u001b[1;33m)\u001b[0m\u001b[1;33m)\u001b[0m\u001b[1;33m\u001b[0m\u001b[1;33m\u001b[0m\u001b[0m\n\u001b[0m",
      "\u001b[1;32m<ipython-input-9-82c1604efbf8>\u001b[0m in \u001b[0;36mget_emp\u001b[1;34m(x)\u001b[0m\n\u001b[0;32m      2\u001b[0m     \u001b[0mcompany_name\u001b[0m \u001b[1;33m=\u001b[0m \u001b[1;34m\"KHAYAATHI\"\u001b[0m \u001b[1;31m# class object attribute\u001b[0m\u001b[1;33m\u001b[0m\u001b[1;33m\u001b[0m\u001b[0m\n\u001b[0;32m      3\u001b[0m     \u001b[1;32mdef\u001b[0m \u001b[0mget_emp\u001b[0m\u001b[1;33m(\u001b[0m\u001b[0mx\u001b[0m\u001b[1;33m)\u001b[0m\u001b[1;33m:\u001b[0m\u001b[1;33m\u001b[0m\u001b[1;33m\u001b[0m\u001b[0m\n\u001b[1;32m----> 4\u001b[1;33m         \u001b[0mprint\u001b[0m\u001b[1;33m(\u001b[0m\u001b[0mx\u001b[0m\u001b[1;33m.\u001b[0m\u001b[0mname\u001b[0m\u001b[1;33m,\u001b[0m\u001b[0mx\u001b[0m\u001b[1;33m.\u001b[0m\u001b[0mstream\u001b[0m\u001b[1;33m,\u001b[0m\u001b[0mx\u001b[0m\u001b[1;33m.\u001b[0m\u001b[0mempid\u001b[0m\u001b[1;33m)\u001b[0m\u001b[1;33m\u001b[0m\u001b[1;33m\u001b[0m\u001b[0m\n\u001b[0m\u001b[0;32m      5\u001b[0m \u001b[1;33m\u001b[0m\u001b[0m\n\u001b[0;32m      6\u001b[0m     \u001b[1;32mdef\u001b[0m \u001b[0mset_emp\u001b[0m\u001b[1;33m(\u001b[0m\u001b[0mx\u001b[0m\u001b[1;33m,\u001b[0m\u001b[0memp_name\u001b[0m\u001b[1;33m,\u001b[0m \u001b[0memp_id\u001b[0m\u001b[1;33m,\u001b[0m \u001b[0memp_stream\u001b[0m\u001b[1;33m=\u001b[0m\u001b[1;32mNone\u001b[0m\u001b[1;33m)\u001b[0m\u001b[1;33m:\u001b[0m\u001b[1;33m\u001b[0m\u001b[1;33m\u001b[0m\u001b[0m\n",
      "\u001b[1;31mAttributeError\u001b[0m: 'Emp' object has no attribute 'name'"
     ]
    }
   ],
   "source": [
    "class Emp:\n",
    "    company_name = \"KHAYAATHI\" # class object attribute\n",
    "    def get_emp(x):\n",
    "        print(x.name,x.stream,x.empid)\n",
    "        \n",
    "    def set_emp(x,emp_name, emp_id, emp_stream=None):\n",
    "        x.name=emp_name # data object attribute  \n",
    "        x.stream=emp_stream # data object attribute\n",
    "        x.empid=emp_id # data object attribute\n",
    "        \n",
    "satheesh = Emp()# Emp() ia an object\n",
    "Emp.set_emp(satheesh,\"Satheesh kumar\",\"Emp1\",\"development\",)\n",
    "Emp.get_emp(satheesh)\n",
    "hari = Emp()\n",
    "print(hari.get_emp())"
   ]
  },
  {
   "cell_type": "code",
   "execution_count": 10,
   "metadata": {},
   "outputs": [
    {
     "name": "stdout",
     "output_type": "stream",
     "text": [
      "this is class\n"
     ]
    }
   ],
   "source": [
    "class Emp:\n",
    "    print(\"this is class\")\n",
    "    def get(x):\n",
    "        print(\"this is get\")\n",
    "    def __init__(x):\n",
    "        print(\"this is init\")"
   ]
  },
  {
   "cell_type": "code",
   "execution_count": 11,
   "metadata": {},
   "outputs": [
    {
     "name": "stdout",
     "output_type": "stream",
     "text": [
      "this is class\n",
      "this is init\n"
     ]
    }
   ],
   "source": [
    "class Emp:\n",
    "    print(\"this is class\")\n",
    "    def get(x):\n",
    "        print(\"this is get\")\n",
    "    def __init__(x):\n",
    "        print(\"this is init\")\n",
    "hari = Emp()"
   ]
  },
  {
   "cell_type": "code",
   "execution_count": 12,
   "metadata": {},
   "outputs": [
    {
     "name": "stdout",
     "output_type": "stream",
     "text": [
      "this is class\n",
      "this is init\n",
      "this is init\n",
      "this is init\n"
     ]
    }
   ],
   "source": [
    "class Emp:\n",
    "    # class body will be executed when the class keyword and definition is going to execute.\n",
    "    print(\"this is class\")\n",
    "    def get(x):\n",
    "        print(\"this is get\")\n",
    "    def __init__(x):\n",
    "        print(\"this is init\")\n",
    "hari = Emp() # when you create a data object it will not execute entire class body. It will internally calls the init method.\n",
    "vineeth = Emp()\n",
    "thriswanth = Emp()"
   ]
  },
  {
   "cell_type": "code",
   "execution_count": 13,
   "metadata": {},
   "outputs": [
    {
     "name": "stdout",
     "output_type": "stream",
     "text": [
      "Satheesh kumar development Emp1\n"
     ]
    }
   ],
   "source": [
    "class Emp:\n",
    "    company_name = \"KHAYAATHI\" # class object attribute\n",
    "    def get_emp(x):\n",
    "        print(x.name,x.stream,x.empid)\n",
    "        \n",
    "    def set_emp(x,emp_name, emp_id, emp_stream=None):\n",
    "        x.name=emp_name # data object attribute  \n",
    "        x.stream=emp_stream # data object attribute\n",
    "        x.empid=emp_id # data object attribute\n",
    "        \n",
    "satheesh = Emp()# Emp() ia an object\n",
    "#Emp.set_emp(satheesh,\"Satheesh kumar\",\"Emp1\",\"development\",)\n",
    "# caalling set_emp method using class object and passig data object as a first argument.\n",
    "# the same thing can be done using only data object also.\n",
    "satheesh.set_emp(\"Satheesh kumar\",\"Emp1\",\"development\")\n",
    "#Emp.set_emp(satheesh,\"Satheesh kumar\",\"Emp1\",\"development\",)\n",
    "satheesh.get_emp()\n",
    "#Emp.get_emp(satheesh)\n"
   ]
  },
  {
   "cell_type": "code",
   "execution_count": 15,
   "metadata": {},
   "outputs": [
    {
     "name": "stdout",
     "output_type": "stream",
     "text": [
      "Satheesh kumar development Emp1\n"
     ]
    }
   ],
   "source": [
    "class Emp:\n",
    "    company_name = \"KHAYAATHI\" \n",
    "    def get_emp(x):\n",
    "        print(x.name,x.stream,x.empid)\n",
    "        \n",
    "    def set_emp(x,emp_name, emp_id, emp_stream):\n",
    "        x.name=emp_name\n",
    "        x.stream=emp_stream \n",
    "        x.empid=emp_id \n",
    "        \n",
    "satheesh = Emp()\n",
    "satheesh.set_emp(\"Satheesh kumar\",\"Emp1\",\"development\")\n",
    "satheesh.get_emp()#"
   ]
  },
  {
   "cell_type": "code",
   "execution_count": null,
   "metadata": {},
   "outputs": [],
   "source": [
    "class Emp:\n",
    "    company_name = \"KHAYAATHI\" \n",
    "    def get_emp(self):\n",
    "        print(self.name,self.stream,self.empid)\n",
    "        \n",
    "    def set_emp(self,emp_name, emp_id, emp_stream):\n",
    "        self.name=emp_name\n",
    "        self.stream=emp_stream \n",
    "        self.empid=emp_id \n",
    "        \n",
    "satheesh = Emp()\n",
    "satheesh.set_emp(\"Satheesh kumar\",\"Emp1\",\"development\")\n",
    "satheesh.get_emp()\n",
    "# what is self in get_emp it's a parameter, which refers the current data object when we call this method using data object\n",
    "# data object will be passed interally as a first argument.\n",
    "# seld refers this data object"
   ]
  },
  {
   "cell_type": "code",
   "execution_count": 16,
   "metadata": {},
   "outputs": [
    {
     "name": "stdout",
     "output_type": "stream",
     "text": [
      "x= <__main__.Emp object at 0x000002951C84C130> y= 10 self= 20\n"
     ]
    }
   ],
   "source": [
    "class Emp:\n",
    "    def get(x,y,self):\n",
    "        print(\"x=\",x,\"y=\",y,\"self=\",self)\n",
    "sai = Emp()\n",
    "sai.get(10,20)\n",
    "#Emp.get(sai,10,20)"
   ]
  },
  {
   "cell_type": "code",
   "execution_count": null,
   "metadata": {},
   "outputs": [],
   "source": [
    "class Emp:\n",
    "    def get(x,y,self):\n",
    "        print(\"x=\",x,\"y=\",y,\"self=\",self)\n",
    "sai = Emp(\"sai chaithanya\")#\n",
    "\"\"\"\n",
    "When you creates a data object first\n",
    "it will calls the __new__ method by using class object\n",
    "Emp.__new__(): this method returs the data object. The data object will be created in __new__ method.\n",
    "By using this data object return by __new__ method, it will cals the __init__ method\n",
    "data_object=Emp.__new__()\n",
    "data_object.__init__(\"sai chaithanya\") it's like Emp.__init__(data_object,\"sai chaithanya\")\n",
    "\"\"\""
   ]
  },
  {
   "cell_type": "code",
   "execution_count": 17,
   "metadata": {},
   "outputs": [
    {
     "name": "stdout",
     "output_type": "stream",
     "text": [
      "x= <__main__.Emp object at 0x000002951C83F250> y= 10 self= 20\n"
     ]
    }
   ],
   "source": [
    "class Emp:\n",
    "    def get(x,y,self):\n",
    "        print(\"x=\",x,\"y=\",y,\"self=\",self)\n",
    "sai = Emp()\n",
    "sai.get(10,20)\n"
   ]
  },
  {
   "cell_type": "code",
   "execution_count": 18,
   "metadata": {},
   "outputs": [
    {
     "ename": "TypeError",
     "evalue": "Emp() takes no arguments",
     "output_type": "error",
     "traceback": [
      "\u001b[1;31m---------------------------------------------------------------------------\u001b[0m",
      "\u001b[1;31mTypeError\u001b[0m                                 Traceback (most recent call last)",
      "\u001b[1;32m<ipython-input-18-7aa438c1d830>\u001b[0m in \u001b[0;36m<module>\u001b[1;34m\u001b[0m\n\u001b[0;32m      2\u001b[0m     \u001b[1;32mdef\u001b[0m \u001b[0mget\u001b[0m\u001b[1;33m(\u001b[0m\u001b[0mx\u001b[0m\u001b[1;33m,\u001b[0m\u001b[0my\u001b[0m\u001b[1;33m,\u001b[0m\u001b[0mself\u001b[0m\u001b[1;33m)\u001b[0m\u001b[1;33m:\u001b[0m\u001b[1;33m\u001b[0m\u001b[1;33m\u001b[0m\u001b[0m\n\u001b[0;32m      3\u001b[0m         \u001b[0mprint\u001b[0m\u001b[1;33m(\u001b[0m\u001b[1;34m\"x=\"\u001b[0m\u001b[1;33m,\u001b[0m\u001b[0mx\u001b[0m\u001b[1;33m,\u001b[0m\u001b[1;34m\"y=\"\u001b[0m\u001b[1;33m,\u001b[0m\u001b[0my\u001b[0m\u001b[1;33m,\u001b[0m\u001b[1;34m\"self=\"\u001b[0m\u001b[1;33m,\u001b[0m\u001b[0mself\u001b[0m\u001b[1;33m)\u001b[0m\u001b[1;33m\u001b[0m\u001b[1;33m\u001b[0m\u001b[0m\n\u001b[1;32m----> 4\u001b[1;33m \u001b[0msai\u001b[0m \u001b[1;33m=\u001b[0m \u001b[0mEmp\u001b[0m\u001b[1;33m(\u001b[0m\u001b[1;34m\"sai chaithanya\"\u001b[0m\u001b[1;33m)\u001b[0m\u001b[1;31m#\u001b[0m\u001b[1;33m\u001b[0m\u001b[1;33m\u001b[0m\u001b[0m\n\u001b[0m\u001b[0;32m      5\u001b[0m \"\"\"\n\u001b[0;32m      6\u001b[0m \u001b[0mWhen\u001b[0m \u001b[0myou\u001b[0m \u001b[0mcreates\u001b[0m \u001b[0ma\u001b[0m \u001b[0mdata\u001b[0m \u001b[0mobject\u001b[0m \u001b[0mfirst\u001b[0m\u001b[1;33m\u001b[0m\u001b[1;33m\u001b[0m\u001b[0m\n",
      "\u001b[1;31mTypeError\u001b[0m: Emp() takes no arguments"
     ]
    }
   ],
   "source": [
    "class Emp:\n",
    "    def get(x,y,self):\n",
    "        print(\"x=\",x,\"y=\",y,\"self=\",self)\n",
    "sai = Emp(\"sai chaithanya\")\n",
    "\"\"\"\n",
    "When you creates a data object first\n",
    "it will calls the __new__ method by using class object\n",
    "Emp.__new__(): this method returs the data object. The data object will be created in __new__ method.\n",
    "By using this data object return by __new__ method, it will cals the __init__ method\n",
    "data_object=Emp.__new__()\n",
    "data_object.__init__(\"sai chaithanya\") it's like Emp.__init__(data_object,\"sai chaithanya\")\n",
    "\"\"\""
   ]
  },
  {
   "cell_type": "code",
   "execution_count": 19,
   "metadata": {},
   "outputs": [
    {
     "ename": "TypeError",
     "evalue": "Emp() takes no arguments",
     "output_type": "error",
     "traceback": [
      "\u001b[1;31m---------------------------------------------------------------------------\u001b[0m",
      "\u001b[1;31mTypeError\u001b[0m                                 Traceback (most recent call last)",
      "\u001b[1;32m<ipython-input-19-0fa6266679a4>\u001b[0m in \u001b[0;36m<module>\u001b[1;34m\u001b[0m\n\u001b[0;32m      2\u001b[0m     \u001b[1;32mdef\u001b[0m \u001b[0mget\u001b[0m\u001b[1;33m(\u001b[0m\u001b[0mx\u001b[0m\u001b[1;33m,\u001b[0m\u001b[0my\u001b[0m\u001b[1;33m,\u001b[0m\u001b[0mself\u001b[0m\u001b[1;33m)\u001b[0m\u001b[1;33m:\u001b[0m\u001b[1;33m\u001b[0m\u001b[1;33m\u001b[0m\u001b[0m\n\u001b[0;32m      3\u001b[0m         \u001b[0mprint\u001b[0m\u001b[1;33m(\u001b[0m\u001b[1;34m\"x=\"\u001b[0m\u001b[1;33m,\u001b[0m\u001b[0mx\u001b[0m\u001b[1;33m,\u001b[0m\u001b[1;34m\"y=\"\u001b[0m\u001b[1;33m,\u001b[0m\u001b[0my\u001b[0m\u001b[1;33m,\u001b[0m\u001b[1;34m\"self=\"\u001b[0m\u001b[1;33m,\u001b[0m\u001b[0mself\u001b[0m\u001b[1;33m)\u001b[0m\u001b[1;33m\u001b[0m\u001b[1;33m\u001b[0m\u001b[0m\n\u001b[1;32m----> 4\u001b[1;33m \u001b[0msai\u001b[0m \u001b[1;33m=\u001b[0m \u001b[0mEmp\u001b[0m\u001b[1;33m(\u001b[0m\u001b[1;34m\"sai chaithanya\"\u001b[0m\u001b[1;33m)\u001b[0m\u001b[1;33m\u001b[0m\u001b[1;33m\u001b[0m\u001b[0m\n\u001b[0m\u001b[0;32m      5\u001b[0m \"\"\"\n\u001b[0;32m      6\u001b[0m \u001b[0mdata_object\u001b[0m \u001b[1;33m=\u001b[0m \u001b[0mEmp\u001b[0m\u001b[1;33m.\u001b[0m\u001b[0m__new__\u001b[0m\u001b[1;33m(\u001b[0m\u001b[1;33m)\u001b[0m\u001b[1;33m\u001b[0m\u001b[1;33m\u001b[0m\u001b[0m\n",
      "\u001b[1;31mTypeError\u001b[0m: Emp() takes no arguments"
     ]
    }
   ],
   "source": [
    "class Emp:\n",
    "    \n",
    "    def get(x,y,self):\n",
    "        print(\"x=\",x,\"y=\",y,\"self=\",self)\n",
    "sai = Emp(\"sai chaithanya\")\n",
    "\"\"\"\n",
    "data_object = Emp.__new__()\n",
    "data_object.__init__(\"sai Chaithanya\")\n",
    "\"\"\""
   ]
  },
  {
   "cell_type": "code",
   "execution_count": 20,
   "metadata": {},
   "outputs": [
    {
     "ename": "TypeError",
     "evalue": "Emp() takes no arguments",
     "output_type": "error",
     "traceback": [
      "\u001b[1;31m---------------------------------------------------------------------------\u001b[0m",
      "\u001b[1;31mTypeError\u001b[0m                                 Traceback (most recent call last)",
      "\u001b[1;32m<ipython-input-20-3e348e08d50e>\u001b[0m in \u001b[0;36m<module>\u001b[1;34m\u001b[0m\n\u001b[0;32m      2\u001b[0m     \u001b[1;32mdef\u001b[0m \u001b[0mget\u001b[0m\u001b[1;33m(\u001b[0m\u001b[0mx\u001b[0m\u001b[1;33m,\u001b[0m\u001b[0my\u001b[0m\u001b[1;33m,\u001b[0m\u001b[0mself\u001b[0m\u001b[1;33m)\u001b[0m\u001b[1;33m:\u001b[0m\u001b[1;33m\u001b[0m\u001b[1;33m\u001b[0m\u001b[0m\n\u001b[0;32m      3\u001b[0m         \u001b[0mprint\u001b[0m\u001b[1;33m(\u001b[0m\u001b[1;34m\"x=\"\u001b[0m\u001b[1;33m,\u001b[0m\u001b[0mx\u001b[0m\u001b[1;33m,\u001b[0m\u001b[1;34m\"y=\"\u001b[0m\u001b[1;33m,\u001b[0m\u001b[0my\u001b[0m\u001b[1;33m,\u001b[0m\u001b[1;34m\"self=\"\u001b[0m\u001b[1;33m,\u001b[0m\u001b[0mself\u001b[0m\u001b[1;33m)\u001b[0m\u001b[1;33m\u001b[0m\u001b[1;33m\u001b[0m\u001b[0m\n\u001b[1;32m----> 4\u001b[1;33m \u001b[0msai\u001b[0m \u001b[1;33m=\u001b[0m \u001b[0mEmp\u001b[0m\u001b[1;33m(\u001b[0m\u001b[1;34m\"sai chaithanya\"\u001b[0m\u001b[1;33m)\u001b[0m\u001b[1;33m\u001b[0m\u001b[1;33m\u001b[0m\u001b[0m\n\u001b[0m\u001b[0;32m      5\u001b[0m \"\"\"\n\u001b[0;32m      6\u001b[0m \u001b[0mdata_object\u001b[0m \u001b[1;33m=\u001b[0m \u001b[0mEmp\u001b[0m\u001b[1;33m.\u001b[0m\u001b[0m__new__\u001b[0m\u001b[1;33m(\u001b[0m\u001b[1;33m)\u001b[0m\u001b[1;33m\u001b[0m\u001b[1;33m\u001b[0m\u001b[0m\n",
      "\u001b[1;31mTypeError\u001b[0m: Emp() takes no arguments"
     ]
    }
   ],
   "source": [
    "class Emp:    \n",
    "    def get(x,y,self):\n",
    "        print(\"x=\",x,\"y=\",y,\"self=\",self)\n",
    "sai = Emp(\"sai chaithanya\")\n",
    "\"\"\"\n",
    "data_object = Emp.__new__()\n",
    "data_object.__init__(\"sai Chaithanya\")\n",
    "\"\"\""
   ]
  },
  {
   "cell_type": "code",
   "execution_count": 22,
   "metadata": {},
   "outputs": [
    {
     "name": "stdout",
     "output_type": "stream",
     "text": [
      "2000\n",
      "\n"
     ]
    }
   ],
   "source": [
    "class Emp:  \n",
    "    def __init__(self, x):\n",
    "        self.number = x\n",
    "    def get(self):\n",
    "        print(self.number)\n",
    "sai = Emp(2000)\n",
    "sai.get()\n",
    "\"\"\"\n",
    "data_object = Emp.__new__()\n",
    "data_object.__init__(2000)\n",
    "#Emp.__init__(data_object,2000)\n",
    "\"\"\"\n",
    "print()"
   ]
  },
  {
   "cell_type": "code",
   "execution_count": 23,
   "metadata": {},
   "outputs": [
    {
     "name": "stdout",
     "output_type": "stream",
     "text": [
      "Thriswanth Rohit 1\n",
      "Hari Kumar 2\n",
      "Satheesh Kumar 3\n",
      "Sai Chaithanya 4\n",
      "vineeth Kumar 5\n",
      "Nithin Prabhakar 6\n"
     ]
    }
   ],
   "source": [
    "class Emp:\n",
    "    def __init__(self,emp_name,emp_id):\n",
    "        # constructor\n",
    "        self.name=emp_name\n",
    "        self.id=emp_id\n",
    "        \n",
    "    def get(self):\n",
    "        print(self.name,self.id)\n",
    "    \n",
    "thriswanth = Emp(\"Thriswanth Rohit\",1)\n",
    "thriswanth.get()\n",
    "hari = Emp(\"Hari Kumar\",2)\n",
    "hari.get()\n",
    "satheesh = Emp(\"Satheesh Kumar\",3)  \n",
    "satheesh.get()\n",
    "sai = Emp(\"Sai Chaithanya\",4)\n",
    "sai.get()\n",
    "vineeth = Emp(\"vineeth Kumar\",5)\n",
    "vineeth.get()\n",
    "nithin = Emp(\"Nithin Prabhakar\",6)\n",
    "nithin.get()"
   ]
  },
  {
   "cell_type": "code",
   "execution_count": 24,
   "metadata": {},
   "outputs": [
    {
     "name": "stdout",
     "output_type": "stream",
     "text": [
      "Thriswanth Rohit 1\n"
     ]
    }
   ],
   "source": [
    "class Emp:\n",
    "    def __init__(self,emp_name,emp_id):\n",
    "        self.name=emp_name\n",
    "        self.id=emp_id\n",
    "        \n",
    "    def get(self):\n",
    "        print(self.name,self.id)\n",
    "    \n",
    "thriswanth = Emp(\"Thriswanth Rohit\",1)\n",
    "thriswanth.get()"
   ]
  },
  {
   "cell_type": "code",
   "execution_count": null,
   "metadata": {},
   "outputs": [],
   "source": [
    "class Class1:\n",
    "    def op1(self):\n",
    "        print(\"this is op1 in class1\")\n",
    "        \n",
    "class Class2:\n",
    "    def op2(self):\n",
    "        print(\"this is op2 in class2\")\n",
    "        \n",
    "class Operations:\n",
    "    def operations(self):\n",
    "        # call op1 belongs to class1\n",
    "        #call op2 belongs to class2\n",
    "        \n",
    "op = Operations()\n",
    "op.operations()"
   ]
  },
  {
   "cell_type": "code",
   "execution_count": 25,
   "metadata": {},
   "outputs": [
    {
     "name": "stdout",
     "output_type": "stream",
     "text": [
      "this is op1 in class1\n",
      "this is op2 in class2\n"
     ]
    }
   ],
   "source": [
    "class Class1:\n",
    "    def op1(self):\n",
    "        print(\"this is op1 in class1\")\n",
    "        \n",
    "class Class2:\n",
    "    def op2(self):\n",
    "        print(\"this is op2 in class2\")\n",
    "        \n",
    "class Operations:\n",
    "    def operations(self):\n",
    "        c1=Class1()\n",
    "        c1.op1()\n",
    "        c2=Class2()\n",
    "        c2.op2()\n",
    "        \n",
    "op = Operations()\n",
    "op.operations()"
   ]
  },
  {
   "cell_type": "code",
   "execution_count": null,
   "metadata": {},
   "outputs": [],
   "source": [
    "class Class1:\n",
    "    def op1(self):\n",
    "        print(\"this is op1 in class1\")\n",
    "        \n",
    "class Class2:\n",
    "    def op2(self):\n",
    "        print(\"this is op2 in class2\")\n",
    "        \n",
    "class Operations:\n",
    "    def operations(self):\n",
    "        c1=Class1()# without creating this c1 data object, should call op1\n",
    "        c1.op1()\n",
    "        c2=Class2()# without creating this c2 data object, should call op2\n",
    "        c2.op2()\n",
    "        \n",
    "op = Operations()\n",
    "op.operations()"
   ]
  },
  {
   "cell_type": "code",
   "execution_count": 26,
   "metadata": {},
   "outputs": [
    {
     "ename": "AttributeError",
     "evalue": "'Operations' object has no attribute 'op1'",
     "output_type": "error",
     "traceback": [
      "\u001b[1;31m---------------------------------------------------------------------------\u001b[0m",
      "\u001b[1;31mAttributeError\u001b[0m                            Traceback (most recent call last)",
      "\u001b[1;32m<ipython-input-26-f86e210bf836>\u001b[0m in \u001b[0;36m<module>\u001b[1;34m\u001b[0m\n\u001b[0;32m     14\u001b[0m \u001b[1;33m\u001b[0m\u001b[0m\n\u001b[0;32m     15\u001b[0m \u001b[0mop\u001b[0m \u001b[1;33m=\u001b[0m \u001b[0mOperations\u001b[0m\u001b[1;33m(\u001b[0m\u001b[1;33m)\u001b[0m\u001b[1;33m\u001b[0m\u001b[1;33m\u001b[0m\u001b[0m\n\u001b[1;32m---> 16\u001b[1;33m \u001b[0mop\u001b[0m\u001b[1;33m.\u001b[0m\u001b[0moperations\u001b[0m\u001b[1;33m(\u001b[0m\u001b[1;33m)\u001b[0m\u001b[1;33m\u001b[0m\u001b[1;33m\u001b[0m\u001b[0m\n\u001b[0m",
      "\u001b[1;32m<ipython-input-26-f86e210bf836>\u001b[0m in \u001b[0;36moperations\u001b[1;34m(self)\u001b[0m\n\u001b[0;32m      9\u001b[0m \u001b[1;32mclass\u001b[0m \u001b[0mOperations\u001b[0m\u001b[1;33m:\u001b[0m\u001b[1;33m\u001b[0m\u001b[1;33m\u001b[0m\u001b[0m\n\u001b[0;32m     10\u001b[0m     \u001b[1;32mdef\u001b[0m \u001b[0moperations\u001b[0m\u001b[1;33m(\u001b[0m\u001b[0mself\u001b[0m\u001b[1;33m)\u001b[0m\u001b[1;33m:\u001b[0m\u001b[1;33m\u001b[0m\u001b[1;33m\u001b[0m\u001b[0m\n\u001b[1;32m---> 11\u001b[1;33m         \u001b[0mself\u001b[0m\u001b[1;33m.\u001b[0m\u001b[0mop1\u001b[0m\u001b[1;33m(\u001b[0m\u001b[1;33m)\u001b[0m\u001b[1;33m\u001b[0m\u001b[1;33m\u001b[0m\u001b[0m\n\u001b[0m\u001b[0;32m     12\u001b[0m         \u001b[0mself\u001b[0m\u001b[1;33m.\u001b[0m\u001b[0mop2\u001b[0m\u001b[1;33m(\u001b[0m\u001b[1;33m)\u001b[0m\u001b[1;33m\u001b[0m\u001b[1;33m\u001b[0m\u001b[0m\n\u001b[0;32m     13\u001b[0m \u001b[1;33m\u001b[0m\u001b[0m\n",
      "\u001b[1;31mAttributeError\u001b[0m: 'Operations' object has no attribute 'op1'"
     ]
    }
   ],
   "source": [
    "class Class1:\n",
    "    def op1(self):\n",
    "        print(\"this is op1 in class1\")\n",
    "        \n",
    "class Class2:\n",
    "    def op2(self):\n",
    "        print(\"this is op2 in class2\")\n",
    "        \n",
    "class Operations:\n",
    "    def operations(self):\n",
    "        self.op1()\n",
    "        self.op2()\n",
    "        \n",
    "        \n",
    "op = Operations()\n",
    "op.operations()"
   ]
  },
  {
   "cell_type": "code",
   "execution_count": 27,
   "metadata": {},
   "outputs": [
    {
     "name": "stdout",
     "output_type": "stream",
     "text": [
      "this is op1 in class1\n",
      "this is op2 in class2\n"
     ]
    }
   ],
   "source": [
    "# inheritance\n",
    "class Class1:\n",
    "    def op1(self):\n",
    "        print(\"this is op1 in class1\")\n",
    "        \n",
    "class Class2:\n",
    "    def op2(self):\n",
    "        print(\"this is op2 in class2\")\n",
    "        \n",
    "class Operations(Class1, Class2):\n",
    "    # Operations is a child class\n",
    "    # Class1 and Class2 are parent classes\n",
    "    def operations(self):\n",
    "        self.op1()\n",
    "        self.op2()\n",
    "        \n",
    "        \n",
    "op = Operations()\n",
    "op.operations()"
   ]
  },
  {
   "cell_type": "code",
   "execution_count": 28,
   "metadata": {},
   "outputs": [
    {
     "name": "stdout",
     "output_type": "stream",
     "text": [
      "this is op1 in class1\n",
      "this is op2 in class2\n"
     ]
    }
   ],
   "source": [
    "# inheritance\n",
    "class Class1:\n",
    "    def op1(self):\n",
    "        print(\"this is op1 in class1\")\n",
    "        \n",
    "class Class2:\n",
    "    def op2(self):\n",
    "        print(\"this is op2 in class2\")\n",
    "        \n",
    "class Operations(Class1, Class2):\n",
    "    # Operations is a child class\n",
    "    # Class1 and Class2 are parent classes\n",
    "    def operations(self):\n",
    "        self.op1()\n",
    "        self.op2()\n",
    "        \n",
    "        \n",
    "op = Operations()\n",
    "op.op1()\n",
    "op.op2()"
   ]
  },
  {
   "cell_type": "code",
   "execution_count": 30,
   "metadata": {},
   "outputs": [
    {
     "name": "stdout",
     "output_type": "stream",
     "text": [
      "this is op1 in class1\n",
      "this is op2 in class2\n"
     ]
    }
   ],
   "source": [
    "# inheritance\n",
    "class Class1:\n",
    "    def op1(self):\n",
    "        print(\"this is op1 in class1\")\n",
    "        \n",
    "class Class2:\n",
    "    def op2(self):\n",
    "        print(\"this is op2 in class2\")\n",
    "        \n",
    "class Operations:\n",
    "    # Operations is a child class\n",
    "    # Class1 and Class2 are parent classes\n",
    "    def operations(self,c1,c2):\n",
    "        c1.op1()\n",
    "        c2.op2()\n",
    "        \n",
    "        \n",
    "op = Operations()\n",
    "c1=Class1()\n",
    "c2=Class2()\n",
    "op.operations(c1,c2)"
   ]
  },
  {
   "cell_type": "code",
   "execution_count": 31,
   "metadata": {},
   "outputs": [
    {
     "name": "stdout",
     "output_type": "stream",
     "text": [
      "this is op1 in Operations\n",
      "this is op2 in class2\n"
     ]
    }
   ],
   "source": [
    "class Class1:\n",
    "    def op1(self):\n",
    "        print(\"this is op1 in class1\")\n",
    "        \n",
    "class Class2:\n",
    "    def op2(self):\n",
    "        print(\"this is op2 in class2\")\n",
    "        \n",
    "class Operations(Class1, Class2):\n",
    "    def operations(self):\n",
    "        self.op1()\n",
    "        self.op2()\n",
    "    def op1(self):\n",
    "        print(\"this is op1 in Operations\")\n",
    "        \n",
    "        \n",
    "op = Operations()\n",
    "op.op1()\n",
    "op.op2()"
   ]
  },
  {
   "cell_type": "code",
   "execution_count": 32,
   "metadata": {},
   "outputs": [
    {
     "name": "stdout",
     "output_type": "stream",
     "text": [
      "['__class__', '__delattr__', '__dict__', '__dir__', '__doc__', '__eq__', '__format__', '__ge__', '__getattribute__', '__gt__', '__hash__', '__init__', '__init_subclass__', '__le__', '__lt__', '__module__', '__ne__', '__new__', '__reduce__', '__reduce_ex__', '__repr__', '__setattr__', '__sizeof__', '__str__', '__subclasshook__', '__weakref__', 'op1']\n"
     ]
    }
   ],
   "source": [
    "# the sequence of the classes to search for a method is decided by __MRO__ attribute\n",
    "print(dir(Class1))"
   ]
  },
  {
   "cell_type": "code",
   "execution_count": 34,
   "metadata": {},
   "outputs": [
    {
     "name": "stdout",
     "output_type": "stream",
     "text": [
      "this is op1 in Operations\n",
      "this is op2 in class2\n",
      "(<class '__main__.Operations'>, <class '__main__.Class1'>, <class '__main__.Class2'>, <class 'object'>)\n"
     ]
    }
   ],
   "source": [
    "class Class1:\n",
    "    def op1(self):\n",
    "        print(\"this is op1 in class1\")\n",
    "        \n",
    "class Class2:\n",
    "    def op2(self):\n",
    "        print(\"this is op2 in class2\")\n",
    "        \n",
    "class Operations(Class1, Class2):\n",
    "    def operations(self):\n",
    "        self.op1()\n",
    "        self.op2()\n",
    "    def op1(self): # method overriding\n",
    "        print(\"this is op1 in Operations\")\n",
    "        \n",
    "        \n",
    "op = Operations()\n",
    "op.op1()\n",
    "op.op2()\n",
    "print(Operations.__mro__)"
   ]
  },
  {
   "cell_type": "code",
   "execution_count": 35,
   "metadata": {},
   "outputs": [
    {
     "name": "stdout",
     "output_type": "stream",
     "text": [
      "2000\n",
      "\n"
     ]
    }
   ],
   "source": [
    "# default parent for Emp class is <object class\n",
    "class Emp: # Class Emp(object): \n",
    "    def __init__(self, x):\n",
    "        self.number = x\n",
    "    def get(self):\n",
    "        print(self.number)\n",
    "sai = Emp(2000)\n",
    "sai.get()\n",
    "\"\"\"\n",
    "data_object = Emp.__new__(), The new method not defined in Emp, it will call object class __new__ merhod\n",
    "data_object.__init__(2000)\n",
    "#Emp.__init__(data_object,2000)\n",
    "\"\"\"\n",
    "print()"
   ]
  },
  {
   "cell_type": "code",
   "execution_count": null,
   "metadata": {},
   "outputs": [],
   "source": [
    "class Class1:\n",
    "    def op1(self):\n",
    "        print(\"this is op1 in class1\")\n",
    "        \n",
    "class Class2:\n",
    "    def op2(self):\n",
    "        print(\"this is op2 in class2\")\n",
    "        \n",
    "class Operations(Class1, Class2):\n",
    "    def operations(self):\n",
    "        self.op1() \n",
    "            # I would like to call only Class1 op1, how can i call it?, Note: But I should not create Class1 data object.\n",
    "        self.op2()\n",
    "    def op1(self): # method overriding\n",
    "        print(\"this is op1 in Operations\")\n",
    "        \n",
    "        \n",
    "op = Operations()\n",
    "op.operations()"
   ]
  },
  {
   "cell_type": "code",
   "execution_count": 36,
   "metadata": {},
   "outputs": [
    {
     "name": "stdout",
     "output_type": "stream",
     "text": [
      "this is op1 in Operations\n",
      "this is op1 in class1\n",
      "this is op2 in class2\n"
     ]
    }
   ],
   "source": [
    "class Class1:\n",
    "    def op1(self):\n",
    "        print(\"this is op1 in class1\")\n",
    "        \n",
    "class Class2:\n",
    "    def op2(self):\n",
    "        print(\"this is op2 in class2\")\n",
    "        \n",
    "class Operations(Class1, Class2):\n",
    "    def operations(self):\n",
    "        self.op1() \n",
    "        c1=Class1()\n",
    "        c1.op1()\n",
    "        self.op2()\n",
    "    def op1(self): # method overriding\n",
    "        print(\"this is op1 in Operations\")\n",
    "        \n",
    "        \n",
    "op = Operations()\n",
    "op.operations()"
   ]
  },
  {
   "cell_type": "code",
   "execution_count": null,
   "metadata": {},
   "outputs": [],
   "source": [
    "class Class1:\n",
    "    def op1(self):\n",
    "        print(\"this is op1 in class1\")\n",
    "        \n",
    "class Class2:\n",
    "    def op2(self):\n",
    "        print(\"this is op2 in class2\")\n",
    "        \n",
    "class Operations(Class1, Class2):\n",
    "    def operations(self):\n",
    "        self.op1() # It;s calling operations op1\n",
    "            # I would like to call only Class1 op1, how can i call it?, Note: But I should not create Class1 data object.\n",
    "        self.op2()\n",
    "    def op1(self): # method overriding\n",
    "        print(\"this is op1 in Operations\")\n",
    "        \n",
    "        \n",
    "op = Operations()\n",
    "op.operations()"
   ]
  },
  {
   "cell_type": "code",
   "execution_count": 37,
   "metadata": {},
   "outputs": [
    {
     "name": "stdout",
     "output_type": "stream",
     "text": [
      "this is op1 in class1\n",
      "this is op2 in class2\n"
     ]
    }
   ],
   "source": [
    "class Class1:\n",
    "    def op1(self):\n",
    "        print(\"this is op1 in class1\")\n",
    "        \n",
    "class Class2:\n",
    "    def op2(self):\n",
    "        print(\"this is op2 in class2\")\n",
    "        \n",
    "class Operations(Class1, Class2):\n",
    "    def operations(self):\n",
    "        self.op1() # It;s calling operations op1\n",
    "            # I would like to call only Class1 op1, how can i call it?, Note: But I should not create Class1 data object.\n",
    "        self.op2()        \n",
    "        \n",
    "op = Operations()\n",
    "op.operations()"
   ]
  },
  {
   "cell_type": "code",
   "execution_count": 38,
   "metadata": {},
   "outputs": [
    {
     "name": "stdout",
     "output_type": "stream",
     "text": [
      "this is op1 in Operations\n",
      "this is op1 in class1\n",
      "this is op2 in class2\n"
     ]
    }
   ],
   "source": [
    "class Class1:\n",
    "    def op1(self):\n",
    "        print(\"this is op1 in class1\")\n",
    "        \n",
    "class Class2:\n",
    "    def op2(self):\n",
    "        print(\"this is op2 in class2\")\n",
    "        \n",
    "class Operations(Class1, Class2):\n",
    "    def operations(self):\n",
    "        self.op1() # It;s calling operations op1\n",
    "        Class1.op1(self)\n",
    "            # I would like to call only Class1 op1, how can i call it?, Note: But I should not create Class1 data object.\n",
    "        self.op2()\n",
    "    def op1(self): # method overriding\n",
    "        print(\"this is op1 in Operations\")\n",
    "        \n",
    "        \n",
    "op = Operations()\n",
    "op.operations()"
   ]
  },
  {
   "cell_type": "code",
   "execution_count": 40,
   "metadata": {},
   "outputs": [
    {
     "name": "stdout",
     "output_type": "stream",
     "text": [
      "this is op1 in Operations\n",
      "this is op1 in class1\n",
      "this is op1 in class1\n",
      "this is op2 in class2\n"
     ]
    }
   ],
   "source": [
    "class Class1:\n",
    "    def op1(self):\n",
    "        print(\"this is op1 in class1\")\n",
    "        \n",
    "class Class2:\n",
    "    def op2(self):\n",
    "        print(\"this is op2 in class2\")\n",
    "        \n",
    "class Operations(Class1, Class2):\n",
    "    def operations(self):\n",
    "        self.op1() # It;s calling operations op1\n",
    "        Class1.op1(self)\n",
    "        super(Operations,self).op1()\n",
    "        self.op2()\n",
    "    def op1(self): # method overriding\n",
    "        print(\"this is op1 in Operations\")\n",
    "        \n",
    "        \n",
    "op = Operations()\n",
    "op.operations()"
   ]
  },
  {
   "cell_type": "code",
   "execution_count": 41,
   "metadata": {},
   "outputs": [
    {
     "name": "stdout",
     "output_type": "stream",
     "text": [
      "this is op1 in Operations\n",
      "this is op1 in class1\n",
      "this is op1 in class2\n",
      "this is op2 in class2\n"
     ]
    }
   ],
   "source": [
    "class Class1:\n",
    "    def op1(self):\n",
    "        print(\"this is op1 in class1\")\n",
    "        \n",
    "class Class2:\n",
    "    def op2(self):\n",
    "        print(\"this is op2 in class2\")\n",
    "    def op1(self):\n",
    "        print(\"this is op1 in class2\")\n",
    "        \n",
    "class Operations(Class2, Class1):\n",
    "    def operations(self):\n",
    "        self.op1() # It;s calling operations op1\n",
    "        Class1.op1(self)\n",
    "        super(Operations,self).op1()\n",
    "        self.op2()\n",
    "    def op1(self): # method overriding\n",
    "        print(\"this is op1 in Operations\")\n",
    "        \n",
    "        \n",
    "op = Operations()\n",
    "op.operations()"
   ]
  },
  {
   "cell_type": "code",
   "execution_count": 42,
   "metadata": {},
   "outputs": [
    {
     "ename": "AttributeError",
     "evalue": "'Class1' object has no attribute 'operations'",
     "output_type": "error",
     "traceback": [
      "\u001b[1;31m---------------------------------------------------------------------------\u001b[0m",
      "\u001b[1;31mAttributeError\u001b[0m                            Traceback (most recent call last)",
      "\u001b[1;32m<ipython-input-42-9f5bd69dea7e>\u001b[0m in \u001b[0;36m<module>\u001b[1;34m\u001b[0m\n\u001b[0;32m     20\u001b[0m \u001b[1;33m\u001b[0m\u001b[0m\n\u001b[0;32m     21\u001b[0m \u001b[0mc1\u001b[0m\u001b[1;33m=\u001b[0m\u001b[0mClass1\u001b[0m\u001b[1;33m(\u001b[0m\u001b[1;33m)\u001b[0m\u001b[1;33m\u001b[0m\u001b[1;33m\u001b[0m\u001b[0m\n\u001b[1;32m---> 22\u001b[1;33m \u001b[0mc1\u001b[0m\u001b[1;33m.\u001b[0m\u001b[0moperations\u001b[0m\u001b[1;33m(\u001b[0m\u001b[1;33m)\u001b[0m\u001b[1;33m\u001b[0m\u001b[1;33m\u001b[0m\u001b[0m\n\u001b[0m",
      "\u001b[1;31mAttributeError\u001b[0m: 'Class1' object has no attribute 'operations'"
     ]
    }
   ],
   "source": [
    "class Class1:\n",
    "    def op1(self):\n",
    "        print(\"this is op1 in class1\")\n",
    "        \n",
    "class Class2:\n",
    "    def op2(self):\n",
    "        print(\"this is op2 in class2\")\n",
    "    def op1(self):\n",
    "        print(\"this is op1 in class2\")\n",
    "        \n",
    "class Operations(Class2, Class1):\n",
    "    def operations(self):\n",
    "        self.op1() # It;s calling operations op1\n",
    "        Class1.op1(self)\n",
    "        super(Operations,self).op1()\n",
    "        self.op2()\n",
    "    def op1(self): # method overriding\n",
    "        print(\"this is op1 in Operations\")\n",
    "        \n",
    "        \n",
    "c1=Class1()\n",
    "c1.operations()"
   ]
  },
  {
   "cell_type": "code",
   "execution_count": 2,
   "metadata": {},
   "outputs": [
    {
     "name": "stdout",
     "output_type": "stream",
     "text": [
      "insert {'name': 'Electronics'} in to category\n",
      "{'name': 'Electronics', 'data': {'name': 'Electronics'}, 'table': 'category'}\n"
     ]
    }
   ],
   "source": [
    "class DB:\n",
    "    def __init__(self, table,**data):\n",
    "        self.data=data\n",
    "        self.table = table\n",
    "    \n",
    "    def create(self):\n",
    "        print(f\"insert {self.data} in to {self.table}\")\n",
    "        \n",
    "class Product(DB):\n",
    "    table = \"product\"\n",
    "    \n",
    "    def __init__(self, name, cost):\n",
    "        self.name=name\n",
    "        self.cost=cost\n",
    "        super(Product,self).__init__(self.table,name=self.name,cost=self.cost)\n",
    "\n",
    "class Category(DB):\n",
    "    table = \"category\"\n",
    "    def __init__(self, name):\n",
    "        self.name=name\n",
    "        super(Category, self).__init__(self.table,name=self.name)\n",
    "\n",
    "class Sales(DB):\n",
    "    table = \"sales\"\n",
    "    \n",
    "cat_electronics = Category(name=\"Electronics\")\n",
    "cat_electronics.create()\n",
    "print(cat_electronics.__dict__)\n",
    "\n",
    "    "
   ]
  },
  {
   "cell_type": "code",
   "execution_count": 3,
   "metadata": {},
   "outputs": [
    {
     "name": "stdout",
     "output_type": "stream",
     "text": [
      "insert {'name': 'Electronics'} in to category\n",
      "{'name': 'Electronics', 'data': {'name': 'Electronics'}, 'table': 'category'}\n",
      "insert {'name': 'MI7', 'cost': 9000} in to product\n"
     ]
    }
   ],
   "source": [
    "class DB:\n",
    "    def __init__(self, table,**data):\n",
    "        self.data=data\n",
    "        self.table = table\n",
    "    \n",
    "    def create(self):\n",
    "        print(f\"insert {self.data} in to {self.table}\")\n",
    "        \n",
    "class Product(DB):\n",
    "    table = \"product\"\n",
    "    \n",
    "    def __init__(self, name, cost):\n",
    "        self.name=name\n",
    "        self.cost=cost\n",
    "        super(Product,self).__init__(self.table,name=self.name,cost=self.cost)\n",
    "\n",
    "class Category(DB):\n",
    "    table = \"category\"\n",
    "    def __init__(self, name):\n",
    "        self.name=name\n",
    "        super(Category, self).__init__(self.table,name=self.name)\n",
    "\n",
    "class Sales(DB):\n",
    "    table = \"sales\"\n",
    "    \n",
    "cat_electronics = Category(name=\"Electronics\")\n",
    "cat_electronics.create()\n",
    "print(cat_electronics.__dict__)\n",
    "mi_mobile = Product(name=\"MI7\", cost=9000)\n",
    "mi_mobile.create()"
   ]
  },
  {
   "cell_type": "code",
   "execution_count": null,
   "metadata": {},
   "outputs": [],
   "source": [
    "class DB:\n",
    "    def __init__(self, table,**data):\n",
    "        self.data=data\n",
    "        self.table = table\n",
    "    \n",
    "    def create(self):\n",
    "        print(f\"insert {self.data} in to {self.table}\")\n",
    "        \n",
    "class Product(DB):\n",
    "    table = \"product\"\n",
    "    \n",
    "    def __init__(self, name, cost):\n",
    "        self.name=name\n",
    "        self.cost=cost\n",
    "        super(Product,self).__init__(self.table,name=self.name,cost=self.cost)\n",
    "\n",
    "class Category(DB):\n",
    "    table = \"category\"\n",
    "    def __init__(self, name):\n",
    "        self.name=name\n",
    "        super(Category, self).__init__(self.table,name=self.name)\n",
    "\n",
    "class Sales(DB):\n",
    "    table = \"sales\"\n",
    "    \n",
    "cat_electronics = Category(name=\"Electronics\")\n",
    "cat_electronics.create()\n",
    "print(cat_electronics.__dict__)\n",
    "mi_mobile = Product(name=\"MI7\", cost=9000)\n",
    "mi_mobile.create()\n",
    "# we neeed to validate the product name."
   ]
  },
  {
   "cell_type": "code",
   "execution_count": null,
   "metadata": {},
   "outputs": [],
   "source": [
    "class DB:\n",
    "    def __init__(self, table,**data):\n",
    "        self.data=data\n",
    "        self.table = table\n",
    "    \n",
    "    def create(self):\n",
    "        print(f\"insert {self.data} in to {self.table}\")\n",
    "        \n",
    "class Product(DB):\n",
    "    table = \"sales\"\n",
    "    \n",
    "mi_mobile = Product(name=\"MI7\", cost=9000)\n",
    "mi_mobile.create()"
   ]
  }
 ],
 "metadata": {
  "kernelspec": {
   "display_name": "Python 3",
   "language": "python",
   "name": "python3"
  },
  "language_info": {
   "codemirror_mode": {
    "name": "ipython",
    "version": 3
   },
   "file_extension": ".py",
   "mimetype": "text/x-python",
   "name": "python",
   "nbconvert_exporter": "python",
   "pygments_lexer": "ipython3",
   "version": "3.8.3"
  }
 },
 "nbformat": 4,
 "nbformat_minor": 4
}
